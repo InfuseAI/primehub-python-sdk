{
 "cells": [
  {
   "cell_type": "markdown",
   "id": "85ffb1bc",
   "metadata": {},
   "source": [
    "# PrimeHub Python SDK Setup\n",
    "\n",
    "PrimeHub Python SDK allows you to access PrimeHub platform programmically that you can automate workflows and have the integration with the existing infrastructure.\n",
    "\n",
    "## Prerequisites\n",
    "\n",
    "Before using this SDK, you need\n",
    "\n",
    "- PrimeHub user account as the *administrator*\n",
    "- installled *primehub-python-sdk*\n",
    "- stored `~/.primehub/config.json` file"
   ]
  },
  {
   "cell_type": "markdown",
   "id": "becf03df",
   "metadata": {},
   "source": [
    "## Set up the environment"
   ]
  },
  {
   "cell_type": "markdown",
   "id": "3e3e6f4e",
   "metadata": {},
   "source": [
    "### Install the Python SDK package"
   ]
  },
  {
   "cell_type": "code",
   "execution_count": 5,
   "id": "2944a714",
   "metadata": {},
   "outputs": [
    {
     "name": "stdout",
     "output_type": "stream",
     "text": [
      "Requirement already satisfied: primehub-python-sdk in /home/jovyan/.local/lib/python3.7/site-packages (0.4.0)\n",
      "Requirement already satisfied: types-requests in /opt/conda/lib/python3.7/site-packages (from primehub-python-sdk) (2.28.11.8)\n",
      "Requirement already satisfied: requests in /opt/conda/lib/python3.7/site-packages (from primehub-python-sdk) (2.25.1)\n",
      "Requirement already satisfied: tabulate==0.8.9 in /opt/conda/lib/python3.7/site-packages (from primehub-python-sdk) (0.8.9)\n",
      "Requirement already satisfied: types-tabulate==0.8.2 in /opt/conda/lib/python3.7/site-packages (from primehub-python-sdk) (0.8.2)\n",
      "Requirement already satisfied: chardet<5,>=3.0.2 in /opt/conda/lib/python3.7/site-packages (from requests->primehub-python-sdk) (4.0.0)\n",
      "Requirement already satisfied: idna<3,>=2.5 in /opt/conda/lib/python3.7/site-packages (from requests->primehub-python-sdk) (2.10)\n",
      "Requirement already satisfied: certifi>=2017.4.17 in /opt/conda/lib/python3.7/site-packages (from requests->primehub-python-sdk) (2021.5.30)\n",
      "Requirement already satisfied: urllib3<1.27,>=1.21.1 in /opt/conda/lib/python3.7/site-packages (from requests->primehub-python-sdk) (1.26.5)\n",
      "Requirement already satisfied: types-urllib3<1.27 in /opt/conda/lib/python3.7/site-packages (from types-requests->primehub-python-sdk) (1.26.25.4)\n"
     ]
    }
   ],
   "source": [
    "!pip install -U primehub-python-sdk"
   ]
  },
  {
   "cell_type": "markdown",
   "id": "546002f4",
   "metadata": {},
   "source": [
    "### Initialize the configuration\n",
    "\n",
    "You will be prompted to login the user account to retrieve the dedicated token which will be stored in the configuration."
   ]
  },
  {
   "cell_type": "markdown",
   "id": "132f81ed",
   "metadata": {},
   "source": [
    "**Replace the value below with your PrimeHub domain (*http* or *https*).**"
   ]
  },
  {
   "cell_type": "code",
   "execution_count": 1,
   "id": "a682b88b",
   "metadata": {},
   "outputs": [],
   "source": [
    "PRIMEHUB_CLUSTER = 'https://c.demo.primehub.io/'"
   ]
  },
  {
   "cell_type": "markdown",
   "id": "2278ccd7",
   "metadata": {},
   "source": [
    "**Check if the configuration exists. If not, you need to login to retrieve the token and input it in the prompt. The configuration will be generated at**`~/.primehub/config.json`."
   ]
  },
  {
   "cell_type": "code",
   "execution_count": 2,
   "id": "c888be97",
   "metadata": {},
   "outputs": [],
   "source": [
    "import os\n",
    "from primehub import PrimeHub, PrimeHubConfig\n",
    "\n",
    "ph = PrimeHub(PrimeHubConfig())\n",
    "if not os.path.isfile(os.path.join(os.getenv(\"HOME\"), \".primehub/config.json\")):\n",
    "    ph.config.generate(PRIMEHUB_CLUSTER)"
   ]
  },
  {
   "cell_type": "markdown",
   "id": "2fbcd13d",
   "metadata": {},
   "source": [
    "### Verify the environment"
   ]
  },
  {
   "cell_type": "code",
   "execution_count": 3,
   "id": "413688dd",
   "metadata": {},
   "outputs": [
    {
     "name": "stdout",
     "output_type": "stream",
     "text": [
      "PrimeHub Python SDK 0.4.0 environment is ready, you are good to go.\n",
      "Current Group: {'id': 'cb32ea66-11b9-419c-8507-f0390392aa84', 'name': 'awesome-team', 'displayName': ''}\n"
     ]
    }
   ],
   "source": [
    "ph = PrimeHub(PrimeHubConfig())\n",
    "if ph.is_ready():\n",
    "    print(f\"PrimeHub Python SDK {ph.version.version()} environment is ready, you are good to go.\")\n",
    "    print(\"Current Group:\", ph.primehub_config.current_group)\n",
    "else:\n",
    "    print(\"Failed to retrieve the information from PrimeHub cluster, please check the configuration.\")"
   ]
  },
  {
   "cell_type": "markdown",
   "id": "752fb069",
   "metadata": {},
   "source": [
    "**Is the user account an administrator**\n",
    "\n",
    "By the return of`ph.me.me()`, you can tell if the account is an administrator by the `isAdmin` property."
   ]
  },
  {
   "cell_type": "code",
   "execution_count": 4,
   "id": "325b8666",
   "metadata": {},
   "outputs": [
    {
     "name": "stdout",
     "output_type": "stream",
     "text": [
      "{'id': 'f27378a4-8952-49b5-8055-94c90725e510', 'username': 'gabriel@infuseai.io', 'firstName': 'Gabriel', 'lastName': 'Lo', 'email': 'gabriel@infuseai.io', 'isAdmin': True}\n"
     ]
    },
    {
     "data": {
      "text/plain": [
       "True"
      ]
     },
     "execution_count": 4,
     "metadata": {},
     "output_type": "execute_result"
    }
   ],
   "source": [
    "account_information = ph.me.me()\n",
    "print(account_information)\n",
    "account_information['isAdmin']"
   ]
  }
 ],
 "metadata": {
  "kernelspec": {
   "display_name": "Python 3",
   "language": "python",
   "name": "python3"
  },
  "language_info": {
   "codemirror_mode": {
    "name": "ipython",
    "version": 3
   },
   "file_extension": ".py",
   "mimetype": "text/x-python",
   "name": "python",
   "nbconvert_exporter": "python",
   "pygments_lexer": "ipython3",
   "version": "3.7.10"
  }
 },
 "nbformat": 4,
 "nbformat_minor": 5
}
