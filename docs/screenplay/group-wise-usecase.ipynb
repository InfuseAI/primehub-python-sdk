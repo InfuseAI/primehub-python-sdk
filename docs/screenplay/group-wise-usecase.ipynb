{
 "cells": [
  {
   "cell_type": "markdown",
   "id": "35909a74",
   "metadata": {},
   "source": [
    "# Group-wise operation\n",
    "\n",
    "This notebook demostrates common group-wise operations by using SDK.\n",
    "\n",
    "## Prerequisites\n",
    "\n",
    "You need\n",
    "\n",
    "- an SDK environment set up with the administrator priviledge. Check *environment setup.ipynb* for the detail."
   ]
  },
  {
   "cell_type": "code",
   "execution_count": 1,
   "id": "25134bc1",
   "metadata": {},
   "outputs": [],
   "source": [
    "PRIMEHUB_CLUSTER = 'your_PrimeHub_domain'"
   ]
  },
  {
   "cell_type": "markdown",
   "id": "f5b0da8d",
   "metadata": {},
   "source": [
    "**Check if the configuration exists. If not, you need to login to retrieve the token and input it in the prompt. The configuration will be generated at**`~/.primehub/config.json`."
   ]
  },
  {
   "cell_type": "code",
   "execution_count": 2,
   "id": "49114404",
   "metadata": {},
   "outputs": [
    {
     "name": "stdout",
     "output_type": "stream",
     "text": [
      "PrimeHub Python SDK 0.4.0 environment is ready, you are good to go.\n",
      "Current Group: {'id': 'cb32ea66-11b9-419c-8507-f0390392aa84', 'name': 'awesome-team', 'displayName': ''}\n"
     ]
    }
   ],
   "source": [
    "import os\n",
    "from primehub import PrimeHub, PrimeHubConfig\n",
    "\n",
    "ph = PrimeHub(PrimeHubConfig())\n",
    "if ph.is_ready():\n",
    "    print(f\"PrimeHub Python SDK {ph.version.version()} environment is ready, you are good to go.\")\n",
    "    print(\"Current Group:\", ph.primehub_config.current_group)\n",
    "else:\n",
    "    print(\"Failed to retrieve the information from PrimeHub cluster, please check the configuration.\")"
   ]
  },
  {
   "cell_type": "markdown",
   "id": "e4226a6f",
   "metadata": {},
   "source": [
    "## ToC\n",
    "\n",
    "- [Fundamental Operations (CRUD)](#fundamental)\n",
    "- [Common Operations](#common)"
   ]
  },
  {
   "cell_type": "markdown",
   "id": "f73b9bf1",
   "metadata": {},
   "source": [
    "## Fundamental Operations <a class=\"anchor\" id=\"fundamental\"></a>"
   ]
  },
  {
   "cell_type": "markdown",
   "id": "824cadbb",
   "metadata": {},
   "source": [
    "### Create Group\n",
    "\n",
    "Method: `ph.admin.groups.create(config)`\n",
    "\n",
    "By using `create()` with a configuration to :\n",
    "- create a group with preset requirements"
   ]
  },
  {
   "cell_type": "markdown",
   "id": "837c7702",
   "metadata": {},
   "source": [
    "Before creating a user, let's decide which group the user belongs to. Check your PrimeHub and replace the `group_name` with yours."
   ]
  },
  {
   "cell_type": "code",
   "execution_count": 3,
   "id": "e6e7bcef",
   "metadata": {},
   "outputs": [],
   "source": [
    "group_name = 'Continental'"
   ]
  },
  {
   "cell_type": "markdown",
   "id": "f12c82df",
   "metadata": {},
   "source": [
    "Let's prepare the configuration of creating a group, *Continental*, with the preset requirements."
   ]
  },
  {
   "cell_type": "code",
   "execution_count": 4,
   "id": "a0771e53",
   "metadata": {},
   "outputs": [],
   "source": [
    "# Prepare a group configuration\n",
    "config = {\n",
    "  \"name\": group_name,\n",
    "  \"displayName\": \"a group of hitman\",\n",
    "  \"enabledDeployment\": False,\n",
    "  \"enabledSharedVolume\": False,\n",
    "  \"quotaCpu\": 4,\n",
    "  \"quotaGpu\": 4,\n",
    "  \"admins\": \"\",\n",
    "  \"users\": {\n",
    "      \"connect\": []\n",
    "  }\n",
    "}"
   ]
  },
  {
   "cell_type": "code",
   "execution_count": null,
   "id": "025d72d2",
   "metadata": {},
   "outputs": [],
   "source": [
    "specified_group = ph.admin.groups.create(config)\n",
    "specified_group"
   ]
  },
  {
   "cell_type": "markdown",
   "id": "a265d84e",
   "metadata": {},
   "source": [
    "### Add/Remove Group Member\n",
    "\n",
    "Methods\n",
    "- `ph.admin.groups.connect_user(group_id, user_id`)\n",
    "- `ph.admin.groups.disconnect_user(group_id, user_id)`"
   ]
  },
  {
   "cell_type": "code",
   "execution_count": null,
   "id": "2bf974c4",
   "metadata": {},
   "outputs": [],
   "source": [
    "# Get the user id by the given user name\n",
    "user_name = 'john-wick'\n",
    "users = ph.admin.users.list()\n",
    "for user in users:\n",
    "    if user['username'] == user_name:\n",
    "        specified_user = user\n",
    "specified_user"
   ]
  },
  {
   "cell_type": "code",
   "execution_count": null,
   "id": "fdd6e470",
   "metadata": {},
   "outputs": [],
   "source": [
    "# Add group member\n",
    "ph.admin.groups.connect_user(specified_group['id'], specified_user['id'])\n",
    "\n",
    "# verify\n",
    "ph.admin.groups.get(specified_group['id'])['users']"
   ]
  },
  {
   "cell_type": "code",
   "execution_count": null,
   "id": "96331050",
   "metadata": {},
   "outputs": [],
   "source": [
    "# remove group member\n",
    "ph.admin.groups.disconnect_user(specified_group['id'], specified_user['id'])\n",
    "\n",
    "# verify\n",
    "ph.admin.groups.get(specified_group['id'])['users']"
   ]
  },
  {
   "cell_type": "markdown",
   "id": "d28f7775",
   "metadata": {},
   "source": [
    "### Add/Remove Image\n",
    "\n",
    "Methods:\n",
    "- `ph.admin.groups.connect_image('group_id','image_id')`\n",
    "- `ph.admin.groups.disconnect_image('group_id','image_id')`"
   ]
  },
  {
   "cell_type": "code",
   "execution_count": null,
   "id": "854f5cf0",
   "metadata": {},
   "outputs": [],
   "source": [
    "# Replace the image's id below with yours\n",
    "specified_image_id = 'ngc-pytorch-jupyter'\n",
    "\n",
    "# Connect an image to the group\n",
    "ph.admin.groups.connect_image(specified_group['id'], specified_image_id)\n",
    "\n",
    "# verify\n",
    "ph.admin.groups.get(specified_group['id'])['images']"
   ]
  },
  {
   "cell_type": "code",
   "execution_count": null,
   "id": "6d7f76b8",
   "metadata": {},
   "outputs": [],
   "source": [
    "# Disconnect an image to the group\n",
    "ph.admin.groups.disconnect_image(specified_group['id'], specified_image_id)\n",
    "\n",
    "# verify\n",
    "ph.admin.groups.get(specified_group['id'])['images']"
   ]
  },
  {
   "cell_type": "markdown",
   "id": "5a981b1c",
   "metadata": {},
   "source": [
    "### Add/Remove InstaceType\n",
    "\n",
    "Methods:\n",
    "- `ph.admin.groups.connect_instancetype('group_id','instancetype_id')`\n",
    "- `ph.admin.groups.disconnect_instancetype('group_id','instancetype_id')`"
   ]
  },
  {
   "cell_type": "code",
   "execution_count": null,
   "id": "44c9779d",
   "metadata": {},
   "outputs": [],
   "source": [
    "# Replace the instancetype's id below with yours\n",
    "specified_instancetype_id = 'awesome-gpu'\n",
    "\n",
    "# Connect an image to the group\n",
    "ph.admin.groups.connect_instancetype(specified_group['id'], specified_instancetype_id)\n",
    "\n",
    "# verify\n",
    "ph.admin.groups.get(specified_group['id']['instanceTypes']) #instance\"T\"types, \"T\" uppercase."
   ]
  },
  {
   "cell_type": "code",
   "execution_count": null,
   "id": "705c544e",
   "metadata": {},
   "outputs": [],
   "source": [
    "# Disconnect an image to the group\n",
    "ph.admin.groups.disconnect_instancetype(specified_group['id'], specified_instancetype_id)\n",
    "\n",
    "# verify\n",
    "ph.admin.groups.get(specified_group['id'])['instanceTypes']"
   ]
  },
  {
   "cell_type": "markdown",
   "id": "ecdc0645",
   "metadata": {},
   "source": [
    "### Add/Remove Volume\n",
    "\n",
    "Methods:\n",
    "- `ph.admin.groups.connect_volume('group_id','volume_id')`\n",
    "- `ph.admin.groups.disconnect_volume('group_id','volume_id')`"
   ]
  },
  {
   "cell_type": "code",
   "execution_count": null,
   "id": "f716aabb",
   "metadata": {},
   "outputs": [],
   "source": [
    "# Replace the volume's id below with yours\n",
    "specified_volume_id = 'example-dataset'\n",
    "\n",
    "# Connect a volume to the group\n",
    "ph.admin.groups.connect_volume(specified_group['id'], specified_volume_id)\n",
    "\n",
    "# verify\n",
    "ph.admin.groups.get(specified_group['id'])['volumes']"
   ]
  },
  {
   "cell_type": "code",
   "execution_count": null,
   "id": "64d74809",
   "metadata": {},
   "outputs": [],
   "source": [
    "# Disconnect an image to the group\n",
    "ph.admin.groups.disconnect_volume(specified_group['id'], specified_volume_id)\n",
    "\n",
    "# verify\n",
    "ph.admin.groups.get(specified_group['id'])['volumes']"
   ]
  },
  {
   "cell_type": "markdown",
   "id": "e4350741",
   "metadata": {},
   "source": [
    "### Create an Image record and connect it to Group\n",
    "\n",
    "Method `ph.admin.groups.create_image('group_id', image_configuration)`\n",
    "\n",
    "\n",
    "e.g.\n",
    "\n",
    "```python\n",
    "image_config = {\n",
    "  \"name\": \"base\",\n",
    "  \"displayName\": \"Base image\",\n",
    "  \"description\": \"base-notebook with python 3.7\",\n",
    "  \"type\": \"both\",\n",
    "  \"url\": \"infuseai/docker-stacks:base-notebook-63fdf50a\",\n",
    "  \"urlForGpu\": \"infuseai/docker-stacks:base-notebook-63fdf50a-gpu\",\n",
    "  \"global\": True\n",
    "}\n",
    "```"
   ]
  },
  {
   "cell_type": "code",
   "execution_count": null,
   "id": "90fd8495",
   "metadata": {},
   "outputs": [],
   "source": [
    "image_config = {\n",
    "  \"name\": \"test-image\",\n",
    "  \"displayName\": \"test image\",\n",
    "  \"description\": \"base-notebook with python 3.7\",\n",
    "  \"type\": \"both\",\n",
    "  \"url\": \"infuseai/docker-stacks:base-notebook-63fdf50a\",\n",
    "  \"urlForGpu\": \"infuseai/docker-stacks:base-notebook-63fdf50a-gpu\",\n",
    "  \"global\": True\n",
    "}\n",
    "\n",
    "ph.admin.groups.create_image(specified_group['id'], image_config)"
   ]
  },
  {
   "cell_type": "markdown",
   "id": "3143548d",
   "metadata": {},
   "source": [
    "### Create an InstanceType and connect it to Group\n",
    "\n",
    "Method: `ph.admin.groups.create_instanetype('group_id', instancetype_configuration)`\n",
    "\n",
    "e.g.\n",
    "\n",
    "```python\n",
    "instancetype_config = {\n",
    "  \"name\": \"cpu-1\",\n",
    "  \"displayName\": \"CPU 1\",\n",
    "  \"description\": \"1 vCPU / 1G Memory\",\n",
    "  \"cpuLimit\": 1,\n",
    "  \"memoryLimit\": 1,\n",
    "  \"gpuLimit\": 0,\n",
    "  \"global\": True,\n",
    "  \"tolerations\": {\n",
    "    \"set\": [\n",
    "      {\n",
    "        \"operator\": \"Equal\",\n",
    "        \"effect\": \"NoSchedule\",\n",
    "        \"key\": \"nvidia.com/gpu\",\n",
    "        \"value\": \"v100\"\n",
    "      }\n",
    "    ]\n",
    "  }\n",
    "}\n",
    "```"
   ]
  },
  {
   "cell_type": "code",
   "execution_count": null,
   "id": "0890ddda",
   "metadata": {},
   "outputs": [],
   "source": [
    "instancetype_config = {\n",
    "  \"name\": \"test-cpu-1\",\n",
    "  \"displayName\": \"Test CPU 1 by SDK\",\n",
    "  \"description\": \"1 vCPU / 1G Memory\",\n",
    "  \"cpuLimit\": 1,\n",
    "  \"memoryLimit\": 1,\n",
    "  \"gpuLimit\": 0,\n",
    "  \"global\": True,\n",
    "  \"tolerations\": {\n",
    "    \"set\": [\n",
    "      {\n",
    "        \"operator\": \"Equal\",\n",
    "        \"effect\": \"NoSchedule\",\n",
    "        \"key\": \"nvidia.com/gpu\",\n",
    "        \"value\": \"v100\"\n",
    "      }\n",
    "    ]\n",
    "  }\n",
    "}\n",
    "ph.admin.groups.create_instancetype(specified_group['id'], instancetype_config)"
   ]
  },
  {
   "cell_type": "markdown",
   "id": "737e96bb",
   "metadata": {},
   "source": [
    "### Create a Volume and connect it to Group\n",
    "\n",
    "Method: `ph.admin.groups.create_volume('group_id', writable_boolean, volume_configuration)`\n",
    "\n",
    "e.g.\n",
    "\n",
    "```python\n",
    "volume_rec = {\n",
    "  \"name\": \"test-volume\",\n",
    "  \"displayName\": \"test volume by SDK\",\n",
    "  \"description\": \"desc\",\n",
    "  \"type\": \"pv\",\n",
    "  \"global\": false,\n",
    "  \"pvProvisioning\": \"auto\",\n",
    "  \"volumeSize\": 1\n",
    "}\n",
    "```"
   ]
  },
  {
   "cell_type": "code",
   "execution_count": null,
   "id": "6d30257d",
   "metadata": {},
   "outputs": [],
   "source": [
    "volume_config = {\n",
    "  \"name\": \"test-volume\",\n",
    "  \"displayName\": \"test volume by SDK\",\n",
    "  \"description\": \"desc\",\n",
    "  \"type\": \"pv\",\n",
    "  \"global\": False,\n",
    "  \"pvProvisioning\": \"auto\",\n",
    "  \"volumeSize\": 1\n",
    "}\n",
    "\n",
    "ph.admin.groups.create_volume(specified_group['id'], True, volume_config)"
   ]
  },
  {
   "cell_type": "markdown",
   "id": "026d71ba",
   "metadata": {},
   "source": [
    "### Update Group\n",
    "\n",
    "Method `ph.admin.groups.update(user_id, config)`\n",
    "\n",
    "By using `update()`, we can have a group sophiscated updates at once\n",
    "\n",
    "Such as these changes as below in one update\n",
    "- increase resources quotas\n",
    "- enable the deployment feauture\n",
    "- assign a user the group admin"
   ]
  },
  {
   "cell_type": "markdown",
   "id": "35150ca8",
   "metadata": {},
   "source": [
    "Let's remove john-wick from *Continental* and revoke his administration priviledge (*Excommunicado*) in one update."
   ]
  },
  {
   "cell_type": "code",
   "execution_count": null,
   "id": "10217a31",
   "metadata": {},
   "outputs": [],
   "source": [
    "group_name = 'Continental'\n",
    "# Prepare a group configuration\n",
    "updated_config = {\n",
    "  \"name\": group_name,\n",
    "  \"enabledDeployment\": True,\n",
    "  \"quotaCpu\": 8,\n",
    "  \"quotaGpu\": 8,\n",
    "  \"admins\": 'john-wick',\n",
    "  #\"admins\": 'there is no such person'\n",
    "}"
   ]
  },
  {
   "cell_type": "code",
   "execution_count": null,
   "id": "d1df2198",
   "metadata": {},
   "outputs": [],
   "source": [
    "result = ph.admin.groups.update(specified_group['id'], updated_config)\n",
    "result"
   ]
  },
  {
   "cell_type": "markdown",
   "id": "c1138d40",
   "metadata": {},
   "source": [
    "### Get Group Detail Info\n",
    "\n",
    "Method `ph.admin.groups.get('group_id')`\n",
    "\n",
    "Get the specified group detail by the group's id."
   ]
  },
  {
   "cell_type": "code",
   "execution_count": null,
   "id": "d5488a45",
   "metadata": {},
   "outputs": [],
   "source": [
    "# Get the group id by the given group name\n",
    "group_name = 'Continental'\n",
    "groups = ph.admin.groups.list()\n",
    "for group in groups:\n",
    "    if group['name'] == group_name:\n",
    "        specified_group = group\n",
    "        \n",
    "ph.admin.groups.get(specified_group['id'])"
   ]
  },
  {
   "cell_type": "markdown",
   "id": "71474078",
   "metadata": {},
   "source": [
    "### Delete Group\n",
    "\n",
    "Delete the specified group by the given group's id."
   ]
  },
  {
   "cell_type": "code",
   "execution_count": null,
   "id": "ea8c44b4",
   "metadata": {},
   "outputs": [],
   "source": [
    "ph.admin.groups.delete(specified_group['id'])"
   ]
  },
  {
   "cell_type": "markdown",
   "id": "4da4cdbb",
   "metadata": {},
   "source": [
    "## Common Operations <a class=\"anchor\" id=\"common\"></a>"
   ]
  },
  {
   "cell_type": "code",
   "execution_count": null,
   "id": "3cd123b5",
   "metadata": {},
   "outputs": [],
   "source": [
    "# Get the specified group detail by the given group name\n",
    "group_name = 'Continental'\n",
    "#group_name = 'End-to-end-tutorial'\n",
    "groups = ph.admin.groups.list()\n",
    "for group in groups:\n",
    "    if group['name'] == group_name:\n",
    "        specified_group = group\n",
    "        \n",
    "group_detail = ph.admin.groups.get(specified_group['id'])\n",
    "group_detail"
   ]
  },
  {
   "cell_type": "markdown",
   "id": "711f2b6e",
   "metadata": {},
   "source": [
    "### Get group admin users"
   ]
  },
  {
   "cell_type": "code",
   "execution_count": null,
   "id": "03359fa7",
   "metadata": {},
   "outputs": [],
   "source": [
    "group_detail['admins']"
   ]
  },
  {
   "cell_type": "markdown",
   "id": "ec21ee7f",
   "metadata": {},
   "source": [
    "### Get groups with Zero User"
   ]
  },
  {
   "cell_type": "code",
   "execution_count": null,
   "id": "0d69ac29",
   "metadata": {},
   "outputs": [],
   "source": [
    "groups = ph.admin.groups.list()\n",
    "empty_groups = []\n",
    "\n",
    "for group in groups:\n",
    "    group_detail = ph.admin.groups.get(group['id'])\n",
    "    if not group_detail['users']:\n",
    "        empty_groups.append((group_detail['id'], group_detail['name']))\n",
    "empty_groups    "
   ]
  },
  {
   "cell_type": "markdown",
   "id": "1ff44b06",
   "metadata": {},
   "source": [
    "### Get groups with running Deployments"
   ]
  },
  {
   "cell_type": "code",
   "execution_count": null,
   "id": "5207eb54",
   "metadata": {},
   "outputs": [],
   "source": [
    "groups = ph.admin.groups.list()\n",
    "deploymentsUsages = []\n",
    "\n",
    "for group in groups:\n",
    "    group_detail = ph.admin.groups.get(group['id'])\n",
    "    if group_detail['deploymentsUsage']:\n",
    "        deploymentsUsages.append((group_detail['name'], group_detail['deploymentsUsage']))\n",
    "deploymentsUsages"
   ]
  },
  {
   "cell_type": "markdown",
   "id": "7162c56b",
   "metadata": {},
   "source": [
    "### List groups with current resources usage"
   ]
  },
  {
   "cell_type": "code",
   "execution_count": null,
   "id": "96a4cfcd",
   "metadata": {},
   "outputs": [],
   "source": [
    "groups = ph.admin.groups.list()\n",
    "resourceStatus_by_group = []\n",
    "\n",
    "for group in groups:\n",
    "    group_detail = ph.admin.groups.get(group['id'])\n",
    "    resourceStatus_by_group.append((group_detail['name'], group_detail['resourceStatus']))\n",
    "resourceStatus_by_group"
   ]
  },
  {
   "cell_type": "markdown",
   "id": "79d317e8",
   "metadata": {},
   "source": [
    "### List connected Images of a group\n",
    "\n",
    "Method `ph.admin.groups.list_images('group_id')`"
   ]
  },
  {
   "cell_type": "code",
   "execution_count": null,
   "id": "195f3910",
   "metadata": {},
   "outputs": [],
   "source": [
    "ph.admin.groups.list_images(group_detail['id'])"
   ]
  },
  {
   "cell_type": "markdown",
   "id": "d2880625",
   "metadata": {},
   "source": [
    "### List connected InstanceTypes of a group\n",
    "\n",
    "Method `ph.admin.groups.list_instancetypes('group_id')`"
   ]
  },
  {
   "cell_type": "code",
   "execution_count": null,
   "id": "d3e8d57f",
   "metadata": {},
   "outputs": [],
   "source": [
    "ph.admin.groups.list_instancetypes(group_detail['id'])"
   ]
  },
  {
   "cell_type": "markdown",
   "id": "c06069eb",
   "metadata": {},
   "source": [
    "### List connected Volumes of a group\n",
    "\n",
    "Method `ph.admin.groups.list_volumes('group_id')`"
   ]
  },
  {
   "cell_type": "code",
   "execution_count": null,
   "id": "a8cbe228",
   "metadata": {},
   "outputs": [],
   "source": [
    "ph.admin.groups.list_volumes(group_detail['id'])"
   ]
  },
  {
   "cell_type": "markdown",
   "id": "2fd2f45b",
   "metadata": {},
   "source": [
    "### Delete a specified group and Delete its members"
   ]
  },
  {
   "cell_type": "code",
   "execution_count": null,
   "id": "59b7474b",
   "metadata": {},
   "outputs": [],
   "source": [
    "group_name = 'Continental'\n",
    "groups = ph.admin.groups.list()\n",
    "deleting_group = None\n",
    "\n",
    "for group in groups:\n",
    "    if group['name'] == group_name:\n",
    "        deleting_group = group\n",
    "        print(deleting_group)\n",
    "\n",
    "if deleting_group:\n",
    "    members = ph.admin.groups.list_users(deleting_group['id'])\n",
    "    # Delete members if any\n",
    "    for member in members:\n",
    "        if member:\n",
    "            ph.admin.users.delete(member['id'])\n",
    "            print(f'Deleted {member[\"username\"]}')\n",
    "\n",
    "    # Finally, delete the group\n",
    "    ph.admin.groups.delete(deleting_group['id'])"
   ]
  }
 ],
 "metadata": {
  "kernelspec": {
   "display_name": "Python 3",
   "language": "python",
   "name": "python3"
  },
  "language_info": {
   "codemirror_mode": {
    "name": "ipython",
    "version": 3
   },
   "file_extension": ".py",
   "mimetype": "text/x-python",
   "name": "python",
   "nbconvert_exporter": "python",
   "pygments_lexer": "ipython3",
   "version": "3.7.10"
  }
 },
 "nbformat": 4,
 "nbformat_minor": 5
}
