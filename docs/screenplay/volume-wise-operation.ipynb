{
 "cells": [
  {
   "cell_type": "markdown",
   "id": "84a62268",
   "metadata": {},
   "source": [
    "# Getting Started with PrimeHub Python SDK\n",
    "PrimeHub Python SDK makes you automation with PrimeHub Platform.\n",
    "\n",
    "In order to make the SDK working, you have to\n",
    "\n",
    "- install the library with pip\n",
    "- create a config file in the ~/.primehub/config.json"
   ]
  },
  {
   "cell_type": "markdown",
   "id": "9ab3d07d",
   "metadata": {},
   "source": [
    "# Part 1: prerequisite: Configure the environment."
   ]
  },
  {
   "cell_type": "markdown",
   "id": "7d8a9861",
   "metadata": {},
   "source": [
    "## 1. Install with pip\n",
    "Let's install PrimeHub Python SDK with pip."
   ]
  },
  {
   "cell_type": "code",
   "execution_count": 1,
   "id": "542fe378",
   "metadata": {},
   "outputs": [
    {
     "name": "stdout",
     "output_type": "stream",
     "text": [
      "Requirement already satisfied: primehub-python-sdk in /opt/conda/lib/python3.7/site-packages (0.3.8)\n",
      "Requirement already satisfied: tabulate==0.8.9 in /opt/conda/lib/python3.7/site-packages (from primehub-python-sdk) (0.8.9)\n",
      "Requirement already satisfied: requests in /opt/conda/lib/python3.7/site-packages (from primehub-python-sdk) (2.21.0)\n",
      "Requirement already satisfied: types-tabulate==0.8.2 in /opt/conda/lib/python3.7/site-packages (from primehub-python-sdk) (0.8.2)\n",
      "Requirement already satisfied: types-requests in /opt/conda/lib/python3.7/site-packages (from primehub-python-sdk) (2.28.11.5)\n",
      "Requirement already satisfied: idna<2.9,>=2.5 in /opt/conda/lib/python3.7/site-packages (from requests->primehub-python-sdk) (2.8)\n",
      "Requirement already satisfied: chardet<3.1.0,>=3.0.2 in /opt/conda/lib/python3.7/site-packages (from requests->primehub-python-sdk) (3.0.4)\n",
      "Requirement already satisfied: certifi>=2017.4.17 in /opt/conda/lib/python3.7/site-packages (from requests->primehub-python-sdk) (2020.6.20)\n",
      "Requirement already satisfied: urllib3<1.25,>=1.21.1 in /opt/conda/lib/python3.7/site-packages (from requests->primehub-python-sdk) (1.24.3)\n",
      "Requirement already satisfied: types-urllib3<1.27 in /opt/conda/lib/python3.7/site-packages (from types-requests->primehub-python-sdk) (1.26.25.4)\n"
     ]
    }
   ],
   "source": [
    "!pip install primehub-python-sdk"
   ]
  },
  {
   "cell_type": "markdown",
   "id": "7cf7a36f",
   "metadata": {},
   "source": [
    "## 2. Request the API Token\n",
    "In order to get the token, you have to have an account in the PrimeHub cluster, the following process will ask you loing with your account.\n",
    "\n"
   ]
  },
  {
   "cell_type": "code",
   "execution_count": 2,
   "id": "42fd57da",
   "metadata": {},
   "outputs": [],
   "source": [
    "# PLEASE UPDATE PRIMEHUB_CLUSTER to your cluster\n",
    "PRIMEHUB_CLUSTER = 'http://primehub-python-sdk.primehub.io'"
   ]
  },
  {
   "cell_type": "code",
   "execution_count": 3,
   "id": "b9f33b83",
   "metadata": {},
   "outputs": [],
   "source": [
    "import os\n",
    "from primehub import PrimeHub, PrimeHubConfig\n",
    "\n",
    "ph = PrimeHub(PrimeHubConfig())\n",
    "if not os.path.isfile(os.path.join(os.getenv(\"HOME\"), \".primehub/config.json\")):\n",
    "    ph.config.generate(PRIMEHUB_CLUSTER)"
   ]
  },
  {
   "cell_type": "code",
   "execution_count": 4,
   "id": "08da112d",
   "metadata": {},
   "outputs": [
    {
     "name": "stdout",
     "output_type": "stream",
     "text": [
      "PrimeHub Python SDK setup successfully\n",
      "Current Group: {'id': 'ccdd52b8-db16-46ce-8a06-70343c79e82a', 'name': 'phusers', 'displayName': 'primehub users'}\n"
     ]
    }
   ],
   "source": [
    "ph = PrimeHub(PrimeHubConfig())\n",
    "if ph.is_ready():\n",
    "    print(\"PrimeHub Python SDK setup successfully\")\n",
    "    print(\"Current Group:\", ph.primehub_config.current_group)\n",
    "else:\n",
    "    print(\"PrimeHub Python SDK couldn't get the group information, please check the configuration.\")"
   ]
  },
  {
   "cell_type": "markdown",
   "id": "d2f27004",
   "metadata": {},
   "source": [
    "## 3. Check the account is Admin account\n",
    "\n",
    "Use `ph.me.me` to know that the account is admin account."
   ]
  },
  {
   "cell_type": "code",
   "execution_count": 5,
   "id": "2fc193c7",
   "metadata": {},
   "outputs": [
    {
     "data": {
      "text/plain": [
       "True"
      ]
     },
     "execution_count": 5,
     "metadata": {},
     "output_type": "execute_result"
    }
   ],
   "source": [
    "account_information = ph.me.me()\n",
    "account_information['isAdmin']"
   ]
  },
  {
   "cell_type": "markdown",
   "id": "0b65e315",
   "metadata": {},
   "source": [
    "## 4. Clean up the previous testing data.\n",
    "\n",
    "We need to clean up the previous data to prevent the notebook error,"
   ]
  },
  {
   "cell_type": "code",
   "execution_count": 6,
   "id": "996e563a",
   "metadata": {},
   "outputs": [],
   "source": [
    "import pandas as pd"
   ]
  },
  {
   "cell_type": "code",
   "execution_count": 7,
   "id": "e2de98f0",
   "metadata": {},
   "outputs": [
    {
     "name": "stdout",
     "output_type": "stream",
     "text": [
      "clean the group data: ['pv-volume-1668656133']\n",
      "clean the group data: ['host-path-volume']\n",
      "clean the group data: ['git-volume']\n",
      "clean the group data: ['env-volume']\n"
     ]
    }
   ],
   "source": [
    "# Clean up volume data we created before.\n",
    "\n",
    "for volume_name in [\"pv-volume\", \"host-path-volume\", \"git-volume\", \"env-volume\"]:\n",
    "    df_list = pd.DataFrame.from_records(list(ph.admin.volumes.list()))\n",
    "    if len(df_list) > 0:\n",
    "        target_id = list(df_list.loc[df_list['name'].str.contains(volume_name)][\"id\"])\n",
    "\n",
    "        if len(target_id) == 1:\n",
    "            print(\"clean the group data: {}\".format(target_id))\n",
    "            ph.admin.volumes.delete(list(target_id)[0])"
   ]
  },
  {
   "cell_type": "code",
   "execution_count": 8,
   "id": "cba9f20d",
   "metadata": {},
   "outputs": [
    {
     "name": "stdout",
     "output_type": "stream",
     "text": [
      "clean the group data: ['afc2366f-e9b4-4eec-991c-e128dd3a0b89']\n"
     ]
    }
   ],
   "source": [
    "# Clean up \"test_group_from_jupyter\" group data.\n",
    "\n",
    "df_list = pd.DataFrame.from_records(list(ph.admin.groups.list()))\n",
    "if len(df_list) > 0:\n",
    "    target_id = list(df_list.loc[df_list['name'] == \"test_group_from_jupyter\"][\"id\"])\n",
    "\n",
    "    if len(target_id) == 1:\n",
    "        print(\"clean the group data: {}\".format(target_id))\n",
    "        ph.admin.groups.delete(list(target_id)[0])"
   ]
  },
  {
   "cell_type": "markdown",
   "id": "01c0a565",
   "metadata": {},
   "source": [
    "# Part 2: Volume-wise operation\n",
    "We will test:\n",
    "    \n",
    "- Create a volume of Persistent Volume type\n",
    "- Create a volume of HostPath type\n",
    "- Create a volume of Git sync type\n",
    "- Create a volume of Env type\n",
    "- Disable the Global of a volume and assign the volume multiple groups"
   ]
  },
  {
   "cell_type": "markdown",
   "id": "12c9f9bd",
   "metadata": {},
   "source": [
    "## 1. Create a volume of Persistent Volume type\n"
   ]
  },
  {
   "cell_type": "code",
   "execution_count": 9,
   "id": "1a07d81b",
   "metadata": {},
   "outputs": [],
   "source": [
    "import time\n",
    "\n",
    "# Create a pv volume with admin role\n",
    "config = {\n",
    "  \"name\": \"pv-volume-{}\".format(int(time.time())),\n",
    "  \"displayName\": \"the volume created by SDK\",\n",
    "  \"description\": \"It is a PV volume\",\n",
    "  \"type\": \"pv\",\n",
    "  \"global\": True,\n",
    "  \"pvProvisioning\": \"auto\",\n",
    "  \"volumeSize\": 1\n",
    "}\n",
    "volume = ph.admin.volumes.create(config)"
   ]
  },
  {
   "cell_type": "code",
   "execution_count": 10,
   "id": "26b76067",
   "metadata": {},
   "outputs": [
    {
     "data": {
      "text/plain": [
       "{'id': 'pv-volume-1668656166',\n",
       " 'name': 'pv-volume-1668656166',\n",
       " 'displayName': 'the volume created by SDK',\n",
       " 'description': 'It is a PV volume',\n",
       " 'type': 'pv',\n",
       " 'pvProvisioning': 'auto',\n",
       " 'volumeSize': 1,\n",
       " 'enableUploadServer': False,\n",
       " 'uploadServerLink': None,\n",
       " 'global': True,\n",
       " 'groups': []}"
      ]
     },
     "execution_count": 10,
     "metadata": {},
     "output_type": "execute_result"
    }
   ],
   "source": [
    "ph.admin.volumes.get(volume[\"id\"]) "
   ]
  },
  {
   "cell_type": "markdown",
   "id": "694c3ed8",
   "metadata": {},
   "source": [
    "## 2. Create a volume of HostPath type"
   ]
  },
  {
   "cell_type": "code",
   "execution_count": 11,
   "id": "f89d3384",
   "metadata": {},
   "outputs": [],
   "source": [
    "# Create a host path volume with admin role\n",
    "config = {\n",
    "  \"name\": \"host-path-volume\",\n",
    "  \"description\": \"\",\n",
    "  \"type\": \"hostPath\",\n",
    "  \"global\": True,\n",
    "  \"hostPath\": \"/opt/data\"\n",
    "}\n",
    "volume = ph.admin.volumes.create(config)"
   ]
  },
  {
   "cell_type": "code",
   "execution_count": 12,
   "id": "f91b4507",
   "metadata": {},
   "outputs": [
    {
     "data": {
      "text/plain": [
       "{'id': 'host-path-volume',\n",
       " 'name': 'host-path-volume',\n",
       " 'displayName': 'host-path-volume',\n",
       " 'description': '',\n",
       " 'type': 'hostPath',\n",
       " 'hostPath': '/opt/data',\n",
       " 'enableUploadServer': False,\n",
       " 'uploadServerLink': None,\n",
       " 'global': True,\n",
       " 'groups': []}"
      ]
     },
     "execution_count": 12,
     "metadata": {},
     "output_type": "execute_result"
    }
   ],
   "source": [
    "ph.admin.volumes.get(volume[\"id\"]) "
   ]
  },
  {
   "cell_type": "markdown",
   "id": "7a3f58bd",
   "metadata": {},
   "source": [
    "## 3. Create a volume of Git sync type\n"
   ]
  },
  {
   "cell_type": "code",
   "execution_count": 13,
   "id": "29053fa7",
   "metadata": {},
   "outputs": [],
   "source": [
    "# Create a git sync volume with admin role\n",
    "config = {\n",
    "  \"name\": \"git-volume\",\n",
    "  \"type\": \"git\",\n",
    "  \"global\": True,\n",
    "  \"url\": \"https://github.com/datasets/covid-19\"\n",
    "}\n",
    "volume = ph.admin.volumes.create(config)"
   ]
  },
  {
   "cell_type": "code",
   "execution_count": 14,
   "id": "722644af",
   "metadata": {},
   "outputs": [
    {
     "data": {
      "text/plain": [
       "{'id': 'git-volume',\n",
       " 'name': 'git-volume',\n",
       " 'displayName': 'git-volume',\n",
       " 'description': '',\n",
       " 'type': 'git',\n",
       " 'url': 'https://github.com/datasets/covid-19',\n",
       " 'secret': None,\n",
       " 'global': True,\n",
       " 'groups': []}"
      ]
     },
     "execution_count": 14,
     "metadata": {},
     "output_type": "execute_result"
    }
   ],
   "source": [
    "ph.admin.volumes.get(volume[\"id\"]) "
   ]
  },
  {
   "cell_type": "markdown",
   "id": "e62f2912",
   "metadata": {},
   "source": [
    "## 4. Create a volume of Env type"
   ]
  },
  {
   "cell_type": "code",
   "execution_count": 15,
   "id": "c5a3db8f",
   "metadata": {},
   "outputs": [],
   "source": [
    "# Create a env volume with admin role\n",
    "config = {\n",
    "  \"name\": \"env-volume\",\n",
    "  \"description\": \"\",\n",
    "  \"type\": \"env\",\n",
    "  \"variables\": {\n",
    "    \"ENV\": \"prod\",\n",
    "    \"LUCKY_NUMBER\": \"7\"\n",
    "  }\n",
    "}\n",
    "volume = ph.admin.volumes.create(config)"
   ]
  },
  {
   "cell_type": "code",
   "execution_count": 16,
   "id": "3c3fe19d",
   "metadata": {},
   "outputs": [
    {
     "data": {
      "text/plain": [
       "{'id': 'env-volume',\n",
       " 'name': 'env-volume',\n",
       " 'displayName': 'env-volume',\n",
       " 'description': '',\n",
       " 'type': 'env',\n",
       " 'variables': {'ENV': 'prod', 'LUCKY_NUMBER': '7'},\n",
       " 'global': False,\n",
       " 'groups': []}"
      ]
     },
     "execution_count": 16,
     "metadata": {},
     "output_type": "execute_result"
    }
   ],
   "source": [
    "ph.admin.volumes.get(volume[\"id\"]) "
   ]
  },
  {
   "cell_type": "markdown",
   "id": "df161dbc",
   "metadata": {},
   "source": [
    "## 5. Disable the Global and assign the instance type to multiple groups\n",
    "\n",
    "First, we use `ph.admin.groups.create` to create the group and Use `ph.admin.instancetypes.update` to:\n",
    "- Disable global instance\n",
    "- Assign the instance type to multiple groups"
   ]
  },
  {
   "cell_type": "code",
   "execution_count": 17,
   "id": "18ec600a",
   "metadata": {},
   "outputs": [],
   "source": [
    "# Create a group with admin role\n",
    "config = {\n",
    "  \"name\": \"test_group_from_jupyter\",\n",
    "  \"displayName\": \"test_group\",\n",
    "  \"enabledDeployment\": False,\n",
    "  \"enabledSharedVolume\": False,\n",
    "  \"quotaCpu\": 0.5,\n",
    "  \"quotaGpu\": 0,\n",
    "  \"admins\": \"\",\n",
    "  \"users\": {\n",
    "      \"connect\": []\n",
    "  }\n",
    "}\n",
    "data = ph.admin.groups.create(config)"
   ]
  },
  {
   "cell_type": "code",
   "execution_count": 18,
   "id": "b857280e",
   "metadata": {},
   "outputs": [
    {
     "data": {
      "text/html": [
       "<div>\n",
       "<style scoped>\n",
       "    .dataframe tbody tr th:only-of-type {\n",
       "        vertical-align: middle;\n",
       "    }\n",
       "\n",
       "    .dataframe tbody tr th {\n",
       "        vertical-align: top;\n",
       "    }\n",
       "\n",
       "    .dataframe thead th {\n",
       "        text-align: right;\n",
       "    }\n",
       "</style>\n",
       "<table border=\"1\" class=\"dataframe\">\n",
       "  <thead>\n",
       "    <tr style=\"text-align: right;\">\n",
       "      <th></th>\n",
       "      <th>id</th>\n",
       "      <th>displayName</th>\n",
       "      <th>name</th>\n",
       "      <th>admins</th>\n",
       "      <th>quotaCpu</th>\n",
       "      <th>quotaGpu</th>\n",
       "      <th>quotaMemory</th>\n",
       "      <th>projectQuotaCpu</th>\n",
       "      <th>projectQuotaGpu</th>\n",
       "      <th>projectQuotaMemory</th>\n",
       "      <th>sharedVolumeCapacity</th>\n",
       "    </tr>\n",
       "  </thead>\n",
       "  <tbody>\n",
       "    <tr>\n",
       "      <th>0</th>\n",
       "      <td>ccdd52b8-db16-46ce-8a06-70343c79e82a</td>\n",
       "      <td>primehub users</td>\n",
       "      <td>phusers</td>\n",
       "      <td>phadmin</td>\n",
       "      <td>NaN</td>\n",
       "      <td>NaN</td>\n",
       "      <td>None</td>\n",
       "      <td>None</td>\n",
       "      <td>None</td>\n",
       "      <td>None</td>\n",
       "      <td>1.0</td>\n",
       "    </tr>\n",
       "    <tr>\n",
       "      <th>1</th>\n",
       "      <td>c9aa9754-2805-40ac-8bb2-835aa17ad9f7</td>\n",
       "      <td>test_group</td>\n",
       "      <td>test_group_from_jupyter</td>\n",
       "      <td></td>\n",
       "      <td>0.5</td>\n",
       "      <td>0.0</td>\n",
       "      <td>None</td>\n",
       "      <td>None</td>\n",
       "      <td>None</td>\n",
       "      <td>None</td>\n",
       "      <td>NaN</td>\n",
       "    </tr>\n",
       "  </tbody>\n",
       "</table>\n",
       "</div>"
      ],
      "text/plain": [
       "                                     id     displayName  \\\n",
       "0  ccdd52b8-db16-46ce-8a06-70343c79e82a  primehub users   \n",
       "1  c9aa9754-2805-40ac-8bb2-835aa17ad9f7      test_group   \n",
       "\n",
       "                      name   admins  quotaCpu  quotaGpu quotaMemory  \\\n",
       "0                  phusers  phadmin       NaN       NaN        None   \n",
       "1  test_group_from_jupyter                0.5       0.0        None   \n",
       "\n",
       "  projectQuotaCpu projectQuotaGpu projectQuotaMemory  sharedVolumeCapacity  \n",
       "0            None            None               None                   1.0  \n",
       "1            None            None               None                   NaN  "
      ]
     },
     "execution_count": 18,
     "metadata": {},
     "output_type": "execute_result"
    }
   ],
   "source": [
    "import pandas as pd\n",
    "df_list = pd.DataFrame.from_records(list(ph.admin.groups.list()))\n",
    "df_list"
   ]
  },
  {
   "cell_type": "code",
   "execution_count": 19,
   "id": "4a559ff5",
   "metadata": {},
   "outputs": [
    {
     "data": {
      "text/plain": [
       "[{'id': 'ccdd52b8-db16-46ce-8a06-70343c79e82a', 'writable': True},\n",
       " {'id': 'c9aa9754-2805-40ac-8bb2-835aa17ad9f7', 'writable': False}]"
      ]
     },
     "execution_count": 19,
     "metadata": {},
     "output_type": "execute_result"
    }
   ],
   "source": [
    "instance_connect = []\n",
    "for list_id in list(df_list['id'])[0:2]:\n",
    "    instance_connect.append({\"id\": list_id, 'writable': False})\n",
    "instance_connect[0]['writable'] = True\n",
    "instance_connect"
   ]
  },
  {
   "cell_type": "code",
   "execution_count": 20,
   "id": "d58ec1fd",
   "metadata": {},
   "outputs": [
    {
     "data": {
      "text/plain": [
       "{'id': 'env-volume'}"
      ]
     },
     "execution_count": 20,
     "metadata": {},
     "output_type": "execute_result"
    }
   ],
   "source": [
    "# Update the Volume\n",
    "config = {\n",
    "  \"global\": False,\n",
    "  \"groups\": {\n",
    "    \"connect\": instance_connect\n",
    "  },\n",
    "}\n",
    "ph.admin.volumes.update(volume[\"id\"], config)"
   ]
  },
  {
   "cell_type": "code",
   "execution_count": 21,
   "id": "c35937b0",
   "metadata": {},
   "outputs": [
    {
     "data": {
      "text/plain": [
       "{'id': 'env-volume',\n",
       " 'name': 'env-volume',\n",
       " 'displayName': 'env-volume',\n",
       " 'description': '',\n",
       " 'type': 'env',\n",
       " 'variables': {'ENV': 'prod', 'LUCKY_NUMBER': '7'},\n",
       " 'global': False,\n",
       " 'groups': [{'id': 'ccdd52b8-db16-46ce-8a06-70343c79e82a',\n",
       "   'name': 'phusers',\n",
       "   'displayName': 'primehub users',\n",
       "   'writable': False},\n",
       "  {'id': 'c9aa9754-2805-40ac-8bb2-835aa17ad9f7',\n",
       "   'name': 'test_group_from_jupyter',\n",
       "   'displayName': 'test_group',\n",
       "   'writable': False}]}"
      ]
     },
     "execution_count": 21,
     "metadata": {},
     "output_type": "execute_result"
    }
   ],
   "source": [
    "# Get the volume information\n",
    "\n",
    "ph.admin.volumes.get(volume['id'])"
   ]
  }
 ],
 "metadata": {
  "kernelspec": {
   "display_name": "Python 3",
   "language": "python",
   "name": "python3"
  },
  "language_info": {
   "codemirror_mode": {
    "name": "ipython",
    "version": 3
   },
   "file_extension": ".py",
   "mimetype": "text/x-python",
   "name": "python",
   "nbconvert_exporter": "python",
   "pygments_lexer": "ipython3",
   "version": "3.7.10"
  }
 },
 "nbformat": 4,
 "nbformat_minor": 5
}
