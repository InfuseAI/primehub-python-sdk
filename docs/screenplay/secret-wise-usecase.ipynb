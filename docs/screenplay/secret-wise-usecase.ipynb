{
 "cells": [
  {
   "cell_type": "markdown",
   "id": "0fc6bac7",
   "metadata": {},
   "source": [
    "# Secrets-wise operation\n",
    "\n",
    "This notebook demostrates common volumes-wise operations by using SDK.\n",
    "\n",
    "## Prerequisites\n",
    "\n",
    "You need\n",
    "\n",
    "- an SDK environment set up with the administrator priviledge. Check \"*environment setup.ipynb*\" for the detail."
   ]
  },
  {
   "cell_type": "code",
   "execution_count": null,
   "id": "7b386ea6",
   "metadata": {},
   "outputs": [],
   "source": [
    "PRIMEHUB_CLUSTER = 'your_PrimeHub_domain'"
   ]
  },
  {
   "cell_type": "markdown",
   "id": "ef85b8b5",
   "metadata": {},
   "source": [
    "**Check if the configuration exists. If not, you need to login to retrieve the token and input it in the prompt. The configuration will be generated at**`~/.primehub/config.json`."
   ]
  },
  {
   "cell_type": "code",
   "execution_count": null,
   "id": "ab2964bb",
   "metadata": {},
   "outputs": [],
   "source": [
    "import os\n",
    "from primehub import PrimeHub, PrimeHubConfig\n",
    "\n",
    "ph = PrimeHub(PrimeHubConfig())\n",
    "if ph.is_ready():\n",
    "    print(f\"PrimeHub Python SDK {ph.version.version()} environment is ready, you are good to go.\")\n",
    "    print(\"Current Group:\", ph.primehub_config.current_group)\n",
    "else:\n",
    "    print(\"Failed to retrieve the information from PrimeHub cluster, please check the configuration.\")"
   ]
  },
  {
   "cell_type": "markdown",
   "id": "84f178e3",
   "metadata": {},
   "source": [
    "## ToC\n",
    "\n",
    "- [Fundamental Operations (CRUD)](#fundamental)\n",
    "- [Common Operations](#common)"
   ]
  },
  {
   "cell_type": "markdown",
   "id": "7438a296",
   "metadata": {},
   "source": [
    "---\n",
    "## Fundamental Operations <a class=\"anchor\" id=\"fundamental\"></a>"
   ]
  },
  {
   "cell_type": "code",
   "execution_count": null,
   "id": "372199db",
   "metadata": {},
   "outputs": [],
   "source": [
    "# Get the group id by the given group name\n",
    "group_name = 'Continental'\n",
    "groups = ph.admin.groups.list()\n",
    "for group in groups:\n",
    "    if group['name'] == group_name:\n",
    "        specified_group = group\n",
    "        \n",
    "group_detail = ph.admin.groups.get(specified_group['id'])\n",
    "group_detail"
   ]
  },
  {
   "cell_type": "markdown",
   "id": "f7ceac0c",
   "metadata": {},
   "source": [
    "### Create secret\n",
    "\n",
    "Method: `ph.admin.secrets.create(configuration)`\n",
    "\n",
    "You can create two types of secret, *opaque* or *kubernetes*."
   ]
  },
  {
   "cell_type": "code",
   "execution_count": null,
   "id": "f4d32165",
   "metadata": {},
   "outputs": [],
   "source": [
    "gitsync_secret_config = {\n",
    "  \"name\": \"git-secret\",\n",
    "  \"displayName\": \"git secret by sdk\",\n",
    "  \"type\": 'opaque', # Git Sync\n",
    "  \"secret\": \"a secret for git repository access\"\n",
    "}"
   ]
  },
  {
   "cell_type": "code",
   "execution_count": null,
   "id": "bb67a929",
   "metadata": {},
   "outputs": [],
   "source": [
    "gitsync_secret = ph.admin.secrets.create(gitsync_secret_config)\n",
    "\n",
    "ph.admin.secrets.get(gitsync_secret[\"id\"])"
   ]
  },
  {
   "cell_type": "code",
   "execution_count": null,
   "id": "ddfe0d17",
   "metadata": {},
   "outputs": [],
   "source": [
    "image_pull_secret_config = {\n",
    "  \"name\": \"image-pull-secret\",\n",
    "  \"displayName\": \"image pull secret by sdk\",\n",
    "  \"type\": 'kubernetes', # Image Pull\n",
    "  \"secret\": 'a secret for image-pull',\n",
    "  \"registryHost\": \"https://gcr.io\" ,\n",
    "  \"username\": \"username for gcr\",\n",
    "  \"password\": \"passwrod for gcr\"\n",
    "}"
   ]
  },
  {
   "cell_type": "code",
   "execution_count": null,
   "id": "45014596",
   "metadata": {},
   "outputs": [],
   "source": [
    "image_pull_secret = ph.admin.secrets.create(image_pull_secret_config)\n",
    "ph.admin.secrets.get(image_pull_secret[\"id\"])"
   ]
  },
  {
   "cell_type": "markdown",
   "id": "98e43eff",
   "metadata": {},
   "source": [
    "### Get secret Detail\n",
    "\n",
    "Method: `ph.admin.secrets.get(secret_id)`\n"
   ]
  },
  {
   "cell_type": "code",
   "execution_count": null,
   "id": "94d2c3f9",
   "metadata": {},
   "outputs": [],
   "source": [
    "ph.admin.secrets.get(image_pull_secret['id'])"
   ]
  },
  {
   "cell_type": "markdown",
   "id": "4f2f82b7",
   "metadata": {},
   "source": [
    "### Update secret Configuration\n",
    "\n",
    "Method: `ph.admin.secrets.update(configuration)`"
   ]
  },
  {
   "cell_type": "code",
   "execution_count": null,
   "id": "994157ce",
   "metadata": {},
   "outputs": [],
   "source": [
    "updating_config = {\n",
    "  \"displayName\": \"git secret updated by sdk\",\n",
    "  \"secret\": \"the secret has been updated\"\n",
    "}"
   ]
  },
  {
   "cell_type": "code",
   "execution_count": null,
   "id": "87f92dcc",
   "metadata": {},
   "outputs": [],
   "source": [
    "ph.admin.secrets.update(gitsync_secret['id'], updating_config)\n",
    "\n",
    "ph.admin.secrets.get(gitsync_secret['id'])"
   ]
  },
  {
   "cell_type": "markdown",
   "id": "4df4c228",
   "metadata": {},
   "source": [
    "### List All of secrets\n",
    "\n",
    "Method: `ph.admin.secrets.list()`"
   ]
  },
  {
   "cell_type": "code",
   "execution_count": null,
   "id": "8a51d407",
   "metadata": {},
   "outputs": [],
   "source": [
    "all_secrets = ph.admin.secrets.list()\n",
    "for secret in all_secrets:\n",
    "    print(secret)"
   ]
  },
  {
   "cell_type": "markdown",
   "id": "d2c81fcd",
   "metadata": {},
   "source": [
    "### Delete secret\n",
    "\n",
    "Method: `ph.admin.secrets.delete(secret_id)`"
   ]
  },
  {
   "cell_type": "code",
   "execution_count": null,
   "id": "bbf46850",
   "metadata": {},
   "outputs": [],
   "source": [
    "ph.admin.secrets.delete(gitsync_secret['id'])"
   ]
  },
  {
   "cell_type": "markdown",
   "id": "1a58bbda",
   "metadata": {},
   "source": [
    "---\n",
    "\n",
    "## Common Operations <a class=\"anchor\" id=\"common\"></a>"
   ]
  },
  {
   "cell_type": "markdown",
   "id": "02bce8db",
   "metadata": {},
   "source": [
    "### List Secrets by Type"
   ]
  },
  {
   "cell_type": "code",
   "execution_count": null,
   "id": "8616e92c",
   "metadata": {},
   "outputs": [],
   "source": [
    "selected_type = \"kubernetes\"\n",
    "all_secrets = ph.admin.secrets.list()\n",
    "gitsync_secrets = []\n",
    "for secret in all_secrets:\n",
    "    if secret[\"type\"] == selected_type:\n",
    "        gitsync_secrets.append(secret)\n",
    "\n",
    "gitsync_secrets"
   ]
  }
 ],
 "metadata": {
  "kernelspec": {
   "display_name": "Python 3",
   "language": "python",
   "name": "python3"
  },
  "language_info": {
   "codemirror_mode": {
    "name": "ipython",
    "version": 3
   },
   "file_extension": ".py",
   "mimetype": "text/x-python",
   "name": "python",
   "nbconvert_exporter": "python",
   "pygments_lexer": "ipython3",
   "version": "3.7.10"
  }
 },
 "nbformat": 4,
 "nbformat_minor": 5
}
