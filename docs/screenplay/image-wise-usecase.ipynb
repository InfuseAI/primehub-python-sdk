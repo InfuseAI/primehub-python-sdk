{
 "cells": [
  {
   "cell_type": "markdown",
   "id": "36cae2b7",
   "metadata": {},
   "source": [
    "# Image-wise operation\n",
    "\n",
    "This notebook demostrates common image-wise operations by using SDK.\n",
    "\n",
    "## Prerequisites\n",
    "\n",
    "You need\n",
    "\n",
    "- an SDK environment set up with the administrator priviledge. Check \"*environment setup.ipynb*\" for the detail."
   ]
  },
  {
   "cell_type": "code",
   "execution_count": null,
   "id": "60d236db",
   "metadata": {},
   "outputs": [],
   "source": [
    "PRIMEHUB_CLUSTER = 'your_PrimeHub_domain'"
   ]
  },
  {
   "cell_type": "markdown",
   "id": "9f04247f",
   "metadata": {},
   "source": [
    "**Check if the configuration exists. If not, you need to login to retrieve the token and input it in the prompt. The configuration will be generated at**`~/.primehub/config.json`."
   ]
  },
  {
   "cell_type": "code",
   "execution_count": null,
   "id": "6ae10b12",
   "metadata": {},
   "outputs": [],
   "source": [
    "import os\n",
    "from primehub import PrimeHub, PrimeHubConfig\n",
    "\n",
    "ph = PrimeHub(PrimeHubConfig())\n",
    "if ph.is_ready():\n",
    "    print(f\"PrimeHub Python SDK {ph.version.version()} environment is ready, you are good to go.\")\n",
    "    print(\"Current Group:\", ph.primehub_config.current_group)\n",
    "else:\n",
    "    print(\"Failed to retrieve the information from PrimeHub cluster, please check the configuration.\")"
   ]
  },
  {
   "cell_type": "markdown",
   "id": "8b5faf57",
   "metadata": {},
   "source": [
    "## ToC\n",
    "\n",
    "- [Fundamental Operations (CRUD)](#fundamental)\n",
    "- [Common Operations](#common)"
   ]
  },
  {
   "cell_type": "markdown",
   "id": "95b4f332",
   "metadata": {},
   "source": [
    "---\n",
    "## Fundamental Operations <a class=\"anchor\" id=\"fundamental\"></a>"
   ]
  },
  {
   "cell_type": "code",
   "execution_count": null,
   "id": "4a6eb198",
   "metadata": {},
   "outputs": [],
   "source": [
    "# Get the group id by the given group name\n",
    "group_name = 'Continental'\n",
    "groups = ph.admin.groups.list()\n",
    "for group in groups:\n",
    "    if group['name'] == group_name:\n",
    "        specified_group = group\n",
    "        \n",
    "group_detail = ph.admin.groups.get(specified_group['id'])\n",
    "group_detail"
   ]
  },
  {
   "cell_type": "markdown",
   "id": "97a6ab99",
   "metadata": {},
   "source": [
    "### Add existing Image from Image Registry\n",
    "\n",
    "Method: `ph.admin.images.create(image_configuration)`\n",
    "\n",
    "You can opt for adding a *global image* or adding *an image connecting specified groups*."
   ]
  },
  {
   "cell_type": "code",
   "execution_count": null,
   "id": "10919bc3",
   "metadata": {},
   "outputs": [],
   "source": [
    "image_config_global = {\n",
    "  \"name\": \"sdk-test-base-global\",\n",
    "  \"displayName\": \"Base image by SDK\",\n",
    "  \"description\": \"base-notebook with python 3.7\",\n",
    "  \"type\": \"both\",\n",
    "  \"url\": \"infuseai/docker-stacks:base-notebook-63fdf50a\",\n",
    "  \"urlForGpu\": \"infuseai/docker-stacks:base-notebook-63fdf50a-gpu\",\n",
    "  \"global\": True\n",
    "  #\"useImagePullSecret\": 'secret_id'\n",
    "}\n",
    "\n",
    "\n",
    "image_config_with_specified_groups = {\n",
    "  \"name\": \"sdk-test-base\",\n",
    "  \"displayName\": \"Base image by SDK with specified groups\",\n",
    "  \"description\": \"base-notebook with python 3.7\",\n",
    "  \"type\": \"both\",\n",
    "  \"url\": \"infuseai/docker-stacks:base-notebook-63fdf50a\",\n",
    "  \"urlForGpu\": \"infuseai/docker-stacks:base-notebook-63fdf50a-gpu\",\n",
    "  \"global\": False,\n",
    "  \"groups\": {\n",
    "    \"connect\": [\n",
    "      {\n",
    "        \"id\": specified_group['id'],\n",
    "      }\n",
    "    ]\n",
    "  },\n",
    "  #\"useImagePullSecret\": 'secret_id'\n",
    "}\n"
   ]
  },
  {
   "cell_type": "code",
   "execution_count": null,
   "id": "4ca4dced",
   "metadata": {},
   "outputs": [],
   "source": [
    "created_image = ph.admin.images.create(image_config_with_specified_groups)\n",
    "created_image"
   ]
  },
  {
   "cell_type": "markdown",
   "id": "1dbfd541",
   "metadata": {},
   "source": [
    "### Update Image Configuration\n",
    "\n",
    "Method: `ph.admin.images.update('image_id', configuration)`"
   ]
  },
  {
   "cell_type": "code",
   "execution_count": null,
   "id": "4d356fc6",
   "metadata": {},
   "outputs": [],
   "source": [
    "updating_config = {\n",
    "    \"description\": \"Base image created by SDK example\"\n",
    "}\n",
    "\n",
    "ph.admin.images.update(created_image['id'], updating_config)"
   ]
  },
  {
   "cell_type": "markdown",
   "id": "c4d1edf8",
   "metadata": {},
   "source": [
    "### Get Image Detail Info\n",
    "\n",
    "Method: `ph.admin.images.get('image_'id)`"
   ]
  },
  {
   "cell_type": "code",
   "execution_count": null,
   "id": "26128604",
   "metadata": {},
   "outputs": [],
   "source": [
    "ph.admin.images.get(created_image['id'])"
   ]
  },
  {
   "cell_type": "markdown",
   "id": "ae55ab7c",
   "metadata": {},
   "source": [
    "### Get connected Groups of Image\n",
    "\n",
    "Method: `ph.admin.images.list_groups('image_id')`"
   ]
  },
  {
   "cell_type": "code",
   "execution_count": null,
   "id": "bd004fc2",
   "metadata": {},
   "outputs": [],
   "source": [
    "ph.admin.images.list_groups(created_image['id'])"
   ]
  },
  {
   "cell_type": "markdown",
   "id": "99f244d9",
   "metadata": {},
   "source": [
    "### List All of Images\n",
    "\n",
    "Method: `ph.admin.images.list()`"
   ]
  },
  {
   "cell_type": "code",
   "execution_count": null,
   "id": "a049da3a",
   "metadata": {},
   "outputs": [],
   "source": [
    "all_images = ph.admin.images.list()\n",
    "for image in all_images:\n",
    "    print(image)"
   ]
  },
  {
   "cell_type": "markdown",
   "id": "10f82534",
   "metadata": {},
   "source": [
    "### Delete Image\n",
    "\n",
    "Method: `ph.admin.images.delete('image_id')`"
   ]
  },
  {
   "cell_type": "code",
   "execution_count": null,
   "id": "c39a2eb5",
   "metadata": {},
   "outputs": [],
   "source": [
    "ph.admin.images.delete(created_image['id'])"
   ]
  },
  {
   "cell_type": "markdown",
   "id": "44c26617",
   "metadata": {},
   "source": [
    "---\n",
    "\n",
    "## Common Operations <a class=\"anchor\" id=\"common\"></a>"
   ]
  },
  {
   "cell_type": "markdown",
   "id": "4c66bb12",
   "metadata": {},
   "source": [
    "### Connect/Disconnect Image to Group\n",
    "\n",
    "Method: \n",
    "- `ph.admin.images.add_group('image_id', 'group_id')`\n",
    "- `ph.admin.images.remove_group('image_id', 'group_id')`"
   ]
  },
  {
   "cell_type": "code",
   "execution_count": null,
   "id": "a486e4f2",
   "metadata": {},
   "outputs": [],
   "source": [
    "image_id = 'bitfusion-tf-cuda11'\n",
    "ph.admin.images.add_group(image_id, specified_group['id'])\n",
    "\n",
    "# Verify\n",
    "ph.admin.images.list_groups(image_id)"
   ]
  },
  {
   "cell_type": "code",
   "execution_count": null,
   "id": "67407cbc",
   "metadata": {},
   "outputs": [],
   "source": [
    "ph.admin.images.remove_group(image_id, specified_group['id'])\n",
    "\n",
    "# Verify\n",
    "ph.admin.images.list_groups(image_id)"
   ]
  },
  {
   "cell_type": "markdown",
   "id": "313b0311",
   "metadata": {},
   "source": [
    "### Create ImagePull secret\n",
    "\n",
    "By using `ph.admin.secrets.create()` to create the pull secret."
   ]
  },
  {
   "cell_type": "code",
   "execution_count": null,
   "id": "66e620cb",
   "metadata": {},
   "outputs": [],
   "source": [
    "secret_config = {\n",
    "    \"name\": \"secret-created-by-sdk\",\n",
    "    \"type\": \"opaque\",\n",
    "    \"secret\": \"keep it secret\"\n",
    "}\n",
    "secret = ph.admin.secrets.create(secret_config)\n",
    "secret"
   ]
  },
  {
   "cell_type": "markdown",
   "id": "f8211fe0",
   "metadata": {},
   "source": [
    "### Add Image by Building a custom image\n",
    "\n",
    "By using `ph.admin.images.create()` with the image configruation containing `imageSpec` of the custom image."
   ]
  },
  {
   "cell_type": "code",
   "execution_count": null,
   "id": "ee28d5d7",
   "metadata": {},
   "outputs": [],
   "source": [
    "# Create an custom image\n",
    "config = {\n",
    "  \"name\": \"custom-image-built-by-sdk\",\n",
    "  \"type\": \"both\",\n",
    "  \"global\": True,\n",
    "  \"imageSpec\": {\n",
    "    \"baseImage\": \"jupyter/base-notebook\",\n",
    "    \"packages\": {\n",
    "      \"pip\": [\n",
    "        \"primehub-python-sdk\"\n",
    "      ]\n",
    "    }\n",
    "  }\n",
    "}"
   ]
  },
  {
   "cell_type": "code",
   "execution_count": null,
   "id": "04701afa",
   "metadata": {},
   "outputs": [],
   "source": [
    "image_custom = ph.admin.images.create(config)"
   ]
  },
  {
   "cell_type": "markdown",
   "id": "94128771",
   "metadata": {},
   "source": [
    "We can tell the building status from `jobStatus` by getting the custom image info."
   ]
  },
  {
   "cell_type": "code",
   "execution_count": null,
   "id": "f1132594",
   "metadata": {},
   "outputs": [],
   "source": [
    "output = ph.admin.images.get(image_custom['id'])\n",
    "\n",
    "# \"logEndpoint\" will output massive logs of the building job; usually we delete it to avoid a lengthy output \n",
    "# unless you need to check.\n",
    "del output['logEndpoint']\n",
    "\n",
    "output"
   ]
  }
 ],
 "metadata": {
  "kernelspec": {
   "display_name": "Python 3",
   "language": "python",
   "name": "python3"
  },
  "language_info": {
   "codemirror_mode": {
    "name": "ipython",
    "version": 3
   },
   "file_extension": ".py",
   "mimetype": "text/x-python",
   "name": "python",
   "nbconvert_exporter": "python",
   "pygments_lexer": "ipython3",
   "version": "3.7.10"
  }
 },
 "nbformat": 4,
 "nbformat_minor": 5
}
