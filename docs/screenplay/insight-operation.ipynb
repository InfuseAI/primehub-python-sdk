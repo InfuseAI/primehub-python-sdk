{
 "cells": [
  {
   "cell_type": "markdown",
   "id": "721c2b0e",
   "metadata": {},
   "source": [
    "In order to make the SDK working, you have to\n",
    "\n",
    "- install the library with pip\n",
    "- create a config file in the ~/.primehub/config.json"
   ]
  },
  {
   "cell_type": "markdown",
   "id": "43754ebb",
   "metadata": {},
   "source": [
    "# Part 1: prerequisite: Configure the environment."
   ]
  },
  {
   "cell_type": "markdown",
   "id": "9f960f00",
   "metadata": {},
   "source": [
    "## 1. Install with pip\n",
    "Let's install PrimeHub Python SDK with pip."
   ]
  },
  {
   "cell_type": "code",
   "execution_count": 1,
   "id": "00159582",
   "metadata": {},
   "outputs": [],
   "source": [
    "!pip install -q primehub-python-sdk"
   ]
  },
  {
   "cell_type": "markdown",
   "id": "bd8c43ab",
   "metadata": {},
   "source": [
    "## 2. Request the API Token\n",
    "In order to get the token, you have to have an account in the PrimeHub cluster, the following process will ask you loing with your account.\n",
    "\n"
   ]
  },
  {
   "cell_type": "code",
   "execution_count": 2,
   "id": "bc0382a7",
   "metadata": {},
   "outputs": [],
   "source": [
    "# PLEASE UPDATE PRIMEHUB_CLUSTER to your cluster\n",
    "PRIMEHUB_CLUSTER = 'http://primehub-python-sdk.primehub.io'"
   ]
  },
  {
   "cell_type": "code",
   "execution_count": 3,
   "id": "796d206c",
   "metadata": {},
   "outputs": [],
   "source": [
    "import os\n",
    "from primehub import PrimeHub, PrimeHubConfig\n",
    "\n",
    "ph = PrimeHub(PrimeHubConfig())\n",
    "if not os.path.isfile(os.path.join(os.getenv(\"HOME\"), \".primehub/config.json\")):\n",
    "    ph.config.generate(PRIMEHUB_CLUSTER)"
   ]
  },
  {
   "cell_type": "code",
   "execution_count": 4,
   "id": "2e9fd865",
   "metadata": {},
   "outputs": [
    {
     "name": "stdout",
     "output_type": "stream",
     "text": [
      "PrimeHub Python SDK setup successfully\n",
      "Current Group: {'id': '11945641-279a-4042-8688-ef88769c21ca', 'name': 'demo_showcase', 'displayName': 'demo_showcase'}\n"
     ]
    }
   ],
   "source": [
    "ph = PrimeHub(PrimeHubConfig())\n",
    "if ph.is_ready():\n",
    "    print(\"PrimeHub Python SDK setup successfully\")\n",
    "    print(\"Current Group:\", ph.primehub_config.current_group)\n",
    "else:\n",
    "    print(\"PrimeHub Python SDK couldn't get the group information, please check the configuration.\")"
   ]
  },
  {
   "cell_type": "markdown",
   "id": "15d83e19",
   "metadata": {},
   "source": [
    "## 3. Check the account is Admin account\n",
    "\n",
    "Use `ph.me.me` to know that the account is admin account."
   ]
  },
  {
   "cell_type": "code",
   "execution_count": null,
   "id": "afeb3b85",
   "metadata": {},
   "outputs": [],
   "source": [
    "account_information = ph.me.me()\n",
    "account_information['isAdmin']"
   ]
  },
  {
   "cell_type": "markdown",
   "id": "5f8aa428",
   "metadata": {},
   "source": [
    "# Part 2: Insight operation\n",
    "We will test:\n",
    "    \n",
    "- Get a user list of a group\n",
    "- Get a group list\n",
    "- Get a self-hosted image list (with size)\n",
    "- To learn the summary of occupied resources by running Notebooks(user) & Jobs(user) & Deployments(user) & Apps(user) (of a group)"
   ]
  },
  {
   "cell_type": "markdown",
   "id": "a10f85c0",
   "metadata": {},
   "source": [
    "## 1. Get a user list of a group"
   ]
  },
  {
   "cell_type": "code",
   "execution_count": null,
   "id": "1dfd6a6a",
   "metadata": {},
   "outputs": [],
   "source": [
    "import pandas as pd"
   ]
  },
  {
   "cell_type": "code",
   "execution_count": null,
   "id": "6031d352",
   "metadata": {},
   "outputs": [],
   "source": [
    "pd.DataFrame.from_records(list(ph.admin.groups.list()))"
   ]
  },
  {
   "cell_type": "code",
   "execution_count": null,
   "id": "88e91909",
   "metadata": {},
   "outputs": [],
   "source": [
    "pd.DataFrame.from_records(list(ph.admin.users.list()))"
   ]
  },
  {
   "cell_type": "markdown",
   "id": "1b36937d",
   "metadata": {},
   "source": [
    "## 2. Get a group list"
   ]
  },
  {
   "cell_type": "code",
   "execution_count": null,
   "id": "6d4b852e",
   "metadata": {},
   "outputs": [],
   "source": [
    "pd.DataFrame.from_records(list(ph.admin.groups.list()))"
   ]
  },
  {
   "cell_type": "code",
   "execution_count": null,
   "id": "4eef640b",
   "metadata": {},
   "outputs": [],
   "source": [
    "pd.DataFrame.from_records(list(ph.groups.list()))"
   ]
  },
  {
   "cell_type": "markdown",
   "id": "48a4543a",
   "metadata": {},
   "source": [
    "### 3. Get a self-hosted image list"
   ]
  },
  {
   "cell_type": "code",
   "execution_count": null,
   "id": "1406dd20",
   "metadata": {},
   "outputs": [],
   "source": [
    "pd.DataFrame.from_records(list(ph.admin.images.list()))"
   ]
  },
  {
   "cell_type": "markdown",
   "id": "30ad5bfb",
   "metadata": {},
   "source": [
    "### 4. To learn the summary of occupied resources by running Notebooks(user) & Jobs(user) & Deployments(user) & Apps(user) (of a group)"
   ]
  },
  {
   "cell_type": "code",
   "execution_count": null,
   "id": "f4dbaa86",
   "metadata": {},
   "outputs": [],
   "source": [
    "df = pd.DataFrame.from_records(list(ph.jobs.list()))\n",
    "df[df['userName'] == \"hlb@infuseai.io\"]"
   ]
  },
  {
   "cell_type": "code",
   "execution_count": null,
   "id": "502bdfb4",
   "metadata": {},
   "outputs": [],
   "source": [
    "df = pd.DataFrame.from_records(list(ph.deployments.list()))\n",
    "df"
   ]
  },
  {
   "cell_type": "code",
   "execution_count": null,
   "id": "177665a3",
   "metadata": {},
   "outputs": [],
   "source": [
    "df = pd.DataFrame.from_records(list(ph.apps.list()))\n",
    "df"
   ]
  },
  {
   "cell_type": "code",
   "execution_count": null,
   "id": "0d213e0b",
   "metadata": {},
   "outputs": [],
   "source": []
  }
 ],
 "metadata": {
  "kernelspec": {
   "display_name": "Python 3 (ipykernel)",
   "language": "python",
   "name": "python3"
  },
  "language_info": {
   "codemirror_mode": {
    "name": "ipython",
    "version": 3
   },
   "file_extension": ".py",
   "mimetype": "text/x-python",
   "name": "python",
   "nbconvert_exporter": "python",
   "pygments_lexer": "ipython3",
   "version": "3.7.12"
  }
 },
 "nbformat": 4,
 "nbformat_minor": 5
}
