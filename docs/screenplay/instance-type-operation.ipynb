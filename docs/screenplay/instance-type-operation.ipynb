{
 "cells": [
  {
   "cell_type": "markdown",
   "id": "b0354d44",
   "metadata": {},
   "source": [
    "# Getting Started with PrimeHub Python SDK\n",
    "PrimeHub Python SDK makes you automation with PrimeHub Platform.\n",
    "\n",
    "In order to make the SDK working, you have to\n",
    "\n",
    "- install the library with pip\n",
    "- create a config file in the ~/.primehub/config.json"
   ]
  },
  {
   "cell_type": "markdown",
   "id": "e18be4f2",
   "metadata": {},
   "source": [
    "# Part 1: prerequisite: Configure the environment."
   ]
  },
  {
   "cell_type": "markdown",
   "id": "9838338c",
   "metadata": {},
   "source": [
    "## 1. Install with pip\n",
    "Let's install PrimeHub Python SDK with pip."
   ]
  },
  {
   "cell_type": "code",
   "execution_count": 1,
   "id": "0ee33408",
   "metadata": {},
   "outputs": [
    {
     "name": "stdout",
     "output_type": "stream",
     "text": [
      "Requirement already satisfied: primehub-python-sdk in /opt/conda/lib/python3.7/site-packages (0.3.8)\n",
      "Requirement already satisfied: types-requests in /opt/conda/lib/python3.7/site-packages (from primehub-python-sdk) (2.28.11.5)\n",
      "Requirement already satisfied: types-tabulate==0.8.2 in /opt/conda/lib/python3.7/site-packages (from primehub-python-sdk) (0.8.2)\n",
      "Requirement already satisfied: tabulate==0.8.9 in /opt/conda/lib/python3.7/site-packages (from primehub-python-sdk) (0.8.9)\n",
      "Requirement already satisfied: requests in /opt/conda/lib/python3.7/site-packages (from primehub-python-sdk) (2.21.0)\n",
      "Requirement already satisfied: idna<2.9,>=2.5 in /opt/conda/lib/python3.7/site-packages (from requests->primehub-python-sdk) (2.8)\n",
      "Requirement already satisfied: certifi>=2017.4.17 in /opt/conda/lib/python3.7/site-packages (from requests->primehub-python-sdk) (2020.6.20)\n",
      "Requirement already satisfied: chardet<3.1.0,>=3.0.2 in /opt/conda/lib/python3.7/site-packages (from requests->primehub-python-sdk) (3.0.4)\n",
      "Requirement already satisfied: urllib3<1.25,>=1.21.1 in /opt/conda/lib/python3.7/site-packages (from requests->primehub-python-sdk) (1.24.3)\n",
      "Requirement already satisfied: types-urllib3<1.27 in /opt/conda/lib/python3.7/site-packages (from types-requests->primehub-python-sdk) (1.26.25.4)\n"
     ]
    }
   ],
   "source": [
    "!pip install primehub-python-sdk"
   ]
  },
  {
   "cell_type": "markdown",
   "id": "3e47843c",
   "metadata": {},
   "source": [
    "## 2. Request the API Token\n",
    "In order to get the token, you have to have an account in the PrimeHub cluster, the following process will ask you loing with your account.\n",
    "\n"
   ]
  },
  {
   "cell_type": "code",
   "execution_count": 2,
   "id": "11bd0e6f",
   "metadata": {},
   "outputs": [],
   "source": [
    "# PLEASE UPDATE PRIMEHUB_CLUSTER to your cluster\n",
    "PRIMEHUB_CLUSTER = 'http://primehub-python-sdk.primehub.io'"
   ]
  },
  {
   "cell_type": "code",
   "execution_count": 3,
   "id": "c80f5d6e",
   "metadata": {},
   "outputs": [],
   "source": [
    "import os\n",
    "from primehub import PrimeHub, PrimeHubConfig\n",
    "\n",
    "ph = PrimeHub(PrimeHubConfig())\n",
    "if not os.path.isfile(os.path.join(os.getenv(\"HOME\"), \".primehub/config.json\")):\n",
    "    ph.config.generate(PRIMEHUB_CLUSTER)"
   ]
  },
  {
   "cell_type": "code",
   "execution_count": 4,
   "id": "a85bd60c",
   "metadata": {},
   "outputs": [
    {
     "name": "stdout",
     "output_type": "stream",
     "text": [
      "PrimeHub Python SDK setup successfully\n",
      "Current Group: {'id': 'ccdd52b8-db16-46ce-8a06-70343c79e82a', 'name': 'phusers', 'displayName': 'primehub users'}\n"
     ]
    }
   ],
   "source": [
    "ph = PrimeHub(PrimeHubConfig())\n",
    "if ph.is_ready():\n",
    "    print(\"PrimeHub Python SDK setup successfully\")\n",
    "    print(\"Current Group:\", ph.primehub_config.current_group)\n",
    "else:\n",
    "    print(\"PrimeHub Python SDK couldn't get the group information, please check the configuration.\")"
   ]
  },
  {
   "cell_type": "markdown",
   "id": "f259bec3",
   "metadata": {},
   "source": [
    "## 3. Check the account is Admin account\n",
    "\n",
    "Use `ph.me.me` to know that the account is admin account."
   ]
  },
  {
   "cell_type": "code",
   "execution_count": 5,
   "id": "7a23976b",
   "metadata": {},
   "outputs": [
    {
     "data": {
      "text/plain": [
       "True"
      ]
     },
     "execution_count": 5,
     "metadata": {},
     "output_type": "execute_result"
    }
   ],
   "source": [
    "account_information = ph.me.me()\n",
    "account_information['isAdmin']"
   ]
  },
  {
   "cell_type": "markdown",
   "id": "99fbc695",
   "metadata": {},
   "source": [
    "## 4. Clean up the previous testing data.\n",
    "\n",
    "We need to clean up the previous data to prevent the notebook error,"
   ]
  },
  {
   "cell_type": "code",
   "execution_count": 6,
   "id": "44c98418",
   "metadata": {},
   "outputs": [],
   "source": [
    "import pandas as pd"
   ]
  },
  {
   "cell_type": "code",
   "execution_count": 7,
   "id": "938e77f8",
   "metadata": {},
   "outputs": [
    {
     "name": "stdout",
     "output_type": "stream",
     "text": [
      "clean the instance type data: cpu-instance-by-sdk\n"
     ]
    }
   ],
   "source": [
    "# Clean up \"cpu-instance-by-sdk\" instancetype data.\n",
    "\n",
    "df_list = pd.DataFrame.from_records(list(ph.admin.instancetypes.list()))\n",
    "if len(df_list) > 0:\n",
    "    target_id = list(df_list.loc[df_list['name'] == \"cpu-instance-by-sdk\"][\"id\"])\n",
    "\n",
    "    if len(target_id) == 1:\n",
    "        print(\"clean the instance type data: {}\".format(target_id[0]))\n",
    "        ph.admin.instancetypes.delete(list(target_id)[0])"
   ]
  },
  {
   "cell_type": "code",
   "execution_count": 8,
   "id": "731ccef9",
   "metadata": {},
   "outputs": [
    {
     "name": "stdout",
     "output_type": "stream",
     "text": [
      "clean the group data: ['fa382829-d08a-4421-8de4-82e3231fe7a7']\n"
     ]
    }
   ],
   "source": [
    "# Clean up \"test_group_from_jupyter\" group data.\n",
    "\n",
    "df_list = pd.DataFrame.from_records(list(ph.admin.groups.list()))\n",
    "if len(df_list) > 0:\n",
    "    target_id = list(df_list.loc[df_list['name'] == \"test_group_from_jupyter\"][\"id\"])\n",
    "\n",
    "    if len(target_id) == 1:\n",
    "        print(\"clean the group data: {}\".format(target_id))\n",
    "        ph.admin.groups.delete(list(target_id)[0])"
   ]
  },
  {
   "cell_type": "markdown",
   "id": "3b2ed35d",
   "metadata": {},
   "source": [
    "# Part 2: Instance-type-wise operation\n",
    "We will test:\n",
    "    \n",
    "- Create an instance type with specified CPU/GPU/Memory limits\n",
    "- Disable the Global and assign the instance type to multiple groups\n",
    "- Add a new Toleration\n",
    "- Add a new Node Selector"
   ]
  },
  {
   "cell_type": "markdown",
   "id": "cc1275fb",
   "metadata": {},
   "source": [
    "## 1. Create an instance type with specified CPU/GPU/Memory limits\n",
    "\n",
    "Use `ph.admin.instancetypes.create` to create the instance type."
   ]
  },
  {
   "cell_type": "code",
   "execution_count": 9,
   "id": "83835021",
   "metadata": {},
   "outputs": [],
   "source": [
    "# create an instance type\n",
    "config = {\n",
    "  \"name\": \"cpu-instance-by-sdk\",\n",
    "  \"displayName\": \"CPU 1\",\n",
    "  \"description\": \"1 vCPU / 1G Memory\",\n",
    "  \"cpuLimit\": 1,\n",
    "  \"memoryLimit\": 1,\n",
    "  \"global\": True\n",
    "}\n",
    "instancetype = ph.admin.instancetypes.create(config)"
   ]
  },
  {
   "cell_type": "code",
   "execution_count": 10,
   "id": "994480fd",
   "metadata": {},
   "outputs": [
    {
     "data": {
      "text/plain": [
       "'cpu-instance-by-sdk'"
      ]
     },
     "execution_count": 10,
     "metadata": {},
     "output_type": "execute_result"
    }
   ],
   "source": [
    "instancetype['id']"
   ]
  },
  {
   "cell_type": "code",
   "execution_count": 11,
   "id": "287cf2c1",
   "metadata": {},
   "outputs": [
    {
     "data": {
      "text/plain": [
       "{'id': 'cpu-instance-by-sdk',\n",
       " 'cpuRequest': None,\n",
       " 'memoryRequest': None,\n",
       " 'global': True,\n",
       " 'groups': [],\n",
       " 'tolerations': [],\n",
       " 'nodeSelector': None,\n",
       " 'name': 'cpu-instance-by-sdk',\n",
       " 'displayName': 'CPU 1',\n",
       " 'description': '1 vCPU / 1G Memory',\n",
       " 'cpuLimit': 1,\n",
       " 'memoryLimit': 1,\n",
       " 'gpuLimit': 0}"
      ]
     },
     "execution_count": 11,
     "metadata": {},
     "output_type": "execute_result"
    }
   ],
   "source": [
    "ph.admin.instancetypes.get(instancetype['id'])"
   ]
  },
  {
   "cell_type": "markdown",
   "id": "d6253965",
   "metadata": {},
   "source": [
    "## 2. Add a new Toleration\n",
    "\n",
    "Use `ph.admin.instancetypes.update` to add the tolerations information into instancetype."
   ]
  },
  {
   "cell_type": "code",
   "execution_count": 12,
   "id": "e53b29b6",
   "metadata": {},
   "outputs": [
    {
     "data": {
      "text/plain": [
       "{'id': 'cpu-instance-by-sdk',\n",
       " 'global': True,\n",
       " 'cpuRequest': None,\n",
       " 'memoryRequest': None,\n",
       " 'groups': [],\n",
       " 'nodeSelector': {}}"
      ]
     },
     "execution_count": 12,
     "metadata": {},
     "output_type": "execute_result"
    }
   ],
   "source": [
    "config = {\n",
    "  \"tolerations\": {\n",
    "    \"set\": [\n",
    "      {\n",
    "        \"operator\": \"Equal\",\n",
    "        \"effect\": \"NoSchedule\",\n",
    "        \"key\": \"nvidia.com/gpu\",\n",
    "        \"value\": \"v100\"\n",
    "      }\n",
    "    ]\n",
    "  }\n",
    "}\n",
    "ph.admin.instancetypes.update(instancetype['id'], config)"
   ]
  },
  {
   "cell_type": "code",
   "execution_count": 13,
   "id": "defda096",
   "metadata": {},
   "outputs": [
    {
     "data": {
      "text/plain": [
       "{'id': 'cpu-instance-by-sdk',\n",
       " 'cpuRequest': None,\n",
       " 'memoryRequest': None,\n",
       " 'global': True,\n",
       " 'groups': [],\n",
       " 'tolerations': [{'key': 'nvidia.com/gpu',\n",
       "   'value': 'v100',\n",
       "   'operator': 'Equal',\n",
       "   'effect': 'NoSchedule'}],\n",
       " 'nodeSelector': {},\n",
       " 'name': 'cpu-instance-by-sdk',\n",
       " 'displayName': 'CPU 1',\n",
       " 'description': '1 vCPU / 1G Memory',\n",
       " 'cpuLimit': 1,\n",
       " 'memoryLimit': 1,\n",
       " 'gpuLimit': 0}"
      ]
     },
     "execution_count": 13,
     "metadata": {},
     "output_type": "execute_result"
    }
   ],
   "source": [
    "ph.admin.instancetypes.get(instancetype['id'])"
   ]
  },
  {
   "cell_type": "markdown",
   "id": "7e346aee",
   "metadata": {},
   "source": [
    "## 3. Add a new Node Selector\n",
    "\n",
    "Use `ph.admin.instancetypes.update` to add the Node Selector information into instancetype."
   ]
  },
  {
   "cell_type": "code",
   "execution_count": 14,
   "id": "4f54132d",
   "metadata": {},
   "outputs": [
    {
     "data": {
      "text/plain": [
       "{'id': 'cpu-instance-by-sdk',\n",
       " 'global': True,\n",
       " 'cpuRequest': None,\n",
       " 'memoryRequest': None,\n",
       " 'groups': [],\n",
       " 'nodeSelector': {'zone': 'staging'}}"
      ]
     },
     "execution_count": 14,
     "metadata": {},
     "output_type": "execute_result"
    }
   ],
   "source": [
    "config = {\n",
    "  \"nodeSelector\": {\"zone\": \"staging\"}\n",
    "}\n",
    "ph.admin.instancetypes.update(instancetype['id'], config)"
   ]
  },
  {
   "cell_type": "code",
   "execution_count": 15,
   "id": "7095de4c",
   "metadata": {},
   "outputs": [
    {
     "data": {
      "text/plain": [
       "{'id': 'cpu-instance-by-sdk',\n",
       " 'cpuRequest': None,\n",
       " 'memoryRequest': None,\n",
       " 'global': True,\n",
       " 'groups': [],\n",
       " 'tolerations': [{'key': 'nvidia.com/gpu',\n",
       "   'value': 'v100',\n",
       "   'operator': 'Equal',\n",
       "   'effect': 'NoSchedule'}],\n",
       " 'nodeSelector': {'zone': 'staging'},\n",
       " 'name': 'cpu-instance-by-sdk',\n",
       " 'displayName': 'CPU 1',\n",
       " 'description': '1 vCPU / 1G Memory',\n",
       " 'cpuLimit': 1,\n",
       " 'memoryLimit': 1,\n",
       " 'gpuLimit': 0}"
      ]
     },
     "execution_count": 15,
     "metadata": {},
     "output_type": "execute_result"
    }
   ],
   "source": [
    "ph.admin.instancetypes.get(instancetype['id'])"
   ]
  },
  {
   "cell_type": "markdown",
   "id": "904eddb2",
   "metadata": {},
   "source": [
    "## 4. Disable the Global and assign the instance type to multiple groups\n",
    "\n",
    "First, we use `ph.admin.groups.create` to create the group and Use `ph.admin.instancetypes.update` to:\n",
    "- Disable global instance\n",
    "- Assign the instance type to multiple groups"
   ]
  },
  {
   "cell_type": "code",
   "execution_count": 16,
   "id": "7ad820de",
   "metadata": {},
   "outputs": [],
   "source": [
    "# Create a group with admin role\n",
    "config = {\n",
    "  \"name\": \"test_group_from_jupyter\",\n",
    "  \"displayName\": \"test_group\",\n",
    "  \"enabledDeployment\": False,\n",
    "  \"enabledSharedVolume\": False,\n",
    "  \"quotaCpu\": 0.5,\n",
    "  \"quotaGpu\": 0,\n",
    "  \"admins\": \"\",\n",
    "  \"users\": {\n",
    "      \"connect\": []\n",
    "  }\n",
    "}\n",
    "data = ph.admin.groups.create(config)"
   ]
  },
  {
   "cell_type": "code",
   "execution_count": 17,
   "id": "b9ca57bf",
   "metadata": {},
   "outputs": [
    {
     "data": {
      "text/html": [
       "<div>\n",
       "<style scoped>\n",
       "    .dataframe tbody tr th:only-of-type {\n",
       "        vertical-align: middle;\n",
       "    }\n",
       "\n",
       "    .dataframe tbody tr th {\n",
       "        vertical-align: top;\n",
       "    }\n",
       "\n",
       "    .dataframe thead th {\n",
       "        text-align: right;\n",
       "    }\n",
       "</style>\n",
       "<table border=\"1\" class=\"dataframe\">\n",
       "  <thead>\n",
       "    <tr style=\"text-align: right;\">\n",
       "      <th></th>\n",
       "      <th>id</th>\n",
       "      <th>displayName</th>\n",
       "      <th>name</th>\n",
       "      <th>admins</th>\n",
       "      <th>quotaCpu</th>\n",
       "      <th>quotaGpu</th>\n",
       "      <th>quotaMemory</th>\n",
       "      <th>projectQuotaCpu</th>\n",
       "      <th>projectQuotaGpu</th>\n",
       "      <th>projectQuotaMemory</th>\n",
       "      <th>sharedVolumeCapacity</th>\n",
       "    </tr>\n",
       "  </thead>\n",
       "  <tbody>\n",
       "    <tr>\n",
       "      <th>0</th>\n",
       "      <td>ccdd52b8-db16-46ce-8a06-70343c79e82a</td>\n",
       "      <td>primehub users</td>\n",
       "      <td>phusers</td>\n",
       "      <td>phadmin</td>\n",
       "      <td>NaN</td>\n",
       "      <td>NaN</td>\n",
       "      <td>None</td>\n",
       "      <td>None</td>\n",
       "      <td>None</td>\n",
       "      <td>None</td>\n",
       "      <td>1.0</td>\n",
       "    </tr>\n",
       "    <tr>\n",
       "      <th>1</th>\n",
       "      <td>df7fdfe4-5e12-4f1c-aeac-8004160c8e86</td>\n",
       "      <td>test_group</td>\n",
       "      <td>test_group_from_jupyter</td>\n",
       "      <td></td>\n",
       "      <td>0.5</td>\n",
       "      <td>0.0</td>\n",
       "      <td>None</td>\n",
       "      <td>None</td>\n",
       "      <td>None</td>\n",
       "      <td>None</td>\n",
       "      <td>NaN</td>\n",
       "    </tr>\n",
       "  </tbody>\n",
       "</table>\n",
       "</div>"
      ],
      "text/plain": [
       "                                     id     displayName  \\\n",
       "0  ccdd52b8-db16-46ce-8a06-70343c79e82a  primehub users   \n",
       "1  df7fdfe4-5e12-4f1c-aeac-8004160c8e86      test_group   \n",
       "\n",
       "                      name   admins  quotaCpu  quotaGpu quotaMemory  \\\n",
       "0                  phusers  phadmin       NaN       NaN        None   \n",
       "1  test_group_from_jupyter                0.5       0.0        None   \n",
       "\n",
       "  projectQuotaCpu projectQuotaGpu projectQuotaMemory  sharedVolumeCapacity  \n",
       "0            None            None               None                   1.0  \n",
       "1            None            None               None                   NaN  "
      ]
     },
     "execution_count": 17,
     "metadata": {},
     "output_type": "execute_result"
    }
   ],
   "source": [
    "import pandas as pd\n",
    "df_list = pd.DataFrame.from_records(list(ph.admin.groups.list()))\n",
    "df_list"
   ]
  },
  {
   "cell_type": "code",
   "execution_count": 18,
   "id": "1d2540c7",
   "metadata": {},
   "outputs": [
    {
     "data": {
      "text/plain": [
       "[{'id': 'ccdd52b8-db16-46ce-8a06-70343c79e82a'},\n",
       " {'id': 'df7fdfe4-5e12-4f1c-aeac-8004160c8e86'}]"
      ]
     },
     "execution_count": 18,
     "metadata": {},
     "output_type": "execute_result"
    }
   ],
   "source": [
    "instance_connect = []\n",
    "for list_id in list(df_list['id'])[0:2]:\n",
    "    instance_connect.append({\"id\": list_id})\n",
    "instance_connect"
   ]
  },
  {
   "cell_type": "code",
   "execution_count": 19,
   "id": "266fcf26",
   "metadata": {},
   "outputs": [
    {
     "data": {
      "text/plain": [
       "{'id': 'cpu-instance-by-sdk',\n",
       " 'global': False,\n",
       " 'cpuRequest': None,\n",
       " 'memoryRequest': None,\n",
       " 'groups': [{'id': 'ccdd52b8-db16-46ce-8a06-70343c79e82a',\n",
       "   'name': 'phusers',\n",
       "   'displayName': 'primehub users',\n",
       "   'quotaCpu': None,\n",
       "   'quotaGpu': None},\n",
       "  {'id': 'df7fdfe4-5e12-4f1c-aeac-8004160c8e86',\n",
       "   'name': 'test_group_from_jupyter',\n",
       "   'displayName': 'test_group',\n",
       "   'quotaCpu': 0.5,\n",
       "   'quotaGpu': 0}],\n",
       " 'nodeSelector': {'zone': 'staging'}}"
      ]
     },
     "execution_count": 19,
     "metadata": {},
     "output_type": "execute_result"
    }
   ],
   "source": [
    "# Update an instance type\n",
    "config = {\n",
    "  \"global\": False,\n",
    "  \"groups\": {\n",
    "    \"connect\": instance_connect\n",
    "  },\n",
    "}\n",
    "ph.admin.instancetypes.update(instancetype['id'], config)"
   ]
  },
  {
   "cell_type": "code",
   "execution_count": 20,
   "id": "e7ffd081",
   "metadata": {},
   "outputs": [
    {
     "data": {
      "text/plain": [
       "{'id': 'cpu-instance-by-sdk',\n",
       " 'cpuRequest': None,\n",
       " 'memoryRequest': None,\n",
       " 'global': False,\n",
       " 'groups': [{'id': 'ccdd52b8-db16-46ce-8a06-70343c79e82a',\n",
       "   'name': 'phusers',\n",
       "   'displayName': 'primehub users',\n",
       "   'quotaCpu': None,\n",
       "   'quotaGpu': None},\n",
       "  {'id': 'df7fdfe4-5e12-4f1c-aeac-8004160c8e86',\n",
       "   'name': 'test_group_from_jupyter',\n",
       "   'displayName': 'test_group',\n",
       "   'quotaCpu': 0.5,\n",
       "   'quotaGpu': 0}],\n",
       " 'tolerations': [{'key': 'nvidia.com/gpu',\n",
       "   'value': 'v100',\n",
       "   'operator': 'Equal',\n",
       "   'effect': 'NoSchedule'}],\n",
       " 'nodeSelector': {'zone': 'staging'},\n",
       " 'name': 'cpu-instance-by-sdk',\n",
       " 'displayName': 'CPU 1',\n",
       " 'description': '1 vCPU / 1G Memory',\n",
       " 'cpuLimit': 1,\n",
       " 'memoryLimit': 1,\n",
       " 'gpuLimit': 0}"
      ]
     },
     "execution_count": 20,
     "metadata": {},
     "output_type": "execute_result"
    }
   ],
   "source": [
    "ph.admin.instancetypes.get(instancetype['id'])"
   ]
  }
 ],
 "metadata": {
  "kernelspec": {
   "display_name": "Python 3",
   "language": "python",
   "name": "python3"
  },
  "language_info": {
   "codemirror_mode": {
    "name": "ipython",
    "version": 3
   },
   "file_extension": ".py",
   "mimetype": "text/x-python",
   "name": "python",
   "nbconvert_exporter": "python",
   "pygments_lexer": "ipython3",
   "version": "3.7.10"
  }
 },
 "nbformat": 4,
 "nbformat_minor": 5
}
