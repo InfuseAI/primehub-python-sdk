{
 "cells": [
  {
   "cell_type": "markdown",
   "id": "891bbcba",
   "metadata": {},
   "source": [
    "# Getting Started with PrimeHub Python SDK\n",
    "PrimeHub Python SDK makes you automation with PrimeHub Platform.\n",
    "\n",
    "In order to make the SDK working, you have to\n",
    "\n",
    "- install the library with pip\n",
    "- create a config file in the ~/.primehub/config.json"
   ]
  },
  {
   "cell_type": "markdown",
   "id": "33144729",
   "metadata": {},
   "source": [
    "# Part 1: prerequisite: Configure the environment."
   ]
  },
  {
   "cell_type": "markdown",
   "id": "c8d3ac7e",
   "metadata": {},
   "source": [
    "## 1. Install with pip\n",
    "Let's install PrimeHub Python SDK with pip."
   ]
  },
  {
   "cell_type": "code",
   "execution_count": 1,
   "id": "831cf7fc",
   "metadata": {},
   "outputs": [
    {
     "name": "stdout",
     "output_type": "stream",
     "text": [
      "Requirement already satisfied: primehub-python-sdk in /opt/conda/lib/python3.7/site-packages (0.3.8)\n",
      "Requirement already satisfied: types-requests in /opt/conda/lib/python3.7/site-packages (from primehub-python-sdk) (2.28.11.5)\n",
      "Requirement already satisfied: requests in /opt/conda/lib/python3.7/site-packages (from primehub-python-sdk) (2.21.0)\n",
      "Requirement already satisfied: tabulate==0.8.9 in /opt/conda/lib/python3.7/site-packages (from primehub-python-sdk) (0.8.9)\n",
      "Requirement already satisfied: types-tabulate==0.8.2 in /opt/conda/lib/python3.7/site-packages (from primehub-python-sdk) (0.8.2)\n",
      "Requirement already satisfied: urllib3<1.25,>=1.21.1 in /opt/conda/lib/python3.7/site-packages (from requests->primehub-python-sdk) (1.24.3)\n",
      "Requirement already satisfied: chardet<3.1.0,>=3.0.2 in /opt/conda/lib/python3.7/site-packages (from requests->primehub-python-sdk) (3.0.4)\n",
      "Requirement already satisfied: certifi>=2017.4.17 in /opt/conda/lib/python3.7/site-packages (from requests->primehub-python-sdk) (2020.6.20)\n",
      "Requirement already satisfied: idna<2.9,>=2.5 in /opt/conda/lib/python3.7/site-packages (from requests->primehub-python-sdk) (2.8)\n",
      "Requirement already satisfied: types-urllib3<1.27 in /opt/conda/lib/python3.7/site-packages (from types-requests->primehub-python-sdk) (1.26.25.4)\n"
     ]
    }
   ],
   "source": [
    "!pip install primehub-python-sdk"
   ]
  },
  {
   "cell_type": "markdown",
   "id": "4cf3d67c",
   "metadata": {},
   "source": [
    "## 2. Request the API Token\n",
    "In order to get the token, you have to have an account in the PrimeHub cluster, the following process will ask you loing with your account.\n",
    "\n"
   ]
  },
  {
   "cell_type": "code",
   "execution_count": 2,
   "id": "73c78a9b",
   "metadata": {},
   "outputs": [],
   "source": [
    "# PLEASE UPDATE PRIMEHUB_CLUSTER to your cluster\n",
    "PRIMEHUB_CLUSTER = 'http://primehub-python-sdk.primehub.io'"
   ]
  },
  {
   "cell_type": "code",
   "execution_count": 3,
   "id": "169edb05",
   "metadata": {},
   "outputs": [],
   "source": [
    "import os\n",
    "from primehub import PrimeHub, PrimeHubConfig\n",
    "\n",
    "ph = PrimeHub(PrimeHubConfig())\n",
    "if not os.path.isfile(os.path.join(os.getenv(\"HOME\"), \".primehub/config.json\")):\n",
    "    ph.config.generate(PRIMEHUB_CLUSTER)"
   ]
  },
  {
   "cell_type": "code",
   "execution_count": 4,
   "id": "843948bc",
   "metadata": {},
   "outputs": [
    {
     "name": "stdout",
     "output_type": "stream",
     "text": [
      "PrimeHub Python SDK setup successfully\n",
      "Current Group: {'id': 'ccdd52b8-db16-46ce-8a06-70343c79e82a', 'name': 'phusers', 'displayName': 'primehub users'}\n"
     ]
    }
   ],
   "source": [
    "ph = PrimeHub(PrimeHubConfig())\n",
    "if ph.is_ready():\n",
    "    print(\"PrimeHub Python SDK setup successfully\")\n",
    "    print(\"Current Group:\", ph.primehub_config.current_group)\n",
    "else:\n",
    "    print(\"PrimeHub Python SDK couldn't get the group information, please check the configuration.\")"
   ]
  },
  {
   "cell_type": "markdown",
   "id": "2943f888",
   "metadata": {},
   "source": [
    "## 3. Check the account is Admin account\n",
    "\n",
    "Use `ph.me.me` to know that the account is admin account."
   ]
  },
  {
   "cell_type": "code",
   "execution_count": 5,
   "id": "0d9cb314",
   "metadata": {},
   "outputs": [
    {
     "data": {
      "text/plain": [
       "True"
      ]
     },
     "execution_count": 5,
     "metadata": {},
     "output_type": "execute_result"
    }
   ],
   "source": [
    "account_information = ph.me.me()\n",
    "account_information['isAdmin']"
   ]
  },
  {
   "cell_type": "markdown",
   "id": "aada9af0",
   "metadata": {},
   "source": [
    "## 4. Clean up the previous testing data.\n",
    "\n",
    "We need to clean up the previous data to prevent the notebook error,"
   ]
  },
  {
   "cell_type": "code",
   "execution_count": 6,
   "id": "758e5818",
   "metadata": {},
   "outputs": [],
   "source": [
    "import pandas as pd"
   ]
  },
  {
   "cell_type": "code",
   "execution_count": 7,
   "id": "437c31ce",
   "metadata": {},
   "outputs": [
    {
     "name": "stdout",
     "output_type": "stream",
     "text": [
      "clean the secret data: ['gitsync-secret-create-secret-by-sdk']\n"
     ]
    }
   ],
   "source": [
    "# Clean up 'gitsync-secret-create-secret-by-sdk' secret data.\n",
    "\n",
    "df_list = pd.DataFrame.from_records(list(ph.admin.secrets.list()))\n",
    "if len(df_list) > 0:\n",
    "    target_id = list(df_list.loc[df_list['name'] == 'create-secret-by-sdk'][\"id\"])\n",
    "\n",
    "    if len(target_id) == 1:\n",
    "        print(\"clean the secret data: {}\".format(target_id))\n",
    "        ph.admin.secrets.delete(\"gitsync-secret-create-secret-by-sdk\")"
   ]
  },
  {
   "cell_type": "code",
   "execution_count": 8,
   "id": "eb51012f",
   "metadata": {},
   "outputs": [
    {
     "name": "stdout",
     "output_type": "stream",
     "text": [
      "clean the image data: ['my-custom-image']\n"
     ]
    }
   ],
   "source": [
    "# Clean up 'my-custom-image' image data.\n",
    "\n",
    "df_list = pd.DataFrame.from_records(list(ph.admin.images.list()))\n",
    "if len(df_list) > 0:\n",
    "    target_id = list(df_list.loc[df_list['name'] == 'my-custom-image'][\"id\"])\n",
    "\n",
    "    if len(target_id) == 1:\n",
    "        print(\"clean the image data: {}\".format(target_id))\n",
    "        ph.admin.images.delete('my-custom-image')"
   ]
  },
  {
   "cell_type": "code",
   "execution_count": 9,
   "id": "a352befc",
   "metadata": {},
   "outputs": [
    {
     "name": "stdout",
     "output_type": "stream",
     "text": [
      "clean the image data: ['image-by-sdk']\n"
     ]
    }
   ],
   "source": [
    "# Clean up 'image-by-sdk` image data.\n",
    "\n",
    "df_list = pd.DataFrame.from_records(list(ph.admin.images.list()))\n",
    "if len(df_list) > 0:\n",
    "    target_id = list(df_list.loc[df_list['name'] == 'image-by-sdk'][\"id\"])\n",
    "\n",
    "    if len(target_id) == 1:\n",
    "        print(\"clean the image data: {}\".format(target_id))\n",
    "        ph.admin.images.delete('image-by-sdk')"
   ]
  },
  {
   "cell_type": "code",
   "execution_count": 10,
   "id": "7cfb252f",
   "metadata": {},
   "outputs": [
    {
     "name": "stdout",
     "output_type": "stream",
     "text": [
      "clean the group data: ['ba3d19ad-38a7-498b-99eb-44e0509a18b9']\n"
     ]
    }
   ],
   "source": [
    "# Clean up \"test_group_from_jupyter\" group data.\n",
    "\n",
    "df_list = pd.DataFrame.from_records(list(ph.admin.groups.list()))\n",
    "if len(df_list) > 0:\n",
    "    target_id = list(df_list.loc[df_list['name'] == \"test_group_from_jupyter\"][\"id\"])\n",
    "\n",
    "    if len(target_id) == 1:\n",
    "        print(\"clean the group data: {}\".format(target_id))\n",
    "        ph.admin.groups.delete(list(target_id)[0])"
   ]
  },
  {
   "cell_type": "markdown",
   "id": "665eae40",
   "metadata": {},
   "source": [
    "# Part 2: Image-wise operation\n",
    "We will test:\n",
    "    \n",
    "- Create an image record with a existing image and a pull secret\n",
    "- Disable the Global and assign the image to multiple groups\n",
    "- Create another image record by building a custom image"
   ]
  },
  {
   "cell_type": "markdown",
   "id": "1663c940",
   "metadata": {},
   "source": [
    "## 1. Create new secrets\n",
    "Use ` ph.admin.secrets.create` to create the pull secret."
   ]
  },
  {
   "cell_type": "code",
   "execution_count": 11,
   "id": "62bfbddc",
   "metadata": {},
   "outputs": [
    {
     "data": {
      "text/plain": [
       "{'id': 'gitsync-secret-create-secret-by-sdk'}"
      ]
     },
     "execution_count": 11,
     "metadata": {},
     "output_type": "execute_result"
    }
   ],
   "source": [
    "secret = ph.admin.secrets.create(dict(name='create-secret-by-sdk', type='opaque', secret='keep it secret'))\n",
    "secret"
   ]
  },
  {
   "cell_type": "markdown",
   "id": "70ed43a3",
   "metadata": {},
   "source": [
    "## 2. Create new image\n",
    "Use `ph.admin.images.create` to create the jupyter image."
   ]
  },
  {
   "cell_type": "code",
   "execution_count": 12,
   "id": "563a0fa4",
   "metadata": {},
   "outputs": [
    {
     "data": {
      "text/plain": [
       "{'id': 'image-by-sdk'}"
      ]
     },
     "execution_count": 12,
     "metadata": {},
     "output_type": "execute_result"
    }
   ],
   "source": [
    "# Create an image\n",
    "config = {\n",
    "  \"name\": \"image-by-sdk\",\n",
    "  \"displayName\": \"Learning how to create an image from SDK\",\n",
    "  \"description\": \"base-notebook with python 3.7\",\n",
    "  \"type\": \"both\",\n",
    "  \"url\": \"infuseai/docker-stacks:base-notebook-63fdf50a\",\n",
    "  \"urlForGpu\": \"infuseai/docker-stacks:base-notebook-63fdf50a-gpu\",\n",
    "  \"global\": True,\n",
    "  \"useImagePullSecret\": secret['id']\n",
    "}\n",
    "image = ph.admin.images.create(config)\n",
    "image"
   ]
  },
  {
   "cell_type": "markdown",
   "id": "f8cc7162",
   "metadata": {},
   "source": [
    "## 3. Create another image record by building a custom image\n",
    "Use `ph.admin.images.create` to create the jupyter image and add imageSpec to custom create image."
   ]
  },
  {
   "cell_type": "code",
   "execution_count": 13,
   "id": "6532c4be",
   "metadata": {},
   "outputs": [],
   "source": [
    "# Create an custom image\n",
    "config = {\n",
    "  \"name\": \"my-custom-image\",\n",
    "  \"type\": \"both\",\n",
    "  \"global\": True,\n",
    "  \"imageSpec\": {\n",
    "    \"baseImage\": \"jupyter/base-notebook\",\n",
    "    \"packages\": {\n",
    "      \"pip\": [\n",
    "        \"primehub-python-sdk\"\n",
    "      ]\n",
    "    }\n",
    "  }\n",
    "}\n",
    "image_custom = ph.admin.images.create(config)"
   ]
  },
  {
   "cell_type": "code",
   "execution_count": 14,
   "id": "ad10731b",
   "metadata": {},
   "outputs": [
    {
     "data": {
      "text/plain": [
       "{'id': 'my-custom-image',\n",
       " 'name': 'my-custom-image',\n",
       " 'displayName': 'my-custom-image',\n",
       " 'description': None,\n",
       " 'type': 'both',\n",
       " 'url': None,\n",
       " 'urlForGpu': None,\n",
       " 'useImagePullSecret': '',\n",
       " 'global': True,\n",
       " 'groups': [],\n",
       " 'isReady': False,\n",
       " 'imageSpec': {'baseImage': 'jupyter/base-notebook',\n",
       "  'pullSecret': None,\n",
       "  'packages': {'apt': [], 'conda': [], 'pip': ['primehub-python-sdk']}},\n",
       " 'jobStatus': None}"
      ]
     },
     "execution_count": 14,
     "metadata": {},
     "output_type": "execute_result"
    }
   ],
   "source": [
    "output = ph.admin.images.get(image_custom['id'])\n",
    "del output['logEndpoint']\n",
    "\n",
    "output"
   ]
  },
  {
   "cell_type": "markdown",
   "id": "d33fe437",
   "metadata": {},
   "source": [
    "## 4. Disable the Global and assign the instance type to multiple groups\n",
    "\n",
    "First, we use `ph.admin.groups.create` to create the group and Use `ph.admin.instancetypes.update` to:\n",
    "- Disable global instance\n",
    "- Assign the instance type to multiple groups"
   ]
  },
  {
   "cell_type": "code",
   "execution_count": 15,
   "id": "94cfde12",
   "metadata": {},
   "outputs": [],
   "source": [
    "# Create a group with admin role\n",
    "config = {\n",
    "  \"name\": \"test_group_from_jupyter\",\n",
    "  \"displayName\": \"test_group\",\n",
    "  \"enabledDeployment\": False,\n",
    "  \"enabledSharedVolume\": False,\n",
    "  \"quotaCpu\": 0.5,\n",
    "  \"quotaGpu\": 0,\n",
    "  \"admins\": \"\",\n",
    "  \"users\": {\n",
    "      \"connect\": []\n",
    "  }\n",
    "}\n",
    "data = ph.admin.groups.create(config)"
   ]
  },
  {
   "cell_type": "code",
   "execution_count": 16,
   "id": "bbcdab94",
   "metadata": {},
   "outputs": [
    {
     "data": {
      "text/html": [
       "<div>\n",
       "<style scoped>\n",
       "    .dataframe tbody tr th:only-of-type {\n",
       "        vertical-align: middle;\n",
       "    }\n",
       "\n",
       "    .dataframe tbody tr th {\n",
       "        vertical-align: top;\n",
       "    }\n",
       "\n",
       "    .dataframe thead th {\n",
       "        text-align: right;\n",
       "    }\n",
       "</style>\n",
       "<table border=\"1\" class=\"dataframe\">\n",
       "  <thead>\n",
       "    <tr style=\"text-align: right;\">\n",
       "      <th></th>\n",
       "      <th>id</th>\n",
       "      <th>displayName</th>\n",
       "      <th>name</th>\n",
       "      <th>admins</th>\n",
       "      <th>quotaCpu</th>\n",
       "      <th>quotaGpu</th>\n",
       "      <th>quotaMemory</th>\n",
       "      <th>projectQuotaCpu</th>\n",
       "      <th>projectQuotaGpu</th>\n",
       "      <th>projectQuotaMemory</th>\n",
       "      <th>sharedVolumeCapacity</th>\n",
       "    </tr>\n",
       "  </thead>\n",
       "  <tbody>\n",
       "    <tr>\n",
       "      <th>0</th>\n",
       "      <td>ccdd52b8-db16-46ce-8a06-70343c79e82a</td>\n",
       "      <td>primehub users</td>\n",
       "      <td>phusers</td>\n",
       "      <td>phadmin</td>\n",
       "      <td>NaN</td>\n",
       "      <td>NaN</td>\n",
       "      <td>None</td>\n",
       "      <td>None</td>\n",
       "      <td>None</td>\n",
       "      <td>None</td>\n",
       "      <td>1.0</td>\n",
       "    </tr>\n",
       "    <tr>\n",
       "      <th>1</th>\n",
       "      <td>fa382829-d08a-4421-8de4-82e3231fe7a7</td>\n",
       "      <td>test_group</td>\n",
       "      <td>test_group_from_jupyter</td>\n",
       "      <td></td>\n",
       "      <td>0.5</td>\n",
       "      <td>0.0</td>\n",
       "      <td>None</td>\n",
       "      <td>None</td>\n",
       "      <td>None</td>\n",
       "      <td>None</td>\n",
       "      <td>NaN</td>\n",
       "    </tr>\n",
       "  </tbody>\n",
       "</table>\n",
       "</div>"
      ],
      "text/plain": [
       "                                     id     displayName  \\\n",
       "0  ccdd52b8-db16-46ce-8a06-70343c79e82a  primehub users   \n",
       "1  fa382829-d08a-4421-8de4-82e3231fe7a7      test_group   \n",
       "\n",
       "                      name   admins  quotaCpu  quotaGpu quotaMemory  \\\n",
       "0                  phusers  phadmin       NaN       NaN        None   \n",
       "1  test_group_from_jupyter                0.5       0.0        None   \n",
       "\n",
       "  projectQuotaCpu projectQuotaGpu projectQuotaMemory  sharedVolumeCapacity  \n",
       "0            None            None               None                   1.0  \n",
       "1            None            None               None                   NaN  "
      ]
     },
     "execution_count": 16,
     "metadata": {},
     "output_type": "execute_result"
    }
   ],
   "source": [
    "import pandas as pd\n",
    "df_list = pd.DataFrame.from_records(list(ph.admin.groups.list()))\n",
    "df_list"
   ]
  },
  {
   "cell_type": "code",
   "execution_count": 17,
   "id": "a1fd5761",
   "metadata": {},
   "outputs": [
    {
     "data": {
      "text/plain": [
       "[{'id': 'ccdd52b8-db16-46ce-8a06-70343c79e82a'},\n",
       " {'id': 'fa382829-d08a-4421-8de4-82e3231fe7a7'}]"
      ]
     },
     "execution_count": 17,
     "metadata": {},
     "output_type": "execute_result"
    }
   ],
   "source": [
    "instance_connect = []\n",
    "for list_id in list(df_list['id'])[0:2]:\n",
    "    instance_connect.append({\"id\": list_id})\n",
    "instance_connect"
   ]
  },
  {
   "cell_type": "code",
   "execution_count": 18,
   "id": "16e942ee",
   "metadata": {},
   "outputs": [
    {
     "data": {
      "text/plain": [
       "{'id': 'image-by-sdk',\n",
       " 'name': 'image-by-sdk',\n",
       " 'displayName': 'Learning how to create an image from SDK',\n",
       " 'description': 'base-notebook with python 3.7',\n",
       " 'type': 'both',\n",
       " 'url': 'infuseai/docker-stacks:base-notebook-63fdf50a',\n",
       " 'urlForGpu': 'infuseai/docker-stacks:base-notebook-63fdf50a-gpu',\n",
       " 'useImagePullSecret': None,\n",
       " 'global': False,\n",
       " 'groups': [{'id': 'ccdd52b8-db16-46ce-8a06-70343c79e82a',\n",
       "   'name': 'phusers',\n",
       "   'displayName': 'primehub users'},\n",
       "  {'id': 'fa382829-d08a-4421-8de4-82e3231fe7a7',\n",
       "   'name': 'test_group_from_jupyter',\n",
       "   'displayName': 'test_group'}],\n",
       " 'isReady': True,\n",
       " 'imageSpec': None,\n",
       " 'jobStatus': None}"
      ]
     },
     "execution_count": 18,
     "metadata": {},
     "output_type": "execute_result"
    }
   ],
   "source": [
    "# Update the image information.\n",
    "config = {\n",
    "  \"global\": False,\n",
    "  \"groups\": {\n",
    "    \"connect\": instance_connect\n",
    "  },\n",
    "}\n",
    "output = ph.admin.images.update(image['id'], config)\n",
    "del output['logEndpoint']\n",
    "\n",
    "output"
   ]
  },
  {
   "cell_type": "code",
   "execution_count": 19,
   "id": "e2096cbe",
   "metadata": {},
   "outputs": [
    {
     "data": {
      "text/plain": [
       "{'id': 'image-by-sdk',\n",
       " 'name': 'image-by-sdk',\n",
       " 'displayName': 'Learning how to create an image from SDK',\n",
       " 'description': 'base-notebook with python 3.7',\n",
       " 'type': 'both',\n",
       " 'url': 'infuseai/docker-stacks:base-notebook-63fdf50a',\n",
       " 'urlForGpu': 'infuseai/docker-stacks:base-notebook-63fdf50a-gpu',\n",
       " 'useImagePullSecret': None,\n",
       " 'global': False,\n",
       " 'groups': [{'id': 'ccdd52b8-db16-46ce-8a06-70343c79e82a',\n",
       "   'name': 'phusers',\n",
       "   'displayName': 'primehub users'},\n",
       "  {'id': 'fa382829-d08a-4421-8de4-82e3231fe7a7',\n",
       "   'name': 'test_group_from_jupyter',\n",
       "   'displayName': 'test_group'}],\n",
       " 'isReady': True,\n",
       " 'imageSpec': None,\n",
       " 'jobStatus': None}"
      ]
     },
     "execution_count": 19,
     "metadata": {},
     "output_type": "execute_result"
    }
   ],
   "source": [
    "output = ph.admin.images.get(image['id'])\n",
    "del output['logEndpoint']\n",
    "\n",
    "output"
   ]
  }
 ],
 "metadata": {
  "kernelspec": {
   "display_name": "Python 3",
   "language": "python",
   "name": "python3"
  },
  "language_info": {
   "codemirror_mode": {
    "name": "ipython",
    "version": 3
   },
   "file_extension": ".py",
   "mimetype": "text/x-python",
   "name": "python",
   "nbconvert_exporter": "python",
   "pygments_lexer": "ipython3",
   "version": "3.7.10"
  }
 },
 "nbformat": 4,
 "nbformat_minor": 5
}
