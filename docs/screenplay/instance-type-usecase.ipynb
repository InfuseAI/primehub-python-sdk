{
 "cells": [
  {
   "cell_type": "markdown",
   "id": "1643414d",
   "metadata": {},
   "source": [
    "# InstanceTypes-wise operation\n",
    "\n",
    "This notebook demostrates common instancetypes-wise operations by using SDK.\n",
    "\n",
    "## Prerequisites\n",
    "\n",
    "You need\n",
    "\n",
    "- an SDK environment set up with the administrator priviledge. Check \"*environment setup.ipynb*\" for the detail."
   ]
  },
  {
   "cell_type": "code",
   "execution_count": null,
   "id": "479fdc41",
   "metadata": {},
   "outputs": [],
   "source": [
    "PRIMEHUB_CLUSTER = 'your_PrimeHub_domain'"
   ]
  },
  {
   "cell_type": "markdown",
   "id": "b1598e5c",
   "metadata": {},
   "source": [
    "**Check if the configuration exists. If not, you need to login to retrieve the token and input it in the prompt. The configuration will be generated at**`~/.primehub/config.json`."
   ]
  },
  {
   "cell_type": "code",
   "execution_count": null,
   "id": "d8dcaa19",
   "metadata": {},
   "outputs": [],
   "source": [
    "import os\n",
    "from primehub import PrimeHub, PrimeHubConfig\n",
    "\n",
    "ph = PrimeHub(PrimeHubConfig())\n",
    "if ph.is_ready():\n",
    "    print(f\"PrimeHub Python SDK {ph.version.version()} environment is ready, you are good to go.\")\n",
    "    print(\"Current Group:\", ph.primehub_config.current_group)\n",
    "else:\n",
    "    print(\"Failed to retrieve the information from PrimeHub cluster, please check the configuration.\")"
   ]
  },
  {
   "cell_type": "markdown",
   "id": "93e8e614",
   "metadata": {},
   "source": [
    "## ToC\n",
    "\n",
    "- [Fundamental Operations (CRUD)](#fundamental)\n",
    "- [Common Operations](#common)"
   ]
  },
  {
   "cell_type": "markdown",
   "id": "a34b9baf",
   "metadata": {},
   "source": [
    "---\n",
    "## Fundamental Operations <a class=\"anchor\" id=\"fundamental\"></a>"
   ]
  },
  {
   "cell_type": "code",
   "execution_count": null,
   "id": "f73aecf4",
   "metadata": {},
   "outputs": [],
   "source": [
    "# Get the group id by the given group name\n",
    "group_name = 'Continental'\n",
    "groups = ph.admin.groups.list()\n",
    "for group in groups:\n",
    "    if group['name'] == group_name:\n",
    "        specified_group = group\n",
    "        \n",
    "group_detail = ph.admin.groups.get(specified_group['id'])\n",
    "group_detail"
   ]
  },
  {
   "cell_type": "markdown",
   "id": "086fd137",
   "metadata": {},
   "source": [
    "### Create InstanceType\n",
    "\n",
    "Method: `ph.admin.instancetypes.create(instancetype_configuration)`\n",
    "\n",
    "You can opt for adding a *global instancetype* or an *instancetype connecting specified groups*."
   ]
  },
  {
   "cell_type": "code",
   "execution_count": null,
   "id": "7690f22b",
   "metadata": {},
   "outputs": [],
   "source": [
    "instancetype_config_global = {\n",
    "  \"name\": \"basic-global\",\n",
    "  \"displayName\": \"Basic-Global by SDK\",\n",
    "  \"description\": \"1 CPU / 1GB Mem\",\n",
    "  \"cpuLimit\": 1,\n",
    "  \"memoryLimit\": 1,\n",
    "  \"global\": True\n",
    "}\n",
    "\n",
    "instancetype_config_with_specified_groups = {\n",
    "  \"name\": \"basic-group\",\n",
    "  \"displayName\": \"Basic-Groups by SDK\",\n",
    "  \"description\": \"1 CPU / 1GB Mem\",\n",
    "  \"cpuLimit\": 1,\n",
    "  \"memoryLimit\": 1,\n",
    "  \"groups\": {\n",
    "    \"connect\": [\n",
    "      {\n",
    "        \"id\": specified_group['id'],\n",
    "      }\n",
    "    ]\n",
    "  }\n",
    "}"
   ]
  },
  {
   "cell_type": "code",
   "execution_count": null,
   "id": "e64cffe2",
   "metadata": {},
   "outputs": [],
   "source": [
    "instancetype = ph.admin.instancetypes.create(instancetype_config_with_specified_groups)\n",
    "instancetype"
   ]
  },
  {
   "cell_type": "markdown",
   "id": "3e990e86",
   "metadata": {},
   "source": [
    "### Get InstanceType Detail\n",
    "\n",
    "Method: `ph.admin.instancetypes.get(instancetype_id)`"
   ]
  },
  {
   "cell_type": "code",
   "execution_count": null,
   "id": "6376a641",
   "metadata": {},
   "outputs": [],
   "source": [
    "ph.admin.instancetypes.get(instancetype['id'])"
   ]
  },
  {
   "cell_type": "markdown",
   "id": "d3dbdecd",
   "metadata": {},
   "source": [
    "### Update InstanceType Configuration\n",
    "\n",
    "Method: `ph.admin.instancetypes.update(instancetype_id, config)`"
   ]
  },
  {
   "cell_type": "code",
   "execution_count": null,
   "id": "9b97a09c",
   "metadata": {},
   "outputs": [],
   "source": [
    "updating_config = {\n",
    "  \"description\": \"4 CPU / 4GB Mem\",\n",
    "  \"gpuLimit\": 2,\n",
    "}"
   ]
  },
  {
   "cell_type": "code",
   "execution_count": null,
   "id": "219e52de",
   "metadata": {},
   "outputs": [],
   "source": [
    "ph.admin.instancetypes.update(instancetype['id'], updating_config)\n",
    "\n",
    "#Verify\n",
    "ph.admin.instancetypes.get(instancetype['id'])"
   ]
  },
  {
   "cell_type": "markdown",
   "id": "33a4315f",
   "metadata": {},
   "source": [
    "### Get connected Groups of InstanceTypes\n",
    "\n",
    "Method: `ph.admin.instancetypes.list_groups('instancetype_id')`"
   ]
  },
  {
   "cell_type": "code",
   "execution_count": null,
   "id": "feab0183",
   "metadata": {},
   "outputs": [],
   "source": [
    "ph.admin.instancetypes.list_groups(instancetype['id'])"
   ]
  },
  {
   "cell_type": "markdown",
   "id": "74a18671",
   "metadata": {},
   "source": [
    "### List All of InstaceTypes\n",
    "\n",
    "Method: `ph.admin.instancetypes.list()`"
   ]
  },
  {
   "cell_type": "code",
   "execution_count": null,
   "id": "82be083c",
   "metadata": {},
   "outputs": [],
   "source": [
    "all_images = ph.admin.instancetypes.list()\n",
    "for image in all_images:\n",
    "    print(image)"
   ]
  },
  {
   "cell_type": "markdown",
   "id": "cd1e2746",
   "metadata": {},
   "source": [
    "### Delete InstanceType\n",
    "\n",
    "Method: `ph.admin.instancetype.delete(instancetype_id)`"
   ]
  },
  {
   "cell_type": "code",
   "execution_count": null,
   "id": "4d9c92a0",
   "metadata": {},
   "outputs": [],
   "source": [
    "ph.admin.instancetypes.delete(instancetype['id'])"
   ]
  },
  {
   "cell_type": "markdown",
   "id": "8582f46c",
   "metadata": {},
   "source": [
    "---\n",
    "\n",
    "## Common Operations <a class=\"anchor\" id=\"common\"></a>"
   ]
  },
  {
   "cell_type": "markdown",
   "id": "f4ef9a8f",
   "metadata": {},
   "source": [
    "### Connect/Disconnect InstanceType to Group\n",
    "\n",
    "Method: \n",
    "- `ph.admin.instancetypes.add_group('instancetype_id', 'group_id')`\n",
    "- `ph.admin.instancetypes.remove_group('instancetype_id', 'group_id')`"
   ]
  },
  {
   "cell_type": "code",
   "execution_count": null,
   "id": "8bc274ba",
   "metadata": {},
   "outputs": [],
   "source": [
    "instancetype_id = 'basic-group'\n",
    "\n",
    "ph.admin.instancetypes.add_group(instancetype_id, specified_group['id'])\n",
    "\n",
    "#Verify\n",
    "ph.admin.instancetypes.list_groups(instancetype_id)"
   ]
  },
  {
   "cell_type": "code",
   "execution_count": null,
   "id": "b24e769b",
   "metadata": {},
   "outputs": [],
   "source": [
    "ph.admin.instancetypes.remove_group(instancetype_id, specified_group['id'])\n",
    "\n",
    "#Verify\n",
    "ph.admin.instancetypes.list_groups(instancetype_id)"
   ]
  },
  {
   "cell_type": "markdown",
   "id": "082eb225",
   "metadata": {},
   "source": [
    "### Add/Remove Toleration on InstanceType"
   ]
  },
  {
   "cell_type": "markdown",
   "id": "9c616da8",
   "metadata": {},
   "source": [
    "By `ph.admin.instancetypes.update()` you can add a tolerations on the instancetype."
   ]
  },
  {
   "cell_type": "code",
   "execution_count": null,
   "id": "17a98a60",
   "metadata": {},
   "outputs": [],
   "source": [
    "# Add\n",
    "toleration_config = {\n",
    "  \"tolerations\": {\n",
    "    \"set\": [\n",
    "      {\n",
    "        \"operator\": \"Equal\",\n",
    "        \"effect\": \"NoSchedule\",\n",
    "        \"key\": \"nvidia.com/gpu\",\n",
    "        \"value\": \"v100\"\n",
    "      }\n",
    "    ]\n",
    "  }\n",
    "}\n",
    "ph.admin.instancetypes.update(instancetype['id'], toleration_config)\n",
    "\n",
    "ph.admin.instancetypes.get(instancetype['id'])"
   ]
  },
  {
   "cell_type": "code",
   "execution_count": null,
   "id": "df87f994",
   "metadata": {},
   "outputs": [],
   "source": [
    "# Remove, update the config with an empty spec []\n",
    "toleration_config = {\n",
    "  \"tolerations\": {\n",
    "    \"set\": []\n",
    "  }\n",
    "}\n",
    "ph.admin.instancetypes.update(instancetype['id'], toleration_config)\n",
    "\n",
    "ph.admin.instancetypes.get(instancetype['id'])"
   ]
  },
  {
   "cell_type": "markdown",
   "id": "e0f450bd",
   "metadata": {},
   "source": [
    "### Add/Remove Node Selector on InstanceType\n",
    "\n",
    "By `ph.admin.instancetypes.update()` you can add a NodeSelector on instancetype."
   ]
  },
  {
   "cell_type": "code",
   "execution_count": null,
   "id": "32e3f419",
   "metadata": {},
   "outputs": [],
   "source": [
    "# Add\n",
    "nodeselector_config = {\n",
    "  \"nodeSelector\": {\"zone\": \"staging\"}\n",
    "}\n",
    "\n",
    "ph.admin.instancetypes.update(instancetype['id'], nodeselector_config)\n",
    "ph.admin.instancetypes.get(instancetype['id'])"
   ]
  },
  {
   "cell_type": "code",
   "execution_count": null,
   "id": "9e7e5b6c",
   "metadata": {},
   "outputs": [],
   "source": [
    "# Remove, update the config with None\n",
    "nodeselector_config = {\n",
    "  \"nodeSelector\": None\n",
    "}\n",
    "\n",
    "ph.admin.instancetypes.update(instancetype['id'], nodeselector_config)\n",
    "ph.admin.instancetypes.get(instancetype['id'])"
   ]
  }
 ],
 "metadata": {
  "kernelspec": {
   "display_name": "Python 3",
   "language": "python",
   "name": "python3"
  },
  "language_info": {
   "codemirror_mode": {
    "name": "ipython",
    "version": 3
   },
   "file_extension": ".py",
   "mimetype": "text/x-python",
   "name": "python",
   "nbconvert_exporter": "python",
   "pygments_lexer": "ipython3",
   "version": "3.7.10"
  }
 },
 "nbformat": 4,
 "nbformat_minor": 5
}
