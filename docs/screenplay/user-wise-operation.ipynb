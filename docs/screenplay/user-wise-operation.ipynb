{
 "cells": [
  {
   "cell_type": "markdown",
   "id": "a6dee8e4",
   "metadata": {},
   "source": [
    "# Getting Started with PrimeHub Python SDK\n",
    "PrimeHub Python SDK makes you automation with PrimeHub Platform.\n",
    "\n",
    "In order to make the SDK working, you have to\n",
    "\n",
    "- install the library with pip\n",
    "- create a config file in the ~/.primehub/config.json"
   ]
  },
  {
   "cell_type": "markdown",
   "id": "9311290d",
   "metadata": {},
   "source": [
    "# Part 1: prerequisite: Configure the environment."
   ]
  },
  {
   "cell_type": "markdown",
   "id": "b6370d94",
   "metadata": {},
   "source": [
    "## 1. Install with pip\n",
    "Let's install PrimeHub Python SDK with pip."
   ]
  },
  {
   "cell_type": "code",
   "execution_count": 1,
   "id": "05e0ee39",
   "metadata": {},
   "outputs": [
    {
     "name": "stdout",
     "output_type": "stream",
     "text": [
      "Requirement already satisfied: primehub-python-sdk in /opt/conda/lib/python3.7/site-packages (0.3.8)\n",
      "Requirement already satisfied: types-requests in /opt/conda/lib/python3.7/site-packages (from primehub-python-sdk) (2.28.11.5)\n",
      "Requirement already satisfied: tabulate==0.8.9 in /opt/conda/lib/python3.7/site-packages (from primehub-python-sdk) (0.8.9)\n",
      "Requirement already satisfied: types-tabulate==0.8.2 in /opt/conda/lib/python3.7/site-packages (from primehub-python-sdk) (0.8.2)\n",
      "Requirement already satisfied: requests in /opt/conda/lib/python3.7/site-packages (from primehub-python-sdk) (2.21.0)\n",
      "Requirement already satisfied: chardet<3.1.0,>=3.0.2 in /opt/conda/lib/python3.7/site-packages (from requests->primehub-python-sdk) (3.0.4)\n",
      "Requirement already satisfied: urllib3<1.25,>=1.21.1 in /opt/conda/lib/python3.7/site-packages (from requests->primehub-python-sdk) (1.24.3)\n",
      "Requirement already satisfied: idna<2.9,>=2.5 in /opt/conda/lib/python3.7/site-packages (from requests->primehub-python-sdk) (2.8)\n",
      "Requirement already satisfied: certifi>=2017.4.17 in /opt/conda/lib/python3.7/site-packages (from requests->primehub-python-sdk) (2020.6.20)\n",
      "Requirement already satisfied: types-urllib3<1.27 in /opt/conda/lib/python3.7/site-packages (from types-requests->primehub-python-sdk) (1.26.25.4)\n"
     ]
    }
   ],
   "source": [
    "!pip install primehub-python-sdk"
   ]
  },
  {
   "cell_type": "markdown",
   "id": "4d37c4d1",
   "metadata": {},
   "source": [
    "## 2. Request the API Token\n",
    "In order to get the token, you have to have an account in the PrimeHub cluster, the following process will ask you loing with your account.\n",
    "\n"
   ]
  },
  {
   "cell_type": "code",
   "execution_count": 2,
   "id": "8a8f0489",
   "metadata": {},
   "outputs": [],
   "source": [
    "# PLEASE UPDATE PRIMEHUB_CLUSTER to your cluster\n",
    "PRIMEHUB_CLUSTER = 'http://primehub-python-sdk.primehub.io'"
   ]
  },
  {
   "cell_type": "code",
   "execution_count": 3,
   "id": "7e9ee04b",
   "metadata": {},
   "outputs": [],
   "source": [
    "import os\n",
    "from primehub import PrimeHub, PrimeHubConfig\n",
    "\n",
    "ph = PrimeHub(PrimeHubConfig())\n",
    "if not os.path.isfile(os.path.join(os.getenv(\"HOME\"), \".primehub/config.json\")):\n",
    "    ph.config.generate(PRIMEHUB_CLUSTER)"
   ]
  },
  {
   "cell_type": "code",
   "execution_count": 4,
   "id": "66189ddf",
   "metadata": {},
   "outputs": [
    {
     "name": "stdout",
     "output_type": "stream",
     "text": [
      "PrimeHub Python SDK setup successfully\n",
      "Current Group: {'id': 'ccdd52b8-db16-46ce-8a06-70343c79e82a', 'name': 'phusers', 'displayName': 'primehub users'}\n"
     ]
    }
   ],
   "source": [
    "ph = PrimeHub(PrimeHubConfig())\n",
    "if ph.is_ready():\n",
    "    print(\"PrimeHub Python SDK setup successfully\")\n",
    "    print(\"Current Group:\", ph.primehub_config.current_group)\n",
    "else:\n",
    "    print(\"PrimeHub Python SDK couldn't get the group information, please check the configuration.\")"
   ]
  },
  {
   "cell_type": "markdown",
   "id": "841a9c99",
   "metadata": {},
   "source": [
    "## 3. Check the account is Admin account\n",
    "\n",
    "Use `ph.me.me` to know that the account is admin account."
   ]
  },
  {
   "cell_type": "code",
   "execution_count": 5,
   "id": "88c0d6e3",
   "metadata": {},
   "outputs": [
    {
     "data": {
      "text/plain": [
       "True"
      ]
     },
     "execution_count": 5,
     "metadata": {},
     "output_type": "execute_result"
    }
   ],
   "source": [
    "account_information = ph.me.me()\n",
    "account_information['isAdmin']"
   ]
  },
  {
   "cell_type": "markdown",
   "id": "8d93feef",
   "metadata": {},
   "source": [
    "## 4. Clean up the previous testing data.\n",
    "\n",
    "We need to clean up the previous data to prevent the notebook error,"
   ]
  },
  {
   "cell_type": "code",
   "execution_count": 6,
   "id": "26e30fb4",
   "metadata": {},
   "outputs": [],
   "source": [
    "import pandas as pd"
   ]
  },
  {
   "cell_type": "code",
   "execution_count": 7,
   "id": "525478fa",
   "metadata": {},
   "outputs": [
    {
     "name": "stdout",
     "output_type": "stream",
     "text": [
      "clean the group data: ['df7fdfe4-5e12-4f1c-aeac-8004160c8e86']\n"
     ]
    }
   ],
   "source": [
    "# Clean up \"test_group_from_jupyter\" group data.\n",
    "\n",
    "df_list = pd.DataFrame.from_records(list(ph.admin.groups.list()))\n",
    "if len(df_list) > 0:\n",
    "    target_id = list(df_list.loc[df_list['name'] == \"test_group_from_jupyter\"][\"id\"])\n",
    "\n",
    "    if len(target_id) == 1:\n",
    "        print(\"clean the group data: {}\".format(target_id))\n",
    "        ph.admin.groups.delete(list(target_id)[0])"
   ]
  },
  {
   "cell_type": "code",
   "execution_count": 8,
   "id": "a8ac65dc",
   "metadata": {},
   "outputs": [],
   "source": [
    "# Clean up \"user-admin-from-jupyter\" user data.\n",
    "\n",
    "df_list = pd.DataFrame.from_records(list(ph.admin.users.list()))\n",
    "if len(df_list) > 0:\n",
    "    target_id = list(df_list.loc[df_list['username'] == \"user-admin-from-jupyter\"][\"id\"])\n",
    "\n",
    "    if len(target_id) == 1:\n",
    "        print(\"clean the user data: {}\".format(target_id))\n",
    "        ph.admin.users.delete(list(target_id)[0])"
   ]
  },
  {
   "cell_type": "markdown",
   "id": "cdf6b2a7",
   "metadata": {},
   "source": [
    "# Part 2: User-wise operation\n",
    "We will test:\n",
    "    \n",
    "- create a user\n",
    "- Enabling Personal Volume Capacity with specified xxG\n",
    "- Assign the user multiple groups\n",
    "- Get a group list of the user"
   ]
  },
  {
   "cell_type": "markdown",
   "id": "6a8aebbc",
   "metadata": {},
   "source": [
    "## 1. Create a group with admin role\n",
    "\n",
    "Use `ph.admin.groups.create` to create the group."
   ]
  },
  {
   "cell_type": "code",
   "execution_count": 9,
   "id": "c569d05f",
   "metadata": {},
   "outputs": [],
   "source": [
    "# Create a group with admin role\n",
    "config = {\n",
    "  \"name\": \"test_group_from_jupyter\",\n",
    "  \"displayName\": \"test_group\",\n",
    "  \"enabledDeployment\": False,\n",
    "  \"enabledSharedVolume\": False,\n",
    "  \"quotaCpu\": 0.5,\n",
    "  \"quotaGpu\": 0,\n",
    "  \"admins\": \"\",\n",
    "  \"users\": {\n",
    "      \"connect\": []\n",
    "  }\n",
    "}\n",
    "data = ph.admin.groups.create(config)"
   ]
  },
  {
   "cell_type": "code",
   "execution_count": 10,
   "id": "96b5e6a3",
   "metadata": {},
   "outputs": [
    {
     "data": {
      "text/plain": [
       "'d30688b3-fdf3-4b28-84ac-a1ef29c01033'"
      ]
     },
     "execution_count": 10,
     "metadata": {},
     "output_type": "execute_result"
    }
   ],
   "source": [
    "data['id']"
   ]
  },
  {
   "cell_type": "markdown",
   "id": "403be447",
   "metadata": {},
   "source": [
    "## 2. Create a user with admin role\n",
    "\n",
    "Use `ph.admin.users.create` to :\n",
    "- create the user\n",
    "- enable PV capacity with specified 2Gb\n",
    "- Assign the user multiple groups"
   ]
  },
  {
   "cell_type": "code",
   "execution_count": 11,
   "id": "26fc719f",
   "metadata": {},
   "outputs": [],
   "source": [
    "# Create a user with admin role\n",
    "config = {\n",
    "  \"username\": \"user-admin-from-jupyter\",\n",
    "  \"groups\": {\n",
    "    \"connect\": [\n",
    "      {\n",
    "        \"id\": ph.group_id\n",
    "      },\n",
    "      {\n",
    "        \"id\": data['id']\n",
    "      }\n",
    "    ]\n",
    "  },\n",
    "  \"isAdmin\": True,\n",
    "  \"volumeCapacity\": 2\n",
    "}\n",
    "data = ph.admin.users.create(config)"
   ]
  },
  {
   "cell_type": "markdown",
   "id": "5602ff85",
   "metadata": {},
   "source": [
    "## 3. Get a group list of the user\n",
    "\n",
    "Use `ph.admin.groups.list` and `ph.admin.users.list()` to get the group and user list."
   ]
  },
  {
   "cell_type": "code",
   "execution_count": 12,
   "id": "d1d714b2",
   "metadata": {},
   "outputs": [],
   "source": [
    "import pandas as pd"
   ]
  },
  {
   "cell_type": "code",
   "execution_count": 13,
   "id": "c2625922",
   "metadata": {},
   "outputs": [
    {
     "data": {
      "text/html": [
       "<div>\n",
       "<style scoped>\n",
       "    .dataframe tbody tr th:only-of-type {\n",
       "        vertical-align: middle;\n",
       "    }\n",
       "\n",
       "    .dataframe tbody tr th {\n",
       "        vertical-align: top;\n",
       "    }\n",
       "\n",
       "    .dataframe thead th {\n",
       "        text-align: right;\n",
       "    }\n",
       "</style>\n",
       "<table border=\"1\" class=\"dataframe\">\n",
       "  <thead>\n",
       "    <tr style=\"text-align: right;\">\n",
       "      <th></th>\n",
       "      <th>id</th>\n",
       "      <th>displayName</th>\n",
       "      <th>name</th>\n",
       "      <th>admins</th>\n",
       "      <th>quotaCpu</th>\n",
       "      <th>quotaGpu</th>\n",
       "      <th>quotaMemory</th>\n",
       "      <th>projectQuotaCpu</th>\n",
       "      <th>projectQuotaGpu</th>\n",
       "      <th>projectQuotaMemory</th>\n",
       "      <th>sharedVolumeCapacity</th>\n",
       "    </tr>\n",
       "  </thead>\n",
       "  <tbody>\n",
       "    <tr>\n",
       "      <th>0</th>\n",
       "      <td>ccdd52b8-db16-46ce-8a06-70343c79e82a</td>\n",
       "      <td>primehub users</td>\n",
       "      <td>phusers</td>\n",
       "      <td>phadmin</td>\n",
       "      <td>NaN</td>\n",
       "      <td>NaN</td>\n",
       "      <td>None</td>\n",
       "      <td>None</td>\n",
       "      <td>None</td>\n",
       "      <td>None</td>\n",
       "      <td>1.0</td>\n",
       "    </tr>\n",
       "    <tr>\n",
       "      <th>1</th>\n",
       "      <td>d30688b3-fdf3-4b28-84ac-a1ef29c01033</td>\n",
       "      <td>test_group</td>\n",
       "      <td>test_group_from_jupyter</td>\n",
       "      <td></td>\n",
       "      <td>0.5</td>\n",
       "      <td>0.0</td>\n",
       "      <td>None</td>\n",
       "      <td>None</td>\n",
       "      <td>None</td>\n",
       "      <td>None</td>\n",
       "      <td>NaN</td>\n",
       "    </tr>\n",
       "  </tbody>\n",
       "</table>\n",
       "</div>"
      ],
      "text/plain": [
       "                                     id     displayName  \\\n",
       "0  ccdd52b8-db16-46ce-8a06-70343c79e82a  primehub users   \n",
       "1  d30688b3-fdf3-4b28-84ac-a1ef29c01033      test_group   \n",
       "\n",
       "                      name   admins  quotaCpu  quotaGpu quotaMemory  \\\n",
       "0                  phusers  phadmin       NaN       NaN        None   \n",
       "1  test_group_from_jupyter                0.5       0.0        None   \n",
       "\n",
       "  projectQuotaCpu projectQuotaGpu projectQuotaMemory  sharedVolumeCapacity  \n",
       "0            None            None               None                   1.0  \n",
       "1            None            None               None                   NaN  "
      ]
     },
     "execution_count": 13,
     "metadata": {},
     "output_type": "execute_result"
    }
   ],
   "source": [
    "pd.DataFrame.from_records(list(ph.admin.groups.list()))"
   ]
  },
  {
   "cell_type": "code",
   "execution_count": 14,
   "id": "ce28c30b",
   "metadata": {},
   "outputs": [
    {
     "data": {
      "text/plain": [
       "[{'id': 'bf989d98-cafc-47a6-832b-2d9843761cf7', 'username': 'phadmin'},\n",
       " {'id': '8a15793c-5845-44b1-9efa-0f1ca858fc1e',\n",
       "  'username': 'user-admin-from-jupyter'}]"
      ]
     },
     "execution_count": 14,
     "metadata": {},
     "output_type": "execute_result"
    }
   ],
   "source": [
    "ph.admin.groups.get(ph.group_id)['users']"
   ]
  }
 ],
 "metadata": {
  "kernelspec": {
   "display_name": "Python 3",
   "language": "python",
   "name": "python3"
  },
  "language_info": {
   "codemirror_mode": {
    "name": "ipython",
    "version": 3
   },
   "file_extension": ".py",
   "mimetype": "text/x-python",
   "name": "python",
   "nbconvert_exporter": "python",
   "pygments_lexer": "ipython3",
   "version": "3.7.10"
  }
 },
 "nbformat": 4,
 "nbformat_minor": 5
}
