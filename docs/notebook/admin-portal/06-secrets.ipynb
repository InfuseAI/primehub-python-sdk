{
 "cells": [
  {
   "cell_type": "markdown",
   "id": "6b2f8e5b",
   "metadata": {},
   "source": [
    "# [admin] Secrets command\n",
    "\n",
    "\n",
    "The `secrets` command in `admin` scope could help you manage secrets.\n"
   ]
  },
  {
   "cell_type": "markdown",
   "id": "ec3778da",
   "metadata": {},
   "source": [
    "## Setup PrimeHub Python SDK\n"
   ]
  },
  {
   "cell_type": "code",
   "execution_count": 1,
   "id": "97da879e",
   "metadata": {},
   "outputs": [
    {
     "name": "stdout",
     "output_type": "stream",
     "text": [
      "PrimeHub Python SDK setup successfully\n"
     ]
    }
   ],
   "source": [
    "from primehub import PrimeHub, PrimeHubConfig\n",
    "ph = PrimeHub(PrimeHubConfig())\n",
    "\n",
    "if ph.is_ready():\n",
    "    print(\"PrimeHub Python SDK setup successfully\")\n",
    "else:\n",
    "    print(\"PrimeHub Python SDK couldn't get the group information, follow the 00-getting-started.ipynb to complete it\")"
   ]
  },
  {
   "cell_type": "markdown",
   "id": "30a94330",
   "metadata": {},
   "source": [
    "## Help documentation"
   ]
  },
  {
   "cell_type": "code",
   "execution_count": 2,
   "id": "509a999c",
   "metadata": {},
   "outputs": [
    {
     "name": "stdout",
     "output_type": "stream",
     "text": [
      "Help on AdminSecrets in module primehub.admin_secrets object:\n",
      "\n",
      "class AdminSecrets(primehub.Helpful, primehub.Module)\n",
      " |  AdminSecrets(primehub: primehub.PrimeHub, **kwargs)\n",
      " |  \n",
      " |  Method resolution order:\n",
      " |      AdminSecrets\n",
      " |      primehub.Helpful\n",
      " |      primehub.Module\n",
      " |      primehub.HTTPSupport\n",
      " |      builtins.object\n",
      " |  \n",
      " |  Methods defined here:\n",
      " |  \n",
      " |  create(self, config)\n",
      " |      Create a secret\n",
      " |      \n",
      " |      :type config: dict\n",
      " |      :param config: The configurations for creating a secret\n",
      " |      \n",
      " |      :rtype dict\n",
      " |      :return The id of a secret\n",
      " |  \n",
      " |  delete(self, id: str, **kwargs) -> dict\n",
      " |      Delete a secret by id\n",
      " |      \n",
      " |      :type id: str\n",
      " |      :param id: the id of the secret\n",
      " |      \n",
      " |      :rtype dict\n",
      " |      :return the secret\n",
      " |  \n",
      " |  get(self, id: str) -> dict\n",
      " |      Get an secret by id\n",
      " |      \n",
      " |      :type id: str\n",
      " |      :param id: the id of a secret\n",
      " |      \n",
      " |      :rtype dict\n",
      " |      :return the secret\n",
      " |  \n",
      " |  help_description(self)\n",
      " |      one line description for all commands\n",
      " |  \n",
      " |  list(self, **kwargs) -> Iterator\n",
      " |      List secrets\n",
      " |      \n",
      " |      :type page: int\n",
      " |      :param page: the page of all data\n",
      " |      \n",
      " |      :rtype Iterator\n",
      " |      :return secret iterator\n",
      " |  \n",
      " |  update(self, id: str, config: dict)\n",
      " |      Update the secret\n",
      " |      \n",
      " |      :type id: str\n",
      " |      :param id: the id of the secret\n",
      " |      \n",
      " |      :rtype: dict\n",
      " |      :returns: the secret\n",
      " |  \n",
      " |  ----------------------------------------------------------------------\n",
      " |  Data and other attributes defined here:\n",
      " |  \n",
      " |  __abstractmethods__ = frozenset()\n",
      " |  \n",
      " |  ----------------------------------------------------------------------\n",
      " |  Data descriptors inherited from primehub.Helpful:\n",
      " |  \n",
      " |  __dict__\n",
      " |      dictionary for instance variables (if defined)\n",
      " |  \n",
      " |  __weakref__\n",
      " |      list of weak references to the object (if defined)\n",
      " |  \n",
      " |  ----------------------------------------------------------------------\n",
      " |  Methods inherited from primehub.Module:\n",
      " |  \n",
      " |  __init__(self, primehub: primehub.PrimeHub, **kwargs)\n",
      " |      Initialize self.  See help(type(self)) for accurate signature.\n",
      " |  \n",
      " |  display(self, action: dict, value: Any)\n",
      " |  \n",
      " |  get_display(self) -> primehub.utils.display.Displayable\n",
      " |  \n",
      " |  ----------------------------------------------------------------------\n",
      " |  Static methods inherited from primehub.Module:\n",
      " |  \n",
      " |  output(result: dict, object_path: str)\n",
      " |      Give a dict {'data': {'a': {'b': 'c'}}}\n",
      " |      we could get the c by the path a.b\n",
      " |  \n",
      " |  ----------------------------------------------------------------------\n",
      " |  Data descriptors inherited from primehub.Module:\n",
      " |  \n",
      " |  current_group\n",
      " |  \n",
      " |  endpoint\n",
      " |  \n",
      " |  group_id\n",
      " |  \n",
      " |  group_name\n",
      " |  \n",
      " |  primehub_config\n",
      "\n"
     ]
    }
   ],
   "source": [
    "help(ph.admin.secrets)"
   ]
  },
  {
   "cell_type": "markdown",
   "id": "18b8a4a4",
   "metadata": {},
   "source": [
    "## Secrets management"
   ]
  },
  {
   "cell_type": "code",
   "execution_count": 3,
   "id": "959615fc",
   "metadata": {},
   "outputs": [
    {
     "name": "stdout",
     "output_type": "stream",
     "text": [
      "Usage: \n",
      "  primehub admin secrets <command>\n",
      "\n",
      "Manage secrets\n",
      "\n",
      "Available Commands:\n",
      "  create               Create a secret\n",
      "  delete               Delete a secret by id\n",
      "  get                  Get an secret by id\n",
      "  list                 List secrets\n",
      "  update               Update the secret\n",
      "\n",
      "Options:\n",
      "  -h, --help           Show the help\n",
      "\n",
      "Global Options:\n",
      "  --config CONFIG      Change the path of the config file (Default: ~/.primehub/config.json)\n",
      "  --endpoint ENDPOINT  Override the GraphQL API endpoint\n",
      "  --token TOKEN        Override the API Token\n",
      "  --group GROUP        Override the current group\n",
      "  --json               Output the json format (output human-friendly format by default)\n"
     ]
    }
   ],
   "source": [
    "!primehub admin secrets help"
   ]
  },
  {
   "cell_type": "markdown",
   "id": "b8564274",
   "metadata": {},
   "source": [
    "### Fields for creating or updating\n",
    "\n",
    "| field | required | type | description |\n",
    "| --- | --- | --- | --- |\n",
    "| name | required | string | The name of secret. It is only used when creating. |\n",
    "| type | required | string | one of ['opaque', 'kubernetes']. `opaque` is used for Git Sync secrets (SSH Public Key). `kubernetes` is used for Container Registry. |\n",
    "| displayName | optional | string | |\n",
    "\n",
    "* `type` can not be changed after created.\n",
    "\n",
    "Fields for  `opaque`\n",
    "\n",
    "| field | required | type | description |\n",
    "| --- | --- | --- | --- |\n",
    "| secret | conditional | string | when type is opaque, secret field become required for the SSH Public Key. |\n",
    "\n",
    "Fields for  `kubernetes`\n",
    "\n",
    "You should put container registry credentials to these fields:\n",
    "\n",
    "| field | required | type | description |\n",
    "| --- | --- | --- | --- |\n",
    "| registryHost | conditional | string |  |\n",
    "| username | conditional | string | |\n",
    "| password | conditional | string | |\n"
   ]
  },
  {
   "cell_type": "markdown",
   "id": "4d71c57a",
   "metadata": {},
   "source": [
    "## Examples"
   ]
  },
  {
   "cell_type": "markdown",
   "id": "bac62f15",
   "metadata": {},
   "source": [
    "You could find [more examples on our github](https://github.com/InfuseAI/primehub-python-sdk/blob/main/docs/CLI/admin/secrets.md)."
   ]
  },
  {
   "cell_type": "code",
   "execution_count": 4,
   "id": "155e2620",
   "metadata": {},
   "outputs": [],
   "source": [
    "import pandas as pd"
   ]
  },
  {
   "cell_type": "markdown",
   "id": "2b2bd4ec",
   "metadata": {},
   "source": [
    "#### CRUD: primehub secrets"
   ]
  },
  {
   "cell_type": "code",
   "execution_count": 5,
   "id": "2ea36364",
   "metadata": {},
   "outputs": [],
   "source": [
    "# Create an secrets\n",
    "config = {\n",
    "  'name': 'create-secret-by-sdk',\n",
    "  \"type\": 'opaque',\n",
    "  \"secret\": 'keep it secret'\n",
    "}\n",
    "\n",
    "data = ph.admin.secrets.create(config)"
   ]
  },
  {
   "cell_type": "code",
   "execution_count": 6,
   "id": "b77cdf7d",
   "metadata": {},
   "outputs": [
    {
     "data": {
      "text/html": [
       "<div>\n",
       "<style scoped>\n",
       "    .dataframe tbody tr th:only-of-type {\n",
       "        vertical-align: middle;\n",
       "    }\n",
       "\n",
       "    .dataframe tbody tr th {\n",
       "        vertical-align: top;\n",
       "    }\n",
       "\n",
       "    .dataframe thead th {\n",
       "        text-align: right;\n",
       "    }\n",
       "</style>\n",
       "<table border=\"1\" class=\"dataframe\">\n",
       "  <thead>\n",
       "    <tr style=\"text-align: right;\">\n",
       "      <th></th>\n",
       "      <th>id</th>\n",
       "      <th>name</th>\n",
       "      <th>displayName</th>\n",
       "      <th>type</th>\n",
       "      <th>registryHost</th>\n",
       "      <th>username</th>\n",
       "    </tr>\n",
       "  </thead>\n",
       "  <tbody>\n",
       "    <tr>\n",
       "      <th>0</th>\n",
       "      <td>gitsync-secret-create-secret-by-sdk</td>\n",
       "      <td>create-secret-by-sdk</td>\n",
       "      <td>create-secret-by-sdk</td>\n",
       "      <td>opaque</td>\n",
       "      <td>None</td>\n",
       "      <td>None</td>\n",
       "    </tr>\n",
       "  </tbody>\n",
       "</table>\n",
       "</div>"
      ],
      "text/plain": [
       "                                    id                  name  \\\n",
       "0  gitsync-secret-create-secret-by-sdk  create-secret-by-sdk   \n",
       "\n",
       "            displayName    type registryHost username  \n",
       "0  create-secret-by-sdk  opaque         None     None  "
      ]
     },
     "execution_count": 6,
     "metadata": {},
     "output_type": "execute_result"
    }
   ],
   "source": [
    "# List secrets\n",
    "secrets_df = pd.DataFrame(ph.admin.secrets.list())\n",
    "secrets_df[secrets_df['name'] == config['name']]"
   ]
  },
  {
   "cell_type": "code",
   "execution_count": 7,
   "id": "e2442f4c",
   "metadata": {},
   "outputs": [
    {
     "data": {
      "text/plain": [
       "{'id': 'gitsync-secret-create-secret-by-sdk',\n",
       " 'name': 'create-secret-by-sdk',\n",
       " 'displayName': 'create-secret-by-sdk',\n",
       " 'type': 'opaque'}"
      ]
     },
     "execution_count": 7,
     "metadata": {},
     "output_type": "execute_result"
    }
   ],
   "source": [
    "# Get the secret details\n",
    "ph.admin.secrets.get(data['id'])"
   ]
  },
  {
   "cell_type": "code",
   "execution_count": 8,
   "id": "7b7d4380",
   "metadata": {},
   "outputs": [
    {
     "data": {
      "text/plain": [
       "{'id': 'gitsync-secret-create-secret-by-sdk',\n",
       " 'name': 'create-secret-by-sdk',\n",
       " 'displayName': 'gitsync-sdk-test',\n",
       " 'type': 'opaque'}"
      ]
     },
     "execution_count": 8,
     "metadata": {},
     "output_type": "execute_result"
    }
   ],
   "source": [
    "# Update the secret config setting.\n",
    "update_config = {'displayName': 'gitsync-sdk-test'}\n",
    "data = ph.admin.secrets.update(data['id'], update_config)\n",
    "ph.admin.secrets.get(data['id'])"
   ]
  },
  {
   "cell_type": "code",
   "execution_count": 9,
   "id": "68b5f9a4",
   "metadata": {},
   "outputs": [
    {
     "data": {
      "text/plain": [
       "{'id': 'gitsync-secret-create-secret-by-sdk'}"
      ]
     },
     "execution_count": 9,
     "metadata": {},
     "output_type": "execute_result"
    }
   ],
   "source": [
    "# Delete the secret\n",
    "ph.admin.secrets.delete(data['id'])"
   ]
  }
 ],
 "metadata": {
  "kernelspec": {
   "display_name": "Python 3",
   "language": "python",
   "name": "python3"
  },
  "language_info": {
   "codemirror_mode": {
    "name": "ipython",
    "version": 3
   },
   "file_extension": ".py",
   "mimetype": "text/x-python",
   "name": "python",
   "nbconvert_exporter": "python",
   "pygments_lexer": "ipython3",
   "version": "3.7.10"
  }
 },
 "nbformat": 4,
 "nbformat_minor": 5
}
