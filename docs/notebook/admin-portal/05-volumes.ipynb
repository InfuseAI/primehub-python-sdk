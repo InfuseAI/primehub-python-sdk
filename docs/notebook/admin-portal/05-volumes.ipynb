{
 "cells": [
  {
   "cell_type": "markdown",
   "id": "43fa6341",
   "metadata": {},
   "source": [
    "# [admin] Volumes command\n",
    "\n",
    "\n",
    "The `volumes` command in `admin` scope could help you manage volumes.\n"
   ]
  },
  {
   "cell_type": "markdown",
   "id": "409f870b",
   "metadata": {},
   "source": [
    "## Setup PrimeHub Python SDK\n"
   ]
  },
  {
   "cell_type": "code",
   "execution_count": 1,
   "id": "d5ff3ca5",
   "metadata": {},
   "outputs": [
    {
     "name": "stdout",
     "output_type": "stream",
     "text": [
      "PrimeHub Python SDK setup successfully\n"
     ]
    }
   ],
   "source": [
    "from primehub import PrimeHub, PrimeHubConfig\n",
    "ph = PrimeHub(PrimeHubConfig())\n",
    "\n",
    "if ph.is_ready():\n",
    "    print(\"PrimeHub Python SDK setup successfully\")\n",
    "else:\n",
    "    print(\"PrimeHub Python SDK couldn't get the group information, follow the 00-getting-started.ipynb to complete it\")"
   ]
  },
  {
   "cell_type": "markdown",
   "id": "f1beae31",
   "metadata": {},
   "source": [
    "## Help documentation"
   ]
  },
  {
   "cell_type": "code",
   "execution_count": 2,
   "id": "2ba16f28",
   "metadata": {},
   "outputs": [
    {
     "name": "stdout",
     "output_type": "stream",
     "text": [
      "Help on AdminVolumes in module primehub.admin_volumes object:\n",
      "\n",
      "class AdminVolumes(primehub.Helpful, primehub.Module)\n",
      " |  AdminVolumes(primehub: primehub.PrimeHub, **kwargs)\n",
      " |  \n",
      " |  Method resolution order:\n",
      " |      AdminVolumes\n",
      " |      primehub.Helpful\n",
      " |      primehub.Module\n",
      " |      primehub.HTTPSupport\n",
      " |      builtins.object\n",
      " |  \n",
      " |  Methods defined here:\n",
      " |  \n",
      " |  add_group(self, id: str, group_id, writable=False)\n",
      " |      Add group connection to a volume by id\n",
      " |      \n",
      " |      :type id: str\n",
      " |      :param id: the id of a volume\n",
      " |      :type group_id: str\n",
      " |      :param group_id: group id\n",
      " |      :type writable: bool, optional\n",
      " |      :param writable: `True` if the group has write permission to the volume, and `False` otherwise, defaults to False\n",
      " |      \n",
      " |      :rtype dict\n",
      " |      :return a volume with id only\n",
      " |  \n",
      " |  create(self, config) -> list\n",
      " |      Create a volume\n",
      " |      \n",
      " |      :rtype: dict\n",
      " |      :returns: the volume\n",
      " |  \n",
      " |  delete(self, id)\n",
      " |      Delete a volume by id\n",
      " |      \n",
      " |      :type id: str\n",
      " |      :param id: The volume id\n",
      " |      \n",
      " |      :rtype dict\n",
      " |      :return the result of the deleted volume\n",
      " |  \n",
      " |  get(self, name) -> Union[dict, NoneType]\n",
      " |      Get a volume from the current group\n",
      " |      \n",
      " |      :type name: str\n",
      " |      :param name: the name of a volume\n",
      " |      \n",
      " |      :rtype: Optional[dict]\n",
      " |      :returns: a volume\n",
      " |  \n",
      " |  help_description(self)\n",
      " |      one line description for all commands\n",
      " |  \n",
      " |  list(self, **kwargs)\n",
      " |  \n",
      " |  list_groups(self, id: str)\n",
      " |      List groups of a volume by id. It will return writable groups only if the volume is at the global scope.\n",
      " |      \n",
      " |      :type id: str\n",
      " |      :param id: the id of a volume\n",
      " |      \n",
      " |      :rtype list\n",
      " |      :return groups\n",
      " |  \n",
      " |  regenerate_upload_server_secret(self, id)\n",
      " |      Regenerate the secret of the upload server\n",
      " |      \n",
      " |      :type id: str\n",
      " |      :param id: The volume id or name\n",
      " |      \n",
      " |      :rtype dict\n",
      " |      :return the result of the deleted volume\n",
      " |  \n",
      " |  remove_group(self, id: str, group_id)\n",
      " |      Remove group connection from a volume by id\n",
      " |      \n",
      " |      :type id: str\n",
      " |      :param id: the id of a volume\n",
      " |      :type group_id: str\n",
      " |      :param group_id: group id\n",
      " |      \n",
      " |      :rtype dict\n",
      " |      :return a volume with id only\n",
      " |  \n",
      " |  update(self, name: str, config: dict) -> list\n",
      " |      Update the volume\n",
      " |      \n",
      " |      :type name: str\n",
      " |      :type config: dict\n",
      " |      :rtype: dict\n",
      " |      \n",
      " |      :returns: the volume\n",
      " |  \n",
      " |  ----------------------------------------------------------------------\n",
      " |  Data and other attributes defined here:\n",
      " |  \n",
      " |  __abstractmethods__ = frozenset()\n",
      " |  \n",
      " |  ----------------------------------------------------------------------\n",
      " |  Data descriptors inherited from primehub.Helpful:\n",
      " |  \n",
      " |  __dict__\n",
      " |      dictionary for instance variables (if defined)\n",
      " |  \n",
      " |  __weakref__\n",
      " |      list of weak references to the object (if defined)\n",
      " |  \n",
      " |  ----------------------------------------------------------------------\n",
      " |  Methods inherited from primehub.Module:\n",
      " |  \n",
      " |  __init__(self, primehub: primehub.PrimeHub, **kwargs)\n",
      " |      Initialize self.  See help(type(self)) for accurate signature.\n",
      " |  \n",
      " |  display(self, action: dict, value: Any)\n",
      " |  \n",
      " |  get_display(self) -> primehub.utils.display.Displayable\n",
      " |  \n",
      " |  ----------------------------------------------------------------------\n",
      " |  Static methods inherited from primehub.Module:\n",
      " |  \n",
      " |  output(result: dict, object_path: str)\n",
      " |      Give a dict {'data': {'a': {'b': 'c'}}}\n",
      " |      we could get the c by the path a.b\n",
      " |  \n",
      " |  ----------------------------------------------------------------------\n",
      " |  Data descriptors inherited from primehub.Module:\n",
      " |  \n",
      " |  current_group\n",
      " |  \n",
      " |  endpoint\n",
      " |  \n",
      " |  group_id\n",
      " |  \n",
      " |  group_name\n",
      " |  \n",
      " |  primehub_config\n",
      "\n"
     ]
    }
   ],
   "source": [
    "help(ph.admin.volumes)"
   ]
  },
  {
   "cell_type": "markdown",
   "id": "62d4d2e7",
   "metadata": {},
   "source": [
    "## PrimeHub Admin Volume Management\n",
    "Old name: PrimeHub admin Dataset"
   ]
  },
  {
   "cell_type": "code",
   "execution_count": 3,
   "id": "a68e19de",
   "metadata": {},
   "outputs": [
    {
     "name": "stdout",
     "output_type": "stream",
     "text": [
      "Usage: \n",
      "  primehub admin volumes <command>\n",
      "\n",
      "Manage volumes\n",
      "\n",
      "Available Commands:\n",
      "  add-group            Add group connection to a volume by id\n",
      "  create               Create a volume\n",
      "  delete               Delete a volume by id\n",
      "  get                  Get a volume by name\n",
      "  list                 List volumes\n",
      "  list-groups          List groups of a volume by id\n",
      "  regen-upload-secret  Regenerate the secret of the upload server\n",
      "  remove-group         Remove group connection from a volume by id\n",
      "  update               Update the volume\n",
      "\n",
      "Options:\n",
      "  -h, --help           Show the help\n",
      "\n",
      "Global Options:\n",
      "  --config CONFIG      Change the path of the config file (Default: ~/.primehub/config.json)\n",
      "  --endpoint ENDPOINT  Override the GraphQL API endpoint\n",
      "  --token TOKEN        Override the API Token\n",
      "  --group GROUP        Override the current group\n",
      "  --json               Output the json format (output human-friendly format by default)\n"
     ]
    }
   ],
   "source": [
    "!primehub admin volumes help"
   ]
  },
  {
   "cell_type": "markdown",
   "id": "00cff52d",
   "metadata": {},
   "source": [
    "## Dataset configuration\n",
    "\n",
    "You need a configuration `create` and `update` to operate. Here is an example to create a `pv-volume`:\n",
    "\n",
    "```json\n",
    "{\n",
    "  \"name\": \"pv-volume\",\n",
    "  \"displayName\": \"the volume created by SDK\",\n",
    "  \"description\": \"It is a PV volume\",\n",
    "  \"type\": \"pv\",\n",
    "  \"global\": true,\n",
    "  \"pvProvisioning\": \"auto\",\n",
    "  \"volumeSize\": 1\n",
    "}\n",
    "```\n",
    "\n",
    "In our system, there are 5 types for volumes: `['pv', 'nfs', 'hostPath', 'git', 'env']`. Please check the fields reference to give a proper configuration to create your own volume.\n",
    "\n",
    "\n",
    "### Fields for creating or updating\n",
    "\n",
    "| field | required | type | description |\n",
    "| --- | --- | --- | --- |\n",
    "| name | required | string | it should be a valid resource name for kubernetes |\n",
    "| displayName | optional | string | display name for this volume |\n",
    "| description | optional | string | |\n",
    "| global | optional | boolean | when a volume is global, it could be seen for each group |\n",
    "| type | required | string | one of ['pv', 'nfs', 'hostPath', 'git', 'env'] |\n",
    "| url | conditional | string | **MUST** use with `git` type |\n",
    "| pvProvisioning | conditional | string | onf of ['auto', 'manual'], **MUST** use with `pv` type. This field only uses in `CREATE` action |\n",
    "| nfsServer | conditional | string | **MUST** use with `nfs` type |\n",
    "| nfsPath | conditional | string | **MUST** use with `nfs` type |\n",
    "| hostPath | conditional | string | **MUST** use with `hostPath` type  |\n",
    "| variables | optional | dict | **MAY** use with `env` type. It is key value pairs. All values have to a string value. For example: `{\"key1\":\"value1\",\"key2\":\"value2\"}`. |\n",
    "| groups | optional | list of connected groups (dict) | please see the `connect` examples |\n",
    "| secret | optional | dict | **MAY** use with `git` type, it binds a `secret` id to the `git` volume. The secret can be found with `primehub admin secrets list` |\n",
    "| volumeSize | conditional | integer | **MUST** use with `pv` type and 'auto' provisioning. The unit is `GB`.|\n",
    "| enableUploadServer | optional | boolean | it only works with one of ['pv', 'nfs', 'hostPath'] writable types |\n",
    "\n",
    "> There is a simple rule to use fields for `UPDATE`. All required fields should not be in the payload.\n",
    "\n",
    "For example, there is a configuration for creating env volume:\n",
    "\n",
    "```bash\n",
    "primehub admin volumes create <<EOF\n",
    "{\n",
    "  \"name\": \"env-volume\",\n",
    "  \"description\": \"\",\n",
    "  \"type\": \"env\",\n",
    "  \"variables\": {\n",
    "    \"ENV\": \"prod\",\n",
    "    \"LUCKY_NUMBER\": \"7\"\n",
    "  }\n",
    "}\n",
    "EOF\n",
    "```\n",
    "\n",
    "After removing required `name` and `type` fields, it could be used with updating:\n",
    "\n",
    "```bash\n",
    "primehub admin volumes update env-volume <<EOF\n",
    "{\n",
    "  \"description\": \"make changes to the description\",\n",
    "  \"variables\": {\n",
    "    \"ENV\": \"prod\",\n",
    "    \"LUCKY_NUMBER\": \"8\"\n",
    "  }\n",
    "}\n",
    "EOF\n",
    "```\n",
    "\n"
   ]
  },
  {
   "cell_type": "markdown",
   "id": "4ea89edf",
   "metadata": {},
   "source": [
    "## Examples"
   ]
  },
  {
   "cell_type": "markdown",
   "id": "8f865724",
   "metadata": {},
   "source": [
    "You could find [more examples on our github](https://github.com/InfuseAI/primehub-python-sdk/blob/main/docs/CLI/admin/volumes.md)."
   ]
  },
  {
   "cell_type": "code",
   "execution_count": 4,
   "id": "00a688e2",
   "metadata": {},
   "outputs": [],
   "source": [
    "import pandas as pd"
   ]
  },
  {
   "cell_type": "markdown",
   "id": "19ced1de",
   "metadata": {},
   "source": [
    "#### CRUD: primehub volumes"
   ]
  },
  {
   "cell_type": "code",
   "execution_count": 5,
   "id": "2a23584b",
   "metadata": {},
   "outputs": [],
   "source": [
    "# Create an volume\n",
    "config = {\n",
    "  \"name\": \"pv-volume-by-sdk\",\n",
    "  \"displayName\": \"the volume created by SDK\",\n",
    "  \"description\": \"It is a PV volume\",\n",
    "  \"type\": \"pv\",\n",
    "  \"global\": True,\n",
    "  \"pvProvisioning\": \"auto\",\n",
    "  \"volumeSize\": 1\n",
    "}\n",
    "\n",
    "data = ph.admin.volumes.create(config)"
   ]
  },
  {
   "cell_type": "code",
   "execution_count": 6,
   "id": "1f5a2d69",
   "metadata": {},
   "outputs": [
    {
     "data": {
      "text/html": [
       "<div>\n",
       "<style scoped>\n",
       "    .dataframe tbody tr th:only-of-type {\n",
       "        vertical-align: middle;\n",
       "    }\n",
       "\n",
       "    .dataframe tbody tr th {\n",
       "        vertical-align: top;\n",
       "    }\n",
       "\n",
       "    .dataframe thead th {\n",
       "        text-align: right;\n",
       "    }\n",
       "</style>\n",
       "<table border=\"1\" class=\"dataframe\">\n",
       "  <thead>\n",
       "    <tr style=\"text-align: right;\">\n",
       "      <th></th>\n",
       "      <th>id</th>\n",
       "      <th>name</th>\n",
       "      <th>displayName</th>\n",
       "      <th>description</th>\n",
       "      <th>type</th>\n",
       "      <th>uploadServerLink</th>\n",
       "    </tr>\n",
       "  </thead>\n",
       "  <tbody>\n",
       "    <tr>\n",
       "      <th>13</th>\n",
       "      <td>pv-volume-by-sdk</td>\n",
       "      <td>pv-volume-by-sdk</td>\n",
       "      <td>the volume created by SDK</td>\n",
       "      <td>It is a PV volume</td>\n",
       "      <td>pv</td>\n",
       "      <td>None</td>\n",
       "    </tr>\n",
       "  </tbody>\n",
       "</table>\n",
       "</div>"
      ],
      "text/plain": [
       "                  id              name                displayName  \\\n",
       "13  pv-volume-by-sdk  pv-volume-by-sdk  the volume created by SDK   \n",
       "\n",
       "          description type uploadServerLink  \n",
       "13  It is a PV volume   pv             None  "
      ]
     },
     "execution_count": 6,
     "metadata": {},
     "output_type": "execute_result"
    }
   ],
   "source": [
    "# List volumes\n",
    "volumes_df = pd.DataFrame(ph.admin.volumes.list())\n",
    "volumes_df[volumes_df['name'] == config['name']]"
   ]
  },
  {
   "cell_type": "code",
   "execution_count": 7,
   "id": "3cb3d7bd",
   "metadata": {},
   "outputs": [
    {
     "data": {
      "text/plain": [
       "{'id': 'pv-volume-by-sdk',\n",
       " 'name': 'pv-volume-by-sdk',\n",
       " 'displayName': 'the volume created by SDK',\n",
       " 'description': 'It is a PV volume',\n",
       " 'type': 'pv',\n",
       " 'pvProvisioning': 'auto',\n",
       " 'volumeSize': 1,\n",
       " 'enableUploadServer': False,\n",
       " 'uploadServerLink': None,\n",
       " 'global': True,\n",
       " 'groups': []}"
      ]
     },
     "execution_count": 7,
     "metadata": {},
     "output_type": "execute_result"
    }
   ],
   "source": [
    "# Get the volume details\n",
    "ph.admin.volumes.get(data['id'])"
   ]
  },
  {
   "cell_type": "code",
   "execution_count": 8,
   "id": "04a886ea",
   "metadata": {},
   "outputs": [
    {
     "data": {
      "text/plain": [
       "{'id': 'pv-volume-by-sdk',\n",
       " 'name': 'pv-volume-by-sdk',\n",
       " 'displayName': 'the volume created by SDK',\n",
       " 'description': 'It is a PV volume',\n",
       " 'type': 'pv',\n",
       " 'pvProvisioning': 'auto',\n",
       " 'volumeSize': 1,\n",
       " 'enableUploadServer': False,\n",
       " 'uploadServerLink': None,\n",
       " 'global': False,\n",
       " 'groups': []}"
      ]
     },
     "execution_count": 8,
     "metadata": {},
     "output_type": "execute_result"
    }
   ],
   "source": [
    "# Update the volume config setting.\n",
    "update_config = {'global': False}\n",
    "data = ph.admin.volumes.update(data['id'], update_config)\n",
    "ph.admin.volumes.get(data['id'])"
   ]
  },
  {
   "cell_type": "code",
   "execution_count": 9,
   "id": "18341261",
   "metadata": {},
   "outputs": [
    {
     "data": {
      "text/plain": [
       "{'id': 'pv-volume-by-sdk'}"
      ]
     },
     "execution_count": 9,
     "metadata": {},
     "output_type": "execute_result"
    }
   ],
   "source": [
    "# Delete the volume\n",
    "ph.admin.volumes.delete(data['id'])"
   ]
  },
  {
   "cell_type": "markdown",
   "id": "4dcd55ac",
   "metadata": {},
   "source": [
    "#### CRUD: volume <-> Group"
   ]
  },
  {
   "cell_type": "code",
   "execution_count": 10,
   "id": "d61f7dcb",
   "metadata": {},
   "outputs": [],
   "source": [
    "# Create an volume\n",
    "config = {\n",
    "  \"name\": \"pv-volume-by-sdk-group\",\n",
    "  \"displayName\": \"the volume created by SDK\",\n",
    "  \"description\": \"It is a PV volume\",\n",
    "  \"type\": \"pv\",\n",
    "  \"global\": False,\n",
    "  \"pvProvisioning\": \"auto\",\n",
    "  \"volumeSize\": 1\n",
    "}\n",
    "\n",
    "data = ph.admin.volumes.create(config)"
   ]
  },
  {
   "cell_type": "code",
   "execution_count": 11,
   "id": "38816075",
   "metadata": {},
   "outputs": [
    {
     "data": {
      "text/html": [
       "<div>\n",
       "<style scoped>\n",
       "    .dataframe tbody tr th:only-of-type {\n",
       "        vertical-align: middle;\n",
       "    }\n",
       "\n",
       "    .dataframe tbody tr th {\n",
       "        vertical-align: top;\n",
       "    }\n",
       "\n",
       "    .dataframe thead th {\n",
       "        text-align: right;\n",
       "    }\n",
       "</style>\n",
       "<table border=\"1\" class=\"dataframe\">\n",
       "  <thead>\n",
       "    <tr style=\"text-align: right;\">\n",
       "      <th></th>\n",
       "    </tr>\n",
       "  </thead>\n",
       "  <tbody>\n",
       "  </tbody>\n",
       "</table>\n",
       "</div>"
      ],
      "text/plain": [
       "Empty DataFrame\n",
       "Columns: []\n",
       "Index: []"
      ]
     },
     "execution_count": 11,
     "metadata": {},
     "output_type": "execute_result"
    }
   ],
   "source": [
    "# Show the volume group list\n",
    "\n",
    "volumes_df = pd.DataFrame(ph.admin.volumes.list_groups(data[\"id\"]))\n",
    "volumes_df"
   ]
  },
  {
   "cell_type": "code",
   "execution_count": 12,
   "id": "848f939f",
   "metadata": {},
   "outputs": [],
   "source": [
    "# Add the volume into group\n",
    "groups_df = pd.DataFrame(ph.admin.groups.list())\n",
    "groups_id = groups_df[\"id\"][0]\n",
    "ph.admin.volumes.add_group(data[\"id\"], groups_id)"
   ]
  },
  {
   "cell_type": "code",
   "execution_count": 13,
   "id": "5e705003",
   "metadata": {},
   "outputs": [
    {
     "data": {
      "text/html": [
       "<div>\n",
       "<style scoped>\n",
       "    .dataframe tbody tr th:only-of-type {\n",
       "        vertical-align: middle;\n",
       "    }\n",
       "\n",
       "    .dataframe tbody tr th {\n",
       "        vertical-align: top;\n",
       "    }\n",
       "\n",
       "    .dataframe thead th {\n",
       "        text-align: right;\n",
       "    }\n",
       "</style>\n",
       "<table border=\"1\" class=\"dataframe\">\n",
       "  <thead>\n",
       "    <tr style=\"text-align: right;\">\n",
       "      <th></th>\n",
       "      <th>id</th>\n",
       "      <th>name</th>\n",
       "      <th>displayName</th>\n",
       "      <th>writable</th>\n",
       "    </tr>\n",
       "  </thead>\n",
       "  <tbody>\n",
       "    <tr>\n",
       "      <th>0</th>\n",
       "      <td>71ac1e32-65fa-4e8e-a735-ba282e3149b1</td>\n",
       "      <td>AnotherTestGroup</td>\n",
       "      <td>Another Test Group</td>\n",
       "      <td>False</td>\n",
       "    </tr>\n",
       "  </tbody>\n",
       "</table>\n",
       "</div>"
      ],
      "text/plain": [
       "                                     id              name         displayName  \\\n",
       "0  71ac1e32-65fa-4e8e-a735-ba282e3149b1  AnotherTestGroup  Another Test Group   \n",
       "\n",
       "   writable  \n",
       "0     False  "
      ]
     },
     "execution_count": 13,
     "metadata": {},
     "output_type": "execute_result"
    }
   ],
   "source": [
    "# Show the volume group list\n",
    "\n",
    "volumes_df = pd.DataFrame(ph.admin.volumes.list_groups(data[\"id\"]))\n",
    "volumes_df"
   ]
  },
  {
   "cell_type": "code",
   "execution_count": 14,
   "id": "32146409",
   "metadata": {},
   "outputs": [],
   "source": [
    "# Remove the volume out of group\n",
    "ph.admin.volumes.remove_group(data[\"id\"], groups_id)"
   ]
  },
  {
   "cell_type": "code",
   "execution_count": 15,
   "id": "f554c42a",
   "metadata": {},
   "outputs": [
    {
     "data": {
      "text/html": [
       "<div>\n",
       "<style scoped>\n",
       "    .dataframe tbody tr th:only-of-type {\n",
       "        vertical-align: middle;\n",
       "    }\n",
       "\n",
       "    .dataframe tbody tr th {\n",
       "        vertical-align: top;\n",
       "    }\n",
       "\n",
       "    .dataframe thead th {\n",
       "        text-align: right;\n",
       "    }\n",
       "</style>\n",
       "<table border=\"1\" class=\"dataframe\">\n",
       "  <thead>\n",
       "    <tr style=\"text-align: right;\">\n",
       "      <th></th>\n",
       "    </tr>\n",
       "  </thead>\n",
       "  <tbody>\n",
       "  </tbody>\n",
       "</table>\n",
       "</div>"
      ],
      "text/plain": [
       "Empty DataFrame\n",
       "Columns: []\n",
       "Index: []"
      ]
     },
     "execution_count": 15,
     "metadata": {},
     "output_type": "execute_result"
    }
   ],
   "source": [
    "# Show the volume group list\n",
    "\n",
    "volumes_df = pd.DataFrame(ph.admin.volumes.list_groups(data[\"id\"]))\n",
    "volumes_df"
   ]
  },
  {
   "cell_type": "code",
   "execution_count": 16,
   "id": "91aa5cc4",
   "metadata": {},
   "outputs": [
    {
     "data": {
      "text/plain": [
       "{'id': 'pv-volume-by-sdk-group'}"
      ]
     },
     "execution_count": 16,
     "metadata": {},
     "output_type": "execute_result"
    }
   ],
   "source": [
    "# Delete the volume\n",
    "ph.admin.volumes.delete(data['id'])"
   ]
  }
 ],
 "metadata": {
  "kernelspec": {
   "display_name": "Python 3",
   "language": "python",
   "name": "python3"
  },
  "language_info": {
   "codemirror_mode": {
    "name": "ipython",
    "version": 3
   },
   "file_extension": ".py",
   "mimetype": "text/x-python",
   "name": "python",
   "nbconvert_exporter": "python",
   "pygments_lexer": "ipython3",
   "version": "3.7.10"
  }
 },
 "nbformat": 4,
 "nbformat_minor": 5
}
