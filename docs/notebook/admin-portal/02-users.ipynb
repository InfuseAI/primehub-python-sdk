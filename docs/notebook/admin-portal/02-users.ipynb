{
 "cells": [
  {
   "cell_type": "markdown",
   "id": "98d093ab",
   "metadata": {},
   "source": [
    "# [admin] Users command\n",
    "\n",
    "\n",
    "The `users` command in `admin` scope could help you manage users.\n"
   ]
  },
  {
   "cell_type": "markdown",
   "id": "8332f76b",
   "metadata": {},
   "source": [
    "## Setup PrimeHub Python SDK\n"
   ]
  },
  {
   "cell_type": "code",
   "execution_count": 1,
   "id": "b1ee0b97",
   "metadata": {},
   "outputs": [
    {
     "name": "stdout",
     "output_type": "stream",
     "text": [
      "PrimeHub Python SDK setup successfully\n"
     ]
    }
   ],
   "source": [
    "from primehub import PrimeHub, PrimeHubConfig\n",
    "ph = PrimeHub(PrimeHubConfig())\n",
    "\n",
    "if ph.is_ready():\n",
    "    print(\"PrimeHub Python SDK setup successfully\")\n",
    "else:\n",
    "    print(\"PrimeHub Python SDK couldn't get the group information, follow the 00-getting-started.ipynb to complete it\")"
   ]
  },
  {
   "cell_type": "markdown",
   "id": "86e0b2c6",
   "metadata": {},
   "source": [
    "## Help documentation"
   ]
  },
  {
   "cell_type": "code",
   "execution_count": 2,
   "id": "bff46e93",
   "metadata": {},
   "outputs": [
    {
     "name": "stdout",
     "output_type": "stream",
     "text": [
      "Help on AdminUsers in module primehub.admin_users object:\n",
      "\n",
      "class AdminUsers(primehub.Helpful, primehub.Module)\n",
      " |  AdminUsers(primehub: primehub.PrimeHub, **kwargs)\n",
      " |  \n",
      " |  Method resolution order:\n",
      " |      AdminUsers\n",
      " |      primehub.Helpful\n",
      " |      primehub.Module\n",
      " |      primehub.HTTPSupport\n",
      " |      builtins.object\n",
      " |  \n",
      " |  Methods defined here:\n",
      " |  \n",
      " |  add_group(self, id: str, group_id)\n",
      " |      Add group connection to a user by id\n",
      " |      \n",
      " |      :type id: str\n",
      " |      :param id: the id of a user\n",
      " |      :type group_id: str\n",
      " |      :param group_id: group id\n",
      " |      \n",
      " |      :rtype dict\n",
      " |      :return a user with groups only\n",
      " |  \n",
      " |  create(self, config)\n",
      " |      Create a user\n",
      " |      \n",
      " |      :type config: dict\n",
      " |      :param config: The configurations for creating a user\n",
      " |      \n",
      " |      :rtype dict\n",
      " |      :return The user\n",
      " |  \n",
      " |  delete(self, id: str) -> dict\n",
      " |      Delete an user by id\n",
      " |      \n",
      " |      :type id: str\n",
      " |      :param id: the id of the user\n",
      " |      \n",
      " |      :rtype dict\n",
      " |      :return the user\n",
      " |  \n",
      " |  get(self, id: str) -> dict\n",
      " |      Get an user by id\n",
      " |      \n",
      " |      :type id: str\n",
      " |      :param id: the id of an user\n",
      " |      \n",
      " |      :rtype dict\n",
      " |      :return the user\n",
      " |  \n",
      " |  help_description(self)\n",
      " |      one line description for all commands\n",
      " |  \n",
      " |  list(self, **kwargs) -> Iterator\n",
      " |      List users\n",
      " |      \n",
      " |      :type page: int\n",
      " |      :param page: the page of all data\n",
      " |      \n",
      " |      :rtype Iterator\n",
      " |      :return user iterator\n",
      " |  \n",
      " |  list_groups(self, id: str)\n",
      " |      List groups of a user by id\n",
      " |      \n",
      " |      :type id: str\n",
      " |      :param id: the id of a user\n",
      " |      \n",
      " |      :rtype list\n",
      " |      :return groups\n",
      " |  \n",
      " |  remove_group(self, id: str, group_id)\n",
      " |      Remove group connection from a user by id\n",
      " |      \n",
      " |      :type id: str\n",
      " |      :param id: the id of a user\n",
      " |      :type group_id: str\n",
      " |      :param group_id: group id\n",
      " |      \n",
      " |      :rtype dict\n",
      " |      :return a user with groups only\n",
      " |  \n",
      " |  reset_password(self, id: str, password: str, **kwargs) -> dict\n",
      " |      Reset password by id\n",
      " |      \n",
      " |      :type id: str\n",
      " |      :param id: the id of the user\n",
      " |      \n",
      " |      :type id: str\n",
      " |      :param id: password\n",
      " |      \n",
      " |      :type temporary: bool\n",
      " |      :param temporary: make the password temporary\n",
      " |      \n",
      " |      :rtype dict\n",
      " |      :return the user\n",
      " |  \n",
      " |  update(self, id: str, config: dict)\n",
      " |      Update the user\n",
      " |      \n",
      " |      :type id: str\n",
      " |      :param id: the id of the user\n",
      " |      \n",
      " |      :rtype: dict\n",
      " |      :returns: the user\n",
      " |  \n",
      " |  ----------------------------------------------------------------------\n",
      " |  Data and other attributes defined here:\n",
      " |  \n",
      " |  __abstractmethods__ = frozenset()\n",
      " |  \n",
      " |  ----------------------------------------------------------------------\n",
      " |  Data descriptors inherited from primehub.Helpful:\n",
      " |  \n",
      " |  __dict__\n",
      " |      dictionary for instance variables (if defined)\n",
      " |  \n",
      " |  __weakref__\n",
      " |      list of weak references to the object (if defined)\n",
      " |  \n",
      " |  ----------------------------------------------------------------------\n",
      " |  Methods inherited from primehub.Module:\n",
      " |  \n",
      " |  __init__(self, primehub: primehub.PrimeHub, **kwargs)\n",
      " |      Initialize self.  See help(type(self)) for accurate signature.\n",
      " |  \n",
      " |  display(self, action: dict, value: Any)\n",
      " |  \n",
      " |  get_display(self) -> primehub.utils.display.Displayable\n",
      " |  \n",
      " |  ----------------------------------------------------------------------\n",
      " |  Static methods inherited from primehub.Module:\n",
      " |  \n",
      " |  output(result: dict, object_path: str)\n",
      " |      Give a dict {'data': {'a': {'b': 'c'}}}\n",
      " |      we could get the c by the path a.b\n",
      " |  \n",
      " |  ----------------------------------------------------------------------\n",
      " |  Data descriptors inherited from primehub.Module:\n",
      " |  \n",
      " |  current_group\n",
      " |  \n",
      " |  endpoint\n",
      " |  \n",
      " |  group_id\n",
      " |  \n",
      " |  group_name\n",
      " |  \n",
      " |  primehub_config\n",
      "\n"
     ]
    }
   ],
   "source": [
    "help(ph.admin.users)"
   ]
  },
  {
   "cell_type": "markdown",
   "id": "92b69c96",
   "metadata": {},
   "source": [
    "## User management"
   ]
  },
  {
   "cell_type": "code",
   "execution_count": 3,
   "id": "669a5261",
   "metadata": {},
   "outputs": [
    {
     "name": "stdout",
     "output_type": "stream",
     "text": [
      "Usage: \n",
      "  primehub admin users <command>\n",
      "\n",
      "Manage users\n",
      "\n",
      "Available Commands:\n",
      "  add-group            Add group connection to a user by id\n",
      "  create               Create a user\n",
      "  delete               Delete an user by id\n",
      "  get                  Get an user by id\n",
      "  list                 List users\n",
      "  list-groups          List groups of a user by id\n",
      "  remove-group         Remove group connection from a user by id\n",
      "  reset-password       Reset password by id\n",
      "  update               Update the user\n",
      "\n",
      "Options:\n",
      "  -h, --help           Show the help\n",
      "\n",
      "Global Options:\n",
      "  --config CONFIG      Change the path of the config file (Default: ~/.primehub/config.json)\n",
      "  --endpoint ENDPOINT  Override the GraphQL API endpoint\n",
      "  --token TOKEN        Override the API Token\n",
      "  --group GROUP        Override the current group\n",
      "  --json               Output the json format (output human-friendly format by default)\n"
     ]
    }
   ],
   "source": [
    "!primehub admin users help"
   ]
  },
  {
   "cell_type": "markdown",
   "id": "6dd36d73",
   "metadata": {},
   "source": [
    "For `create` and `update` actions are needed a configuration to mutate a user. Here is the fields table:\n",
    "\n",
    "\n",
    "### Fields\n",
    "\n",
    "| field | required | type | description |\n",
    "| --- | --- | --- | --- |\n",
    "| username | required | string | lower case alphanumeric characters, '-', '.', and underscores (\"_\") are allowed, and must start with a letter or numeric.` |\n",
    "| email | optional | string | a valid email |\n",
    "| firstName | optional | string | |\n",
    "| lastName | optional | string | |\n",
    "| isAdmin | optional | boolean | grant the administrator role to the user |\n",
    "| volumeCapacity | optional | int | customize the size of the user volume. unit: `GB`|\n",
    "| groups | optional | assign the user to groups | please see the `connect` examples |\n",
    "\n",
    "These fields are only used with email activation (only for `create`):\n",
    "\n",
    "| field | required | type | description |\n",
    "| --- | --- | --- | --- |\n",
    "| sendEmail | optional | boolean | send an activation email to the user. (it worked if the smtp was set)|\n",
    "| resetActions.set | optional | string[] | ask for actions, valid actions: `['VERIFY_EMAIL', 'UPDATE_PASSWORD']` |\n",
    "| expiresIn | optional | int | expired duration for the activation email |\n"
   ]
  },
  {
   "cell_type": "markdown",
   "id": "20cd60b9",
   "metadata": {},
   "source": [
    "## Examples"
   ]
  },
  {
   "cell_type": "markdown",
   "id": "a96338c5",
   "metadata": {},
   "source": [
    "You could find [more examples on our github](https://github.com/InfuseAI/primehub-python-sdk/blob/main/docs/CLI/admin/users.md)."
   ]
  },
  {
   "cell_type": "code",
   "execution_count": 4,
   "id": "55b19105",
   "metadata": {},
   "outputs": [],
   "source": [
    "import pandas as pd"
   ]
  },
  {
   "cell_type": "markdown",
   "id": "85e1005e",
   "metadata": {},
   "source": [
    "#### CRUD: User"
   ]
  },
  {
   "cell_type": "code",
   "execution_count": 5,
   "id": "7681961b",
   "metadata": {},
   "outputs": [],
   "source": [
    "# Create a user with admin role\n",
    "config = {\n",
    "  \"username\": \"user-admin-from-jupyter\",\n",
    "  \"groups\": {\n",
    "    \"connect\": [\n",
    "      {\n",
    "        \"id\": ph.group_id\n",
    "      }\n",
    "    ]\n",
    "  },\n",
    "  \"isAdmin\": True\n",
    "}\n",
    "data = ph.admin.users.create(config)"
   ]
  },
  {
   "cell_type": "code",
   "execution_count": 6,
   "id": "d178dcd4",
   "metadata": {},
   "outputs": [
    {
     "data": {
      "text/html": [
       "<div>\n",
       "<style scoped>\n",
       "    .dataframe tbody tr th:only-of-type {\n",
       "        vertical-align: middle;\n",
       "    }\n",
       "\n",
       "    .dataframe tbody tr th {\n",
       "        vertical-align: top;\n",
       "    }\n",
       "\n",
       "    .dataframe thead th {\n",
       "        text-align: right;\n",
       "    }\n",
       "</style>\n",
       "<table border=\"1\" class=\"dataframe\">\n",
       "  <thead>\n",
       "    <tr style=\"text-align: right;\">\n",
       "      <th></th>\n",
       "      <th>id</th>\n",
       "      <th>username</th>\n",
       "      <th>email</th>\n",
       "      <th>firstName</th>\n",
       "      <th>lastName</th>\n",
       "      <th>enabled</th>\n",
       "      <th>isAdmin</th>\n",
       "    </tr>\n",
       "  </thead>\n",
       "  <tbody>\n",
       "    <tr>\n",
       "      <th>20</th>\n",
       "      <td>01711a38-da60-4840-91e0-68094105502f</td>\n",
       "      <td>user-admin-from-jupyter</td>\n",
       "      <td>None</td>\n",
       "      <td>None</td>\n",
       "      <td>None</td>\n",
       "      <td>True</td>\n",
       "      <td>True</td>\n",
       "    </tr>\n",
       "  </tbody>\n",
       "</table>\n",
       "</div>"
      ],
      "text/plain": [
       "                                      id                 username email  \\\n",
       "20  01711a38-da60-4840-91e0-68094105502f  user-admin-from-jupyter  None   \n",
       "\n",
       "   firstName lastName  enabled  isAdmin  \n",
       "20      None     None     True     True  "
      ]
     },
     "execution_count": 6,
     "metadata": {},
     "output_type": "execute_result"
    }
   ],
   "source": [
    "# List users\n",
    "user_df = pd.DataFrame(ph.admin.users.list())\n",
    "user_df[user_df['username'] == config['username']]"
   ]
  },
  {
   "cell_type": "code",
   "execution_count": 7,
   "id": "b67e984b",
   "metadata": {},
   "outputs": [
    {
     "data": {
      "text/plain": [
       "{'id': '01711a38-da60-4840-91e0-68094105502f',\n",
       " 'username': 'user-admin-from-jupyter',\n",
       " 'email': None,\n",
       " 'firstName': None,\n",
       " 'lastName': None,\n",
       " 'enabled': True,\n",
       " 'isAdmin': True,\n",
       " 'volumeCapacity': None,\n",
       " 'groups': [{'id': '0449b887-5c40-44ba-a945-41bc21c8d15a',\n",
       "   'name': 'InfuseAI',\n",
       "   'displayName': 'InfuseAI',\n",
       "   'quotaCpu': 6,\n",
       "   'quotaGpu': 2}]}"
      ]
     },
     "execution_count": 7,
     "metadata": {},
     "output_type": "execute_result"
    }
   ],
   "source": [
    "# Get the user details\n",
    "ph.admin.users.get(data['id'])"
   ]
  },
  {
   "cell_type": "code",
   "execution_count": 8,
   "id": "e4ead361",
   "metadata": {},
   "outputs": [
    {
     "data": {
      "text/plain": [
       "{'id': '01711a38-da60-4840-91e0-68094105502f',\n",
       " 'username': 'user-admin-from-jupyter',\n",
       " 'email': None,\n",
       " 'firstName': None,\n",
       " 'lastName': None,\n",
       " 'enabled': True,\n",
       " 'isAdmin': False,\n",
       " 'volumeCapacity': None,\n",
       " 'groups': [{'id': '0449b887-5c40-44ba-a945-41bc21c8d15a',\n",
       "   'name': 'InfuseAI',\n",
       "   'displayName': 'InfuseAI',\n",
       "   'quotaCpu': 6,\n",
       "   'quotaGpu': 2}]}"
      ]
     },
     "execution_count": 8,
     "metadata": {},
     "output_type": "execute_result"
    }
   ],
   "source": [
    "# Update the user config setting.\n",
    "update_config = {\"isAdmin\": False}\n",
    "data = ph.admin.users.update(data['id'], update_config)\n",
    "ph.admin.users.get(data['id'])"
   ]
  },
  {
   "cell_type": "code",
   "execution_count": 9,
   "id": "ceeb58be",
   "metadata": {},
   "outputs": [
    {
     "data": {
      "text/plain": [
       "{'id': '01711a38-da60-4840-91e0-68094105502f'}"
      ]
     },
     "execution_count": 9,
     "metadata": {},
     "output_type": "execute_result"
    }
   ],
   "source": [
    "# reset_password\n",
    "ph.admin.users.reset_password(id=data['id'], password=\"test_reset_password\", temporary=True)"
   ]
  },
  {
   "cell_type": "code",
   "execution_count": 10,
   "id": "eb03657b",
   "metadata": {},
   "outputs": [
    {
     "data": {
      "text/plain": [
       "{'id': '01711a38-da60-4840-91e0-68094105502f',\n",
       " 'username': 'user-admin-from-jupyter'}"
      ]
     },
     "execution_count": 10,
     "metadata": {},
     "output_type": "execute_result"
    }
   ],
   "source": [
    "# Delete the user\n",
    "ph.admin.users.delete(data['id'])"
   ]
  },
  {
   "cell_type": "markdown",
   "id": "419e6d81",
   "metadata": {},
   "source": [
    "#### CRUD: User <-> Group"
   ]
  },
  {
   "cell_type": "code",
   "execution_count": 11,
   "id": "6638468d",
   "metadata": {},
   "outputs": [],
   "source": [
    "# Create a user with admin role\n",
    "config = {\n",
    "  \"username\": \"user-admin-from-jupyter-group\",\n",
    "  \"groups\": {\n",
    "    \"connect\": [\n",
    "      {\n",
    "        \"id\": ph.group_id\n",
    "      }\n",
    "    ]\n",
    "  },\n",
    "  \"isAdmin\": True\n",
    "}\n",
    "data = ph.admin.users.create(config)"
   ]
  },
  {
   "cell_type": "code",
   "execution_count": 12,
   "id": "905f59c1",
   "metadata": {},
   "outputs": [
    {
     "data": {
      "text/html": [
       "<div>\n",
       "<style scoped>\n",
       "    .dataframe tbody tr th:only-of-type {\n",
       "        vertical-align: middle;\n",
       "    }\n",
       "\n",
       "    .dataframe tbody tr th {\n",
       "        vertical-align: top;\n",
       "    }\n",
       "\n",
       "    .dataframe thead th {\n",
       "        text-align: right;\n",
       "    }\n",
       "</style>\n",
       "<table border=\"1\" class=\"dataframe\">\n",
       "  <thead>\n",
       "    <tr style=\"text-align: right;\">\n",
       "      <th></th>\n",
       "      <th>id</th>\n",
       "      <th>name</th>\n",
       "      <th>displayName</th>\n",
       "    </tr>\n",
       "  </thead>\n",
       "  <tbody>\n",
       "    <tr>\n",
       "      <th>0</th>\n",
       "      <td>0449b887-5c40-44ba-a945-41bc21c8d15a</td>\n",
       "      <td>InfuseAI</td>\n",
       "      <td>InfuseAI</td>\n",
       "    </tr>\n",
       "  </tbody>\n",
       "</table>\n",
       "</div>"
      ],
      "text/plain": [
       "                                     id      name displayName\n",
       "0  0449b887-5c40-44ba-a945-41bc21c8d15a  InfuseAI    InfuseAI"
      ]
     },
     "execution_count": 12,
     "metadata": {},
     "output_type": "execute_result"
    }
   ],
   "source": [
    "# Show the user group list\n",
    "\n",
    "user_group_df = pd.DataFrame(ph.admin.users.list_groups(data[\"id\"]))\n",
    "user_group_df"
   ]
  },
  {
   "cell_type": "code",
   "execution_count": 13,
   "id": "4ef09007",
   "metadata": {},
   "outputs": [],
   "source": [
    "# Add the user into group\n",
    "groups_df = pd.DataFrame(ph.admin.groups.list())\n",
    "groups_id = groups_df[\"id\"][0]\n",
    "ph.admin.users.add_group(data[\"id\"], groups_id)"
   ]
  },
  {
   "cell_type": "code",
   "execution_count": 14,
   "id": "7a0ef44f",
   "metadata": {},
   "outputs": [
    {
     "data": {
      "text/html": [
       "<div>\n",
       "<style scoped>\n",
       "    .dataframe tbody tr th:only-of-type {\n",
       "        vertical-align: middle;\n",
       "    }\n",
       "\n",
       "    .dataframe tbody tr th {\n",
       "        vertical-align: top;\n",
       "    }\n",
       "\n",
       "    .dataframe thead th {\n",
       "        text-align: right;\n",
       "    }\n",
       "</style>\n",
       "<table border=\"1\" class=\"dataframe\">\n",
       "  <thead>\n",
       "    <tr style=\"text-align: right;\">\n",
       "      <th></th>\n",
       "      <th>id</th>\n",
       "      <th>name</th>\n",
       "      <th>displayName</th>\n",
       "    </tr>\n",
       "  </thead>\n",
       "  <tbody>\n",
       "    <tr>\n",
       "      <th>0</th>\n",
       "      <td>71ac1e32-65fa-4e8e-a735-ba282e3149b1</td>\n",
       "      <td>AnotherTestGroup</td>\n",
       "      <td>Another Test Group</td>\n",
       "    </tr>\n",
       "    <tr>\n",
       "      <th>1</th>\n",
       "      <td>0449b887-5c40-44ba-a945-41bc21c8d15a</td>\n",
       "      <td>InfuseAI</td>\n",
       "      <td>InfuseAI</td>\n",
       "    </tr>\n",
       "  </tbody>\n",
       "</table>\n",
       "</div>"
      ],
      "text/plain": [
       "                                     id              name         displayName\n",
       "0  71ac1e32-65fa-4e8e-a735-ba282e3149b1  AnotherTestGroup  Another Test Group\n",
       "1  0449b887-5c40-44ba-a945-41bc21c8d15a          InfuseAI            InfuseAI"
      ]
     },
     "execution_count": 14,
     "metadata": {},
     "output_type": "execute_result"
    }
   ],
   "source": [
    "# Show the user group list\n",
    "\n",
    "user_group_df = pd.DataFrame(ph.admin.users.list_groups(data[\"id\"]))\n",
    "user_group_df"
   ]
  },
  {
   "cell_type": "code",
   "execution_count": 15,
   "id": "772962c2",
   "metadata": {},
   "outputs": [],
   "source": [
    "# Remove the user out of group\n",
    "ph.admin.users.remove_group(data[\"id\"], groups_id)"
   ]
  },
  {
   "cell_type": "code",
   "execution_count": 16,
   "id": "ca943be3",
   "metadata": {},
   "outputs": [
    {
     "data": {
      "text/html": [
       "<div>\n",
       "<style scoped>\n",
       "    .dataframe tbody tr th:only-of-type {\n",
       "        vertical-align: middle;\n",
       "    }\n",
       "\n",
       "    .dataframe tbody tr th {\n",
       "        vertical-align: top;\n",
       "    }\n",
       "\n",
       "    .dataframe thead th {\n",
       "        text-align: right;\n",
       "    }\n",
       "</style>\n",
       "<table border=\"1\" class=\"dataframe\">\n",
       "  <thead>\n",
       "    <tr style=\"text-align: right;\">\n",
       "      <th></th>\n",
       "      <th>id</th>\n",
       "      <th>name</th>\n",
       "      <th>displayName</th>\n",
       "    </tr>\n",
       "  </thead>\n",
       "  <tbody>\n",
       "    <tr>\n",
       "      <th>0</th>\n",
       "      <td>0449b887-5c40-44ba-a945-41bc21c8d15a</td>\n",
       "      <td>InfuseAI</td>\n",
       "      <td>InfuseAI</td>\n",
       "    </tr>\n",
       "  </tbody>\n",
       "</table>\n",
       "</div>"
      ],
      "text/plain": [
       "                                     id      name displayName\n",
       "0  0449b887-5c40-44ba-a945-41bc21c8d15a  InfuseAI    InfuseAI"
      ]
     },
     "execution_count": 16,
     "metadata": {},
     "output_type": "execute_result"
    }
   ],
   "source": [
    "# Show the user group list\n",
    "\n",
    "user_group_df = pd.DataFrame(ph.admin.users.list_groups(data[\"id\"]))\n",
    "user_group_df"
   ]
  },
  {
   "cell_type": "code",
   "execution_count": 17,
   "id": "486f0c4f",
   "metadata": {},
   "outputs": [
    {
     "data": {
      "text/plain": [
       "{'id': '29541eb1-42cd-4b94-ac93-04d798986885',\n",
       " 'username': 'user-admin-from-jupyter-group'}"
      ]
     },
     "execution_count": 17,
     "metadata": {},
     "output_type": "execute_result"
    }
   ],
   "source": [
    "# Delete the user\n",
    "ph.admin.users.delete(data['id'])"
   ]
  }
 ],
 "metadata": {
  "kernelspec": {
   "display_name": "Python 3",
   "language": "python",
   "name": "python3"
  },
  "language_info": {
   "codemirror_mode": {
    "name": "ipython",
    "version": 3
   },
   "file_extension": ".py",
   "mimetype": "text/x-python",
   "name": "python",
   "nbconvert_exporter": "python",
   "pygments_lexer": "ipython3",
   "version": "3.7.10"
  }
 },
 "nbformat": 4,
 "nbformat_minor": 5
}
