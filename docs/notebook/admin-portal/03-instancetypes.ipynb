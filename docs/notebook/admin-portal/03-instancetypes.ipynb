{
 "cells": [
  {
   "cell_type": "markdown",
   "id": "e4a450cc",
   "metadata": {},
   "source": [
    "# [admin] Instancetypes command\n",
    "\n",
    "\n",
    "The `instancetypes` command in `admin` scope could help you manage instancetypes.\n"
   ]
  },
  {
   "cell_type": "markdown",
   "id": "a8cc7ae7",
   "metadata": {},
   "source": [
    "## Setup PrimeHub Python SDK\n"
   ]
  },
  {
   "cell_type": "code",
   "execution_count": 1,
   "id": "a2cca202",
   "metadata": {},
   "outputs": [
    {
     "name": "stdout",
     "output_type": "stream",
     "text": [
      "PrimeHub Python SDK setup successfully\n"
     ]
    }
   ],
   "source": [
    "from primehub import PrimeHub, PrimeHubConfig\n",
    "ph = PrimeHub(PrimeHubConfig())\n",
    "\n",
    "if ph.is_ready():\n",
    "    print(\"PrimeHub Python SDK setup successfully\")\n",
    "else:\n",
    "    print(\"PrimeHub Python SDK couldn't get the group information, follow the 00-getting-started.ipynb to complete it\")"
   ]
  },
  {
   "cell_type": "markdown",
   "id": "4985c74c",
   "metadata": {},
   "source": [
    "## Help documentation"
   ]
  },
  {
   "cell_type": "code",
   "execution_count": 2,
   "id": "c689b716",
   "metadata": {},
   "outputs": [
    {
     "name": "stdout",
     "output_type": "stream",
     "text": [
      "Help on AdminInstanceTypes in module primehub.admin_instancetypes object:\n",
      "\n",
      "class AdminInstanceTypes(primehub.Helpful, primehub.Module)\n",
      " |  AdminInstanceTypes(primehub: primehub.PrimeHub, **kwargs)\n",
      " |  \n",
      " |  Method resolution order:\n",
      " |      AdminInstanceTypes\n",
      " |      primehub.Helpful\n",
      " |      primehub.Module\n",
      " |      primehub.HTTPSupport\n",
      " |      builtins.object\n",
      " |  \n",
      " |  Methods defined here:\n",
      " |  \n",
      " |  add_group(self, id: str, group_id)\n",
      " |      Add group connection to an instance type by id.\n",
      " |      \n",
      " |      :type id: str\n",
      " |      :param id: the id of an instance type\n",
      " |      :type group_id: str\n",
      " |      :param group_id: group id\n",
      " |      \n",
      " |      :rtype dict\n",
      " |      :return an instance type with groups only\n",
      " |  \n",
      " |  create(self, config)\n",
      " |      Create an instance type\n",
      " |      \n",
      " |      :type config: dict\n",
      " |      :param config: The configurations for creating an instance type\n",
      " |      \n",
      " |      :rtype dict\n",
      " |      :return The instance type\n",
      " |  \n",
      " |  delete(self, id)\n",
      " |      Delete an instance type by id\n",
      " |      \n",
      " |      :type id: str\n",
      " |      :param id: the id of an instance type\n",
      " |      \n",
      " |      :rtype dict\n",
      " |      :return an instance type\n",
      " |  \n",
      " |  get(self, id: str) -> dict\n",
      " |      Get an instance type by id\n",
      " |      \n",
      " |      :type id: str\n",
      " |      :param id: the id of an instance type\n",
      " |      \n",
      " |      :rtype dict\n",
      " |      :return an instance type\n",
      " |  \n",
      " |  help_description(self)\n",
      " |      one line description for all commands\n",
      " |  \n",
      " |  list(self, **kwargs) -> Iterator\n",
      " |      List instance type\n",
      " |      \n",
      " |      :type page: int\n",
      " |      :param page: the page of all data\n",
      " |      \n",
      " |      :rtype Iterator\n",
      " |      :return instance type iterator\n",
      " |  \n",
      " |  list_groups(self, id: str)\n",
      " |      List groups of an instance type by id. It will return empty list if the instance type is at the global scope.\n",
      " |      \n",
      " |      :type id: str\n",
      " |      :param id: the id of an instance type\n",
      " |      \n",
      " |      :rtype list\n",
      " |      :return groups\n",
      " |  \n",
      " |  remove_group(self, id: str, group_id)\n",
      " |      Remove group connection from an instance type by id.\n",
      " |      \n",
      " |      :type id: str\n",
      " |      :param id: the id of an instance type\n",
      " |      :type group_id: str\n",
      " |      :param group_id: group id\n",
      " |      \n",
      " |      :rtype dict\n",
      " |      :return an instance type with groups only\n",
      " |  \n",
      " |  update(self, id: str, config: dict)\n",
      " |  \n",
      " |  ----------------------------------------------------------------------\n",
      " |  Data and other attributes defined here:\n",
      " |  \n",
      " |  __abstractmethods__ = frozenset()\n",
      " |  \n",
      " |  ----------------------------------------------------------------------\n",
      " |  Data descriptors inherited from primehub.Helpful:\n",
      " |  \n",
      " |  __dict__\n",
      " |      dictionary for instance variables (if defined)\n",
      " |  \n",
      " |  __weakref__\n",
      " |      list of weak references to the object (if defined)\n",
      " |  \n",
      " |  ----------------------------------------------------------------------\n",
      " |  Methods inherited from primehub.Module:\n",
      " |  \n",
      " |  __init__(self, primehub: primehub.PrimeHub, **kwargs)\n",
      " |      Initialize self.  See help(type(self)) for accurate signature.\n",
      " |  \n",
      " |  display(self, action: dict, value: Any)\n",
      " |  \n",
      " |  get_display(self) -> primehub.utils.display.Displayable\n",
      " |  \n",
      " |  ----------------------------------------------------------------------\n",
      " |  Static methods inherited from primehub.Module:\n",
      " |  \n",
      " |  output(result: dict, object_path: str)\n",
      " |      Give a dict {'data': {'a': {'b': 'c'}}}\n",
      " |      we could get the c by the path a.b\n",
      " |  \n",
      " |  ----------------------------------------------------------------------\n",
      " |  Data descriptors inherited from primehub.Module:\n",
      " |  \n",
      " |  current_group\n",
      " |  \n",
      " |  endpoint\n",
      " |  \n",
      " |  group_id\n",
      " |  \n",
      " |  group_name\n",
      " |  \n",
      " |  primehub_config\n",
      "\n"
     ]
    }
   ],
   "source": [
    "help(ph.admin.instancetypes)"
   ]
  },
  {
   "cell_type": "markdown",
   "id": "1f094faa",
   "metadata": {},
   "source": [
    "## InstanceTypes management"
   ]
  },
  {
   "cell_type": "code",
   "execution_count": 3,
   "id": "8e1ffe49",
   "metadata": {},
   "outputs": [
    {
     "name": "stdout",
     "output_type": "stream",
     "text": [
      "Usage: \n",
      "  primehub admin instancetypes <command>\n",
      "\n",
      "Manage instance type\n",
      "\n",
      "Available Commands:\n",
      "  add-group            Add group connection to an instance type by id\n",
      "  create               Create an instance type\n",
      "  delete               Delete an instance type by id\n",
      "  get                  Get an instance type by id\n",
      "  list                 List instance type\n",
      "  list-groups          List groups of an instance type by id\n",
      "  remove-group         Remove group connection from an instance type by id\n",
      "  update               Update the instance type\n",
      "\n",
      "Options:\n",
      "  -h, --help           Show the help\n",
      "\n",
      "Global Options:\n",
      "  --config CONFIG      Change the path of the config file (Default: ~/.primehub/config.json)\n",
      "  --endpoint ENDPOINT  Override the GraphQL API endpoint\n",
      "  --token TOKEN        Override the API Token\n",
      "  --group GROUP        Override the current group\n",
      "  --json               Output the json format (output human-friendly format by default)\n"
     ]
    }
   ],
   "source": [
    "!primehub admin instancetypes help"
   ]
  },
  {
   "cell_type": "markdown",
   "id": "3fbba456",
   "metadata": {},
   "source": [
    "### Fields for creating or updating\n",
    "\n",
    "| field | required | type | description |\n",
    "| --- | --- | --- | --- |\n",
    "| name | required | string | it should be a valid resource name for kubernetes. `name` will be ignored when updating |\n",
    "| displayName | optional | string | display name for the instance type |\n",
    "| description | optional | string | |\n",
    "| global | optional | boolean | when an instance type is global, it could be seen for each group |\n",
    "| groups | optional | list of connected groups (dict) | please see the `connect` examples. default value: false |\n",
    "| cpuLimit | required* | float | the maximum vCPU quantity. For example: `1` or `1.0` means 1 vCPU and `0.5` means half of vCPU |\n",
    "| cpuRequest | optional | float | the initial vCPU quantity for CPU resource. cpuRequest can not be greater than cpuLimit |\n",
    "| memoryLimit | required* | float | the maximum Memory size. For example: `1.5` means `1.5 GB` memory |\n",
    "| memoryRequest | optional | float | the initial Memory size. memoryRequest can not be greater than memoryLimit |\n",
    "| gpuLimit | optional | int | the count of GPU when an instance allocated |\n",
    "| tolerations | optional | dict | kubernetes pod toleration in an instance (Pod) |\n",
    "| nodeSelector | optional | dict | kubernetes pod nodeSelector in an instance (Pod) |\n",
    "\n",
    "#### Auto-filling Fields\n",
    "Auto-filling will happen when the configuration omitted fields\n",
    "\n",
    "| field\t| value\t| description |\n",
    "| --- | --- | --- |\n",
    "| cpuLimit\t| 1\t| 1 vCPU |\n",
    "| memoryLimit\t| 1\t| 1 GB memory |\n"
   ]
  },
  {
   "cell_type": "markdown",
   "id": "8b436c4b",
   "metadata": {},
   "source": [
    "## Examples"
   ]
  },
  {
   "cell_type": "markdown",
   "id": "6f80e791",
   "metadata": {},
   "source": [
    "You could find [more examples on our github](https://github.com/InfuseAI/primehub-python-sdk/blob/main/docs/CLI/admin/instancetypes.md)."
   ]
  },
  {
   "cell_type": "code",
   "execution_count": 4,
   "id": "9a24c0c7",
   "metadata": {},
   "outputs": [],
   "source": [
    "import pandas as pd"
   ]
  },
  {
   "cell_type": "markdown",
   "id": "336080a3",
   "metadata": {},
   "source": [
    "#### CRUD: instance type"
   ]
  },
  {
   "cell_type": "code",
   "execution_count": 5,
   "id": "0b51010b",
   "metadata": {},
   "outputs": [],
   "source": [
    "# create an instance type\n",
    "config = {\n",
    "  \"name\": \"cpu-instance-by-sdk\",\n",
    "  \"displayName\": \"CPU 1\",\n",
    "  \"description\": \"1 vCPU / 1G Memory\",\n",
    "  \"cpuLimit\": 1,\n",
    "  \"memoryLimit\": 1,\n",
    "  \"gpuLimit\": 0,\n",
    "  \"global\": True\n",
    "}\n",
    "data = ph.admin.instancetypes.create(config)"
   ]
  },
  {
   "cell_type": "code",
   "execution_count": 6,
   "id": "3f095cc6",
   "metadata": {},
   "outputs": [
    {
     "data": {
      "text/html": [
       "<div>\n",
       "<style scoped>\n",
       "    .dataframe tbody tr th:only-of-type {\n",
       "        vertical-align: middle;\n",
       "    }\n",
       "\n",
       "    .dataframe tbody tr th {\n",
       "        vertical-align: top;\n",
       "    }\n",
       "\n",
       "    .dataframe thead th {\n",
       "        text-align: right;\n",
       "    }\n",
       "</style>\n",
       "<table border=\"1\" class=\"dataframe\">\n",
       "  <thead>\n",
       "    <tr style=\"text-align: right;\">\n",
       "      <th></th>\n",
       "      <th>id</th>\n",
       "      <th>name</th>\n",
       "      <th>displayName</th>\n",
       "      <th>description</th>\n",
       "      <th>cpuLimit</th>\n",
       "      <th>memoryLimit</th>\n",
       "      <th>gpuLimit</th>\n",
       "    </tr>\n",
       "  </thead>\n",
       "  <tbody>\n",
       "    <tr>\n",
       "      <th>6</th>\n",
       "      <td>cpu-instance-by-sdk</td>\n",
       "      <td>cpu-instance-by-sdk</td>\n",
       "      <td>CPU 1</td>\n",
       "      <td>1 vCPU / 1G Memory</td>\n",
       "      <td>1.0</td>\n",
       "      <td>1</td>\n",
       "      <td>0</td>\n",
       "    </tr>\n",
       "  </tbody>\n",
       "</table>\n",
       "</div>"
      ],
      "text/plain": [
       "                    id                 name displayName         description  \\\n",
       "6  cpu-instance-by-sdk  cpu-instance-by-sdk       CPU 1  1 vCPU / 1G Memory   \n",
       "\n",
       "   cpuLimit  memoryLimit  gpuLimit  \n",
       "6       1.0            1         0  "
      ]
     },
     "execution_count": 6,
     "metadata": {},
     "output_type": "execute_result"
    }
   ],
   "source": [
    "# List users\n",
    "instance_type_df = pd.DataFrame(ph.admin.instancetypes.list())\n",
    "instance_type_df[instance_type_df['name'] == config['name']]"
   ]
  },
  {
   "cell_type": "code",
   "execution_count": 7,
   "id": "caf6fb80",
   "metadata": {},
   "outputs": [
    {
     "data": {
      "text/plain": [
       "{'id': 'cpu-instance-by-sdk',\n",
       " 'cpuRequest': None,\n",
       " 'memoryRequest': None,\n",
       " 'global': True,\n",
       " 'groups': [],\n",
       " 'tolerations': [],\n",
       " 'nodeSelector': None,\n",
       " 'name': 'cpu-instance-by-sdk',\n",
       " 'displayName': 'CPU 1',\n",
       " 'description': '1 vCPU / 1G Memory',\n",
       " 'cpuLimit': 1,\n",
       " 'memoryLimit': 1,\n",
       " 'gpuLimit': 0}"
      ]
     },
     "execution_count": 7,
     "metadata": {},
     "output_type": "execute_result"
    }
   ],
   "source": [
    "# get deatils by id\n",
    "ph.admin.instancetypes.get(data['id'])"
   ]
  },
  {
   "cell_type": "code",
   "execution_count": 8,
   "id": "bfbf1a5d",
   "metadata": {},
   "outputs": [
    {
     "data": {
      "text/plain": [
       "{'id': 'cpu-instance-by-sdk',\n",
       " 'cpuRequest': None,\n",
       " 'memoryRequest': None,\n",
       " 'global': True,\n",
       " 'groups': [],\n",
       " 'tolerations': [],\n",
       " 'nodeSelector': {},\n",
       " 'name': 'cpu-instance-by-sdk',\n",
       " 'displayName': 'CPU 1',\n",
       " 'description': '1 vCPU / 1G Memory',\n",
       " 'cpuLimit': 1,\n",
       " 'memoryLimit': 2,\n",
       " 'gpuLimit': 0}"
      ]
     },
     "execution_count": 8,
     "metadata": {},
     "output_type": "execute_result"
    }
   ],
   "source": [
    "# Update the user config setting.\n",
    "update_config = {\"memoryLimit\": 2}\n",
    "data = ph.admin.instancetypes.update(data['id'], update_config)\n",
    "ph.admin.instancetypes.get(data['id'])"
   ]
  },
  {
   "cell_type": "code",
   "execution_count": 9,
   "id": "868ab9a0",
   "metadata": {},
   "outputs": [
    {
     "data": {
      "text/plain": [
       "{'id': 'cpu-instance-by-sdk'}"
      ]
     },
     "execution_count": 9,
     "metadata": {},
     "output_type": "execute_result"
    }
   ],
   "source": [
    "# delete the instance type\n",
    "ph.admin.instancetypes.delete(data['id'])"
   ]
  },
  {
   "cell_type": "markdown",
   "id": "748e57d7",
   "metadata": {},
   "source": [
    "#### CRUD: instance type <-> Group"
   ]
  },
  {
   "cell_type": "code",
   "execution_count": 10,
   "id": "5c96b542",
   "metadata": {},
   "outputs": [],
   "source": [
    "# create an instance type\n",
    "config = {\n",
    "  \"name\": \"cpu-instance-by-sdk-group\",\n",
    "  \"displayName\": \"CPU 1\",\n",
    "  \"description\": \"1 vCPU / 1G Memory\",\n",
    "  \"cpuLimit\": 1,\n",
    "  \"memoryLimit\": 1,\n",
    "  \"gpuLimit\": 0,\n",
    "  \"global\": False\n",
    "}\n",
    "data = ph.admin.instancetypes.create(config)"
   ]
  },
  {
   "cell_type": "code",
   "execution_count": 11,
   "id": "43e8e78a",
   "metadata": {},
   "outputs": [
    {
     "data": {
      "text/html": [
       "<div>\n",
       "<style scoped>\n",
       "    .dataframe tbody tr th:only-of-type {\n",
       "        vertical-align: middle;\n",
       "    }\n",
       "\n",
       "    .dataframe tbody tr th {\n",
       "        vertical-align: top;\n",
       "    }\n",
       "\n",
       "    .dataframe thead th {\n",
       "        text-align: right;\n",
       "    }\n",
       "</style>\n",
       "<table border=\"1\" class=\"dataframe\">\n",
       "  <thead>\n",
       "    <tr style=\"text-align: right;\">\n",
       "      <th></th>\n",
       "    </tr>\n",
       "  </thead>\n",
       "  <tbody>\n",
       "  </tbody>\n",
       "</table>\n",
       "</div>"
      ],
      "text/plain": [
       "Empty DataFrame\n",
       "Columns: []\n",
       "Index: []"
      ]
     },
     "execution_count": 11,
     "metadata": {},
     "output_type": "execute_result"
    }
   ],
   "source": [
    "# Show the instance type group list\n",
    "\n",
    "instance_type_group_df = pd.DataFrame(ph.admin.instancetypes.list_groups(data[\"id\"]))\n",
    "instance_type_group_df"
   ]
  },
  {
   "cell_type": "code",
   "execution_count": 12,
   "id": "2b546baa",
   "metadata": {},
   "outputs": [],
   "source": [
    "# Add the instance type into group\n",
    "groups_df = pd.DataFrame(ph.admin.groups.list())\n",
    "groups_id = groups_df[\"id\"][0]\n",
    "ph.admin.instancetypes.add_group(data[\"id\"], groups_id)"
   ]
  },
  {
   "cell_type": "code",
   "execution_count": 13,
   "id": "de391154",
   "metadata": {},
   "outputs": [
    {
     "data": {
      "text/html": [
       "<div>\n",
       "<style scoped>\n",
       "    .dataframe tbody tr th:only-of-type {\n",
       "        vertical-align: middle;\n",
       "    }\n",
       "\n",
       "    .dataframe tbody tr th {\n",
       "        vertical-align: top;\n",
       "    }\n",
       "\n",
       "    .dataframe thead th {\n",
       "        text-align: right;\n",
       "    }\n",
       "</style>\n",
       "<table border=\"1\" class=\"dataframe\">\n",
       "  <thead>\n",
       "    <tr style=\"text-align: right;\">\n",
       "      <th></th>\n",
       "      <th>id</th>\n",
       "      <th>name</th>\n",
       "      <th>displayName</th>\n",
       "    </tr>\n",
       "  </thead>\n",
       "  <tbody>\n",
       "    <tr>\n",
       "      <th>0</th>\n",
       "      <td>71ac1e32-65fa-4e8e-a735-ba282e3149b1</td>\n",
       "      <td>AnotherTestGroup</td>\n",
       "      <td>Another Test Group</td>\n",
       "    </tr>\n",
       "  </tbody>\n",
       "</table>\n",
       "</div>"
      ],
      "text/plain": [
       "                                     id              name         displayName\n",
       "0  71ac1e32-65fa-4e8e-a735-ba282e3149b1  AnotherTestGroup  Another Test Group"
      ]
     },
     "execution_count": 13,
     "metadata": {},
     "output_type": "execute_result"
    }
   ],
   "source": [
    "# Show the instance type group list\n",
    "\n",
    "user_group_df = pd.DataFrame(ph.admin.instancetypes.list_groups(data[\"id\"]))\n",
    "user_group_df"
   ]
  },
  {
   "cell_type": "code",
   "execution_count": 14,
   "id": "09861e10",
   "metadata": {},
   "outputs": [],
   "source": [
    "# Remove the instance type out of group\n",
    "ph.admin.instancetypes.remove_group(data[\"id\"], groups_id)"
   ]
  },
  {
   "cell_type": "code",
   "execution_count": 15,
   "id": "f6f8c19f",
   "metadata": {},
   "outputs": [
    {
     "data": {
      "text/html": [
       "<div>\n",
       "<style scoped>\n",
       "    .dataframe tbody tr th:only-of-type {\n",
       "        vertical-align: middle;\n",
       "    }\n",
       "\n",
       "    .dataframe tbody tr th {\n",
       "        vertical-align: top;\n",
       "    }\n",
       "\n",
       "    .dataframe thead th {\n",
       "        text-align: right;\n",
       "    }\n",
       "</style>\n",
       "<table border=\"1\" class=\"dataframe\">\n",
       "  <thead>\n",
       "    <tr style=\"text-align: right;\">\n",
       "      <th></th>\n",
       "    </tr>\n",
       "  </thead>\n",
       "  <tbody>\n",
       "  </tbody>\n",
       "</table>\n",
       "</div>"
      ],
      "text/plain": [
       "Empty DataFrame\n",
       "Columns: []\n",
       "Index: []"
      ]
     },
     "execution_count": 15,
     "metadata": {},
     "output_type": "execute_result"
    }
   ],
   "source": [
    "# Show the instance type group list\n",
    "\n",
    "user_group_df = pd.DataFrame(ph.admin.instancetypes.list_groups(data[\"id\"]))\n",
    "user_group_df"
   ]
  },
  {
   "cell_type": "code",
   "execution_count": 16,
   "id": "a5a222af",
   "metadata": {},
   "outputs": [
    {
     "data": {
      "text/plain": [
       "{'id': 'cpu-instance-by-sdk-group'}"
      ]
     },
     "execution_count": 16,
     "metadata": {},
     "output_type": "execute_result"
    }
   ],
   "source": [
    "# Delete the instance type\n",
    "ph.admin.instancetypes.delete(data['id'])"
   ]
  }
 ],
 "metadata": {
  "kernelspec": {
   "display_name": "Python 3",
   "language": "python",
   "name": "python3"
  },
  "language_info": {
   "codemirror_mode": {
    "name": "ipython",
    "version": 3
   },
   "file_extension": ".py",
   "mimetype": "text/x-python",
   "name": "python",
   "nbconvert_exporter": "python",
   "pygments_lexer": "ipython3",
   "version": "3.7.10"
  }
 },
 "nbformat": 4,
 "nbformat_minor": 5
}
