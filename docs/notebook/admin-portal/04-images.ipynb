{
 "cells": [
  {
   "cell_type": "markdown",
   "id": "6c0774fa",
   "metadata": {},
   "source": [
    "# [admin] Images command\n",
    "\n",
    "\n",
    "The `images` command in `admin` scope could help you manage images.\n"
   ]
  },
  {
   "cell_type": "markdown",
   "id": "a685aa5a",
   "metadata": {},
   "source": [
    "## Setup PrimeHub Python SDK\n"
   ]
  },
  {
   "cell_type": "code",
   "execution_count": 2,
   "id": "c3ef3937",
   "metadata": {},
   "outputs": [
    {
     "name": "stdout",
     "output_type": "stream",
     "text": [
      "PrimeHub Python SDK setup successfully\n"
     ]
    }
   ],
   "source": [
    "from primehub import PrimeHub, PrimeHubConfig\n",
    "ph = PrimeHub(PrimeHubConfig())\n",
    "\n",
    "if ph.is_ready():\n",
    "    print(\"PrimeHub Python SDK setup successfully\")\n",
    "else:\n",
    "    print(\"PrimeHub Python SDK couldn't get the group information, follow the 00-getting-started.ipynb to complete it\")"
   ]
  },
  {
   "cell_type": "markdown",
   "id": "cfe89ae1",
   "metadata": {},
   "source": [
    "## Help documentation"
   ]
  },
  {
   "cell_type": "code",
   "execution_count": 3,
   "id": "87e0c69f",
   "metadata": {},
   "outputs": [
    {
     "name": "stdout",
     "output_type": "stream",
     "text": [
      "Help on AdminImages in module primehub.admin_images object:\n",
      "\n",
      "class AdminImages(primehub.Helpful, primehub.Module)\n",
      " |  AdminImages(primehub: primehub.PrimeHub, **kwargs)\n",
      " |  \n",
      " |  Method resolution order:\n",
      " |      AdminImages\n",
      " |      primehub.Helpful\n",
      " |      primehub.Module\n",
      " |      primehub.HTTPSupport\n",
      " |      builtins.object\n",
      " |  \n",
      " |  Methods defined here:\n",
      " |  \n",
      " |  add_group(self, id: str, group_id)\n",
      " |      Add group connection to an image by id.\n",
      " |      \n",
      " |      :type id: str\n",
      " |      :param id: the id of an image\n",
      " |      :type group_id: str\n",
      " |      :param group_id: group id\n",
      " |      \n",
      " |      :rtype dict\n",
      " |      :return an image with groups only\n",
      " |  \n",
      " |  create(self, config)\n",
      " |      Create an image\n",
      " |      \n",
      " |      :type config: dict\n",
      " |      :param config: The configurations for creating an image\n",
      " |      \n",
      " |      :rtype dict\n",
      " |      :return The image\n",
      " |  \n",
      " |  delete(self, id)\n",
      " |      Delete an image by id\n",
      " |      \n",
      " |      :type id: str\n",
      " |      :param id: the id of an image\n",
      " |      \n",
      " |      :rtype dict\n",
      " |      :return an image\n",
      " |  \n",
      " |  get(self, id: str) -> dict\n",
      " |      Get an image by id\n",
      " |      \n",
      " |      :type id: str\n",
      " |      :param id: the id of an image\n",
      " |      \n",
      " |      :rtype dict\n",
      " |      :return an image\n",
      " |  \n",
      " |  help_description(self)\n",
      " |      one line description for all commands\n",
      " |  \n",
      " |  list(self, **kwargs) -> Iterator\n",
      " |      List images\n",
      " |      \n",
      " |      :type page: int\n",
      " |      :param page: the page of all data\n",
      " |      \n",
      " |      :rtype Iterator\n",
      " |      :return image iterator\n",
      " |  \n",
      " |  list_groups(self, id: str)\n",
      " |      List groups of an image by id. It will return empty list if the image is at the global scope.\n",
      " |      \n",
      " |      :type id: str\n",
      " |      :param id: the id of an image\n",
      " |      \n",
      " |      :rtype list\n",
      " |      :return groups\n",
      " |  \n",
      " |  remove_group(self, id: str, group_id)\n",
      " |      Remove group connection from an image by id.\n",
      " |      \n",
      " |      :type id: str\n",
      " |      :param id: the id of an image\n",
      " |      :type group_id: str\n",
      " |      :param group_id: group id\n",
      " |      \n",
      " |      :rtype dict\n",
      " |      :return an image with groups only\n",
      " |  \n",
      " |  update(self, id: str, config: dict)\n",
      " |  \n",
      " |  ----------------------------------------------------------------------\n",
      " |  Data and other attributes defined here:\n",
      " |  \n",
      " |  __abstractmethods__ = frozenset()\n",
      " |  \n",
      " |  ----------------------------------------------------------------------\n",
      " |  Data descriptors inherited from primehub.Helpful:\n",
      " |  \n",
      " |  __dict__\n",
      " |      dictionary for instance variables (if defined)\n",
      " |  \n",
      " |  __weakref__\n",
      " |      list of weak references to the object (if defined)\n",
      " |  \n",
      " |  ----------------------------------------------------------------------\n",
      " |  Methods inherited from primehub.Module:\n",
      " |  \n",
      " |  __init__(self, primehub: primehub.PrimeHub, **kwargs)\n",
      " |      Initialize self.  See help(type(self)) for accurate signature.\n",
      " |  \n",
      " |  display(self, action: dict, value: Any)\n",
      " |  \n",
      " |  get_display(self) -> primehub.utils.display.Displayable\n",
      " |  \n",
      " |  ----------------------------------------------------------------------\n",
      " |  Static methods inherited from primehub.Module:\n",
      " |  \n",
      " |  output(result: dict, object_path: str)\n",
      " |      Give a dict {'data': {'a': {'b': 'c'}}}\n",
      " |      we could get the c by the path a.b\n",
      " |  \n",
      " |  ----------------------------------------------------------------------\n",
      " |  Data descriptors inherited from primehub.Module:\n",
      " |  \n",
      " |  current_group\n",
      " |  \n",
      " |  endpoint\n",
      " |  \n",
      " |  group_id\n",
      " |  \n",
      " |  group_name\n",
      " |  \n",
      " |  primehub_config\n",
      "\n"
     ]
    }
   ],
   "source": [
    "help(ph.admin.images)"
   ]
  },
  {
   "cell_type": "markdown",
   "id": "d413779c",
   "metadata": {},
   "source": [
    "## Images management"
   ]
  },
  {
   "cell_type": "code",
   "execution_count": 1,
   "id": "2e67f9d2",
   "metadata": {},
   "outputs": [
    {
     "name": "stdout",
     "output_type": "stream",
     "text": [
      "Usage: \n",
      "  primehub admin images <command>\n",
      "\n",
      "Manage images\n",
      "\n",
      "Available Commands:\n",
      "  add-group            Add group connection to an image by id\n",
      "  create               Create an image\n",
      "  delete               Delete an image by id\n",
      "  get                  Get an image by id\n",
      "  list                 List images\n",
      "  list-groups          List groups of an image by id\n",
      "  remove-group         Remove group connection from an image by id\n",
      "  update               Update the image\n",
      "\n",
      "Options:\n",
      "  -h, --help           Show the help\n",
      "\n",
      "Global Options:\n",
      "  --config CONFIG      Change the path of the config file (Default: ~/.primehub/config.json)\n",
      "  --endpoint ENDPOINT  Override the GraphQL API endpoint\n",
      "  --token TOKEN        Override the API Token\n",
      "  --group GROUP        Override the current group\n",
      "  --json               Output the json format (output human-friendly format by default)\n"
     ]
    }
   ],
   "source": [
    "!primehub admin images help"
   ]
  },
  {
   "cell_type": "markdown",
   "id": "939bf77e",
   "metadata": {},
   "source": [
    "### Fields for creating or updating\n",
    "\n",
    "| field | required | type | description |\n",
    "| --- | --- | --- | --- |\n",
    "| name | required | string | it should be a valid resource name for kubernetes. `name` will be ignored when updating |\n",
    "| displayName | optional | string | |\n",
    "| description | optional | string | |\n",
    "| type | optional | string | one of ['cpu', 'gpu', 'both'], default value: 'both' |\n",
    "| global | optional | boolean |  |\n",
    "| groups | optional | object | |\n",
    "| url | optional | string | container image url |\n",
    "| urlForGpu | optional | string | container image url for GPU optimized |\n",
    "| imageSpec | optional | object | the specification for customization |\n",
    "| useImagePullSecret | optional | string | the id of a secret |\n",
    "\n",
    "*Note: imageSpec cannot use with url and urlForGpu*\n"
   ]
  },
  {
   "cell_type": "markdown",
   "id": "c37e1a5b",
   "metadata": {},
   "source": [
    "## Examples"
   ]
  },
  {
   "cell_type": "markdown",
   "id": "477b8bd2",
   "metadata": {},
   "source": [
    "You could find [more examples on our github](https://github.com/InfuseAI/primehub-python-sdk/blob/main/docs/CLI/admin/images.md)."
   ]
  },
  {
   "cell_type": "code",
   "execution_count": 4,
   "id": "a9dfc2fe",
   "metadata": {},
   "outputs": [],
   "source": [
    "import pandas as pd"
   ]
  },
  {
   "cell_type": "markdown",
   "id": "e960389b",
   "metadata": {},
   "source": [
    "#### CRUD: Jupyter environment images"
   ]
  },
  {
   "cell_type": "code",
   "execution_count": 5,
   "id": "eee37f8e",
   "metadata": {},
   "outputs": [],
   "source": [
    "# Create an image\n",
    "config = {\n",
    "  \"name\": \"image-by-sdk\",\n",
    "  \"displayName\": \"Learning how to create an image from SDK\",\n",
    "  \"description\": \"base-notebook with python 3.7\",\n",
    "  \"type\": \"both\",\n",
    "  \"url\": \"infuseai/docker-stacks:base-notebook-63fdf50a\",\n",
    "  \"urlForGpu\": \"infuseai/docker-stacks:base-notebook-63fdf50a-gpu\",\n",
    "  \"global\": True\n",
    "}\n",
    "\n",
    "data = ph.admin.images.create(config)"
   ]
  },
  {
   "cell_type": "code",
   "execution_count": 8,
   "id": "d12b2674",
   "metadata": {},
   "outputs": [
    {
     "data": {
      "text/html": [
       "<div>\n",
       "<style scoped>\n",
       "    .dataframe tbody tr th:only-of-type {\n",
       "        vertical-align: middle;\n",
       "    }\n",
       "\n",
       "    .dataframe tbody tr th {\n",
       "        vertical-align: top;\n",
       "    }\n",
       "\n",
       "    .dataframe thead th {\n",
       "        text-align: right;\n",
       "    }\n",
       "</style>\n",
       "<table border=\"1\" class=\"dataframe\">\n",
       "  <thead>\n",
       "    <tr style=\"text-align: right;\">\n",
       "      <th></th>\n",
       "      <th>id</th>\n",
       "      <th>name</th>\n",
       "      <th>displayName</th>\n",
       "      <th>description</th>\n",
       "      <th>type</th>\n",
       "      <th>isReady</th>\n",
       "    </tr>\n",
       "  </thead>\n",
       "  <tbody>\n",
       "    <tr>\n",
       "      <th>8</th>\n",
       "      <td>image-by-sdk</td>\n",
       "      <td>image-by-sdk</td>\n",
       "      <td>Learning how to create an image from SDK</td>\n",
       "      <td>base-notebook with python 3.7</td>\n",
       "      <td>both</td>\n",
       "      <td>True</td>\n",
       "    </tr>\n",
       "  </tbody>\n",
       "</table>\n",
       "</div>"
      ],
      "text/plain": [
       "             id          name                               displayName  \\\n",
       "8  image-by-sdk  image-by-sdk  Learning how to create an image from SDK   \n",
       "\n",
       "                     description  type  isReady  \n",
       "8  base-notebook with python 3.7  both     True  "
      ]
     },
     "execution_count": 8,
     "metadata": {},
     "output_type": "execute_result"
    }
   ],
   "source": [
    "# List images\n",
    "images_df = pd.DataFrame(ph.admin.images.list())\n",
    "images_df[images_df['name'] == config['name']]"
   ]
  },
  {
   "cell_type": "code",
   "execution_count": 6,
   "id": "d20403a2",
   "metadata": {},
   "outputs": [
    {
     "data": {
      "text/plain": [
       "{'id': 'image-by-sdk',\n",
       " 'name': 'image-by-sdk',\n",
       " 'displayName': 'Learning how to create an image from SDK',\n",
       " 'description': 'base-notebook with python 3.7',\n",
       " 'type': 'both',\n",
       " 'url': 'infuseai/docker-stacks:base-notebook-63fdf50a',\n",
       " 'urlForGpu': 'infuseai/docker-stacks:base-notebook-63fdf50a-gpu',\n",
       " 'useImagePullSecret': '',\n",
       " 'global': True,\n",
       " 'groups': [],\n",
       " 'isReady': True,\n",
       " 'imageSpec': None,\n",
       " 'jobStatus': None,\n",
       " 'logEndpoint': 'https://c.demo.primehub.io/api/logs/images/image-by-sdk/job'}"
      ]
     },
     "execution_count": 6,
     "metadata": {},
     "output_type": "execute_result"
    }
   ],
   "source": [
    "# Get the image details\n",
    "ph.admin.images.get(data['id'])"
   ]
  },
  {
   "cell_type": "code",
   "execution_count": 10,
   "id": "269a80c9",
   "metadata": {},
   "outputs": [
    {
     "data": {
      "text/plain": [
       "{'id': 'image-by-sdk',\n",
       " 'name': 'image-by-sdk',\n",
       " 'displayName': 'Learning how to create an image from SDK',\n",
       " 'description': 'base-notebook with python 3.7',\n",
       " 'type': 'both',\n",
       " 'url': 'infuseai/docker-stacks:base-notebook-63fdf50a',\n",
       " 'urlForGpu': 'infuseai/docker-stacks:base-notebook-63fdf50a-gpu',\n",
       " 'useImagePullSecret': None,\n",
       " 'global': False,\n",
       " 'groups': [],\n",
       " 'isReady': True,\n",
       " 'imageSpec': None,\n",
       " 'jobStatus': None,\n",
       " 'logEndpoint': 'https://c.demo.primehub.io/api/logs/images/image-by-sdk/job'}"
      ]
     },
     "execution_count": 10,
     "metadata": {},
     "output_type": "execute_result"
    }
   ],
   "source": [
    "# Update the image config setting.\n",
    "update_config = {'global': False}\n",
    "data = ph.admin.images.update(data['id'], update_config)\n",
    "ph.admin.images.get(data['id'])"
   ]
  },
  {
   "cell_type": "code",
   "execution_count": 11,
   "id": "888dfb18",
   "metadata": {},
   "outputs": [
    {
     "data": {
      "text/plain": [
       "{'id': 'image-by-sdk'}"
      ]
     },
     "execution_count": 11,
     "metadata": {},
     "output_type": "execute_result"
    }
   ],
   "source": [
    "# Delete the image\n",
    "ph.admin.images.delete(data['id'])"
   ]
  },
  {
   "cell_type": "markdown",
   "id": "6b411190",
   "metadata": {},
   "source": [
    "#### CRUD: image <-> Group"
   ]
  },
  {
   "cell_type": "code",
   "execution_count": 12,
   "id": "bbcd07c4",
   "metadata": {},
   "outputs": [],
   "source": [
    "# Create an image\n",
    "config = {\n",
    "  \"name\": \"image-by-sdk-group\",\n",
    "  \"displayName\": \"Learning how to create an image from SDK\",\n",
    "  \"description\": \"base-notebook with python 3.7\",\n",
    "  \"type\": \"both\",\n",
    "  \"url\": \"infuseai/docker-stacks:base-notebook-63fdf50a\",\n",
    "  \"urlForGpu\": \"infuseai/docker-stacks:base-notebook-63fdf50a-gpu\",\n",
    "  \"global\": False\n",
    "}\n",
    "\n",
    "data = ph.admin.images.create(config)"
   ]
  },
  {
   "cell_type": "code",
   "execution_count": 13,
   "id": "e299d4c6",
   "metadata": {},
   "outputs": [
    {
     "data": {
      "text/html": [
       "<div>\n",
       "<style scoped>\n",
       "    .dataframe tbody tr th:only-of-type {\n",
       "        vertical-align: middle;\n",
       "    }\n",
       "\n",
       "    .dataframe tbody tr th {\n",
       "        vertical-align: top;\n",
       "    }\n",
       "\n",
       "    .dataframe thead th {\n",
       "        text-align: right;\n",
       "    }\n",
       "</style>\n",
       "<table border=\"1\" class=\"dataframe\">\n",
       "  <thead>\n",
       "    <tr style=\"text-align: right;\">\n",
       "      <th></th>\n",
       "    </tr>\n",
       "  </thead>\n",
       "  <tbody>\n",
       "  </tbody>\n",
       "</table>\n",
       "</div>"
      ],
      "text/plain": [
       "Empty DataFrame\n",
       "Columns: []\n",
       "Index: []"
      ]
     },
     "execution_count": 13,
     "metadata": {},
     "output_type": "execute_result"
    }
   ],
   "source": [
    "# Show the image group list\n",
    "\n",
    "images_df = pd.DataFrame(ph.admin.images.list_groups(data[\"id\"]))\n",
    "images_df"
   ]
  },
  {
   "cell_type": "code",
   "execution_count": 14,
   "id": "d7d59c74",
   "metadata": {},
   "outputs": [],
   "source": [
    "# Add the image into group\n",
    "groups_df = pd.DataFrame(ph.admin.groups.list())\n",
    "groups_id = groups_df[\"id\"][0]\n",
    "ph.admin.images.add_group(data[\"id\"], groups_id)"
   ]
  },
  {
   "cell_type": "code",
   "execution_count": 15,
   "id": "d7567728",
   "metadata": {},
   "outputs": [
    {
     "data": {
      "text/html": [
       "<div>\n",
       "<style scoped>\n",
       "    .dataframe tbody tr th:only-of-type {\n",
       "        vertical-align: middle;\n",
       "    }\n",
       "\n",
       "    .dataframe tbody tr th {\n",
       "        vertical-align: top;\n",
       "    }\n",
       "\n",
       "    .dataframe thead th {\n",
       "        text-align: right;\n",
       "    }\n",
       "</style>\n",
       "<table border=\"1\" class=\"dataframe\">\n",
       "  <thead>\n",
       "    <tr style=\"text-align: right;\">\n",
       "      <th></th>\n",
       "      <th>id</th>\n",
       "      <th>name</th>\n",
       "      <th>displayName</th>\n",
       "    </tr>\n",
       "  </thead>\n",
       "  <tbody>\n",
       "    <tr>\n",
       "      <th>0</th>\n",
       "      <td>71ac1e32-65fa-4e8e-a735-ba282e3149b1</td>\n",
       "      <td>AnotherTestGroup</td>\n",
       "      <td>Another Test Group</td>\n",
       "    </tr>\n",
       "  </tbody>\n",
       "</table>\n",
       "</div>"
      ],
      "text/plain": [
       "                                     id              name         displayName\n",
       "0  71ac1e32-65fa-4e8e-a735-ba282e3149b1  AnotherTestGroup  Another Test Group"
      ]
     },
     "execution_count": 15,
     "metadata": {},
     "output_type": "execute_result"
    }
   ],
   "source": [
    "# Show the image group list\n",
    "\n",
    "images_df = pd.DataFrame(ph.admin.images.list_groups(data[\"id\"]))\n",
    "images_df"
   ]
  },
  {
   "cell_type": "code",
   "execution_count": 16,
   "id": "44c4841f",
   "metadata": {},
   "outputs": [],
   "source": [
    "# Remove the image out of group\n",
    "ph.admin.images.remove_group(data[\"id\"], groups_id)"
   ]
  },
  {
   "cell_type": "code",
   "execution_count": 17,
   "id": "689f0378",
   "metadata": {},
   "outputs": [
    {
     "data": {
      "text/html": [
       "<div>\n",
       "<style scoped>\n",
       "    .dataframe tbody tr th:only-of-type {\n",
       "        vertical-align: middle;\n",
       "    }\n",
       "\n",
       "    .dataframe tbody tr th {\n",
       "        vertical-align: top;\n",
       "    }\n",
       "\n",
       "    .dataframe thead th {\n",
       "        text-align: right;\n",
       "    }\n",
       "</style>\n",
       "<table border=\"1\" class=\"dataframe\">\n",
       "  <thead>\n",
       "    <tr style=\"text-align: right;\">\n",
       "      <th></th>\n",
       "    </tr>\n",
       "  </thead>\n",
       "  <tbody>\n",
       "  </tbody>\n",
       "</table>\n",
       "</div>"
      ],
      "text/plain": [
       "Empty DataFrame\n",
       "Columns: []\n",
       "Index: []"
      ]
     },
     "execution_count": 17,
     "metadata": {},
     "output_type": "execute_result"
    }
   ],
   "source": [
    "# Show the image group list\n",
    "\n",
    "images_df = pd.DataFrame(ph.admin.images.list_groups(data[\"id\"]))\n",
    "images_df"
   ]
  },
  {
   "cell_type": "code",
   "execution_count": 18,
   "id": "1ecfe8fb",
   "metadata": {},
   "outputs": [
    {
     "data": {
      "text/plain": [
       "{'id': 'image-by-sdk-group'}"
      ]
     },
     "execution_count": 18,
     "metadata": {},
     "output_type": "execute_result"
    }
   ],
   "source": [
    "# Delete the image\n",
    "ph.admin.images.delete(data['id'])"
   ]
  }
 ],
 "metadata": {
  "kernelspec": {
   "display_name": "Python 3",
   "language": "python",
   "name": "python3"
  },
  "language_info": {
   "codemirror_mode": {
    "name": "ipython",
    "version": 3
   },
   "file_extension": ".py",
   "mimetype": "text/x-python",
   "name": "python",
   "nbconvert_exporter": "python",
   "pygments_lexer": "ipython3",
   "version": "3.7.10"
  }
 },
 "nbformat": 4,
 "nbformat_minor": 5
}
