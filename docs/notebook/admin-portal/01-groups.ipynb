{
 "cells": [
  {
   "cell_type": "markdown",
   "id": "34d82d1e",
   "metadata": {},
   "source": [
    "# [admin] Groups command\n",
    "\n",
    "\n",
    "The `groups` command in `admin` scope could help you manage groups.\n"
   ]
  },
  {
   "cell_type": "markdown",
   "id": "246eebe5",
   "metadata": {},
   "source": [
    "## Setup PrimeHub Python SDK\n"
   ]
  },
  {
   "cell_type": "code",
   "execution_count": 1,
   "id": "3fb3ee1f",
   "metadata": {},
   "outputs": [
    {
     "name": "stdout",
     "output_type": "stream",
     "text": [
      "PrimeHub Python SDK setup successfully\n"
     ]
    }
   ],
   "source": [
    "from primehub import PrimeHub, PrimeHubConfig\n",
    "ph = PrimeHub(PrimeHubConfig())\n",
    "\n",
    "if ph.is_ready():\n",
    "    print(\"PrimeHub Python SDK setup successfully\")\n",
    "else:\n",
    "    print(\"PrimeHub Python SDK couldn't get the group information, follow the 00-getting-started.ipynb to complete it\")"
   ]
  },
  {
   "cell_type": "markdown",
   "id": "1b2f8751",
   "metadata": {},
   "source": [
    "## Help documentation"
   ]
  },
  {
   "cell_type": "code",
   "execution_count": 2,
   "id": "b7895cdc",
   "metadata": {},
   "outputs": [
    {
     "name": "stdout",
     "output_type": "stream",
     "text": [
      "Help on AdminGroups in module primehub.admin_groups object:\n",
      "\n",
      "class AdminGroups(primehub.Helpful, primehub.Module, AdminGroupsUsers, AdminGroupsImages, AdminGroupsInstanceTypes, AdminGroupsVolumes)\n",
      " |  AdminGroups(primehub: primehub.PrimeHub, **kwargs)\n",
      " |  \n",
      " |  Method resolution order:\n",
      " |      AdminGroups\n",
      " |      primehub.Helpful\n",
      " |      primehub.Module\n",
      " |      AdminGroupsUsers\n",
      " |      AdminGroupsImages\n",
      " |      AdminGroupsInstanceTypes\n",
      " |      AdminGroupsVolumes\n",
      " |      primehub.HTTPSupport\n",
      " |      builtins.object\n",
      " |  \n",
      " |  Methods defined here:\n",
      " |  \n",
      " |  create(self, config: dict)\n",
      " |      Create a group\n",
      " |      \n",
      " |      :type config: dict\n",
      " |      :param config: the configurations of the created group\n",
      " |      \n",
      " |      :rtype: dict\n",
      " |      :return: the created group\n",
      " |  \n",
      " |  delete(self, id: str) -> dict\n",
      " |      Delete the group by id\n",
      " |      \n",
      " |      :type id: str\n",
      " |      :param id: the group id\n",
      " |      \n",
      " |      :rtype: dict\n",
      " |      :return: the deleted group\n",
      " |  \n",
      " |  get(self, id: str) -> dict\n",
      " |      Get the group info by id\n",
      " |      \n",
      " |      :type id: str\n",
      " |      :param id: the group id\n",
      " |      \n",
      " |      :rtype: dict\n",
      " |      :return: the group info\n",
      " |  \n",
      " |  help_description(self)\n",
      " |      one line description for all commands\n",
      " |  \n",
      " |  list(self, **kwargs) -> Iterator\n",
      " |      List groups\n",
      " |      \n",
      " |      :type page: int\n",
      " |      :param page: the page of all data\n",
      " |      \n",
      " |      :rtype: Iterator\n",
      " |      :return: groups iterator\n",
      " |  \n",
      " |  update(self, id: str, config: dict)\n",
      " |      Update the group\n",
      " |      \n",
      " |      :type id: str\n",
      " |      :param id: the group id\n",
      " |      :type config: dict\n",
      " |      :param config: the configurations for the updated group\n",
      " |      \n",
      " |      :rtype: dict\n",
      " |      :return: the group\n",
      " |  \n",
      " |  ----------------------------------------------------------------------\n",
      " |  Data and other attributes defined here:\n",
      " |  \n",
      " |  __abstractmethods__ = frozenset()\n",
      " |  \n",
      " |  ----------------------------------------------------------------------\n",
      " |  Data descriptors inherited from primehub.Helpful:\n",
      " |  \n",
      " |  __dict__\n",
      " |      dictionary for instance variables (if defined)\n",
      " |  \n",
      " |  __weakref__\n",
      " |      list of weak references to the object (if defined)\n",
      " |  \n",
      " |  ----------------------------------------------------------------------\n",
      " |  Methods inherited from primehub.Module:\n",
      " |  \n",
      " |  __init__(self, primehub: primehub.PrimeHub, **kwargs)\n",
      " |      Initialize self.  See help(type(self)) for accurate signature.\n",
      " |  \n",
      " |  display(self, action: dict, value: Any)\n",
      " |  \n",
      " |  get_display(self) -> primehub.utils.display.Displayable\n",
      " |  \n",
      " |  ----------------------------------------------------------------------\n",
      " |  Static methods inherited from primehub.Module:\n",
      " |  \n",
      " |  output(result: dict, object_path: str)\n",
      " |      Give a dict {'data': {'a': {'b': 'c'}}}\n",
      " |      we could get the c by the path a.b\n",
      " |  \n",
      " |  ----------------------------------------------------------------------\n",
      " |  Data descriptors inherited from primehub.Module:\n",
      " |  \n",
      " |  current_group\n",
      " |  \n",
      " |  endpoint\n",
      " |  \n",
      " |  group_id\n",
      " |  \n",
      " |  group_name\n",
      " |  \n",
      " |  primehub_config\n",
      " |  \n",
      " |  ----------------------------------------------------------------------\n",
      " |  Methods inherited from AdminGroupsUsers:\n",
      " |  \n",
      " |  connect_user(self, group_id: str, user_id: str, **kwargs)\n",
      " |      Add the user to the group\n",
      " |      \n",
      " |      :type group_id: str\n",
      " |      :param group_id: the group id\n",
      " |      \n",
      " |      :type user_id: str\n",
      " |      :param user_id: the user id\n",
      " |      \n",
      " |      :returns errors or group-id if the user was added\n",
      " |      :rtype dict\n",
      " |  \n",
      " |  disconnect_user(self, group_id: str, user_id: str, **kwargs)\n",
      " |      Add the user to the group\n",
      " |      \n",
      " |      :type group_id: str\n",
      " |      :param group_id: the group id\n",
      " |      \n",
      " |      :type user_id: str\n",
      " |      :param user_id: the user id\n",
      " |      \n",
      " |      :returns errors or group-id if the user was added\n",
      " |      :rtype dict\n",
      " |  \n",
      " |  list_users(self, group_id: str)\n",
      " |      List users in the group\n",
      " |      \n",
      " |      :type group_id: str\n",
      " |      :param group_id: the group id\n",
      " |      \n",
      " |      :returns errors or list\n",
      " |      :rtype dict, list\n",
      " |  \n",
      " |  ----------------------------------------------------------------------\n",
      " |  Methods inherited from AdminGroupsImages:\n",
      " |  \n",
      " |  connect_image(self, group_id: str, image_id: str) -> Dict\n",
      " |      Make the image join the group\n",
      " |      \n",
      " |      :type group_id: str\n",
      " |      :param group_id: The group id\n",
      " |      \n",
      " |      :type image_id: str\n",
      " |      :param image_id: The image id\n",
      " |      \n",
      " |      :rtype dict\n",
      " |      :return The image\n",
      " |  \n",
      " |  create_image(self, group_id: str, config: Dict) -> Dict\n",
      " |      Create a new image and connect it to the group\n",
      " |      \n",
      " |      :type group_id: str\n",
      " |      :param group_id: The group id\n",
      " |      \n",
      " |      :type config: dict\n",
      " |      :param config: The configurations for creating an image\n",
      " |      \n",
      " |      :rtype dict\n",
      " |      :return The image\n",
      " |  \n",
      " |  disconnect_image(self, group_id: str, image_id: str) -> Dict\n",
      " |      Make the image leave the group\n",
      " |      \n",
      " |      :type group_id: str\n",
      " |      :param group_id: The group id\n",
      " |      \n",
      " |      :type image_id: str\n",
      " |      :param image_id: The image id\n",
      " |      \n",
      " |      :rtype dict\n",
      " |      :return The image\n",
      " |  \n",
      " |  list_images(self, group_id: str) -> List\n",
      " |      List images in the group\n",
      " |      \n",
      " |      :type group_id: str\n",
      " |      :param group_id: The group id\n",
      " |      \n",
      " |      :rtype list\n",
      " |      :return image list\n",
      " |  \n",
      " |  ----------------------------------------------------------------------\n",
      " |  Methods inherited from AdminGroupsInstanceTypes:\n",
      " |  \n",
      " |  connect_instancetype(self, group_id: str, instancetype_id: str) -> Dict\n",
      " |      Make the instanceType join the group\n",
      " |      \n",
      " |      :type group_id: str\n",
      " |      :param group_id: The group id\n",
      " |      \n",
      " |      :type instancetype_id: str\n",
      " |      :param instancetype_id: The instanceType id\n",
      " |      \n",
      " |      :rtype dict\n",
      " |      :return The image\n",
      " |  \n",
      " |  create_instancetype(self, group_id: str, config: Dict) -> Dict\n",
      " |      Create a new instanceType and connect it to the group\n",
      " |      \n",
      " |      :type group_id: str\n",
      " |      :param group_id: The group id\n",
      " |      \n",
      " |      :type config: dict\n",
      " |      :param config: The configurations for creating an instanceType\n",
      " |      \n",
      " |      :rtype dict\n",
      " |      :return The instanceType\n",
      " |  \n",
      " |  disconnect_instancetype(self, group_id: str, instancetype_id: str) -> Dict\n",
      " |      Make the instanceType leave the group\n",
      " |      \n",
      " |      :type group_id: str\n",
      " |      :param group_id: The group id\n",
      " |      \n",
      " |      :type instancetype_id: str\n",
      " |      :param instancetype_id: The instanceType id\n",
      " |      \n",
      " |      :rtype dict\n",
      " |      :return The image\n",
      " |  \n",
      " |  list_instancetypes(self, group_id: str) -> List\n",
      " |      List instance-type in the group\n",
      " |      \n",
      " |      :type group_id: str\n",
      " |      :param group_id: The group id\n",
      " |      \n",
      " |      :rtype list\n",
      " |      :return instance-type list\n",
      " |  \n",
      " |  ----------------------------------------------------------------------\n",
      " |  Methods inherited from AdminGroupsVolumes:\n",
      " |  \n",
      " |  connect_volume(self, group_id: str, volume_id: str) -> Dict\n",
      " |      Make the volume join the group\n",
      " |      \n",
      " |      :type group_id: str\n",
      " |      :param group_id: The group id\n",
      " |      \n",
      " |      :type volume_id: str\n",
      " |      :param volume_id: The volume id\n",
      " |      \n",
      " |      :rtype dict\n",
      " |      :return The volume\n",
      " |  \n",
      " |  create_volume(self, group_id: str, writable: bool, config: Dict) -> Dict\n",
      " |      Create a new volume and connect it to the group\n",
      " |      \n",
      " |      :type group_id: str\n",
      " |      :param group_id: The group id\n",
      " |      \n",
      " |      :type writable: bool\n",
      " |      :param writable: Set the writable for the connection\n",
      " |      \n",
      " |      :type config: dict\n",
      " |      :param config: The configurations for creating an instanceType\n",
      " |      \n",
      " |      :rtype dict\n",
      " |      :return The volume\n",
      " |  \n",
      " |  disconnect_volume(self, group_id: str, volume_id: str) -> Dict\n",
      " |      Make the volume leave the group\n",
      " |      \n",
      " |      :type group_id: str\n",
      " |      :param group_id: The group id\n",
      " |      \n",
      " |      :type volume_id: str\n",
      " |      :param volume_id: The volume id\n",
      " |      \n",
      " |      :rtype dict\n",
      " |      :return The volume\n",
      " |  \n",
      " |  list_volumes(self, group_id: str) -> List\n",
      " |      List volumes in the group\n",
      " |      \n",
      " |      :type group_id: str\n",
      " |      :param group_id: The group id\n",
      " |      \n",
      " |      :rtype list\n",
      " |      :return volumes list\n",
      "\n"
     ]
    }
   ],
   "source": [
    "help(ph.admin.groups)"
   ]
  },
  {
   "cell_type": "markdown",
   "id": "d759718a",
   "metadata": {},
   "source": [
    "## Group management\n"
   ]
  },
  {
   "cell_type": "code",
   "execution_count": 3,
   "id": "4ead7cc6",
   "metadata": {},
   "outputs": [
    {
     "name": "stdout",
     "output_type": "stream",
     "text": [
      "Usage: \n",
      "  primehub admin groups <command>\n",
      "\n",
      "Manage groups\n",
      "\n",
      "Available Commands:\n",
      "  connect-image         Make the image join the group\n",
      "  connect-instancetype  Make the instanceType join the group\n",
      "  connect-user          Add the user to the group\n",
      "  connect-volume        Make the volume join the group\n",
      "  create                Create a group\n",
      "  create-image          Add the image to the group\n",
      "  create-instancetype   Create a new instanceType and connect it to the group\n",
      "  create-volume         Create a new volume and connect it to the group\n",
      "  delete                Delete the group by id\n",
      "  disconnect-image      Make the image leave the group\n",
      "  disconnect-instancetype\n",
      "                        Make the instanceType leave the group\n",
      "  disconnect-user       Remove the user from the group\n",
      "  disconnect-volume     Make the volume leave the group\n",
      "  get                   Get the group info by id\n",
      "  list                  List groups\n",
      "  list-images           List images in the group\n",
      "  list-instancetypes    List instanceTypes in the group\n",
      "  list-users            List users in the group\n",
      "  list-volumes          List volumes in the group\n",
      "  update                Update the group\n",
      "\n",
      "Options:\n",
      "  -h, --help            Show the help\n",
      "\n",
      "Global Options:\n",
      "  --config CONFIG       Change the path of the config file (Default: ~/.primehub/config.json)\n",
      "  --endpoint ENDPOINT   Override the GraphQL API endpoint\n",
      "  --token TOKEN         Override the API Token\n",
      "  --group GROUP         Override the current group\n",
      "  --json                Output the json format (output human-friendly format by default)\n"
     ]
    }
   ],
   "source": [
    "!primehub admin groups help"
   ]
  },
  {
   "cell_type": "markdown",
   "id": "25473175",
   "metadata": {},
   "source": [
    "For `create` and `update` actions are needed a configuration to mutate a group. Here is the fields table:\n",
    "\n",
    "\n",
    "### Fields\n",
    "\n",
    "| field | required | type | description |\n",
    "| --- | --- | --- | --- |\n",
    "| name | required | string | must start with a letter or numeric, '-' and '_' are allowed, and the length should be more than 2. |\n",
    "| displayName | optional | string | display name |\n",
    "| quotaCpu | optional | float | how many CPU can be used by the user within this group, default: 0.5 |\n",
    "| quotaGpu | optional | int | how many GPU can be used by the user within this group, default: 0 |\n",
    "| quotaMemory | optional | float | how many memory can be used by the user within this group, default: unlimited GB |\n",
    "| projectQuotaCpu | optional | float |  how many CPU can be shared by all users in the group, default: unlimited |\n",
    "| projectQuotaGpu | optional | int | how many GPU can be shared by all users in the group, default: unlimited |\n",
    "| projectQuotaMemory| optional | float | how many memory can be shared by all users in the group, default: unlimited GB |\n",
    "| admins | optional | string | assign admin user of the group, multiple users are able to be assigned (see [also](https://docs.primehub.io/docs/guide_manual/admin-group#group-admin)) |\n",
    "| users | optional | assign / dissociate users to the group | please see the connect / disconnect examples |\n",
    "\n",
    "*Note: user resource quota should not greater than project resource quota. e.g., `quotaCpu <= projectQuotaCpu`*\n",
    "\n",
    "\n",
    "#### Model Deployment\n",
    "Groups with enabled model deployment are able to deploy/serve models. (see [also](https://docs.primehub.io/docs/guide_manual/admin-group#model-deployment))\n",
    "\n",
    "`maxDeploy` is used when `enabledDeployment` is enable:\n",
    "\n",
    "| field | required | type | description |\n",
    "| --- | --- | --- | --- |\n",
    "| enabledDeployment | optional | boolean | enable model deployment |\n",
    "| maxDeploy | optional | int | limit on the amount of deployments for this group |\n",
    "\n",
    "#### Shared Volume\n",
    "The created shared volume is shared among members in the group. (see [also](https://docs.primehub.io/docs/guide_manual/admin-group#shared-volume))\n",
    "\n",
    "`sharedVolumeCapacity` is used when `enabledSharedVolume` is enable:\n",
    "\n",
    "| field | required | type | description |\n",
    "| --- | --- | --- | --- |\n",
    "| enabledSharedVolume | optional | boolean | enable share volume |\n",
    "| sharedVolumeCapacity | optional | int | the capacity of the shared volume in GB |\n"
   ]
  },
  {
   "cell_type": "markdown",
   "id": "523cbcf3",
   "metadata": {},
   "source": [
    "## Examples"
   ]
  },
  {
   "cell_type": "markdown",
   "id": "e9d84bc9",
   "metadata": {},
   "source": [
    "You could find [more examples on our github](https://github.com/InfuseAI/primehub-python-sdk/blob/main/docs/CLI/admin/groups.md)."
   ]
  },
  {
   "cell_type": "code",
   "execution_count": 4,
   "id": "df97cd8f",
   "metadata": {},
   "outputs": [],
   "source": [
    "import pandas as pd"
   ]
  },
  {
   "cell_type": "markdown",
   "id": "a5b3e574",
   "metadata": {},
   "source": [
    "### CRUD: Group"
   ]
  },
  {
   "cell_type": "code",
   "execution_count": 5,
   "id": "1c954f5d",
   "metadata": {},
   "outputs": [],
   "source": [
    "# Create a group with admin role\n",
    "\n",
    "config = {\n",
    "  \"name\": \"test_group_from_primehub_sdk\",\n",
    "  \"displayName\": \"test_group_sdk\",\n",
    "  \"enabledDeployment\": False,\n",
    "  \"enabledSharedVolume\": False,\n",
    "  \"quotaCpu\": 0.5,\n",
    "  \"quotaGpu\": 0,\n",
    "  \"admins\": \"\",\n",
    "  \"users\": {\n",
    "      \"connect\": []\n",
    "  }\n",
    "}\n",
    "\n",
    "group = ph.admin.groups.create(config)"
   ]
  },
  {
   "cell_type": "code",
   "execution_count": 6,
   "id": "92d6c349",
   "metadata": {},
   "outputs": [
    {
     "data": {
      "text/html": [
       "<div>\n",
       "<style scoped>\n",
       "    .dataframe tbody tr th:only-of-type {\n",
       "        vertical-align: middle;\n",
       "    }\n",
       "\n",
       "    .dataframe tbody tr th {\n",
       "        vertical-align: top;\n",
       "    }\n",
       "\n",
       "    .dataframe thead th {\n",
       "        text-align: right;\n",
       "    }\n",
       "</style>\n",
       "<table border=\"1\" class=\"dataframe\">\n",
       "  <thead>\n",
       "    <tr style=\"text-align: right;\">\n",
       "      <th></th>\n",
       "      <th>id</th>\n",
       "      <th>displayName</th>\n",
       "      <th>name</th>\n",
       "      <th>admins</th>\n",
       "      <th>quotaCpu</th>\n",
       "      <th>quotaGpu</th>\n",
       "      <th>quotaMemory</th>\n",
       "      <th>projectQuotaCpu</th>\n",
       "      <th>projectQuotaGpu</th>\n",
       "      <th>projectQuotaMemory</th>\n",
       "      <th>sharedVolumeCapacity</th>\n",
       "    </tr>\n",
       "  </thead>\n",
       "  <tbody>\n",
       "    <tr>\n",
       "      <th>21</th>\n",
       "      <td>c455ccde-3ed0-41d3-9962-5e7d8dd92f20</td>\n",
       "      <td>test_group_sdk</td>\n",
       "      <td>test_group_from_primehub_sdk</td>\n",
       "      <td></td>\n",
       "      <td>0.5</td>\n",
       "      <td>0.0</td>\n",
       "      <td>NaN</td>\n",
       "      <td>NaN</td>\n",
       "      <td>NaN</td>\n",
       "      <td>NaN</td>\n",
       "      <td>NaN</td>\n",
       "    </tr>\n",
       "  </tbody>\n",
       "</table>\n",
       "</div>"
      ],
      "text/plain": [
       "                                      id     displayName  \\\n",
       "21  c455ccde-3ed0-41d3-9962-5e7d8dd92f20  test_group_sdk   \n",
       "\n",
       "                            name admins  quotaCpu  quotaGpu  quotaMemory  \\\n",
       "21  test_group_from_primehub_sdk              0.5       0.0          NaN   \n",
       "\n",
       "    projectQuotaCpu  projectQuotaGpu  projectQuotaMemory  sharedVolumeCapacity  \n",
       "21              NaN              NaN                 NaN                   NaN  "
      ]
     },
     "execution_count": 6,
     "metadata": {},
     "output_type": "execute_result"
    }
   ],
   "source": [
    "# List groups\n",
    "\n",
    "groups_df = pd.DataFrame(ph.admin.groups.list())\n",
    "groups_df[groups_df['name'] == config['name']]"
   ]
  },
  {
   "cell_type": "code",
   "execution_count": 7,
   "id": "58454fd1",
   "metadata": {},
   "outputs": [
    {
     "data": {
      "text/plain": [
       "{'id': 'c455ccde-3ed0-41d3-9962-5e7d8dd92f20',\n",
       " 'displayName': 'test_group_sdk',\n",
       " 'name': 'test_group_from_primehub_sdk',\n",
       " 'admins': '',\n",
       " 'users': [],\n",
       " 'quotaCpu': 0.5,\n",
       " 'quotaGpu': 0,\n",
       " 'quotaMemory': None,\n",
       " 'projectQuotaCpu': None,\n",
       " 'projectQuotaGpu': None,\n",
       " 'projectQuotaMemory': None,\n",
       " 'resourceStatus': {'cpuUsage': '0', 'memUsage': '0', 'gpuUsage': '0'},\n",
       " 'enabledDeployment': False,\n",
       " 'maxDeploy': None,\n",
       " 'deploymentsUsage': None,\n",
       " 'enabledSharedVolume': False,\n",
       " 'jobDefaultActiveDeadlineSeconds': None,\n",
       " 'sharedVolumeCapacity': None,\n",
       " 'launchGroupOnly': None,\n",
       " 'images': [],\n",
       " 'instanceTypes': [],\n",
       " 'volumes': []}"
      ]
     },
     "execution_count": 7,
     "metadata": {},
     "output_type": "execute_result"
    }
   ],
   "source": [
    "# Get the group info by id\n",
    "\n",
    "ph.admin.groups.get(group['id'])"
   ]
  },
  {
   "cell_type": "code",
   "execution_count": 8,
   "id": "33bfbf99",
   "metadata": {},
   "outputs": [
    {
     "data": {
      "text/plain": [
       "{'id': 'c455ccde-3ed0-41d3-9962-5e7d8dd92f20'}"
      ]
     },
     "execution_count": 8,
     "metadata": {},
     "output_type": "execute_result"
    }
   ],
   "source": [
    "# Delete the group by id\n",
    "\n",
    "ph.admin.groups.delete(group['id'])"
   ]
  },
  {
   "cell_type": "markdown",
   "id": "94c17a4b",
   "metadata": {},
   "source": [
    "### Connect, disconnect, list: Group -> Users"
   ]
  },
  {
   "cell_type": "code",
   "execution_count": 9,
   "id": "73f2f070",
   "metadata": {},
   "outputs": [],
   "source": [
    "# Create a group with admin role\n",
    "config = {\n",
    "  \"name\": \"test_group_from_primehub_sdk_connect_users\",\n",
    "  \"displayName\": \"test_group_sdk_connect_users\",\n",
    "  \"enabledDeployment\": False,\n",
    "  \"enabledSharedVolume\": False,\n",
    "  \"quotaCpu\": 0.5,\n",
    "  \"quotaGpu\": 0,\n",
    "  \"admins\": \"\",\n",
    "  \"users\": {\n",
    "      \"connect\": []\n",
    "  }\n",
    "}\n",
    "\n",
    "group = ph.admin.groups.create(config)"
   ]
  },
  {
   "cell_type": "code",
   "execution_count": 10,
   "id": "e4338175",
   "metadata": {},
   "outputs": [],
   "source": [
    "# Create a user with admin role\n",
    "config = {\n",
    "  \"username\": \"user-admin-from-jupyter\",\n",
    "  \"groups\": {\n",
    "    \"connect\": [\n",
    "      {\n",
    "        \"id\": ph.group_id\n",
    "      }\n",
    "    ]\n",
    "  },\n",
    "  \"isAdmin\": True\n",
    "}\n",
    "user = ph.admin.users.create(config)"
   ]
  },
  {
   "cell_type": "code",
   "execution_count": 11,
   "id": "13db9d0c",
   "metadata": {},
   "outputs": [
    {
     "data": {
      "text/plain": [
       "{'id': '63eaf5f8-c063-4d06-a7e3-e48620a80a12'}"
      ]
     },
     "execution_count": 11,
     "metadata": {},
     "output_type": "execute_result"
    }
   ],
   "source": [
    "# Connect user with group\n",
    "\n",
    "ph.admin.groups.connect_user(group['id'], user['id'])"
   ]
  },
  {
   "cell_type": "code",
   "execution_count": 12,
   "id": "a8342398",
   "metadata": {},
   "outputs": [
    {
     "data": {
      "text/plain": [
       "[{'id': '5d97832f-39a8-4f40-8631-1a2de57dd59e',\n",
       "  'username': 'user-admin-from-jupyter',\n",
       "  'group_admin': False}]"
      ]
     },
     "execution_count": 12,
     "metadata": {},
     "output_type": "execute_result"
    }
   ],
   "source": [
    "# List the connection between group and user\n",
    "\n",
    "ph.admin.groups.list_users(group['id'])"
   ]
  },
  {
   "cell_type": "code",
   "execution_count": null,
   "id": "6611ad8e",
   "metadata": {},
   "outputs": [],
   "source": [
    "# Disconnect user with group\n",
    "\n",
    "ph.admin.groups.disconnect_user(group['id'], user['id'])"
   ]
  },
  {
   "cell_type": "code",
   "execution_count": 15,
   "id": "60b0a4e8",
   "metadata": {},
   "outputs": [
    {
     "data": {
      "text/plain": [
       "[{'id': '5d97832f-39a8-4f40-8631-1a2de57dd59e',\n",
       "  'username': 'user-admin-from-jupyter',\n",
       "  'group_admin': False}]"
      ]
     },
     "execution_count": 15,
     "metadata": {},
     "output_type": "execute_result"
    }
   ],
   "source": [
    "# List the connection between group and user\n",
    "\n",
    "ph.admin.groups.list_users(group['id'])"
   ]
  },
  {
   "cell_type": "code",
   "execution_count": 16,
   "id": "3ebaf8c4",
   "metadata": {},
   "outputs": [
    {
     "data": {
      "text/plain": [
       "{'id': '63eaf5f8-c063-4d06-a7e3-e48620a80a12'}"
      ]
     },
     "execution_count": 16,
     "metadata": {},
     "output_type": "execute_result"
    }
   ],
   "source": [
    "# Delete the group by id\n",
    "\n",
    "ph.admin.groups.delete(group['id'])"
   ]
  },
  {
   "cell_type": "code",
   "execution_count": 17,
   "id": "f3edbdff",
   "metadata": {},
   "outputs": [
    {
     "data": {
      "text/plain": [
       "{'id': '5d97832f-39a8-4f40-8631-1a2de57dd59e',\n",
       " 'username': 'user-admin-from-jupyter'}"
      ]
     },
     "execution_count": 17,
     "metadata": {},
     "output_type": "execute_result"
    }
   ],
   "source": [
    "# Delete the user by id\n",
    "\n",
    "ph.admin.users.delete(user['id'])"
   ]
  },
  {
   "cell_type": "markdown",
   "id": "b1c2922d",
   "metadata": {},
   "source": [
    "### Connect, disconnect, list: Group -> instance type"
   ]
  },
  {
   "cell_type": "code",
   "execution_count": 18,
   "id": "afdd4486",
   "metadata": {},
   "outputs": [],
   "source": [
    "# Create a group with admin role\n",
    "config = {\n",
    "  \"name\": \"test_group_from_primehub_sdk_connect_instance_type\",\n",
    "  \"displayName\": \"test_group_sdk_connect_instance_type\",\n",
    "  \"enabledDeployment\": False,\n",
    "  \"enabledSharedVolume\": False,\n",
    "  \"quotaCpu\": 0.5,\n",
    "  \"quotaGpu\": 0,\n",
    "  \"admins\": \"\",\n",
    "  \"users\": {\n",
    "      \"connect\": []\n",
    "  }\n",
    "}\n",
    "\n",
    "group = ph.admin.groups.create(config)"
   ]
  },
  {
   "cell_type": "code",
   "execution_count": 19,
   "id": "712cfbb8",
   "metadata": {},
   "outputs": [
    {
     "data": {
      "text/plain": [
       "{'id': 'cpu-instance-by-sdk-group'}"
      ]
     },
     "execution_count": 19,
     "metadata": {},
     "output_type": "execute_result"
    }
   ],
   "source": [
    "# create an instance type\n",
    "config = {\n",
    "  \"name\": \"cpu-instance-by-sdk-group\",\n",
    "  \"displayName\": \"CPU 1\",\n",
    "  \"description\": \"1 vCPU / 1G Memory\",\n",
    "  \"cpuLimit\": 1,\n",
    "  \"memoryLimit\": 1,\n",
    "  \"gpuLimit\": 0,\n",
    "  \"global\": False\n",
    "}\n",
    "\n",
    "try:\n",
    "    instance_type = ph.admin.groups.create_instancetype(group['id'], config)\n",
    "except:\n",
    "    instance_type = ph.admin.instancetypes.create(config)\n",
    "instance_type"
   ]
  },
  {
   "cell_type": "code",
   "execution_count": 20,
   "id": "78b578b9",
   "metadata": {},
   "outputs": [
    {
     "data": {
      "text/plain": [
       "{'id': 'cpu-instance-by-sdk-group',\n",
       " 'global': False,\n",
       " 'cpuRequest': None,\n",
       " 'memoryRequest': None,\n",
       " 'groups': [{'id': 'df51c65d-ade9-483a-bf15-3289ce1a2055',\n",
       "   'name': 'test_group_from_primehub_sdk_connect_instance_type',\n",
       "   'displayName': 'test_group_sdk_connect_instance_type',\n",
       "   'quotaCpu': 0.5,\n",
       "   'quotaGpu': 0}],\n",
       " 'nodeSelector': {}}"
      ]
     },
     "execution_count": 20,
     "metadata": {},
     "output_type": "execute_result"
    }
   ],
   "source": [
    "# Connect instance type with group\n",
    "\n",
    "ph.admin.groups.connect_instancetype(group['id'], instance_type['id'])"
   ]
  },
  {
   "cell_type": "code",
   "execution_count": null,
   "id": "439a2181",
   "metadata": {},
   "outputs": [],
   "source": [
    "# List the connection between group and instance type\n",
    "\n",
    "ph.admin.groups.list_instancetypes(group['id'])"
   ]
  },
  {
   "cell_type": "code",
   "execution_count": 22,
   "id": "27ae5482",
   "metadata": {},
   "outputs": [
    {
     "data": {
      "text/plain": [
       "{'id': 'cpu-instance-by-sdk-group',\n",
       " 'global': False,\n",
       " 'cpuRequest': None,\n",
       " 'memoryRequest': None,\n",
       " 'groups': [],\n",
       " 'nodeSelector': {}}"
      ]
     },
     "execution_count": 22,
     "metadata": {},
     "output_type": "execute_result"
    }
   ],
   "source": [
    "# Disconnect instance type with group\n",
    "\n",
    "ph.admin.groups.disconnect_instancetype(group['id'], instance_type['id'])"
   ]
  },
  {
   "cell_type": "code",
   "execution_count": null,
   "id": "f74b4c0b",
   "metadata": {},
   "outputs": [],
   "source": [
    "# List the connection between group and instance type\n",
    "\n",
    "ph.admin.groups.list_instancetypes(group['id'])"
   ]
  },
  {
   "cell_type": "code",
   "execution_count": 24,
   "id": "2c8fc148",
   "metadata": {},
   "outputs": [
    {
     "data": {
      "text/plain": [
       "{'id': 'df51c65d-ade9-483a-bf15-3289ce1a2055'}"
      ]
     },
     "execution_count": 24,
     "metadata": {},
     "output_type": "execute_result"
    }
   ],
   "source": [
    "# Delete the group by id\n",
    "\n",
    "ph.admin.groups.delete(group['id'])"
   ]
  },
  {
   "cell_type": "code",
   "execution_count": 25,
   "id": "bd0f4fc3",
   "metadata": {},
   "outputs": [
    {
     "data": {
      "text/plain": [
       "{'id': 'cpu-instance-by-sdk-group'}"
      ]
     },
     "execution_count": 25,
     "metadata": {},
     "output_type": "execute_result"
    }
   ],
   "source": [
    "# Delete the instance type\n",
    "\n",
    "ph.admin.instancetypes.delete(instance_type['id'])"
   ]
  },
  {
   "cell_type": "markdown",
   "id": "9400a2e7",
   "metadata": {},
   "source": [
    "### Connect, disconnect, list: Group -> image"
   ]
  },
  {
   "cell_type": "code",
   "execution_count": 26,
   "id": "2ec67caf",
   "metadata": {},
   "outputs": [],
   "source": [
    "# Create a group with admin role\n",
    "config = {\n",
    "  \"name\": \"test_group_from_primehub_sdk_connect_image\",\n",
    "  \"displayName\": \"test_group_sdk_connect_image\",\n",
    "  \"enabledDeployment\": False,\n",
    "  \"enabledSharedVolume\": False,\n",
    "  \"quotaCpu\": 0.5,\n",
    "  \"quotaGpu\": 0,\n",
    "  \"admins\": \"\",\n",
    "  \"users\": {\n",
    "      \"connect\": []\n",
    "  }\n",
    "}\n",
    "\n",
    "group = ph.admin.groups.create(config)"
   ]
  },
  {
   "cell_type": "code",
   "execution_count": 27,
   "id": "7232cf73",
   "metadata": {},
   "outputs": [
    {
     "data": {
      "text/plain": [
       "{'id': 'image-by-sdk'}"
      ]
     },
     "execution_count": 27,
     "metadata": {},
     "output_type": "execute_result"
    }
   ],
   "source": [
    "# create an image\n",
    "config = {\n",
    "  \"name\": \"image-by-sdk\",\n",
    "  \"displayName\": \"Learning how to create an image from SDK\",\n",
    "  \"description\": \"base-notebook with python 3.7\",\n",
    "  \"type\": \"both\",\n",
    "  \"url\": \"infuseai/docker-stacks:base-notebook-63fdf50a\",\n",
    "  \"urlForGpu\": \"infuseai/docker-stacks:base-notebook-63fdf50a-gpu\",\n",
    "  \"global\": True\n",
    "}\n",
    "\n",
    "try:\n",
    "    image = ph.admin.groups.create_image(group['id'], config)\n",
    "except:\n",
    "    image = ph.admin.images.create(config)\n",
    "image"
   ]
  },
  {
   "cell_type": "code",
   "execution_count": 28,
   "id": "8ac96e70",
   "metadata": {},
   "outputs": [
    {
     "data": {
      "text/plain": [
       "{'id': 'image-by-sdk',\n",
       " 'groups': [{'id': '85d1985e-c06b-412e-a181-25539fccf9f6',\n",
       "   'name': 'test_group_from_primehub_sdk_connect_image',\n",
       "   'displayName': 'test_group_sdk_connect_image'}],\n",
       " 'displayName': 'Learning how to create an image from SDK',\n",
       " 'description': 'base-notebook with python 3.7',\n",
       " 'url': 'infuseai/docker-stacks:base-notebook-63fdf50a',\n",
       " 'urlForGpu': 'infuseai/docker-stacks:base-notebook-63fdf50a-gpu',\n",
       " 'name': 'image-by-sdk',\n",
       " 'type': 'both',\n",
       " 'groupName': None,\n",
       " 'useImagePullSecret': None,\n",
       " 'logEndpoint': 'https://c.demo.primehub.io/api/logs/images/image-by-sdk/job',\n",
       " 'isReady': True,\n",
       " 'spec': {'description': 'base-notebook with python 3.7',\n",
       "  'displayName': 'Learning how to create an image from SDK',\n",
       "  'type': 'both',\n",
       "  'url': 'infuseai/docker-stacks:base-notebook-63fdf50a',\n",
       "  'urlForGpu': 'infuseai/docker-stacks:base-notebook-63fdf50a-gpu'},\n",
       " 'global': False,\n",
       " 'jobStatus': None,\n",
       " 'imageSpec': None}"
      ]
     },
     "execution_count": 28,
     "metadata": {},
     "output_type": "execute_result"
    }
   ],
   "source": [
    "# Connect image with group\n",
    "ph.admin.groups.connect_image(group['id'], image['id'])"
   ]
  },
  {
   "cell_type": "code",
   "execution_count": null,
   "id": "fa14caa7",
   "metadata": {},
   "outputs": [],
   "source": [
    "# List the connection between group and image\n",
    "ph.admin.groups.list_images(group['id'])"
   ]
  },
  {
   "cell_type": "code",
   "execution_count": 30,
   "id": "cb8fd7c7",
   "metadata": {},
   "outputs": [
    {
     "data": {
      "text/plain": [
       "{'id': 'image-by-sdk',\n",
       " 'groups': [],\n",
       " 'displayName': 'Learning how to create an image from SDK',\n",
       " 'description': 'base-notebook with python 3.7',\n",
       " 'url': 'infuseai/docker-stacks:base-notebook-63fdf50a',\n",
       " 'urlForGpu': 'infuseai/docker-stacks:base-notebook-63fdf50a-gpu',\n",
       " 'name': 'image-by-sdk',\n",
       " 'type': 'both',\n",
       " 'groupName': None,\n",
       " 'useImagePullSecret': None,\n",
       " 'logEndpoint': 'https://c.demo.primehub.io/api/logs/images/image-by-sdk/job',\n",
       " 'isReady': True,\n",
       " 'spec': {'description': 'base-notebook with python 3.7',\n",
       "  'displayName': 'Learning how to create an image from SDK',\n",
       "  'type': 'both',\n",
       "  'url': 'infuseai/docker-stacks:base-notebook-63fdf50a',\n",
       "  'urlForGpu': 'infuseai/docker-stacks:base-notebook-63fdf50a-gpu'},\n",
       " 'global': False,\n",
       " 'jobStatus': None,\n",
       " 'imageSpec': None}"
      ]
     },
     "execution_count": 30,
     "metadata": {},
     "output_type": "execute_result"
    }
   ],
   "source": [
    "# Disconnect image with group\n",
    "\n",
    "ph.admin.groups.disconnect_image(group['id'], image['id'])"
   ]
  },
  {
   "cell_type": "code",
   "execution_count": null,
   "id": "1962b7fe",
   "metadata": {},
   "outputs": [],
   "source": [
    "# List the connection between group and image\n",
    "\n",
    "ph.admin.groups.list_images(group['id'])"
   ]
  },
  {
   "cell_type": "code",
   "execution_count": 32,
   "id": "1bbfb77e",
   "metadata": {},
   "outputs": [
    {
     "data": {
      "text/plain": [
       "{'id': '85d1985e-c06b-412e-a181-25539fccf9f6'}"
      ]
     },
     "execution_count": 32,
     "metadata": {},
     "output_type": "execute_result"
    }
   ],
   "source": [
    "# Delete the group by id\n",
    "\n",
    "ph.admin.groups.delete(group['id'])"
   ]
  },
  {
   "cell_type": "code",
   "execution_count": 33,
   "id": "01ee9cc0",
   "metadata": {},
   "outputs": [
    {
     "data": {
      "text/plain": [
       "{'id': 'image-by-sdk'}"
      ]
     },
     "execution_count": 33,
     "metadata": {},
     "output_type": "execute_result"
    }
   ],
   "source": [
    "# Delete the image\n",
    "\n",
    "ph.admin.images.delete(image['id'])"
   ]
  },
  {
   "cell_type": "markdown",
   "id": "0d9534b9",
   "metadata": {},
   "source": [
    "### Connect, disconnect, list: Group -> volumes"
   ]
  },
  {
   "cell_type": "code",
   "execution_count": 34,
   "id": "915ea781",
   "metadata": {},
   "outputs": [],
   "source": [
    "# Create a group with admin role\n",
    "config = {\n",
    "  \"name\": \"test_group_from_primehub_sdk_connect_volume\",\n",
    "  \"displayName\": \"test_group_sdk_connect_volume\",\n",
    "  \"enabledDeployment\": False,\n",
    "  \"enabledSharedVolume\": False,\n",
    "  \"quotaCpu\": 0.5,\n",
    "  \"quotaGpu\": 0,\n",
    "  \"admins\": \"\",\n",
    "  \"users\": {\n",
    "      \"connect\": []\n",
    "  }\n",
    "}\n",
    "\n",
    "group = ph.admin.groups.create(config)"
   ]
  },
  {
   "cell_type": "code",
   "execution_count": 35,
   "id": "0ffc7365",
   "metadata": {},
   "outputs": [
    {
     "data": {
      "text/plain": [
       "{'id': 'pv-volume-by-sdk'}"
      ]
     },
     "execution_count": 35,
     "metadata": {},
     "output_type": "execute_result"
    }
   ],
   "source": [
    "# Create an volume\n",
    "config = {\n",
    "  \"name\": \"pv-volume-by-sdk\",\n",
    "  \"displayName\": \"the volume created by SDK\",\n",
    "  \"description\": \"It is a PV volume\",\n",
    "  \"type\": \"pv\",\n",
    "  \"global\": True,\n",
    "  \"pvProvisioning\": \"auto\",\n",
    "  \"volumeSize\": 1\n",
    "}\n",
    "\n",
    "try:\n",
    "    volume = ph.admin.groups.create_volume(group['id'], writable=True, config=config)\n",
    "except:\n",
    "    volume = ph.admin.volumes.create(config)\n",
    "volume"
   ]
  },
  {
   "cell_type": "code",
   "execution_count": 36,
   "id": "a704d75a",
   "metadata": {},
   "outputs": [
    {
     "data": {
      "text/plain": [
       "{'id': 'pv-volume-by-sdk', 'uploadServerSecret': None}"
      ]
     },
     "execution_count": 36,
     "metadata": {},
     "output_type": "execute_result"
    }
   ],
   "source": [
    "# Connect user with group\n",
    "ph.admin.groups.connect_volume(group['id'], volume['id'])"
   ]
  },
  {
   "cell_type": "code",
   "execution_count": null,
   "id": "65823c8b",
   "metadata": {},
   "outputs": [],
   "source": [
    "# List the connection between group and volume\n",
    "ph.admin.groups.list_volumes(group['id'])"
   ]
  },
  {
   "cell_type": "code",
   "execution_count": 38,
   "id": "e25c1a4d",
   "metadata": {},
   "outputs": [
    {
     "data": {
      "text/plain": [
       "{'id': 'pv-volume-by-sdk', 'uploadServerSecret': None}"
      ]
     },
     "execution_count": 38,
     "metadata": {},
     "output_type": "execute_result"
    }
   ],
   "source": [
    "# Disconnect volume with group\n",
    "\n",
    "ph.admin.groups.disconnect_volume(group['id'], volume['id'])"
   ]
  },
  {
   "cell_type": "code",
   "execution_count": null,
   "id": "e01ecf58",
   "metadata": {},
   "outputs": [],
   "source": [
    "# List the connection between group and volume\n",
    "\n",
    "ph.admin.groups.list_volumes(group['id'])"
   ]
  },
  {
   "cell_type": "code",
   "execution_count": 40,
   "id": "16939b57",
   "metadata": {},
   "outputs": [
    {
     "data": {
      "text/plain": [
       "{'id': '10c632bd-f145-4631-b7bf-5ba8974339c4'}"
      ]
     },
     "execution_count": 40,
     "metadata": {},
     "output_type": "execute_result"
    }
   ],
   "source": [
    "# Delete the group by id\n",
    "\n",
    "ph.admin.groups.delete(group['id'])"
   ]
  },
  {
   "cell_type": "code",
   "execution_count": 41,
   "id": "0def952c",
   "metadata": {},
   "outputs": [
    {
     "data": {
      "text/plain": [
       "{'id': 'pv-volume-by-sdk'}"
      ]
     },
     "execution_count": 41,
     "metadata": {},
     "output_type": "execute_result"
    }
   ],
   "source": [
    "# Delete the volume\n",
    "\n",
    "ph.admin.volumes.delete(volume['id'])"
   ]
  }
 ],
 "metadata": {
  "interpreter": {
   "hash": "6688a3817b6a9bf9af7edfccc04ec9238693f1be61c239ce0c4444a70d9a5fed"
  },
  "kernelspec": {
   "display_name": "Python 3",
   "language": "python",
   "name": "python3"
  },
  "language_info": {
   "codemirror_mode": {
    "name": "ipython",
    "version": 3
   },
   "file_extension": ".py",
   "mimetype": "text/x-python",
   "name": "python",
   "nbconvert_exporter": "python",
   "pygments_lexer": "ipython3",
   "version": "3.7.10"
  }
 },
 "nbformat": 4,
 "nbformat_minor": 5
}
