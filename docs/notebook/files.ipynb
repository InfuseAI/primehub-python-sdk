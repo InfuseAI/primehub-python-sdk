{
 "cells": [
  {
   "cell_type": "markdown",
   "id": "81faa403",
   "metadata": {},
   "source": [
    "# Files command\n",
    "\n",
    "### Introduction\n",
    "\n",
    "The `files` command can manage shared files in the current group.\n",
    "\n",
    "* list: list shared files in a path\n",
    "* download: download a shared file or a folder"
   ]
  },
  {
   "cell_type": "markdown",
   "id": "17fe5031",
   "metadata": {},
   "source": [
    "## Setup PrimeHub Python SDK\n"
   ]
  },
  {
   "cell_type": "code",
   "execution_count": null,
   "id": "d096d6e9",
   "metadata": {},
   "outputs": [],
   "source": [
    "from primehub import PrimeHub, PrimeHubConfig\n",
    "ph = PrimeHub(PrimeHubConfig())\n",
    "\n",
    "if ph.is_ready():\n",
    "    print(\"PrimeHub Python SDK setup successfully\")\n",
    "else:\n",
    "    print(\"PrimeHub Python SDK couldn't get the group information, follow the 00-getting-started.ipynb to complete it\")"
   ]
  },
  {
   "cell_type": "markdown",
   "id": "1e6f600f",
   "metadata": {},
   "source": [
    "## Help documentation"
   ]
  },
  {
   "cell_type": "code",
   "execution_count": null,
   "id": "c0c4858d",
   "metadata": {},
   "outputs": [],
   "source": [
    "help(ph.files)"
   ]
  },
  {
   "cell_type": "markdown",
   "id": "6d67de85",
   "metadata": {},
   "source": [
    "## Examples"
   ]
  },
  {
   "cell_type": "markdown",
   "id": "20a4a878",
   "metadata": {},
   "source": [
    "### List files and folders in a path"
   ]
  },
  {
   "cell_type": "code",
   "execution_count": null,
   "id": "a631005f",
   "metadata": {},
   "outputs": [],
   "source": [
    "# List files and folders in a path\n",
    "files = ph.files.list('/')\n",
    "print(files)"
   ]
  },
  {
   "cell_type": "markdown",
   "id": "934556de",
   "metadata": {},
   "source": [
    "### Download a file"
   ]
  },
  {
   "cell_type": "code",
   "execution_count": null,
   "id": "227e26ba",
   "metadata": {},
   "outputs": [],
   "source": [
    "# Put a file to shared files\n",
    "with open('/phfs/test.txt', 'w') as f:\n",
    "    f.write(\"Test for Python SDK\")\n",
    "\n",
    "# Download the share files\n",
    "ph.files.download('/test.txt', '.')\n",
    "\n",
    "# You can see the file is downloaded in the sidebar"
   ]
  },
  {
   "cell_type": "code",
   "execution_count": null,
   "id": "decec17a",
   "metadata": {},
   "outputs": [],
   "source": [
    "##\n",
    "## TODO: add download recursive\n",
    "##"
   ]
  }
 ],
 "metadata": {
  "kernelspec": {
   "display_name": "Python 3",
   "language": "python",
   "name": "python3"
  },
  "language_info": {
   "codemirror_mode": {
    "name": "ipython",
    "version": 3
   },
   "file_extension": ".py",
   "mimetype": "text/x-python",
   "name": "python",
   "nbconvert_exporter": "python",
   "pygments_lexer": "ipython3",
   "version": "3.7.10"
  }
 },
 "nbformat": 4,
 "nbformat_minor": 5
}
