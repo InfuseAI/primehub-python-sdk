{
 "cells": [
  {
   "cell_type": "markdown",
   "id": "81faa403",
   "metadata": {},
   "source": [
    "# Files command\n",
    "\n",
    "### Introduction\n",
    "\n",
    "The `files` command can manage shared files in the current group.\n",
    "\n",
    "* list: list shared files in a path\n",
    "* download: download a shared file or a folder\n",
    "* upload: upload a shared file or a folder\n",
    "* delete: delete a shared file or a folder"
   ]
  },
  {
   "cell_type": "markdown",
   "id": "17fe5031",
   "metadata": {},
   "source": [
    "## Setup PrimeHub Python SDK\n"
   ]
  },
  {
   "cell_type": "code",
   "execution_count": null,
   "id": "d096d6e9",
   "metadata": {},
   "outputs": [],
   "source": [
    "from primehub import PrimeHub, PrimeHubConfig\n",
    "ph = PrimeHub(PrimeHubConfig())\n",
    "\n",
    "if ph.is_ready():\n",
    "    print(\"PrimeHub Python SDK setup successfully\")\n",
    "else:\n",
    "    print(\"PrimeHub Python SDK couldn't get the group information, follow the 00-getting-started.ipynb to complete it\")"
   ]
  },
  {
   "cell_type": "markdown",
   "id": "1e6f600f",
   "metadata": {},
   "source": [
    "## Help documentation"
   ]
  },
  {
   "cell_type": "code",
   "execution_count": null,
   "id": "c0c4858d",
   "metadata": {},
   "outputs": [],
   "source": [
    "help(ph.files)"
   ]
  },
  {
   "cell_type": "markdown",
   "id": "6d67de85",
   "metadata": {},
   "source": [
    "## Examples"
   ]
  },
  {
   "cell_type": "markdown",
   "id": "20a4a878",
   "metadata": {},
   "source": [
    "### List files and folders in a path\n",
    "\n",
    "We could use `list` to watch files or directory remotely.\n",
    "\n",
    "`list` requires a `path` parameter, it always starts with `/`:"
   ]
  },
  {
   "cell_type": "code",
   "execution_count": null,
   "id": "a631005f",
   "metadata": {},
   "outputs": [],
   "source": [
    "# List files and folders in a path\n",
    "files = ph.files.list('/')\n",
    "print(files)"
   ]
  },
  {
   "cell_type": "markdown",
   "id": "8c2ffb2a",
   "metadata": {},
   "source": [
    "### Upload a file or directory \n",
    "\n",
    "We use `upload` to upload a file or a directory with `recursive` options.\n",
    "\n",
    "*Note: it follows shell `cp -R` manner when upload a directory*\n",
    "> If the source_file ends in a /, the contents of the directory are copied rather than the directory itself."
   ]
  },
  {
   "cell_type": "code",
   "execution_count": null,
   "id": "13d0be70",
   "metadata": {},
   "outputs": [],
   "source": [
    "# Upload a file to shared files\n",
    "!touch test.txt\n",
    "!echo \"Test for Python SDK\" > test.txt\n",
    "ph.files.upload('test.txt', '/')\n",
    "\n",
    "# Or upload a folder to share files\n",
    "!mkdir -p dev\n",
    "!touch dev/a.out\n",
    "ph.files.upload('dev', '/upload-dir', recursive=True)\n",
    "\n",
    "# go deeply into a sub-directory\n",
    "files = ph.files.list('/upload-dir')\n",
    "print(files)"
   ]
  },
  {
   "cell_type": "markdown",
   "id": "81049e29",
   "metadata": {},
   "source": [
    "### Download a file or a directory\n",
    "\n",
    "Then `download` a file directly or a directory with `recursive` options"
   ]
  },
  {
   "cell_type": "code",
   "execution_count": null,
   "id": "bff42f30",
   "metadata": {},
   "outputs": [],
   "source": [
    "# Download the share files from a directory\n",
    "ph.files.download('/upload-dir', 'download-dir', recursive=True)\n",
    "\n",
    "# You can see the directory `download-dir` is downloaded in the sidebar"
   ]
  },
  {
   "cell_type": "markdown",
   "id": "5d1e97f4",
   "metadata": {},
   "source": [
    "### Delete a file or a directory\n",
    "\n",
    "We can `delete` to delete a file or a directory with `recursive` options."
   ]
  },
  {
   "cell_type": "code",
   "execution_count": null,
   "id": "074a267c",
   "metadata": {},
   "outputs": [],
   "source": [
    "# before deleting\n",
    "files = ph.files.list('/')\n",
    "print(files)\n",
    "\n",
    "# Delete a single file\n",
    "ph.files.delete('/test.txt')\n",
    "\n",
    "# Delete a specific directory\n",
    "ph.files.delete('/upload-dir', recursive=True)\n",
    "\n",
    "# after deleting\n",
    "files = ph.files.list('/')\n",
    "print(files)"
   ]
  }
 ],
 "metadata": {
  "kernelspec": {
   "display_name": "Python 3",
   "language": "python",
   "name": "python3"
  },
  "language_info": {
   "codemirror_mode": {
    "name": "ipython",
    "version": 3
   },
   "file_extension": ".py",
   "mimetype": "text/x-python",
   "name": "python",
   "nbconvert_exporter": "python",
   "pygments_lexer": "ipython3",
   "version": "3.9.5"
  }
 },
 "nbformat": 4,
 "nbformat_minor": 5
}
