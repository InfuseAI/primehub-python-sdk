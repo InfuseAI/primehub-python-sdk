{
 "cells": [
  {
   "cell_type": "markdown",
   "id": "1dbeaa6f",
   "metadata": {},
   "source": [
    "# Config command\n",
    "\n",
    "### Introduction\n",
    "\n",
    "Config command can setup `PrimeHubConfig` or overwrite the configuration file (`~/.primehub/config.json`).\n",
    "\n",
    "* set_endpoint: the endpoint of PrimeHub GraphQL API. \n",
    "* set_token: API token, you could switch users by changing API Token.\n",
    "* set_group: choose the current group.\n",
    "\n",
    "\n",
    "### Note: current group\n",
    "\n",
    "Some reousrces are group related, it requires a `group` to checking or filtering the results. \n",
    "When `set_group` called, `config` will check the group available to your account. \n",
    "\n",
    "If the group was not available for your account, it would show warning logs after the group was set. \n",
    "However, the group is invalid, yor might get exceptions when calling a group resources.\n",
    "\n",
    "### Note: PrimeHubConfig\n",
    "\n",
    "Please dont update the PrimeHubConfig directly, use the `config` command to that, because only `config` validates for you."
   ]
  },
  {
   "cell_type": "markdown",
   "id": "167524ce",
   "metadata": {},
   "source": [
    "## Setup PrimeHub Python SDK\n"
   ]
  },
  {
   "cell_type": "code",
   "execution_count": null,
   "id": "2374e1ba",
   "metadata": {},
   "outputs": [],
   "source": [
    "from primehub import PrimeHub, PrimeHubConfig\n",
    "ph = PrimeHub(PrimeHubConfig())\n",
    "\n",
    "if ph.is_ready():\n",
    "    print(\"PrimeHub Python SDK setup successfully\")\n",
    "else:\n",
    "    print(\"PrimeHub Python SDK couldn't get the group information, follow the get-started.ipynb to complete it\")"
   ]
  },
  {
   "cell_type": "markdown",
   "id": "e9ad2a22",
   "metadata": {},
   "source": [
    "## Help documentation"
   ]
  },
  {
   "cell_type": "code",
   "execution_count": null,
   "id": "dafdff57",
   "metadata": {},
   "outputs": [],
   "source": [
    "help(ph.config)"
   ]
  },
  {
   "cell_type": "markdown",
   "id": "08dad975",
   "metadata": {},
   "source": [
    "## Examples"
   ]
  },
  {
   "cell_type": "code",
   "execution_count": null,
   "id": "26bc550d",
   "metadata": {},
   "outputs": [],
   "source": [
    "# The endpoint was read from config.json, if you want to pick a new endpoint, call the set_endpoint\n",
    "ph.config.set_endpoint('https://example.primehub.io/api/graphql')"
   ]
  },
  {
   "cell_type": "code",
   "execution_count": null,
   "id": "b123a21b",
   "metadata": {},
   "outputs": [],
   "source": [
    "# The API Token was read from config.json, if you want to change a different user, call set_token\n",
    "ph.config.set_token('<token-for-different-user>')"
   ]
  },
  {
   "cell_type": "code",
   "execution_count": null,
   "id": "67b77f0e",
   "metadata": {},
   "outputs": [],
   "source": [
    "# The group was read from config.json, if you want to use resources from a different group, call set_group\n",
    "# You might get warning or exceptions during validation.\n",
    "ph.config.set_group('another-group')"
   ]
  },
  {
   "cell_type": "code",
   "execution_count": null,
   "id": "da92b72a",
   "metadata": {},
   "outputs": [],
   "source": []
  }
 ],
 "metadata": {
  "kernelspec": {
   "display_name": "Python 3",
   "language": "python",
   "name": "python3"
  },
  "language_info": {
   "codemirror_mode": {
    "name": "ipython",
    "version": 3
   },
   "file_extension": ".py",
   "mimetype": "text/x-python",
   "name": "python",
   "nbconvert_exporter": "python",
   "pygments_lexer": "ipython3",
   "version": "3.7.10"
  }
 },
 "nbformat": 4,
 "nbformat_minor": 5
}
