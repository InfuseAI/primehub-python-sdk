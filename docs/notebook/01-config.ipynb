{
 "cells": [
  {
   "cell_type": "markdown",
   "id": "1dbeaa6f",
   "metadata": {},
   "source": [
    "# Config command\n",
    "\n",
    "### Introduction\n",
    "\n",
    "Config command can setup `PrimeHubConfig` or overwrite the configuration file (`~/.primehub/config.json`).\n",
    "\n",
    "* set_endpoint: the endpoint of PrimeHub GraphQL API. \n",
    "* set_token: API token, you could switch users by changing API Token.\n",
    "* set_group: choose the current group.\n",
    "\n",
    "\n",
    "### Note: current group\n",
    "\n",
    "Some reousrces are group related, it requires a `group` to checking or filtering the results. \n",
    "When `set_group` called, `config` will check the group available to your account. \n",
    "\n",
    "If the group was not available for your account, it would show warning logs after the group was set. \n",
    "However, the group is invalid, yor might get exceptions when calling a group resources.\n",
    "\n",
    "### Note: PrimeHubConfig\n",
    "\n",
    "Please dont update the PrimeHubConfig directly, use the `config` command to that, because only `config` validates for you."
   ]
  },
  {
   "cell_type": "markdown",
   "id": "167524ce",
   "metadata": {},
   "source": [
    "## Setup PrimeHub Python SDK\n"
   ]
  },
  {
   "cell_type": "code",
   "execution_count": 1,
   "id": "2374e1ba",
   "metadata": {},
   "outputs": [
    {
     "name": "stdout",
     "output_type": "stream",
     "text": [
      "PrimeHub Python SDK setup successfully\n"
     ]
    }
   ],
   "source": [
    "from primehub import PrimeHub, PrimeHubConfig\n",
    "ph = PrimeHub(PrimeHubConfig())\n",
    "\n",
    "if ph.is_ready():\n",
    "    print(\"PrimeHub Python SDK setup successfully\")\n",
    "else:\n",
    "    print(\"PrimeHub Python SDK couldn't get the group information, follow the get-started.ipynb to complete it\")"
   ]
  },
  {
   "cell_type": "markdown",
   "id": "e9ad2a22",
   "metadata": {},
   "source": [
    "## Help documentation"
   ]
  },
  {
   "cell_type": "code",
   "execution_count": 2,
   "id": "dafdff57",
   "metadata": {},
   "outputs": [
    {
     "name": "stdout",
     "output_type": "stream",
     "text": [
      "Help on Config in module primehub.config object:\n",
      "\n",
      "class Config(primehub.Helpful, primehub.Module)\n",
      " |  Config(primehub: primehub.PrimeHub, **kwargs)\n",
      " |  \n",
      " |  The config module provides functions to update PrimeHubConfig.\n",
      " |  \n",
      " |  Config class only changes data in the memory,\n",
      " |  otherwise CliConfig will change data and update it to the real configuration file.\n",
      " |  \n",
      " |  In SDK mode, config will use Config.\n",
      " |  In Command mode, config will use CliConfig.\n",
      " |  CliConfig will update the file config after a `set_*` method call.\n",
      " |  \n",
      " |  Method resolution order:\n",
      " |      Config\n",
      " |      primehub.Helpful\n",
      " |      primehub.Module\n",
      " |      builtins.object\n",
      " |  \n",
      " |  Methods defined here:\n",
      " |  \n",
      " |  help_description(self)\n",
      " |      one line description for all commands\n",
      " |  \n",
      " |  set_endpoint(self, endpoint: str)\n",
      " |      Set endpoint to the GraphQL API.\n",
      " |      \n",
      " |      It usually is in this pattern https://<primehub-domain>/api/graphql\n",
      " |      \n",
      " |      :type endpoint: str\n",
      " |      :param endpoint: an URL to GraphQL API endpoint\n",
      " |  \n",
      " |  set_group(self, group: str)\n",
      " |      Set current group to work with group aware actions.\n",
      " |      \n",
      " |      When setting a group, it will validate the group. It the group is invalid, PrimeHub.current_group will be None.\n",
      " |      \n",
      " |      :type group: str\n",
      " |      :param group: group name\n",
      " |  \n",
      " |  set_token(self, token: str)\n",
      " |      Set api-token to the PrimeHubConfig\n",
      " |      \n",
      " |      :type token: str\n",
      " |      :param token: a token used by GraphQL request\n",
      " |  \n",
      " |  ----------------------------------------------------------------------\n",
      " |  Data and other attributes defined here:\n",
      " |  \n",
      " |  __abstractmethods__ = frozenset()\n",
      " |  \n",
      " |  ----------------------------------------------------------------------\n",
      " |  Data descriptors inherited from primehub.Helpful:\n",
      " |  \n",
      " |  __dict__\n",
      " |      dictionary for instance variables (if defined)\n",
      " |  \n",
      " |  __weakref__\n",
      " |      list of weak references to the object (if defined)\n",
      " |  \n",
      " |  ----------------------------------------------------------------------\n",
      " |  Methods inherited from primehub.Module:\n",
      " |  \n",
      " |  __init__(self, primehub: primehub.PrimeHub, **kwargs)\n",
      " |      Initialize self.  See help(type(self)) for accurate signature.\n",
      " |  \n",
      " |  ----------------------------------------------------------------------\n",
      " |  Data descriptors inherited from primehub.Module:\n",
      " |  \n",
      " |  current_group\n",
      " |  \n",
      " |  endpoint\n",
      " |  \n",
      " |  group_id\n",
      " |  \n",
      " |  group_name\n",
      " |  \n",
      " |  primehub_config\n",
      "\n"
     ]
    }
   ],
   "source": [
    "help(ph.config)"
   ]
  },
  {
   "cell_type": "markdown",
   "id": "08dad975",
   "metadata": {},
   "source": [
    "## Examples"
   ]
  },
  {
   "cell_type": "code",
   "execution_count": 3,
   "id": "26bc550d",
   "metadata": {},
   "outputs": [],
   "source": [
    "# The endpoint was read from config.json, if you want to pick a new endpoint, call the set_endpoint\n",
    "ph.config.set_endpoint('https://example.primehub.io/api/graphql')"
   ]
  },
  {
   "cell_type": "code",
   "execution_count": 4,
   "id": "b123a21b",
   "metadata": {},
   "outputs": [],
   "source": [
    "# The API Token was read from config.json, if you want to change a different user, call set_token\n",
    "ph.config.set_token('<token-for-different-user>')"
   ]
  },
  {
   "cell_type": "code",
   "execution_count": 5,
   "id": "67b77f0e",
   "metadata": {},
   "outputs": [
    {
     "name": "stderr",
     "output_type": "stream",
     "text": [
      "2021-08-02 10:42:53,834 - cmd-config - ERROR - Cannot fetch group [another-group] from api-server\n",
      "Traceback (most recent call last):\n",
      "  File \"/opt/conda/lib/python3.7/site-packages/urllib3/connection.py\", line 170, in _new_conn\n",
      "    (self._dns_host, self.port), self.timeout, **extra_kw\n",
      "  File \"/opt/conda/lib/python3.7/site-packages/urllib3/util/connection.py\", line 73, in create_connection\n",
      "    for res in socket.getaddrinfo(host, port, family, socket.SOCK_STREAM):\n",
      "  File \"/opt/conda/lib/python3.7/socket.py\", line 752, in getaddrinfo\n",
      "    for res in _socket.getaddrinfo(host, port, family, type, proto, flags):\n",
      "socket.gaierror: [Errno -2] Name or service not known\n",
      "\n",
      "During handling of the above exception, another exception occurred:\n",
      "\n",
      "Traceback (most recent call last):\n",
      "  File \"/opt/conda/lib/python3.7/site-packages/urllib3/connectionpool.py\", line 706, in urlopen\n",
      "    chunked=chunked,\n",
      "  File \"/opt/conda/lib/python3.7/site-packages/urllib3/connectionpool.py\", line 382, in _make_request\n",
      "    self._validate_conn(conn)\n",
      "  File \"/opt/conda/lib/python3.7/site-packages/urllib3/connectionpool.py\", line 1010, in _validate_conn\n",
      "    conn.connect()\n",
      "  File \"/opt/conda/lib/python3.7/site-packages/urllib3/connection.py\", line 353, in connect\n",
      "    conn = self._new_conn()\n",
      "  File \"/opt/conda/lib/python3.7/site-packages/urllib3/connection.py\", line 182, in _new_conn\n",
      "    self, \"Failed to establish a new connection: %s\" % e\n",
      "urllib3.exceptions.NewConnectionError: <urllib3.connection.HTTPSConnection object at 0x7f9ff8197150>: Failed to establish a new connection: [Errno -2] Name or service not known\n",
      "\n",
      "During handling of the above exception, another exception occurred:\n",
      "\n",
      "Traceback (most recent call last):\n",
      "  File \"/opt/conda/lib/python3.7/site-packages/requests/adapters.py\", line 449, in send\n",
      "    timeout=timeout\n",
      "  File \"/opt/conda/lib/python3.7/site-packages/urllib3/connectionpool.py\", line 756, in urlopen\n",
      "    method, url, error=e, _pool=self, _stacktrace=sys.exc_info()[2]\n",
      "  File \"/opt/conda/lib/python3.7/site-packages/urllib3/util/retry.py\", line 574, in increment\n",
      "    raise MaxRetryError(_pool, url, error or ResponseError(cause))\n",
      "urllib3.exceptions.MaxRetryError: HTTPSConnectionPool(host='example.primehub.io', port=443): Max retries exceeded with url: /api/graphql (Caused by NewConnectionError('<urllib3.connection.HTTPSConnection object at 0x7f9ff8197150>: Failed to establish a new connection: [Errno -2] Name or service not known'))\n",
      "\n",
      "During handling of the above exception, another exception occurred:\n",
      "\n",
      "Traceback (most recent call last):\n",
      "  File \"/opt/conda/lib/python3.7/site-packages/primehub/config.py\", line 51, in set_group\n",
      "    selected_group = self._fetch_group_info(group)\n",
      "  File \"/opt/conda/lib/python3.7/site-packages/primehub/config.py\", line 72, in _fetch_group_info\n",
      "    results = self.request({}, query)\n",
      "  File \"/opt/conda/lib/python3.7/site-packages/primehub/__init__.py\", line 207, in request\n",
      "    return Client(self.primehub_config).request(variables, query)\n",
      "  File \"/opt/conda/lib/python3.7/site-packages/primehub/utils/http_client.py\", line 20, in request\n",
      "    content = requests.post(self.primehub_config.endpoint, data=request_body, headers=headers).text\n",
      "  File \"/opt/conda/lib/python3.7/site-packages/requests/api.py\", line 119, in post\n",
      "    return request('post', url, data=data, json=json, **kwargs)\n",
      "  File \"/opt/conda/lib/python3.7/site-packages/requests/api.py\", line 61, in request\n",
      "    return session.request(method=method, url=url, **kwargs)\n",
      "  File \"/opt/conda/lib/python3.7/site-packages/requests/sessions.py\", line 542, in request\n",
      "    resp = self.send(prep, **send_kwargs)\n",
      "  File \"/opt/conda/lib/python3.7/site-packages/requests/sessions.py\", line 655, in send\n",
      "    r = adapter.send(request, **kwargs)\n",
      "  File \"/opt/conda/lib/python3.7/site-packages/requests/adapters.py\", line 516, in send\n",
      "    raise ConnectionError(e, request=request)\n",
      "requests.exceptions.ConnectionError: HTTPSConnectionPool(host='example.primehub.io', port=443): Max retries exceeded with url: /api/graphql (Caused by NewConnectionError('<urllib3.connection.HTTPSConnection object at 0x7f9ff8197150>: Failed to establish a new connection: [Errno -2] Name or service not known'))\n"
     ]
    }
   ],
   "source": [
    "# The group was read from config.json, if you want to use resources from a different group, call set_group\n",
    "# You might get warning or exceptions during validation.\n",
    "ph.config.set_group('another-group')"
   ]
  },
  {
   "cell_type": "code",
   "execution_count": null,
   "id": "da92b72a",
   "metadata": {},
   "outputs": [],
   "source": []
  }
 ],
 "metadata": {
  "kernelspec": {
   "display_name": "Python 3",
   "language": "python",
   "name": "python3"
  },
  "language_info": {
   "codemirror_mode": {
    "name": "ipython",
    "version": 3
   },
   "file_extension": ".py",
   "mimetype": "text/x-python",
   "name": "python",
   "nbconvert_exporter": "python",
   "pygments_lexer": "ipython3",
   "version": "3.7.10"
  }
 },
 "nbformat": 4,
 "nbformat_minor": 5
}
