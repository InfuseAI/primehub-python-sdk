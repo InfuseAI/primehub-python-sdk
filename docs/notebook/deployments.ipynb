{
 "cells": [
  {
   "cell_type": "markdown",
   "id": "ee9de151",
   "metadata": {},
   "source": [
    "# Deployments command\n",
    "\n",
    "### Introduction\n",
    "\n",
    "The `deployments` command can manage deployments in the current group.\n",
    "\n",
    "* list: List deployments\n",
    "* get: Get a deployment by id\n",
    "* get-history: Get history of a deployment by id\n",
    "* create: Create a deployment\n",
    "* update: Update a deployment by id\n",
    "* delete: Delete a deployment by id\n",
    "* start: Start a deployment by id\n",
    "* stop: Stop a deployment by id\n",
    "* wait: Wait a deployment to complete\n",
    "* logs: Get deployment logs by id"
   ]
  },
  {
   "cell_type": "markdown",
   "id": "ec110dfc",
   "metadata": {},
   "source": [
    "## Setup PrimeHub Python SDK\n"
   ]
  },
  {
   "cell_type": "code",
   "execution_count": null,
   "id": "582cf4cf",
   "metadata": {},
   "outputs": [],
   "source": [
    "from primehub import PrimeHub, PrimeHubConfig\n",
    "ph = PrimeHub(PrimeHubConfig())\n",
    "\n",
    "if ph.is_ready():\n",
    "    print(\"PrimeHub Python SDK setup successfully\")\n",
    "else:\n",
    "    print(\"PrimeHub Python SDK couldn't get the group information, follow the 00-getting-started.ipynb to complete it\")"
   ]
  },
  {
   "cell_type": "markdown",
   "id": "c1e305c3",
   "metadata": {},
   "source": [
    "## Help documentation"
   ]
  },
  {
   "cell_type": "code",
   "execution_count": null,
   "id": "ea3abe15",
   "metadata": {},
   "outputs": [],
   "source": [
    "help(ph.deployments)"
   ]
  },
  {
   "cell_type": "markdown",
   "id": "1a1ff9ad",
   "metadata": {},
   "source": [
    "## Examples\n",
    "\n",
    "### Fields for creating or updating\n",
    "\n",
    "| field | required | type | description |\n",
    "| --- | --- | --- | --- |\n",
    "| name | required | string | the name of the deployment |\n",
    "| id | required* | string | either self-defined or system generated automatically if not specified |\n",
    "| modelImage | required | string | the image file; see [also](https://docs.primehub.io/docs/model-deployment-feature#deployment-details) |\n",
    "| modelURI | optional | string | the location which the trained model is stored in; see [also](https://docs.primehub.io/docs/model-deployment-model-uri)|\n",
    "| env | optional | array | key-value pairs of environmental variables |\n",
    "| metadata | optional | object | key-value pairs of metadata |\n",
    "| instanceType | required | string | instance type which allocates resources for the job |\n",
    "| replicas | required* | int | how many replicas for the service |\n",
    "| updateMessage | optional | string | message here for each update |\n",
    "| endpointAccessType | optional | string | one of ['public', 'private'] |\n",
    "\n",
    "#### Auto-filling Fields\n",
    "Auto-filling will happen when the config omitted below fields\n",
    "\n",
    "| field | value | description |\n",
    "| --- | --- | --- |\n",
    "| id | [normalize name]-[random string] | random string is in the length of 5 |\n",
    "| replicas | 1 | |"
   ]
  },
  {
   "cell_type": "markdown",
   "id": "aad2b7f0",
   "metadata": {},
   "source": [
    "### Get detail information of deployments"
   ]
  },
  {
   "cell_type": "code",
   "execution_count": null,
   "id": "394482dc",
   "metadata": {},
   "outputs": [],
   "source": [
    "# List all deployments\n",
    "ph.deployments.list()"
   ]
  },
  {
   "cell_type": "code",
   "execution_count": null,
   "id": "be35a6d4",
   "metadata": {},
   "outputs": [],
   "source": [
    "# Get detail information by id\n",
    "ph.deployments.get('<deployment_id>')"
   ]
  },
  {
   "cell_type": "markdown",
   "id": "d3805adc",
   "metadata": {},
   "source": [
    "### Create, update, and delete deployments"
   ]
  },
  {
   "cell_type": "code",
   "execution_count": null,
   "id": "d4f8b107",
   "metadata": {},
   "outputs": [],
   "source": [
    "# Create a deployment\n",
    "config = {\n",
    "    \"id\": \"deploymeny-from-sdk-zxy\",\n",
    "    \"name\": \"deploymeny-from-sdk\",\n",
    "    \"modelImage\": \"base-notebook\",\n",
    "    \"modelURI\": \"test/module/uri\",\n",
    "    \"instanceType\": \"cpu-1\",\n",
    "    \"replicas\": 1\n",
    "}\n",
    "\n",
    "deployment = ph.deployments.create(config)\n",
    "print(deployment)"
   ]
  },
  {
   "cell_type": "code",
   "execution_count": null,
   "id": "8b3eff75",
   "metadata": {},
   "outputs": [],
   "source": [
    "# Update the deployment\n",
    "update_config = {\n",
    "    \"replicas\": 2\n",
    "}\n",
    "\n",
    "ph.deployments.update(deployment['id'], update_config)"
   ]
  },
  {
   "cell_type": "code",
   "execution_count": null,
   "id": "31b19ea2",
   "metadata": {},
   "outputs": [],
   "source": [
    "# Delete a deployment\n",
    "ph.deployments.delete(deployment['id'])"
   ]
  },
  {
   "cell_type": "markdown",
   "id": "072d0ab8",
   "metadata": {},
   "source": [
    "### Start, stop, and wait deployments"
   ]
  },
  {
   "cell_type": "code",
   "execution_count": null,
   "id": "c420dfb2",
   "metadata": {},
   "outputs": [],
   "source": [
    "# Start a deployment\n",
    "ph.deployments.start('<deployment_id>')"
   ]
  },
  {
   "cell_type": "code",
   "execution_count": null,
   "id": "1d99431b",
   "metadata": {},
   "outputs": [],
   "source": [
    "# Stop a deployment\n",
    "ph.deployments.stop('<deployment_id>')"
   ]
  },
  {
   "cell_type": "code",
   "execution_count": null,
   "id": "f780e2fe",
   "metadata": {},
   "outputs": [],
   "source": [
    "# Wait a deployment\n",
    "# If it's deploying, wait until deployed.\n",
    "# If it's stopping, wait until stopped.\n",
    "ph.deployments.wait('<deployment_id>')"
   ]
  },
  {
   "cell_type": "code",
   "execution_count": null,
   "id": "ff7211e0",
   "metadata": {},
   "outputs": [],
   "source": [
    "# Wait with timeout\n",
    "ph.deployments.wait('<deployment_id>', timeout=1)"
   ]
  },
  {
   "cell_type": "markdown",
   "id": "c66ef1a1",
   "metadata": {},
   "source": [
    "### Get deployment logs"
   ]
  },
  {
   "cell_type": "code",
   "execution_count": null,
   "id": "c6e0a818",
   "metadata": {},
   "outputs": [],
   "source": [
    "# Get the deployment logs\n",
    "logs = ph.deployments.logs('<deployment_id>')\n",
    "print('[ Deployment Logs ]')\n",
    "for l in logs:\n",
    "    print(l)"
   ]
  },
  {
   "cell_type": "code",
   "execution_count": null,
   "id": "65b85bf7",
   "metadata": {},
   "outputs": [],
   "source": [
    "# Get the deployment logs with tail length (default is 10)\n",
    "logs = ph.deployments.logs('<deployment_id>', tail=20)\n",
    "print('[ Deployment Logs ]')\n",
    "for l in logs:\n",
    "    print(l)"
   ]
  },
  {
   "cell_type": "code",
   "execution_count": null,
   "id": "e2cd18d8",
   "metadata": {},
   "outputs": [],
   "source": [
    "# Get the deployment logs in stream mode\n",
    "logs = ph.deployments.logs('<deployment_id>', follow=True)\n",
    "print('[ Deployment Logs ]')\n",
    "for l in logs:\n",
    "    print(l)"
   ]
  }
 ],
 "metadata": {
  "kernelspec": {
   "display_name": "Python 3",
   "language": "python",
   "name": "python3"
  },
  "language_info": {
   "codemirror_mode": {
    "name": "ipython",
    "version": 3
   },
   "file_extension": ".py",
   "mimetype": "text/x-python",
   "name": "python",
   "nbconvert_exporter": "python",
   "pygments_lexer": "ipython3",
   "version": "3.7.10"
  }
 },
 "nbformat": 4,
 "nbformat_minor": 5
}
