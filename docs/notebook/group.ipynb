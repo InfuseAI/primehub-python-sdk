{
 "cells": [
  {
   "cell_type": "markdown",
   "id": "1799d835",
   "metadata": {},
   "source": [
    "# Group command\n",
    "\n",
    "### Introduction\n",
    "\n",
    "Group command can show the available groups for your account.\n"
   ]
  },
  {
   "cell_type": "markdown",
   "id": "7ca8ede4",
   "metadata": {},
   "source": [
    "## Setup PrimeHub Python SDK\n"
   ]
  },
  {
   "cell_type": "code",
   "execution_count": null,
   "id": "ccadef23",
   "metadata": {},
   "outputs": [],
   "source": [
    "from primehub import PrimeHub, PrimeHubConfig\n",
    "ph = PrimeHub(PrimeHubConfig())\n",
    "\n",
    "if ph.is_ready():\n",
    "    print(\"PrimeHub Python SDK setup successfully\")\n",
    "else:\n",
    "    print(\"PrimeHub Python SDK couldn't get the group information, follow the 00-getting-started.ipynb to complete it\")"
   ]
  },
  {
   "cell_type": "markdown",
   "id": "7633801b",
   "metadata": {},
   "source": [
    "## Help documentation"
   ]
  },
  {
   "cell_type": "code",
   "execution_count": null,
   "id": "016511ef",
   "metadata": {},
   "outputs": [],
   "source": [
    "help(ph.group)"
   ]
  },
  {
   "cell_type": "markdown",
   "id": "e85b09bf",
   "metadata": {},
   "source": [
    "## Examples"
   ]
  },
  {
   "cell_type": "code",
   "execution_count": null,
   "id": "fd912177",
   "metadata": {},
   "outputs": [],
   "source": [
    "# Get a group\n",
    "ph.group.get('devteam')"
   ]
  },
  {
   "cell_type": "code",
   "execution_count": null,
   "id": "a76848a4",
   "metadata": {},
   "outputs": [],
   "source": [
    "# List effective group\n",
    "ph.group.list()"
   ]
  }
 ],
 "metadata": {
  "kernelspec": {
   "display_name": "Python 3",
   "language": "python",
   "name": "python3"
  },
  "language_info": {
   "codemirror_mode": {
    "name": "ipython",
    "version": 3
   },
   "file_extension": ".py",
   "mimetype": "text/x-python",
   "name": "python",
   "nbconvert_exporter": "python",
   "pygments_lexer": "ipython3",
   "version": "3.7.10"
  }
 },
 "nbformat": 4,
 "nbformat_minor": 5
}
