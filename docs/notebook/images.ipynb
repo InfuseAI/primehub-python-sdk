{
 "cells": [
  {
   "cell_type": "markdown",
   "id": "71088394",
   "metadata": {},
   "source": [
    "# Images command\n",
    "\n",
    "\n",
    "The `images` command is one of the group resources command, so it needs to use with a current group.\n"
   ]
  },
  {
   "cell_type": "markdown",
   "id": "40b1d75f",
   "metadata": {},
   "source": [
    "## Setup PrimeHub Python SDK\n"
   ]
  },
  {
   "cell_type": "code",
   "execution_count": null,
   "id": "d9e72f69",
   "metadata": {},
   "outputs": [],
   "source": [
    "from primehub import PrimeHub, PrimeHubConfig\n",
    "ph = PrimeHub(PrimeHubConfig())\n",
    "\n",
    "if ph.is_ready():\n",
    "    print(\"PrimeHub Python SDK setup successfully\")\n",
    "else:\n",
    "    print(\"PrimeHub Python SDK couldn't get the group information, follow the 00-getting-started.ipynb to complete it\")"
   ]
  },
  {
   "cell_type": "markdown",
   "id": "6b484dbc",
   "metadata": {},
   "source": [
    "## Help documentation"
   ]
  },
  {
   "cell_type": "code",
   "execution_count": null,
   "id": "c05ba53f",
   "metadata": {},
   "outputs": [],
   "source": [
    "help(ph.images)"
   ]
  },
  {
   "cell_type": "markdown",
   "id": "fb755a49",
   "metadata": {},
   "source": [
    "## Examples"
   ]
  },
  {
   "cell_type": "code",
   "execution_count": null,
   "id": "a963cad4",
   "metadata": {},
   "outputs": [],
   "source": [
    "# List images\n",
    "ph.images.list()"
   ]
  },
  {
   "cell_type": "code",
   "execution_count": null,
   "id": "ba7d2f80",
   "metadata": {},
   "outputs": [],
   "source": [
    "# Get a dataset\n",
    "ph.images.get('tf-2')"
   ]
  }
 ],
 "metadata": {
  "kernelspec": {
   "display_name": "Python 3",
   "language": "python",
   "name": "python3"
  },
  "language_info": {
   "codemirror_mode": {
    "name": "ipython",
    "version": 3
   },
   "file_extension": ".py",
   "mimetype": "text/x-python",
   "name": "python",
   "nbconvert_exporter": "python",
   "pygments_lexer": "ipython3",
   "version": "3.7.10"
  }
 },
 "nbformat": 4,
 "nbformat_minor": 5
}
