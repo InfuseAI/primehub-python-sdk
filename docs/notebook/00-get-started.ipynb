{
 "cells": [
  {
   "cell_type": "markdown",
   "metadata": {},
   "source": [
    "# Getting Started with PrimeHub Python SDK\n",
    "\n",
    "PrimeHub Python SDK makes you automation with PrimeHub Platform.\n"
   ]
  },
  {
   "cell_type": "markdown",
   "metadata": {},
   "source": [
    "In order to make the SDK working, you have to \n",
    "* install the library with `pip`\n",
    "* create a config file in the `~/.primehub/config.json`"
   ]
  },
  {
   "cell_type": "markdown",
   "metadata": {},
   "source": [
    "## Install with pip\n",
    "\n",
    "* Let's install PrimeHub Python SDK with `pip`. "
   ]
  },
  {
   "cell_type": "code",
   "execution_count": 1,
   "metadata": {},
   "outputs": [
    {
     "name": "stdout",
     "output_type": "stream",
     "text": [
      "Collecting git+https://github.com/InfuseAI/primehub-python-sdk.git@feature/docs-notebook\n",
      "  Cloning https://github.com/InfuseAI/primehub-python-sdk.git (to revision feature/docs-notebook) to /tmp/pip-req-build-6szxw7my\n",
      "  Running command git clone -q https://github.com/InfuseAI/primehub-python-sdk.git /tmp/pip-req-build-6szxw7my\n",
      "  Running command git checkout -b feature/docs-notebook --track origin/feature/docs-notebook\n",
      "  Switched to a new branch 'feature/docs-notebook'\n",
      "  Branch 'feature/docs-notebook' set up to track remote branch 'feature/docs-notebook' from 'origin'.\n",
      "Requirement already satisfied: requests in /opt/conda/lib/python3.7/site-packages (from primehub-python-sdk==1.0) (2.25.1)\n",
      "Requirement already satisfied: chardet<5,>=3.0.2 in /opt/conda/lib/python3.7/site-packages (from requests->primehub-python-sdk==1.0) (4.0.0)\n",
      "Requirement already satisfied: urllib3<1.27,>=1.21.1 in /opt/conda/lib/python3.7/site-packages (from requests->primehub-python-sdk==1.0) (1.26.4)\n",
      "Requirement already satisfied: certifi>=2017.4.17 in /opt/conda/lib/python3.7/site-packages (from requests->primehub-python-sdk==1.0) (2020.6.20)\n",
      "Requirement already satisfied: idna<3,>=2.5 in /opt/conda/lib/python3.7/site-packages (from requests->primehub-python-sdk==1.0) (2.10)\n"
     ]
    }
   ],
   "source": [
    "!pip install git+https://github.com/InfuseAI/primehub-python-sdk.git@feature/docs-notebook"
   ]
  },
  {
   "cell_type": "markdown",
   "metadata": {},
   "source": [
    "## Configuration file\n",
    "\n",
    "* After installed, the SDK needs a configuration in the `~/.primehub/config.json`, in this structure:\n",
    "\n",
    "```json\n",
    "{\n",
    "  \"api-token\": \"<api-token>\",\n",
    "  \"endpoint\": \"https://<primehub-server-domain>/api/graphql\",\n",
    "  \"group\": {\n",
    "    \"name\": \"<the-name-of-current-group>\"\n",
    "  }\n",
    "}\n",
    "```\n"
   ]
  },
  {
   "cell_type": "markdown",
   "metadata": {},
   "source": [
    "### Verify configration with PrimeHub Python SDK"
   ]
  },
  {
   "cell_type": "code",
   "execution_count": 2,
   "metadata": {},
   "outputs": [
    {
     "name": "stdout",
     "output_type": "stream",
     "text": [
      "PrimeHub Python SDK setup successfully\n",
      "Current Group: {'id': '927406f6-88b0-490e-8e36-7835224fdf13', 'name': 'devteam', 'displayName': 'Dev Team'}\n"
     ]
    }
   ],
   "source": [
    "from primehub import PrimeHub, PrimeHubConfig\n",
    "ph = PrimeHub(PrimeHubConfig())\n",
    "\n",
    "if ph.is_ready():\n",
    "    print(\"PrimeHub Python SDK setup successfully\")\n",
    "    print(\"Current Group:\", ph.primehub_config.current_group)\n",
    "else:\n",
    "    print(\"PrimeHub Python SDK couldn't get the group informatino, please check the configuration.\")"
   ]
  },
  {
   "cell_type": "markdown",
   "metadata": {},
   "source": [
    "## Here is all available commands in the PrimeHub SDK\n",
    "\n",
    "We will talk each command in the individual notebook. Commands call convention are:\n",
    "\n",
    "`PrimeHub.<command>.<method>(*args, **kwargs)`\n",
    "\n",
    "You could look up all supported commands with `get_all_commands()` method."
   ]
  },
  {
   "cell_type": "code",
   "execution_count": 3,
   "metadata": {},
   "outputs": [
    {
     "name": "stdout",
     "output_type": "stream",
     "text": [
      "config\n",
      "datasets\n",
      "files\n",
      "group\n",
      "images\n",
      "instancetypes\n",
      "jobs\n",
      "me\n",
      "notebooks\n",
      "schedules\n"
     ]
    }
   ],
   "source": [
    "for cmd in ph.get_all_commands():\n",
    "    print(cmd)"
   ]
  },
  {
   "cell_type": "code",
   "execution_count": null,
   "metadata": {},
   "outputs": [],
   "source": []
  }
 ],
 "metadata": {
  "kernelspec": {
   "display_name": "Python 3",
   "language": "python",
   "name": "python3"
  },
  "language_info": {
   "codemirror_mode": {
    "name": "ipython",
    "version": 3
   },
   "file_extension": ".py",
   "mimetype": "text/x-python",
   "name": "python",
   "nbconvert_exporter": "python",
   "pygments_lexer": "ipython3",
   "version": "3.7.10"
  }
 },
 "nbformat": 4,
 "nbformat_minor": 4
}
