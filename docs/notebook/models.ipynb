{
 "cells": [
  {
   "cell_type": "markdown",
   "id": "697a9c7f",
   "metadata": {},
   "source": [
    "# Models command\n",
    "\n",
    "### Introduction\n",
    "\n",
    "The `models` command can manage models in the current group.\n",
    "\n",
    "\n",
    "* deploy: Deploy the model version to the speific deployment\n",
    "* get: Get the model\n",
    "* get-version: Get a version of the model\n",
    "* list: List models\n",
    "* list-versions: List versions of the model"
   ]
  },
  {
   "cell_type": "markdown",
   "id": "9d26093c",
   "metadata": {},
   "source": [
    "## Setup PrimeHub Python SDK\n"
   ]
  },
  {
   "cell_type": "code",
   "execution_count": null,
   "id": "43fadc2b",
   "metadata": {},
   "outputs": [],
   "source": [
    "from primehub import PrimeHub, PrimeHubConfig\n",
    "ph = PrimeHub(PrimeHubConfig())\n",
    "\n",
    "if ph.is_ready():\n",
    "    print(\"PrimeHub Python SDK setup successfully\")\n",
    "else:\n",
    "    print(\"PrimeHub Python SDK couldn't get the group information, follow the 00-getting-started.ipynb to complete it\")"
   ]
  },
  {
   "cell_type": "markdown",
   "id": "55a3532f",
   "metadata": {},
   "source": [
    "## Help documentation"
   ]
  },
  {
   "cell_type": "code",
   "execution_count": null,
   "id": "7b042631",
   "metadata": {},
   "outputs": [],
   "source": [
    "help(ph.models)"
   ]
  },
  {
   "cell_type": "markdown",
   "id": "d3f7f15b",
   "metadata": {},
   "source": [
    "## Examples"
   ]
  },
  {
   "cell_type": "markdown",
   "id": "2f18af7d",
   "metadata": {},
   "source": [
    "### Get detail information of models"
   ]
  },
  {
   "cell_type": "code",
   "execution_count": null,
   "id": "469a3095",
   "metadata": {},
   "outputs": [],
   "source": [
    "# List all models\n",
    "models = ph.models.list()\n",
    "for model in models:\n",
    "    print(model)"
   ]
  },
  {
   "cell_type": "code",
   "execution_count": null,
   "id": "decc1365",
   "metadata": {},
   "outputs": [],
   "source": [
    "# Get detail information by model name\n",
    "ph.models.get('<model_name>')"
   ]
  },
  {
   "cell_type": "markdown",
   "id": "903009c2",
   "metadata": {},
   "source": [
    "### Get detail information of model versions"
   ]
  },
  {
   "cell_type": "code",
   "execution_count": null,
   "id": "1ce5ad39",
   "metadata": {},
   "outputs": [],
   "source": [
    "# List all versions of a model\n",
    "model_versions = ph.models.list_versions('<model_name>')\n",
    "for version in model_versions:\n",
    "    print(version)"
   ]
  },
  {
   "cell_type": "code",
   "execution_count": null,
   "id": "e0bfb3ad",
   "metadata": {},
   "outputs": [],
   "source": [
    "# Get detail information by model name and version number\n",
    "ph.models.get_version('<model_name>', '<version>')"
   ]
  },
  {
   "cell_type": "markdown",
   "id": "a1970e9c",
   "metadata": {},
   "source": [
    "### Deploy a model to existing deployments"
   ]
  },
  {
   "cell_type": "code",
   "execution_count": null,
   "id": "9464702e",
   "metadata": {},
   "outputs": [],
   "source": [
    "# Deploy the model with specific version \n",
    "ph.models.deploy('<model_name>', '<version>', '<deployment_id>')"
   ]
  }
 ],
 "metadata": {
  "kernelspec": {
   "display_name": "Python 3",
   "language": "python",
   "name": "python3"
  },
  "language_info": {
   "codemirror_mode": {
    "name": "ipython",
    "version": 3
   },
   "file_extension": ".py",
   "mimetype": "text/x-python",
   "name": "python",
   "nbconvert_exporter": "python",
   "pygments_lexer": "ipython3",
   "version": "3.7.10"
  }
 },
 "nbformat": 4,
 "nbformat_minor": 5
}
