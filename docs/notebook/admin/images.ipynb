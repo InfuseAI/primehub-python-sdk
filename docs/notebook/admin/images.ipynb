{
 "cells": [
  {
   "cell_type": "markdown",
   "id": "52772ffa",
   "metadata": {},
   "source": [
    "# [admin] Images command\n",
    "\n",
    "\n",
    "The `images` command in `admin` scope could help you manage images.\n"
   ]
  },
  {
   "cell_type": "markdown",
   "id": "5ebd5158",
   "metadata": {},
   "source": [
    "## Setup PrimeHub Python SDK\n"
   ]
  },
  {
   "cell_type": "code",
   "execution_count": null,
   "id": "1b84ef0f",
   "metadata": {},
   "outputs": [],
   "source": [
    "from primehub import PrimeHub, PrimeHubConfig\n",
    "ph = PrimeHub(PrimeHubConfig())\n",
    "\n",
    "if ph.is_ready():\n",
    "    print(\"PrimeHub Python SDK setup successfully\")\n",
    "else:\n",
    "    print(\"PrimeHub Python SDK couldn't get the group information, follow the 00-getting-started.ipynb to complete it\")"
   ]
  },
  {
   "cell_type": "markdown",
   "id": "5ae057ba",
   "metadata": {},
   "source": [
    "## Help documentation"
   ]
  },
  {
   "cell_type": "code",
   "execution_count": null,
   "id": "fa55f480",
   "metadata": {},
   "outputs": [],
   "source": [
    "help(ph.admin.images)"
   ]
  },
  {
   "cell_type": "markdown",
   "id": "73eae411",
   "metadata": {},
   "source": [
    "## Images management\n",
    "\n",
    "---\n",
    "\n",
    "\n",
    "```\n",
    "$ primehub admin images\n",
    "\n",
    "Usage: \n",
    "  primehub admin images <command>\n",
    "\n",
    "Manage images\n",
    "\n",
    "Available Commands:\n",
    "  create               Create an image\n",
    "  delete               Delete an image by id\n",
    "  get                  Get an image by id\n",
    "  list                 List images\n",
    "  update               Update the image\n",
    "```\n",
    "\n",
    "---\n",
    "\n",
    "### Fields for creating or updating\n",
    "\n",
    "| field | required | type | description |\n",
    "| --- | --- | --- | --- |\n",
    "| name | required | string | it should be a valid resource name for kubernetes. `name` will be ignored when updating |\n",
    "| displayName | optional | string | |\n",
    "| description | optional | string | |\n",
    "| type | optional | string | one of ['cpu', 'gpu', 'both'], default value: 'both' |\n",
    "| global | optional | boolean |  |\n",
    "| groups | optional | object | |\n",
    "| url | optional | string | container image url |\n",
    "| urlForGpu | optional | string | container image url for GPU optimized |\n",
    "| imageSpec | optional | object | the specification for customization |\n",
    "| useImagePullSecret | optional | string | the id of a secret |\n",
    "\n",
    "*Note: imageSpec cannot use with url and urlForGpu*\n"
   ]
  },
  {
   "cell_type": "markdown",
   "id": "eea61de7",
   "metadata": {},
   "source": [
    "## Examples"
   ]
  },
  {
   "cell_type": "markdown",
   "id": "9becc7e1",
   "metadata": {},
   "source": [
    "You could find [more examples on our github](https://github.com/InfuseAI/primehub-python-sdk/blob/main/docs/CLI/admin/images.md)."
   ]
  },
  {
   "cell_type": "code",
   "execution_count": null,
   "id": "2f09c119",
   "metadata": {},
   "outputs": [],
   "source": [
    "# List images\n",
    "list(ph.admin.images.list())"
   ]
  },
  {
   "cell_type": "code",
   "execution_count": null,
   "id": "0961aebb",
   "metadata": {},
   "outputs": [],
   "source": [
    "# Create an image\n",
    "config = {\n",
    "  \"name\": \"image-by-sdk\",\n",
    "  \"displayName\": \"Learning how to create an image from SDK\",\n",
    "  \"description\": \"base-notebook with python 3.7\",\n",
    "  \"type\": \"both\",\n",
    "  \"url\": \"infuseai/docker-stacks:base-notebook-63fdf50a\",\n",
    "  \"urlForGpu\": \"infuseai/docker-stacks:base-notebook-63fdf50a-gpu\",\n",
    "  \"global\": True\n",
    "}\n",
    "ph.admin.images.create(config)"
   ]
  },
  {
   "cell_type": "code",
   "execution_count": null,
   "id": "687b6b59",
   "metadata": {},
   "outputs": [],
   "source": [
    "# Update an image\n",
    "update = {\n",
    "  \"description\": \"base-notebook with python 3.7, only cpu\",\n",
    "  \"type\": \"cpu\"\n",
    "}\n",
    "ph.admin.images.update(config['name'], update)"
   ]
  },
  {
   "cell_type": "code",
   "execution_count": null,
   "id": "1d1f177c",
   "metadata": {},
   "outputs": [],
   "source": [
    "# Get deatils by id\n",
    "ph.admin.images.get(config['name'])"
   ]
  },
  {
   "cell_type": "code",
   "execution_count": null,
   "id": "3b08571c",
   "metadata": {},
   "outputs": [],
   "source": [
    "# Delete the instance type\n",
    "ph.admin.images.delete(config['name'])"
   ]
  }
 ],
 "metadata": {
  "kernelspec": {
   "display_name": "Python 3 (ipykernel)",
   "language": "python",
   "name": "python3"
  },
  "language_info": {
   "codemirror_mode": {
    "name": "ipython",
    "version": 3
   },
   "file_extension": ".py",
   "mimetype": "text/x-python",
   "name": "python",
   "nbconvert_exporter": "python",
   "pygments_lexer": "ipython3",
   "version": "3.7.6"
  }
 },
 "nbformat": 4,
 "nbformat_minor": 5
}
