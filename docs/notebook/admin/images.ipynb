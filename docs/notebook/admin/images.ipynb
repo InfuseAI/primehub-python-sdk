{
 "cells": [
  {
   "cell_type": "markdown",
   "id": "52772ffa",
   "metadata": {},
   "source": [
    "# [admin] Images command\n",
    "\n",
    "\n",
    "The `images` command in `admin` scope could help you manage images.\n"
   ]
  },
  {
   "cell_type": "markdown",
   "id": "5ebd5158",
   "metadata": {},
   "source": [
    "## Setup PrimeHub Python SDK\n"
   ]
  },
  {
   "cell_type": "code",
   "execution_count": 1,
   "id": "1b84ef0f",
   "metadata": {},
   "outputs": [
    {
     "name": "stdout",
     "output_type": "stream",
     "text": [
      "PrimeHub Python SDK setup successfully\n"
     ]
    }
   ],
   "source": [
    "from primehub import PrimeHub, PrimeHubConfig\n",
    "ph = PrimeHub(PrimeHubConfig())\n",
    "\n",
    "if ph.is_ready():\n",
    "    print(\"PrimeHub Python SDK setup successfully\")\n",
    "else:\n",
    "    print(\"PrimeHub Python SDK couldn't get the group information, follow the 00-getting-started.ipynb to complete it\")"
   ]
  },
  {
   "cell_type": "markdown",
   "id": "5ae057ba",
   "metadata": {},
   "source": [
    "## Help documentation"
   ]
  },
  {
   "cell_type": "code",
   "execution_count": 2,
   "id": "fa55f480",
   "metadata": {},
   "outputs": [
    {
     "name": "stdout",
     "output_type": "stream",
     "text": [
      "Help on AdminImages in module primehub.admin_images object:\n",
      "\n",
      "class AdminImages(primehub.Helpful, primehub.Module)\n",
      " |  AdminImages(primehub: primehub.PrimeHub, **kwargs)\n",
      " |  \n",
      " |  Method resolution order:\n",
      " |      AdminImages\n",
      " |      primehub.Helpful\n",
      " |      primehub.Module\n",
      " |      builtins.object\n",
      " |  \n",
      " |  Methods defined here:\n",
      " |  \n",
      " |  create(self, config)\n",
      " |      Create an image\n",
      " |      \n",
      " |      :type config: dict\n",
      " |      :param config: The configurations for creating an image\n",
      " |      \n",
      " |      :rtype dict\n",
      " |      :return The image\n",
      " |  \n",
      " |  delete(self, id)\n",
      " |      Delete an image by id\n",
      " |      \n",
      " |      :type id: str\n",
      " |      :param id: the id of an image\n",
      " |      \n",
      " |      :rtype dict\n",
      " |      :return an image\n",
      " |  \n",
      " |  get(self, id: str) -> dict\n",
      " |      Get an image by id\n",
      " |      \n",
      " |      :type id: str\n",
      " |      :param id: the id of an image\n",
      " |      \n",
      " |      :rtype dict\n",
      " |      :return an image\n",
      " |  \n",
      " |  help_description(self)\n",
      " |      one line description for all commands\n",
      " |  \n",
      " |  list(self, **kwargs) -> Iterator\n",
      " |      List images\n",
      " |      \n",
      " |      :type page: int\n",
      " |      :param page: the page of all data\n",
      " |      \n",
      " |      :rtype Iterator\n",
      " |      :return image iterator\n",
      " |  \n",
      " |  update(self, id: str, config: dict)\n",
      " |  \n",
      " |  ----------------------------------------------------------------------\n",
      " |  Data and other attributes defined here:\n",
      " |  \n",
      " |  __abstractmethods__ = frozenset()\n",
      " |  \n",
      " |  ----------------------------------------------------------------------\n",
      " |  Data descriptors inherited from primehub.Helpful:\n",
      " |  \n",
      " |  __dict__\n",
      " |      dictionary for instance variables (if defined)\n",
      " |  \n",
      " |  __weakref__\n",
      " |      list of weak references to the object (if defined)\n",
      " |  \n",
      " |  ----------------------------------------------------------------------\n",
      " |  Methods inherited from primehub.Module:\n",
      " |  \n",
      " |  __init__(self, primehub: primehub.PrimeHub, **kwargs)\n",
      " |      Initialize self.  See help(type(self)) for accurate signature.\n",
      " |  \n",
      " |  display(self, action: dict, value: Any)\n",
      " |  \n",
      " |  get_display(self) -> primehub.utils.display.Displayable\n",
      " |  \n",
      " |  ----------------------------------------------------------------------\n",
      " |  Static methods inherited from primehub.Module:\n",
      " |  \n",
      " |  output(result: dict, object_path: str)\n",
      " |      Give a dict {'data': {'a': {'b': 'c'}}}\n",
      " |      we could get the c by the path a.b\n",
      " |  \n",
      " |  ----------------------------------------------------------------------\n",
      " |  Data descriptors inherited from primehub.Module:\n",
      " |  \n",
      " |  current_group\n",
      " |  \n",
      " |  endpoint\n",
      " |  \n",
      " |  group_id\n",
      " |  \n",
      " |  group_name\n",
      " |  \n",
      " |  primehub_config\n",
      "\n"
     ]
    }
   ],
   "source": [
    "help(ph.admin.images)"
   ]
  },
  {
   "cell_type": "markdown",
   "id": "73eae411",
   "metadata": {},
   "source": [
    "## Images management\n",
    "\n",
    "---\n",
    "\n",
    "\n",
    "```\n",
    "$ primehub admin images\n",
    "\n",
    "Usage: \n",
    "  primehub admin images <command>\n",
    "\n",
    "Manage images\n",
    "\n",
    "Available Commands:\n",
    "  create               Create an image\n",
    "  delete               Delete an image by id\n",
    "  get                  Get an image by id\n",
    "  list                 List images\n",
    "  update               Update the image\n",
    "```\n",
    "\n",
    "---\n",
    "\n",
    "### Fields for creating or updating\n",
    "\n",
    "| field | required | type | description |\n",
    "| --- | --- | --- | --- |\n",
    "| name | required | string | it should be a valid resource name for kubernetes. `name` will be ignored when updating |\n",
    "| displayName | optional | string | display name for the instance type |\n",
    "| description | optional | string | |\n",
    "| global | optional | boolean | when an instance type is global, it could be seen for each group |\n",
    "| groups | optional | list of connected groups (dict) | please see the `connect` examples |\n",
    "| cpuLimit | required | float | the maximum vCPU quantity. For example: `1` or `1.0` means 1 vCPU and `0.5` means half of vCPU |\n",
    "| cpuRequest | optional | float | the initial vCPU quantity for CPU resource. cpuRequest can not be greater than cpuLimit |\n",
    "| memoryLimit | required | float | the maximum Memory size. For example: `1.5` means `1.5 GB` memory |\n",
    "| memoryRequest | optional | float | the initial Memory size. memoryRequest can not be greater than memoryLimit |\n",
    "| gpuLimit | optional | int | the count of GPU when an instance allocated |\n",
    "| tolerations | optional | dict | kubernetes pod toleration in an instance (Pod) |\n",
    "| nodeSelector | optional | dict | kubernetes pod nodeSelector in an instance (Pod) |\n"
   ]
  },
  {
   "cell_type": "markdown",
   "id": "eea61de7",
   "metadata": {},
   "source": [
    "## Examples"
   ]
  },
  {
   "cell_type": "markdown",
   "id": "9becc7e1",
   "metadata": {},
   "source": [
    "You could find [more examples on our github](https://github.com/InfuseAI/primehub-python-sdk/blob/main/docs/CLI/admin/images.md)."
   ]
  },
  {
   "cell_type": "code",
   "execution_count": 3,
   "id": "2f09c119",
   "metadata": {},
   "outputs": [
    {
     "data": {
      "text/plain": [
       "[{'id': 'base',\n",
       "  'name': 'base',\n",
       "  'displayName': 'Base image',\n",
       "  'description': 'base-notebook with python qq-1',\n",
       "  'type': 'cpu',\n",
       "  'isReady': True},\n",
       " {'id': 'base-notebook',\n",
       "  'name': 'base-notebook',\n",
       "  'displayName': 'base-notebook',\n",
       "  'description': 'base notebook',\n",
       "  'type': 'both',\n",
       "  'isReady': True},\n",
       " {'id': 'bug',\n",
       "  'name': 'bug',\n",
       "  'displayName': 'bug',\n",
       "  'description': '',\n",
       "  'type': 'both',\n",
       "  'isReady': True},\n",
       " {'id': 'custom1',\n",
       "  'name': 'custom1',\n",
       "  'displayName': 'custom1',\n",
       "  'description': None,\n",
       "  'type': 'cpu',\n",
       "  'isReady': True},\n",
       " {'id': 'custom2',\n",
       "  'name': 'custom2',\n",
       "  'displayName': 'custom2',\n",
       "  'description': None,\n",
       "  'type': 'both',\n",
       "  'isReady': True},\n",
       " {'id': 'custom3',\n",
       "  'name': 'custom3',\n",
       "  'displayName': 'custom3',\n",
       "  'description': None,\n",
       "  'type': 'both',\n",
       "  'isReady': True},\n",
       " {'id': 'e1',\n",
       "  'name': 'e1',\n",
       "  'displayName': 'display1',\n",
       "  'description': 'desc1',\n",
       "  'type': 'both',\n",
       "  'isReady': True},\n",
       " {'id': 'img1',\n",
       "  'name': 'img1',\n",
       "  'displayName': 'IMG',\n",
       "  'description': 'iiiimmmmggg',\n",
       "  'type': 'cpu',\n",
       "  'isReady': True},\n",
       " {'id': 'p1',\n",
       "  'name': 'p1',\n",
       "  'displayName': 'p1',\n",
       "  'description': '',\n",
       "  'type': 'both',\n",
       "  'isReady': True},\n",
       " {'id': 'p2',\n",
       "  'name': 'p2',\n",
       "  'displayName': 'p2',\n",
       "  'description': '',\n",
       "  'type': 'both',\n",
       "  'isReady': True},\n",
       " {'id': 'p3',\n",
       "  'name': 'p3',\n",
       "  'displayName': 'p3',\n",
       "  'description': '',\n",
       "  'type': 'both',\n",
       "  'isReady': True},\n",
       " {'id': 'pytorch-1',\n",
       "  'name': 'pytorch-1',\n",
       "  'displayName': 'PyTorch 1.8.0 (Python 3.7)',\n",
       "  'description': 'PyTorch 1.8.0 (Python 3.7)',\n",
       "  'type': 'both',\n",
       "  'isReady': True},\n",
       " {'id': 'tf-1',\n",
       "  'name': 'tf-1',\n",
       "  'displayName': 'TensorFlow 1.15.4 (Python 3.7)',\n",
       "  'description': 'TensorFlow 1.15.4 (Python 3.7)',\n",
       "  'type': 'both',\n",
       "  'isReady': True},\n",
       " {'id': 'tf-2',\n",
       "  'name': 'tf-2',\n",
       "  'displayName': 'TensorFlow 2.5.0 (Python 3.7)',\n",
       "  'description': 'TensorFlow 2.5.0 (Python 3.7)',\n",
       "  'type': 'both',\n",
       "  'isReady': True},\n",
       " {'id': 'zzz',\n",
       "  'name': 'zzz',\n",
       "  'displayName': 'zzzzz',\n",
       "  'description': '',\n",
       "  'type': 'both',\n",
       "  'isReady': True}]"
      ]
     },
     "execution_count": 3,
     "metadata": {},
     "output_type": "execute_result"
    }
   ],
   "source": [
    "# List images\n",
    "list(ph.admin.images.list())"
   ]
  },
  {
   "cell_type": "code",
   "execution_count": 4,
   "id": "0961aebb",
   "metadata": {},
   "outputs": [
    {
     "data": {
      "text/plain": [
       "{'id': 'image-by-sdk'}"
      ]
     },
     "execution_count": 4,
     "metadata": {},
     "output_type": "execute_result"
    }
   ],
   "source": [
    "# Create an image\n",
    "config = {\n",
    "  \"name\": \"image-by-sdk\",\n",
    "  \"displayName\": \"Learning how to create an image from SDK\",\n",
    "  \"description\": \"base-notebook with python 3.7\",\n",
    "  \"type\": \"both\",\n",
    "  \"url\": \"infuseai/docker-stacks:base-notebook-63fdf50a\",\n",
    "  \"urlForGpu\": \"infuseai/docker-stacks:base-notebook-63fdf50a-gpu\",\n",
    "  \"global\": True\n",
    "}\n",
    "ph.admin.images.create(config)"
   ]
  },
  {
   "cell_type": "code",
   "execution_count": 6,
   "id": "687b6b59",
   "metadata": {},
   "outputs": [
    {
     "data": {
      "text/plain": [
       "{'id': 'image-by-sdk',\n",
       " 'name': 'image-by-sdk',\n",
       " 'displayName': 'Learning how to create an image from SDK',\n",
       " 'description': 'base-notebook with python 3.7, only cpu',\n",
       " 'type': 'cpu',\n",
       " 'url': 'infuseai/docker-stacks:base-notebook-63fdf50a',\n",
       " 'urlForGpu': 'infuseai/docker-stacks:base-notebook-63fdf50a',\n",
       " 'useImagePullSecret': None,\n",
       " 'global': True,\n",
       " 'groups': [],\n",
       " 'isReady': True,\n",
       " 'imageSpec': None,\n",
       " 'jobStatus': None,\n",
       " 'logEndpoint': 'https://hub.ctiml-ec2.aws.primehub.io/api/logs/images/image-by-sdk/job'}"
      ]
     },
     "execution_count": 6,
     "metadata": {},
     "output_type": "execute_result"
    }
   ],
   "source": [
    "# Update an image\n",
    "update = {\n",
    "  \"description\": \"base-notebook with python 3.7, only cpu\",\n",
    "  \"type\": \"cpu\"\n",
    "}\n",
    "ph.admin.images.update(config['name'], update)"
   ]
  },
  {
   "cell_type": "code",
   "execution_count": 5,
   "id": "1d1f177c",
   "metadata": {},
   "outputs": [
    {
     "data": {
      "text/plain": [
       "{'id': 'image-by-sdk',\n",
       " 'name': 'image-by-sdk',\n",
       " 'displayName': 'Learning how to create an image from SDK',\n",
       " 'description': 'base-notebook with python 3.7',\n",
       " 'type': 'both',\n",
       " 'url': 'infuseai/docker-stacks:base-notebook-63fdf50a',\n",
       " 'urlForGpu': 'infuseai/docker-stacks:base-notebook-63fdf50a-gpu',\n",
       " 'useImagePullSecret': '',\n",
       " 'global': True,\n",
       " 'groups': [],\n",
       " 'isReady': True,\n",
       " 'imageSpec': None,\n",
       " 'jobStatus': None,\n",
       " 'logEndpoint': 'https://hub.ctiml-ec2.aws.primehub.io/api/logs/images/image-by-sdk/job'}"
      ]
     },
     "execution_count": 5,
     "metadata": {},
     "output_type": "execute_result"
    }
   ],
   "source": [
    "# Get deatils by id\n",
    "ph.admin.images.get(config['name'])"
   ]
  },
  {
   "cell_type": "code",
   "execution_count": null,
   "id": "3b08571c",
   "metadata": {},
   "outputs": [],
   "source": [
    "# Delete the instance type\n",
    "ph.admin.images.delete(config['name'])"
   ]
  }
 ],
 "metadata": {
  "kernelspec": {
   "display_name": "Python 3",
   "language": "python",
   "name": "python3"
  },
  "language_info": {
   "codemirror_mode": {
    "name": "ipython",
    "version": 3
   },
   "file_extension": ".py",
   "mimetype": "text/x-python",
   "name": "python",
   "nbconvert_exporter": "python",
   "pygments_lexer": "ipython3",
   "version": "3.7.10"
  }
 },
 "nbformat": 4,
 "nbformat_minor": 5
}
