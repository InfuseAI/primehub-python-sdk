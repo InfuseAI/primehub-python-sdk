{
 "cells": [
  {
   "cell_type": "markdown",
   "id": "3365d96c",
   "metadata": {},
   "source": [
    "# [admin] Instancetypes command\n",
    "\n",
    "\n",
    "The `instancetypes` command in `admin` scope could help you manage instancetypes.\n"
   ]
  },
  {
   "cell_type": "markdown",
   "id": "0e684e90",
   "metadata": {},
   "source": [
    "## Setup PrimeHub Python SDK\n"
   ]
  },
  {
   "cell_type": "code",
   "execution_count": null,
   "id": "2ed0bf22",
   "metadata": {},
   "outputs": [],
   "source": [
    "from primehub import PrimeHub, PrimeHubConfig\n",
    "ph = PrimeHub(PrimeHubConfig())\n",
    "\n",
    "if ph.is_ready():\n",
    "    print(\"PrimeHub Python SDK setup successfully\")\n",
    "else:\n",
    "    print(\"PrimeHub Python SDK couldn't get the group information, follow the 00-getting-started.ipynb to complete it\")"
   ]
  },
  {
   "cell_type": "markdown",
   "id": "3720ad82",
   "metadata": {},
   "source": [
    "## Help documentation"
   ]
  },
  {
   "cell_type": "code",
   "execution_count": null,
   "id": "2055801e",
   "metadata": {},
   "outputs": [],
   "source": [
    "help(ph.admin.instancetypes)"
   ]
  },
  {
   "cell_type": "markdown",
   "id": "ac0e2516",
   "metadata": {},
   "source": [
    "## InstanceTypes management\n",
    "\n",
    "---\n",
    "\n",
    "\n",
    "```\n",
    "$ primehub admin instancetypes\n",
    "\n",
    "Usage:\n",
    "  primehub admin instancetypes <command>\n",
    "\n",
    "Manage instance type\n",
    "\n",
    "Available Commands:\n",
    "  create               Create an instance type\n",
    "  delete               Delete an instance type by id\n",
    "  get                  Get an instance type by id\n",
    "  list                 List instance type\n",
    "  update               Update the instance type\n",
    "```\n",
    "\n",
    "---\n",
    "\n",
    "### Fields for creating or updating\n",
    "\n",
    "| field | required | type | description |\n",
    "| --- | --- | --- | --- |\n",
    "| name | required | string | it should be a valid resource name for kubernetes. `name` will be ignored when updating |\n",
    "| displayName | optional | string | display name for the instance type |\n",
    "| description | optional | string | |\n",
    "| global | optional | boolean | when an instance type is global, it could be seen for each group |\n",
    "| groups | optional | list of connected groups (dict) | please see the `connect` examples. default value: false |\n",
    "| cpuLimit | required* | float | the maximum vCPU quantity. For example: `1` or `1.0` means 1 vCPU and `0.5` means half of vCPU |\n",
    "| cpuRequest | optional | float | the initial vCPU quantity for CPU resource. cpuRequest can not be greater than cpuLimit |\n",
    "| memoryLimit | required* | float | the maximum Memory size. For example: `1.5` means `1.5 GB` memory |\n",
    "| memoryRequest | optional | float | the initial Memory size. memoryRequest can not be greater than memoryLimit |\n",
    "| gpuLimit | optional | int | the count of GPU when an instance allocated |\n",
    "| tolerations | optional | dict | kubernetes pod toleration in an instance (Pod) |\n",
    "| nodeSelector | optional | dict | kubernetes pod nodeSelector in an instance (Pod) |\n",
    "\n",
    "#### Auto-filling Fields\n",
    "Auto-filling will happen when the configuration omitted fields\n",
    "\n",
    "| field\t| value\t| description |\n",
    "| --- | --- | --- |\n",
    "| cpuLimit\t| 1\t| 1 vCPU |\n",
    "| memoryLimit\t| 1\t| 1 GB memory |\n"
   ]
  },
  {
   "cell_type": "markdown",
   "id": "dcb77e3d",
   "metadata": {},
   "source": [
    "## Examples"
   ]
  },
  {
   "cell_type": "markdown",
   "id": "b4eb5746",
   "metadata": {},
   "source": [
    "You could find [more examples on our github](https://github.com/InfuseAI/primehub-python-sdk/blob/main/docs/CLI/admin/instancetypes.md)."
   ]
  },
  {
   "cell_type": "code",
   "execution_count": null,
   "id": "639e6281",
   "metadata": {},
   "outputs": [],
   "source": [
    "# List instance types\n",
    "list(ph.admin.instancetypes.list())"
   ]
  },
  {
   "cell_type": "code",
   "execution_count": null,
   "id": "908759a6",
   "metadata": {},
   "outputs": [],
   "source": [
    "# create an instance type\n",
    "config = {\n",
    "  \"name\": \"cpu-instance-by-sdk\",\n",
    "  \"displayName\": \"CPU 1\",\n",
    "  \"description\": \"1 vCPU / 1G Memory\",\n",
    "  \"cpuLimit\": 1,\n",
    "  \"memoryLimit\": 1,\n",
    "  \"gpuLimit\": 0,\n",
    "  \"global\": True\n",
    "}\n",
    "ph.admin.instancetypes.create(config)"
   ]
  },
  {
   "cell_type": "code",
   "execution_count": null,
   "id": "ef3c1a91",
   "metadata": {},
   "outputs": [],
   "source": [
    "# get deatils by id\n",
    "ph.admin.instancetypes.get(config['name'])"
   ]
  },
  {
   "cell_type": "code",
   "execution_count": null,
   "id": "fb242b3d",
   "metadata": {},
   "outputs": [],
   "source": [
    "# delete the instance type\n",
    "ph.admin.instancetypes.delete(config['name'])"
   ]
  }
 ],
 "metadata": {
  "kernelspec": {
   "display_name": "PrimeHub SDK",
   "language": "python",
   "name": "myenv"
  },
  "language_info": {
   "codemirror_mode": {
    "name": "ipython",
    "version": 3
   },
   "file_extension": ".py",
   "mimetype": "text/x-python",
   "name": "python",
   "nbconvert_exporter": "python",
   "pygments_lexer": "ipython3",
   "version": "3.7.6"
  }
 },
 "nbformat": 4,
 "nbformat_minor": 5
}
