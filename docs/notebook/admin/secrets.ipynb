{
 "cells": [
  {
   "cell_type": "markdown",
   "id": "3365d96c",
   "metadata": {},
   "source": [
    "# [admin] Users command\n",
    "\n",
    "\n",
    "The `users` command in `admin` scope could help you manage users.\n"
   ]
  },
  {
   "cell_type": "markdown",
   "id": "0e684e90",
   "metadata": {},
   "source": [
    "## Setup PrimeHub Python SDK\n"
   ]
  },
  {
   "cell_type": "code",
   "execution_count": null,
   "id": "2ed0bf22",
   "metadata": {},
   "outputs": [],
   "source": [
    "from primehub import PrimeHub, PrimeHubConfig\n",
    "ph = PrimeHub(PrimeHubConfig())\n",
    "\n",
    "if ph.is_ready():\n",
    "    print(\"PrimeHub Python SDK setup successfully\")\n",
    "else:\n",
    "    print(\"PrimeHub Python SDK couldn't get the group information, follow the 00-getting-started.ipynb to complete it\")"
   ]
  },
  {
   "cell_type": "markdown",
   "id": "3720ad82",
   "metadata": {},
   "source": [
    "## Help documentation"
   ]
  },
  {
   "cell_type": "code",
   "execution_count": null,
   "id": "2055801e",
   "metadata": {},
   "outputs": [],
   "source": [
    "help(ph.admin.secrets)"
   ]
  },
  {
   "cell_type": "markdown",
   "id": "ac0e2516",
   "metadata": {},
   "source": [
    "## Secrets management\n",
    "\n",
    "---\n",
    "\n",
    "\n",
    "```\n",
    "$ primehub admin secrets\n",
    "\n",
    "Usage:\n",
    "  primehub admin secrets <command>\n",
    "\n",
    "Manage secrets\n",
    "\n",
    "Available Commands:\n",
    "  create               Create a secret\n",
    "  delete               Delete a secret by id\n",
    "  get                  Get an secret by id\n",
    "  list                 List secrets\n",
    "  update               Update the secret\n",
    "```\n",
    "\n",
    "---\n",
    "\n"
   ]
  },
  {
   "cell_type": "markdown",
   "id": "dcb77e3d",
   "metadata": {},
   "source": [
    "## Examples"
   ]
  },
  {
   "cell_type": "markdown",
   "id": "b4eb5746",
   "metadata": {},
   "source": [
    "You could find [more examples on our github](https://github.com/InfuseAI/primehub-python-sdk/blob/main/docs/CLI/admin/secrets.md)."
   ]
  },
  {
   "cell_type": "markdown",
   "id": "97458424",
   "metadata": {},
   "source": [
    "### Fields for creating or updating\n",
    "\n",
    "| field | required | type | description |\n",
    "| --- | --- | --- | --- |\n",
    "| name | required | string | The name of secret. It is only used when creating. |\n",
    "| type | required | string | one of ['opaque', 'kubernetes']. `opaque` is used for Git Sync Volume (SSH Public Key). `kubernetes` is used for Container Registry. |\n",
    "| displayName | optional | string | |\n",
    "\n",
    "* `type` can not be changed after created.\n",
    "\n",
    "Fields for  `opaque`\n",
    "\n",
    "| field | required | type | description |\n",
    "| --- | --- | --- | --- |\n",
    "| secret | conditional | string | when type is opaque, secret field become required for the SSH Public Key. |\n",
    "\n",
    "Fields for  `kubernetes`\n",
    "\n",
    "You should put container registry credentials to these fields:\n",
    "\n",
    "| field | required | type | description |\n",
    "| --- | --- | --- | --- |\n",
    "| registryHost | conditional | string |  |\n",
    "| username | conditional | string | |\n",
    "| password | conditional | string | |\n"
   ]
  },
  {
   "cell_type": "code",
   "execution_count": null,
   "id": "639e6281",
   "metadata": {},
   "outputs": [],
   "source": [
    "# Create secrets\n",
    "secret = ph.admin.secrets.create(dict(name='create-secret-by-sdk', type='opaque', secret='keep it secret'))\n",
    "secret"
   ]
  },
  {
   "cell_type": "code",
   "execution_count": null,
   "id": "ef3c1a91",
   "metadata": {},
   "outputs": [],
   "source": [
    "# List secrets\n",
    "list(ph.admin.secrets.list())"
   ]
  },
  {
   "cell_type": "code",
   "execution_count": null,
   "id": "6a1a1f49",
   "metadata": {},
   "outputs": [],
   "source": [
    "# Get the secret\n",
    "ph.admin.secrets.get(secret['id'])"
   ]
  },
  {
   "cell_type": "code",
   "execution_count": null,
   "id": "bd697b8b",
   "metadata": {},
   "outputs": [],
   "source": [
    "# Delete the secret\n",
    "print(f'delete secret by id: {secret[\"id\"]}')\n",
    "ph.admin.secrets.delete(secret['id'])"
   ]
  },
  {
   "cell_type": "code",
   "execution_count": null,
   "id": "a0ffa881",
   "metadata": {},
   "outputs": [],
   "source": []
  }
 ],
 "metadata": {
  "kernelspec": {
   "display_name": "PrimeHub SDK",
   "language": "python",
   "name": "myenv"
  },
  "language_info": {
   "codemirror_mode": {
    "name": "ipython",
    "version": 3
   },
   "file_extension": ".py",
   "mimetype": "text/x-python",
   "name": "python",
   "nbconvert_exporter": "python",
   "pygments_lexer": "ipython3",
   "version": "3.7.6"
  }
 },
 "nbformat": 4,
 "nbformat_minor": 5
}
