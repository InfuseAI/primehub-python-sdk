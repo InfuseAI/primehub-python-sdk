{
 "cells": [
  {
   "cell_type": "markdown",
   "id": "3365d96c",
   "metadata": {},
   "source": [
    "# [admin] Users command\n",
    "\n",
    "\n",
    "The `users` command in `admin` scope could help you manage users.\n"
   ]
  },
  {
   "cell_type": "markdown",
   "id": "0e684e90",
   "metadata": {},
   "source": [
    "## Setup PrimeHub Python SDK\n"
   ]
  },
  {
   "cell_type": "code",
   "execution_count": null,
   "id": "2ed0bf22",
   "metadata": {},
   "outputs": [],
   "source": [
    "from primehub import PrimeHub, PrimeHubConfig\n",
    "ph = PrimeHub(PrimeHubConfig())\n",
    "\n",
    "if ph.is_ready():\n",
    "    print(\"PrimeHub Python SDK setup successfully\")\n",
    "else:\n",
    "    print(\"PrimeHub Python SDK couldn't get the group information, follow the 00-getting-started.ipynb to complete it\")"
   ]
  },
  {
   "cell_type": "markdown",
   "id": "3720ad82",
   "metadata": {},
   "source": [
    "## Help documentation"
   ]
  },
  {
   "cell_type": "code",
   "execution_count": null,
   "id": "2055801e",
   "metadata": {},
   "outputs": [],
   "source": [
    "help(ph.admin.users)"
   ]
  },
  {
   "cell_type": "markdown",
   "id": "ac0e2516",
   "metadata": {},
   "source": [
    "## User management\n",
    "\n",
    "---\n",
    "\n",
    "\n",
    "```\n",
    "$ primehub admin users\n",
    "\n",
    "Usage:\n",
    "  primehub admin users <command>\n",
    "\n",
    "Manage users\n",
    "\n",
    "Available Commands:\n",
    "  create               Create a user\n",
    "  delete               Delete an user by id\n",
    "  get                  Get an user by id\n",
    "  list                 List users\n",
    "  reset-password       Reset password by id\n",
    "  update               Update the user\n",
    "```\n",
    "\n",
    "---\n",
    "\n",
    "For `create` and `update` actions are needed a configuration to mutate a user. Here is the fields table:\n",
    "\n",
    "\n",
    "### Fields\n",
    "\n",
    "| field | required | type | description |\n",
    "| --- | --- | --- | --- |\n",
    "| username | required | string | lower case alphanumeric characters, '-', '.', and underscores (\"_\") are allowed, and must start with a letter or numeric.` |\n",
    "| email | optional | string | a valid email |\n",
    "| firstName | optional | string | |\n",
    "| lastName | optional | string | |\n",
    "| isAdmin | optional | boolean | grant the administrator role to the user |\n",
    "| volumeCapacity | optional | int | customize the size of the user volume. unit: `GB`|\n",
    "| groups | optional | assign the user to groups | please see the `connect` examples |\n",
    "\n",
    "These fields are only used with email activation (only for `create`):\n",
    "\n",
    "| field | required | type | description |\n",
    "| --- | --- | --- | --- |\n",
    "| sendEmail | optional | boolean | send an activation email to the user. (it worked if the smtp was set)|\n",
    "| resetActions.set | optional | string[] | ask for actions, valid actions: `['VERIFY_EMAIL', 'UPDATE_PASSWORD']` |\n",
    "| expiresIn | optional | int | expired duration for the activation email |\n",
    "\n",
    "\n"
   ]
  },
  {
   "cell_type": "markdown",
   "id": "dcb77e3d",
   "metadata": {},
   "source": [
    "## Examples"
   ]
  },
  {
   "cell_type": "markdown",
   "id": "b4eb5746",
   "metadata": {},
   "source": [
    "You could find [more examples on our github](https://github.com/InfuseAI/primehub-python-sdk/blob/main/docs/CLI/admin/users.md)."
   ]
  },
  {
   "cell_type": "code",
   "execution_count": null,
   "id": "908759a6",
   "metadata": {},
   "outputs": [],
   "source": [
    "# Create a user with admin role\n",
    "config = {\n",
    "  \"username\": \"user-admin-from-jupyter\",\n",
    "  \"groups\": {\n",
    "    \"connect\": [\n",
    "      {\n",
    "        \"id\": ph.group_id\n",
    "      }\n",
    "    ]\n",
    "  },\n",
    "  \"isAdmin\": True\n",
    "}\n",
    "data = ph.admin.users.create(config)"
   ]
  },
  {
   "cell_type": "code",
   "execution_count": null,
   "id": "639e6281",
   "metadata": {},
   "outputs": [],
   "source": [
    "# List datasets\n",
    "list(ph.admin.users.list())"
   ]
  },
  {
   "cell_type": "code",
   "execution_count": null,
   "id": "ef3c1a91",
   "metadata": {},
   "outputs": [],
   "source": [
    "# Get the user details\n",
    "ph.admin.users.get(data['id'])"
   ]
  },
  {
   "cell_type": "code",
   "execution_count": null,
   "id": "bd697b8b",
   "metadata": {},
   "outputs": [],
   "source": [
    "# Delete the user\n",
    "ph.admin.users.delete(data['id'])"
   ]
  },
  {
   "cell_type": "code",
   "execution_count": null,
   "id": "e546874e",
   "metadata": {},
   "outputs": [],
   "source": []
  }
 ],
 "metadata": {
  "kernelspec": {
   "display_name": "PrimeHub SDK",
   "language": "python",
   "name": "myenv"
  },
  "language_info": {
   "codemirror_mode": {
    "name": "ipython",
    "version": 3
   },
   "file_extension": ".py",
   "mimetype": "text/x-python",
   "name": "python",
   "nbconvert_exporter": "python",
   "pygments_lexer": "ipython3",
   "version": "3.7.6"
  }
 },
 "nbformat": 4,
 "nbformat_minor": 5
}
