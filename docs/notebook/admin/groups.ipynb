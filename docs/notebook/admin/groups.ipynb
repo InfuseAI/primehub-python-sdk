{
 "cells": [
  {
   "cell_type": "markdown",
   "metadata": {},
   "source": [
    "# [admin] Groups command\n",
    "\n",
    "\n",
    "The `groups` command in `admin` scope could help you manage groups.\n"
   ]
  },
  {
   "cell_type": "markdown",
   "id": "0e684e90",
   "metadata": {},
   "source": [
    "## Setup PrimeHub Python SDK\n"
   ]
  },
  {
   "cell_type": "code",
   "execution_count": null,
   "id": "2ed0bf22",
   "metadata": {},
   "outputs": [],
   "source": [
    "from primehub import PrimeHub, PrimeHubConfig\n",
    "ph = PrimeHub(PrimeHubConfig())\n",
    "\n",
    "if ph.is_ready():\n",
    "    print(\"PrimeHub Python SDK setup successfully\")\n",
    "else:\n",
    "    print(\"PrimeHub Python SDK couldn't get the group information, follow the 00-getting-started.ipynb to complete it\")"
   ]
  },
  {
   "cell_type": "markdown",
   "id": "3720ad82",
   "metadata": {},
   "source": [
    "## Help documentation"
   ]
  },
  {
   "cell_type": "code",
   "execution_count": null,
   "id": "2055801e",
   "metadata": {},
   "outputs": [],
   "source": [
    "help(ph.admin.groups)"
   ]
  },
  {
   "cell_type": "markdown",
   "id": "ac0e2516",
   "metadata": {},
   "source": [
    "## Group management\n",
    "\n",
    "---\n",
    "\n",
    "\n",
    "```\n",
    "Usage: \n",
    "  primehub admin groups <command>\n",
    "\n",
    "Manage groups\n",
    "\n",
    "Available Commands:\n",
    "  create               Create a group\n",
    "  delete               Delete the group by id\n",
    "  get                  Get the group info by id\n",
    "  list                 List groups\n",
    "  update               Update the group\n",
    "\n",
    "Options:\n",
    "  -h, --help           Show the help\n",
    "\n",
    "Global Options:\n",
    "  --config CONFIG      Change the path of the config file (Default: ~/.primehub/config.json)\n",
    "  --endpoint ENDPOINT  Override the GraphQL API endpoint\n",
    "  --token TOKEN        Override the API Token\n",
    "  --group GROUP        Override the current group\n",
    "  --json               Output the json format (output human-friendly format by default)\n",
    "```\n",
    "\n",
    "---\n",
    "\n",
    "For `create` and `update` actions are needed a configuration to mutate a group. Here is the fields table:\n",
    "\n",
    "\n",
    "### Fields\n",
    "\n",
    "| field | required | type | description |\n",
    "| --- | --- | --- | --- |\n",
    "| name | required | string | must start with a letter or numeric, '-' and '_' are allowed, and the length should be more than 2. |\n",
    "| displayName | optional | string | display name |\n",
    "| quotaCpu | optional | float | how many CPU can be used by the user within this group, default: 0.5 |\n",
    "| quotaGpu | optional | int | how many GPU can be used by the user within this group, default: 0 |\n",
    "| quotaMemory | optional | float | how many memory can be used by the user within this group, default: unlimited GB | \n",
    "| projectQuotaCpu | optional | float |  how many CPU can be shared by all users in the group, default: unlimited |\n",
    "| projectQuotaGpu | optional | int | how many GPU can be shared by all users in the group, default: unlimited |\n",
    "| projectQuotaMemory| optional | float | how many memory can be shared by all users in the group, default: unlimited GB |\n",
    "| admins | optional | string | assign admin user of the group, multiple users are able to be assigned (see [also](https://docs.primehub.io/docs/guide_manual/admin-group#group-admin)) |\n",
    "| users | optional | assign / dissociate users to the group | please see the connect / disconnect examples |\n",
    "\n",
    "*Note: user resource quota should not greater than project resource quota. e.g., `quotaCpu <= projectQuotaCpu`*\n",
    "\n",
    "\n",
    "#### Model Deployment\n",
    "Groups with enabled model deployment are able to deploy/serve models. (see [also](https://docs.primehub.io/docs/guide_manual/admin-group#model-deployment))\n",
    "\n",
    "`maxDeploy` is used when `enabledDeployment` is enable:\n",
    "\n",
    "| field | required | type | description |\n",
    "| --- | --- | --- | --- |\n",
    "| enabledDeployment | optional | boolean | enable model deployment |\n",
    "| maxDeploy | optional | int | limit on the amount of deployments for this group |\n",
    "\n",
    "#### Shared Volume\n",
    "The created shared volume is shared among members in the group. (see [also](https://docs.primehub.io/docs/guide_manual/admin-group#shared-volume))\n",
    "\n",
    "`sharedVolumeCapacity` is used when `enabledSharedVolume` is enable:\n",
    "\n",
    "| field | required | type | description |\n",
    "| --- | --- | --- | --- |\n",
    "| enabledSharedVolume | optional | boolean | enable share volume |\n",
    "| sharedVolumeCapacity | optional | int | the capacity of the shared volume in GB |\n"
   ]
  },
  {
   "cell_type": "markdown",
   "id": "dcb77e3d",
   "metadata": {},
   "source": [
    "## Examples"
   ]
  },
  {
   "cell_type": "markdown",
   "id": "b4eb5746",
   "metadata": {},
   "source": [
    "You could find [more examples on our github](https://github.com/InfuseAI/primehub-python-sdk/blob/main/docs/CLI/admin/groups.md)."
   ]
  },
  {
   "cell_type": "code",
   "execution_count": null,
   "id": "908759a6",
   "metadata": {},
   "outputs": [],
   "source": [
    "# Create a user with admin role\n",
    "config = {\n",
    "  \"name\": \"test_group_from_jupyter\",\n",
    "  \"displayName\": \"test_group\",\n",
    "  \"enabledDeployment\": False,\n",
    "  \"enabledSharedVolume\": False,\n",
    "  \"quotaCpu\": 0.5,\n",
    "  \"quotaGpu\": 0,\n",
    "  \"admins\": \"\",\n",
    "  \"users\": {\n",
    "      \"connect\": []\n",
    "  }\n",
    "}\n",
    "data = ph.admin.groups.create(config)"
   ]
  },
  {
   "cell_type": "code",
   "execution_count": null,
   "id": "639e6281",
   "metadata": {},
   "outputs": [],
   "source": [
    "# List groups\n",
    "list(ph.admin.groups.list())"
   ]
  },
  {
   "cell_type": "code",
   "execution_count": null,
   "id": "ef3c1a91",
   "metadata": {},
   "outputs": [],
   "source": [
    "# Get the group details\n",
    "ph.admin.groups.get(data['id'])"
   ]
  },
  {
   "cell_type": "code",
   "execution_count": null,
   "id": "bd697b8b",
   "metadata": {},
   "outputs": [],
   "source": [
    "# Delete the group\n",
    "ph.admin.groups.delete(data['id'])"
   ]
  }
 ],
 "metadata": {
  "interpreter": {
   "hash": "6688a3817b6a9bf9af7edfccc04ec9238693f1be61c239ce0c4444a70d9a5fed"
  },
  "kernelspec": {
   "display_name": "Python 3.9.7 64-bit ('venv': venv)",
   "name": "python3"
  },
  "language_info": {
   "codemirror_mode": {
    "name": "ipython",
    "version": 3
   },
   "file_extension": ".py",
   "mimetype": "text/x-python",
   "name": "python",
   "nbconvert_exporter": "python",
   "pygments_lexer": "ipython3",
   "version": "3.9.7"
  }
 },
 "nbformat": 4,
 "nbformat_minor": 5
}
