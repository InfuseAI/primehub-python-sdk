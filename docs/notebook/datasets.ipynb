{
 "cells": [
  {
   "cell_type": "markdown",
   "id": "3365d96c",
   "metadata": {},
   "source": [
    "# Datasets command\n",
    "\n",
    "\n",
    "The `datasets` command is one of the group resources command, so it needs to use with a current group.\n"
   ]
  },
  {
   "cell_type": "markdown",
   "id": "0e684e90",
   "metadata": {},
   "source": [
    "## Setup PrimeHub Python SDK\n"
   ]
  },
  {
   "cell_type": "code",
   "execution_count": null,
   "id": "2ed0bf22",
   "metadata": {},
   "outputs": [],
   "source": [
    "from primehub import PrimeHub, PrimeHubConfig\n",
    "ph = PrimeHub(PrimeHubConfig())\n",
    "\n",
    "if ph.is_ready():\n",
    "    print(\"PrimeHub Python SDK setup successfully\")\n",
    "else:\n",
    "    print(\"PrimeHub Python SDK couldn't get the group information, follow the 00-getting-started.ipynb to complete it\")"
   ]
  },
  {
   "cell_type": "markdown",
   "id": "3720ad82",
   "metadata": {},
   "source": [
    "## Help documentation"
   ]
  },
  {
   "cell_type": "code",
   "execution_count": null,
   "id": "2055801e",
   "metadata": {},
   "outputs": [],
   "source": [
    "help(ph.datasets)"
   ]
  },
  {
   "cell_type": "markdown",
   "id": "ac0e2516",
   "metadata": {},
   "source": [
    "## Dataset management\n",
    "\n",
    "---\n",
    "\n",
    "\n",
    "```\n",
    "primehub datasets\n",
    "Usage:\n",
    "  primehub datasets <command>\n",
    "\n",
    "Get a dataset or list datasets\n",
    "\n",
    "Available Commands:\n",
    "  create               Create a dataset\n",
    "  delete               Delete a dataset by id\n",
    "  get                  Get a dataset by name\n",
    "  list                 List datasets\n",
    "  update               Update the dataset\n",
    "  upload_secret        Regenerate the secret of the upload server\n",
    "```\n",
    "\n",
    "---\n",
    "\n",
    "All mutating actions require the `Admin` role:\n",
    "\n",
    "* create\n",
    "* delete\n",
    "* update\n",
    "* upload_secret (`regenerate_upload_server_secret` for method name)\n",
    "\n",
    "## Dataset configuration\n",
    "\n",
    "You need a configuration `create` and `update` to operate. Here is an example to create a `pv-dataset`:\n",
    "\n",
    "```json\n",
    "{\n",
    "  \"name\": \"pv-dataset\",\n",
    "  \"displayName\": \"the dataset created by SDK\",\n",
    "  \"description\": \"It is a PV dataset\",\n",
    "  \"type\": \"pv\",\n",
    "  \"global\": false,\n",
    "  \"groups\": {\n",
    "    \"connect\": [\n",
    "      {\n",
    "        \"id\": \"a7a283b5-c0e2-4b79-a78c-39c630324762\",\n",
    "        \"writable\": true\n",
    "      },\n",
    "      {\n",
    "        \"id\": \"a962305b-c884-4413-9358-ef56373b287c\",\n",
    "        \"writable\": false\n",
    "      }\n",
    "    ]\n",
    "  },\n",
    "  \"pvProvisioning\": \"auto\",\n",
    "  \"volumeSize\": 1\n",
    "}\n",
    "```\n",
    "\n",
    "In our system, there are 5 types for datasets: `['pv', 'nfs', 'hostPath', 'git', 'env']`. Please check the fields reference to give a proper configuration to create your own dataset.\n",
    "\n",
    "\n",
    "\n",
    "## Fields for creating or updating\n",
    "\n",
    "| field | required | type | description |\n",
    "| --- | --- | --- | --- |\n",
    "| name | required | string | it should be a valid resource name for kubernetes |\n",
    "| displayName | optional | string | display name for this dataset |\n",
    "| description | optional | string | |\n",
    "| global | optional | boolean | when a dataset is global, it could be seen for each group |\n",
    "| type | required | string | one of ['pv', 'nfs', 'hostPath', 'git', 'env'] |\n",
    "| url | conditional | string | **MUST** use with `git` type |\n",
    "| pvProvisioning | conditional | string | onf of ['auto', 'manual'], **MUST** use with `pv` type. This field only uses in `CREATE` action |\n",
    "| nfsServer | conditional | string | **MUST** use with `nfs` type |\n",
    "| nfsPath | conditional | string | **MUST** use with `nfs` type |\n",
    "| hostPath | conditional | string | **MUST** use with `hostPath` type  |\n",
    "| variables | optional | dict | **MAY** use with `env` type. It is key value pairs. All values have to a string value. For example: `{\"key1\":\"value1\",\"key2\":\"value2\"}`. |\n",
    "| groups | optional | list of connected groups (dict) | please see the `connect` examples |\n",
    "| secret | optional | dict | **MAY** use with `git` type | bind a `secret` to the `git` dataset |\n",
    "| volumeSize | conditional | integer | **MUST** use with `pv` type. The unit is `GB`.|\n",
    "| enableUploadServer | optional | boolean | it only works with one of ['pv', 'nfs', 'hostPath'] writable types |\n",
    "\n",
    "> There is a simple rule to use fields for `UPDATE`. All required fields should not be in the payload.\n",
    "\n",
    "For example, there is a configuration for creating env dataset:\n",
    "\n",
    "```bash\n",
    "primehub datasets create <<EOF\n",
    "{\n",
    "  \"name\": \"env-dataset\",\n",
    "  \"description\": \"\",\n",
    "  \"type\": \"env\",\n",
    "  \"variables\": {\n",
    "    \"ENV\": \"prod\",\n",
    "    \"LUCKY_NUMBER\": \"7\"\n",
    "  }\n",
    "}\n",
    "EOF\n",
    "```\n",
    "\n",
    "After removing required `name` and `type` fields, it could be used with updating:\n",
    "\n",
    "```bash\n",
    "primehub datasets update env-dataset <<EOF\n",
    "{\n",
    "  \"description\": \"make changes to the description\",\n",
    "  \"variables\": {\n",
    "    \"ENV\": \"prod\",\n",
    "    \"LUCKY_NUMBER\": \"8\"\n",
    "  }\n",
    "}\n",
    "EOF\n",
    "```\n",
    "\n",
    "For updating, giving things that you want to make different:\n",
    "\n",
    "```bash\n",
    "primehub datasets update env-dataset <<EOF\n",
    "{\n",
    "    \"groups\": {\n",
    "      \"connect\": [\n",
    "        {\n",
    "          \"id\": \"a7a283b5-c0e2-4b79-a78c-39c630324762\",\n",
    "          \"writable\": false\n",
    "        }\n",
    "      ]\n",
    "    }\n",
    "  }\n",
    "EOF\n",
    "```\n",
    "\n",
    "\n",
    "\n",
    "\n",
    "\n",
    "\n"
   ]
  },
  {
   "cell_type": "markdown",
   "id": "dcb77e3d",
   "metadata": {},
   "source": [
    "## Examples"
   ]
  },
  {
   "cell_type": "markdown",
   "id": "b4eb5746",
   "metadata": {},
   "source": [
    "You could find [more examples on our github](https://github.com/InfuseAI/primehub-python-sdk/blob/main/docs/CLI/datasets.md)."
   ]
  },
  {
   "cell_type": "code",
   "execution_count": null,
   "id": "639e6281",
   "metadata": {},
   "outputs": [],
   "source": [
    "# List datasets\n",
    "ph.datasets.list()"
   ]
  },
  {
   "cell_type": "code",
   "execution_count": null,
   "id": "908759a6",
   "metadata": {},
   "outputs": [],
   "source": [
    "# Get a dataset\n",
    "ph.datasets.get('primehub')"
   ]
  },
  {
   "cell_type": "code",
   "execution_count": null,
   "id": "ef3c1a91",
   "metadata": {},
   "outputs": [],
   "source": []
  }
 ],
 "metadata": {
  "kernelspec": {
   "display_name": "PrimeHub SDK",
   "language": "python",
   "name": "myenv"
  },
  "language_info": {
   "codemirror_mode": {
    "name": "ipython",
    "version": 3
   },
   "file_extension": ".py",
   "mimetype": "text/x-python",
   "name": "python",
   "nbconvert_exporter": "python",
   "pygments_lexer": "ipython3",
   "version": "3.7.6"
  }
 },
 "nbformat": 4,
 "nbformat_minor": 5
}
