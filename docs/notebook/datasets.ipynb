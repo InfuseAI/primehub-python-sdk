{
 "cells": [
  {
   "cell_type": "markdown",
   "id": "81faa403",
   "metadata": {},
   "source": [
    "# PrimeHub Datasets\n",
    "\n",
    "On PrimeHub, we could manipulate datasets and corresponding files.\n",
    "\n",
    "The `datasets` command could help you deal with these."
   ]
  },
  {
   "cell_type": "markdown",
   "id": "17fe5031",
   "metadata": {},
   "source": [
    "## Setup PrimeHub Python SDK\n"
   ]
  },
  {
   "cell_type": "code",
   "execution_count": null,
   "id": "d096d6e9",
   "metadata": {},
   "outputs": [],
   "source": [
    "from primehub import PrimeHub, PrimeHubConfig\n",
    "ph = PrimeHub(PrimeHubConfig())\n",
    "\n",
    "if ph.is_ready():\n",
    "    print(\"PrimeHub Python SDK setup successfully\")\n",
    "else:\n",
    "    print(\"PrimeHub Python SDK couldn't get the group information, follow the 00-getting-started.ipynb to complete it\")"
   ]
  },
  {
   "cell_type": "markdown",
   "id": "1e6f600f",
   "metadata": {},
   "source": [
    "## Help documentation"
   ]
  },
  {
   "cell_type": "code",
   "execution_count": null,
   "id": "c0c4858d",
   "metadata": {},
   "outputs": [],
   "source": [
    "help(ph.datasets)"
   ]
  },
  {
   "cell_type": "markdown",
   "id": "874146fb",
   "metadata": {},
   "source": [
    "## Datasets management\n",
    "\n",
    "---\n",
    "\n",
    "```\n",
    "Usage: \n",
    "  primehub datasets <command>\n",
    "\n",
    "Manage datasets\n",
    "\n",
    "Available Commands:\n",
    "  create               Create a datasets\n",
    "  delete               Delete the dataset\n",
    "  files-download       download files from the dataset\n",
    "  files-list           lists files of the dataset\n",
    "  files-upload         upload files to the dataset\n",
    "  get                  Get the dataset\n",
    "  list                 List datasets\n",
    "  update               Update a dataset\n",
    "\n",
    "Options:\n",
    "  -h, --help           Show the help\n",
    "\n",
    "Global Options:\n",
    "  --config CONFIG      Change the path of the config file (Default: ~/.primehub/config.json)\n",
    "  --endpoint ENDPOINT  Override the GraphQL API endpoint\n",
    "  --token TOKEN        Override the API Token\n",
    "  --group GROUP        Override the current group\n",
    "  --json               Output the json format (output human-friendly format by default)\n",
    "\n",
    "```\n",
    "\n",
    "---\n",
    "\n",
    "### Fields for creating or updating\n",
    "\n",
    "| field | required | type | description |\n",
    "| --- | --- | --- | --- |\n",
    "| id | required | string | the name of the dataset |\n",
    "| tags | optional | object | dataset's tags |\n",
    "\n",
    "*`tags` is a JSON array, e.g., `[\"dataset-tag-1\", \"dataset-tag-2\"]`*"
   ]
  },
  {
   "cell_type": "markdown",
   "id": "6d67de85",
   "metadata": {},
   "source": [
    "## Examples"
   ]
  },
  {
   "cell_type": "markdown",
   "id": "20a4a878",
   "metadata": {},
   "source": [
    "### Create a datasets\n",
    "\n",
    "We could create a `test-dataset` dataset with tags `test-dataset-tag` and `training`:"
   ]
  },
  {
   "cell_type": "code",
   "execution_count": null,
   "id": "a631005f",
   "metadata": {},
   "outputs": [],
   "source": [
    "config = {\n",
    "  \"id\": \"test-dataset\",\n",
    "  \"tags\": [\"test-dataset-tag\", \"training\"]\n",
    "}\n",
    "\n",
    "ph.datasets.create(config)"
   ]
  },
  {
   "cell_type": "markdown",
   "id": "934556de",
   "metadata": {},
   "source": [
    "### List datasets or get the dataset\n",
    "After created a dataset, you could find it with `list` or `get` command"
   ]
  },
  {
   "cell_type": "code",
   "execution_count": null,
   "id": "227e26ba",
   "metadata": {},
   "outputs": [],
   "source": [
    "# list all datasets\n",
    "datasets = list(ph.datasets.list())\n",
    "n_datasets = len(datasets)\n",
    "print(f'number of dataset: {n_datasets}')\n",
    "\n",
    "# get the dataset by name\n",
    "dataset = ph.datasets.get('test-dataset')\n",
    "print(dataset)"
   ]
  },
  {
   "cell_type": "markdown",
   "id": "8c2ffb2a",
   "metadata": {},
   "source": [
    "### Update a dataset\n",
    "\n",
    "We could update a dataset with new tags:"
   ]
  },
  {
   "cell_type": "code",
   "execution_count": null,
   "id": "13d0be70",
   "metadata": {},
   "outputs": [],
   "source": [
    "config = {\n",
    "    \"tags\": [\"deprecated\"]\n",
    "}\n",
    "dataset = ph.datasets.update(dataset['name'], config)\n",
    "print(dataset)"
   ]
  },
  {
   "cell_type": "markdown",
   "id": "ddaeda83",
   "metadata": {},
   "source": [
    "### Delete a dataset\n",
    "\n",
    "With `delete`, we could delete the whole dataset with its files."
   ]
  },
  {
   "cell_type": "code",
   "execution_count": null,
   "id": "bdf1fb6a",
   "metadata": {},
   "outputs": [],
   "source": [
    "result = ph.datasets.delete(dataset['name'])\n",
    "print(result)"
   ]
  },
  {
   "cell_type": "markdown",
   "id": "81049e29",
   "metadata": {},
   "source": [
    "### Upload files to the dataset with given path\n",
    "\n",
    "To upload a file or a directory to the dataset, `files-upload` command can help with it.\n",
    "\n",
    "*Note: indicate `recursive` options when upload directory*"
   ]
  },
  {
   "cell_type": "code",
   "execution_count": null,
   "id": "bff42f30",
   "metadata": {},
   "outputs": [],
   "source": [
    "# upload a folder to the dataset\n",
    "!mkdir -p test-dir\n",
    "!touch test-dir/a.out\n",
    "ph.datasets.files_upload('test-dir', 'test-dataset', recursive=True)\n",
    "\n",
    "# upload a file to the dataset\n",
    "!touch test.txt\n",
    "!echo \"Test for Python SDK\" > test.txt\n",
    "ph.datasets.files_upload('test.txt', 'test-dataset/test-dir')"
   ]
  },
  {
   "cell_type": "markdown",
   "id": "bc737d79",
   "metadata": {},
   "source": [
    "### List files of the dataset with given path\n",
    "We could use `files-list` to watch files of the dataset.\n",
    "\n",
    "`files-list` requires a `path` parameter, and it always starts with the name of the dataset:"
   ]
  },
  {
   "cell_type": "code",
   "execution_count": null,
   "id": "5bdb7589",
   "metadata": {},
   "outputs": [],
   "source": [
    "files = ph.datasets.files_list('test-dataset')\n",
    "print(files)\n",
    "\n",
    "# sub-directory\n",
    "files = ph.datasets.files_list('test-dataset/test-dir')\n",
    "print(files)"
   ]
  },
  {
   "cell_type": "markdown",
   "id": "9faefaa0",
   "metadata": {},
   "source": [
    "### Download files from the dataset with given path\n",
    "`files-download` can help with downloading a file or a directory from the dataset."
   ]
  },
  {
   "cell_type": "code",
   "execution_count": null,
   "id": "9cb329d9",
   "metadata": {},
   "outputs": [],
   "source": [
    "ph.datasets.files_download('test-dataset', 'local-dir', recursive=True)\n",
    "!tree local-dir"
   ]
  }
 ],
 "metadata": {
  "kernelspec": {
   "display_name": "Python 3",
   "language": "python",
   "name": "python3"
  },
  "language_info": {
   "codemirror_mode": {
    "name": "ipython",
    "version": 3
   },
   "file_extension": ".py",
   "mimetype": "text/x-python",
   "name": "python",
   "nbconvert_exporter": "python",
   "pygments_lexer": "ipython3",
   "version": "3.9.7"
  }
 },
 "nbformat": 4,
 "nbformat_minor": 5
}
