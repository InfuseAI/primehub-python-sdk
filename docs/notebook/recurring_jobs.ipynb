{
 "cells": [
  {
   "cell_type": "markdown",
   "id": "f65cec1f",
   "metadata": {},
   "source": [
    "# RecurringJobs command\n",
    "\n",
    "### Introduction\n",
    "\n",
    "The `recurring_jobs` command can manage recurring jobs in the current group.\n",
    "\n",
    "* list: list all recurring jobs\n",
    "* get: get a recurring job information by id\n",
    "* create: create a recurring job\n",
    "* update: update a recurring job\n",
    "* delete: delete a recurring job"
   ]
  },
  {
   "cell_type": "markdown",
   "id": "500f0bcf",
   "metadata": {},
   "source": [
    "## Setup PrimeHub Python SDK\n"
   ]
  },
  {
   "cell_type": "code",
   "execution_count": null,
   "id": "1b11685e",
   "metadata": {},
   "outputs": [],
   "source": [
    "from primehub import PrimeHub, PrimeHubConfig\n",
    "ph = PrimeHub(PrimeHubConfig())\n",
    "\n",
    "if ph.is_ready():\n",
    "    print(\"PrimeHub Python SDK setup successfully\")\n",
    "else:\n",
    "    print(\"PrimeHub Python SDK couldn't get the group information, follow the 00-getting-started.ipynb to complete it\")"
   ]
  },
  {
   "cell_type": "markdown",
   "id": "85a6c027",
   "metadata": {},
   "source": [
    "## Help documentation"
   ]
  },
  {
   "cell_type": "code",
   "execution_count": null,
   "id": "660d7c60",
   "metadata": {},
   "outputs": [],
   "source": [
    "help(ph.recurring_jobs)"
   ]
  },
  {
   "cell_type": "markdown",
   "id": "77cc00ee",
   "metadata": {},
   "source": [
    "## Examples"
   ]
  },
  {
   "cell_type": "markdown",
   "id": "45bfcd08",
   "metadata": {},
   "source": [
    "### Get detail information of recurring jobs"
   ]
  },
  {
   "cell_type": "code",
   "execution_count": null,
   "id": "36ab06e9",
   "metadata": {},
   "outputs": [],
   "source": [
    "# List all jobs or with page number\n",
    "all_recurring_jobs = ph.recurring_jobs.list()\n",
    "recurring_job_page_1 = ph.recurring_jobs.list(page = 1)\n",
    "\n",
    "all_recurring_jobs = list(all_recurring_jobs)\n",
    "recurring_job_page_1 = list(recurring_job_page_1)\n",
    "print(\"Number of all jobs:\", len(all_recurring_jobs))\n",
    "print(\"Number of jobs at page 1:\", len(recurring_job_page_1))"
   ]
  },
  {
   "cell_type": "code",
   "execution_count": null,
   "id": "8e3e4380",
   "metadata": {},
   "outputs": [],
   "source": [
    "# Get detail information by id\n",
    "# ph.recurring_jobs.get(id='<recurring_job_id>')\n",
    "\n",
    "ph.recurring_jobs.get(id=all_recurring_jobs[0]['id'])\n"
   ]
  },
  {
   "cell_type": "markdown",
   "id": "e8ab61f1",
   "metadata": {},
   "source": [
    "### Create, Update, and Delete Recurring Jobs"
   ]
  },
  {
   "cell_type": "code",
   "execution_count": null,
   "id": "6e51432e",
   "metadata": {},
   "outputs": [],
   "source": [
    "# Create a recurring job that runs at every 4 AM\n",
    "config = {\n",
    "    \"instanceType\": \"cpu-1\",\n",
    "    \"image\": \"base-notebook\",\n",
    "    \"displayName\": \"test\",\n",
    "    \"command\": \"echo \\\"test!\\\"\",\n",
    "    \"recurrence\": {\n",
    "        \"type\":\"daily\",\n",
    "        \"cron\":\"\"\n",
    "    }\n",
    "}\n",
    "\n",
    "recurring_job = ph.recurring_jobs.create(config)\n",
    "print(recurring_job)"
   ]
  },
  {
   "cell_type": "code",
   "execution_count": null,
   "id": "8fb60dec",
   "metadata": {},
   "outputs": [],
   "source": [
    "# Update the recurring job to run every 2 AM\n",
    "config = {\n",
    "    \"recurrence\": {\n",
    "        \"type\":\"custom\",\n",
    "        \"cron\":\"0 2 * * *\"\n",
    "    }\n",
    "}\n",
    "recurring_job = ph.recurring_jobs.update(recurring_job['id'], config)\n",
    "print(recurring_job)"
   ]
  },
  {
   "cell_type": "code",
   "execution_count": null,
   "id": "483be712",
   "metadata": {},
   "outputs": [],
   "source": [
    "# Delete a recurring_job by id\n",
    "ph.recurring_jobs.delete(recurring_job['id'])"
   ]
  }
 ],
 "metadata": {
  "kernelspec": {
   "display_name": "Python 3",
   "language": "python",
   "name": "python3"
  },
  "language_info": {
   "codemirror_mode": {
    "name": "ipython",
    "version": 3
   },
   "file_extension": ".py",
   "mimetype": "text/x-python",
   "name": "python",
   "nbconvert_exporter": "python",
   "pygments_lexer": "ipython3",
   "version": "3.7.10"
  }
 },
 "nbformat": 4,
 "nbformat_minor": 5
}
