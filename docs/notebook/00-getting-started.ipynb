{
 "cells": [
  {
   "cell_type": "markdown",
   "metadata": {},
   "source": [
    "# Getting Started with PrimeHub Python SDK\n",
    "\n",
    "PrimeHub Python SDK makes you automation with PrimeHub Platform.\n"
   ]
  },
  {
   "cell_type": "markdown",
   "metadata": {},
   "source": [
    "In order to make the SDK working, you have to \n",
    "* install the library with `pip`\n",
    "* create a config file in the `~/.primehub/config.json`"
   ]
  },
  {
   "cell_type": "markdown",
   "metadata": {},
   "source": [
    "## Install with pip\n",
    "\n",
    "* Let's install PrimeHub Python SDK with `pip`. "
   ]
  },
  {
   "cell_type": "code",
   "execution_count": null,
   "metadata": {},
   "outputs": [],
   "source": [
    "!pip install git+https://github.com/InfuseAI/primehub-python-sdk.git@feature/ch19483/notebook-docs"
   ]
  },
  {
   "cell_type": "markdown",
   "metadata": {},
   "source": [
    "## Configuration file\n",
    "\n",
    "* After installed, the SDK needs a configuration in the `~/.primehub/config.json`, in this structure:\n",
    "\n",
    "```json\n",
    "{\n",
    "  \"api-token\": \"<api-token>\",\n",
    "  \"endpoint\": \"https://<primehub-server-domain>/api/graphql\",\n",
    "  \"group\": {\n",
    "    \"name\": \"<the-name-of-current-group>\"\n",
    "  }\n",
    "}\n",
    "```\n"
   ]
  },
  {
   "cell_type": "markdown",
   "metadata": {},
   "source": [
    "### Verify configration with PrimeHub Python SDK"
   ]
  },
  {
   "cell_type": "code",
   "execution_count": null,
   "metadata": {},
   "outputs": [],
   "source": [
    "from primehub import PrimeHub, PrimeHubConfig\n",
    "ph = PrimeHub(PrimeHubConfig())\n",
    "\n",
    "if ph.is_ready():\n",
    "    print(\"PrimeHub Python SDK setup successfully\")\n",
    "    print(\"Current Group:\", ph.primehub_config.current_group)\n",
    "else:\n",
    "    print(\"PrimeHub Python SDK couldn't get the group information, please check the configuration.\")"
   ]
  },
  {
   "cell_type": "markdown",
   "metadata": {},
   "source": [
    "## Here is all available commands in the PrimeHub SDK\n",
    "\n",
    "We will talk each command in the individual notebook. Commands call convention are:\n",
    "\n",
    "`PrimeHub.<command>.<method>(*args, **kwargs)`\n",
    "\n",
    "You could look up all supported commands with `get_all_commands()` method."
   ]
  },
  {
   "cell_type": "code",
   "execution_count": null,
   "metadata": {},
   "outputs": [],
   "source": [
    "for cmd in ph.get_all_commands():\n",
    "    print(cmd)"
   ]
  },
  {
   "cell_type": "markdown",
   "metadata": {},
   "source": [
    "## Please check command details \n",
    "\n",
    "* Configuration and account resources\n",
    "  * config.ipynb\n",
    "  * group.ipynb\n",
    "  * me.ipynb\n",
    "  \n",
    "* Group resource(group-resources.ipynb):\n",
    "  * datasets\n",
    "  * images\n",
    "  * instancetypes\n",
    "\n",
    "* Job related\n",
    "  * files\n",
    "  * jobs\n",
    "  * schedules\n",
    "\n",
    "* notebooks command\n"
   ]
  }
 ],
 "metadata": {
  "interpreter": {
   "hash": "b2ec084f4af1cfdda5df94d11be181b9273da0e6177ccab952b78bb7bed491ac"
  },
  "kernelspec": {
   "display_name": "Python 3.7.6 64-bit ('venv': venv)",
   "name": "python3"
  },
  "language_info": {
   "codemirror_mode": {
    "name": "ipython",
    "version": 3
   },
   "file_extension": ".py",
   "mimetype": "text/x-python",
   "name": "python",
   "nbconvert_exporter": "python",
   "pygments_lexer": "ipython3",
   "version": "3.7.6"
  }
 },
 "nbformat": 4,
 "nbformat_minor": 4
}
