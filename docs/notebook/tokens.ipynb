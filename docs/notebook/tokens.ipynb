{
 "cells": [
  {
   "cell_type": "markdown",
   "id": "5f08d865",
   "metadata": {},
   "source": [
    "# Tokens command\n",
    "\n",
    "### Introduction\n",
    "\n",
    "The `token` command helps to connect with the API token service.\n",
    "\n",
    "* generate: ask a new api token and update the configuration file\n"
   ]
  },
  {
   "cell_type": "markdown",
   "id": "b86ede9f",
   "metadata": {},
   "source": [
    "## Setup PrimeHub Python SDK\n"
   ]
  },
  {
   "cell_type": "code",
   "execution_count": null,
   "id": "2fd35cbb",
   "metadata": {},
   "outputs": [],
   "source": [
    "from primehub import PrimeHub, PrimeHubConfig\n",
    "ph = PrimeHub(PrimeHubConfig())"
   ]
  },
  {
   "cell_type": "markdown",
   "id": "333c161c",
   "metadata": {},
   "source": [
    "## Help documentation"
   ]
  },
  {
   "cell_type": "code",
   "execution_count": null,
   "id": "49371d3b",
   "metadata": {},
   "outputs": [],
   "source": [
    "help(ph.tokens)"
   ]
  },
  {
   "cell_type": "markdown",
   "id": "c83abdb6",
   "metadata": {},
   "source": [
    "## Examples"
   ]
  },
  {
   "cell_type": "markdown",
   "id": "ec618266",
   "metadata": {},
   "source": [
    "### Generate the api-token and update the configuration file"
   ]
  },
  {
   "cell_type": "code",
   "execution_count": null,
   "id": "afee9927",
   "metadata": {},
   "outputs": [],
   "source": [
    "# generate a token with the api-token service\n",
    "ph.tokens.generate('http://example.primehub.io/api/api-token')"
   ]
  },
  {
   "cell_type": "code",
   "execution_count": null,
   "id": "d3fc6fc6",
   "metadata": {},
   "outputs": [],
   "source": [
    "# verify SDK setup\n",
    "if ph.is_ready():\n",
    "    print(\"PrimeHub Python SDK setup successfully\")\n",
    "else:\n",
    "    print(\"PrimeHub Python SDK couldn't get the group information, follow the 00-getting-started.ipynb to complete it\")"
   ]
  },
  {
   "cell_type": "code",
   "execution_count": null,
   "id": "85269189",
   "metadata": {},
   "outputs": [],
   "source": []
  }
 ],
 "metadata": {
  "kernelspec": {
   "display_name": "Python 3 (ipykernel)",
   "language": "python",
   "name": "python3"
  },
  "language_info": {
   "codemirror_mode": {
    "name": "ipython",
    "version": 3
   },
   "file_extension": ".py",
   "mimetype": "text/x-python",
   "name": "python",
   "nbconvert_exporter": "python",
   "pygments_lexer": "ipython3",
   "version": "3.7.6"
  }
 },
 "nbformat": 4,
 "nbformat_minor": 5
}
