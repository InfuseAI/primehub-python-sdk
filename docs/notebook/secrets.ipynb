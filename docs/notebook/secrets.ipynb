{
 "cells": [
  {
   "cell_type": "markdown",
   "id": "6f94585c",
   "metadata": {},
   "source": [
    "# Secrets command\n",
    "\n",
    "### Introduction\n",
    "\n",
    "Secrets command can show secret information. You will use the `id` with features that support **Image Pull Secret**.\n"
   ]
  },
  {
   "cell_type": "markdown",
   "id": "e035ff8a",
   "metadata": {},
   "source": [
    "## Setup PrimeHub Python SDK\n"
   ]
  },
  {
   "cell_type": "code",
   "execution_count": null,
   "id": "14d61c20",
   "metadata": {},
   "outputs": [],
   "source": [
    "from primehub import PrimeHub, PrimeHubConfig\n",
    "ph = PrimeHub(PrimeHubConfig())\n",
    "\n",
    "if ph.is_ready():\n",
    "    print(\"PrimeHub Python SDK setup successfully\")\n",
    "else:\n",
    "    print(\"PrimeHub Python SDK couldn't get the group information, follow the 00-getting-started.ipynb to complete it\")"
   ]
  },
  {
   "cell_type": "markdown",
   "id": "99b72e74",
   "metadata": {},
   "source": [
    "## Help documentation"
   ]
  },
  {
   "cell_type": "code",
   "execution_count": null,
   "id": "5c19aff9",
   "metadata": {},
   "outputs": [],
   "source": [
    "help(ph.secrets)"
   ]
  },
  {
   "cell_type": "markdown",
   "id": "fa526193",
   "metadata": {},
   "source": [
    "## Examples"
   ]
  },
  {
   "cell_type": "code",
   "execution_count": null,
   "id": "99019b63",
   "metadata": {},
   "outputs": [],
   "source": [
    "# List all secrets\n",
    "secrets = list(ph.secrets.list())\n",
    "secrets"
   ]
  },
  {
   "cell_type": "code",
   "execution_count": null,
   "id": "40162ded",
   "metadata": {},
   "outputs": [],
   "source": [
    "# Get a secret\n",
    "id = secrets[0]['id'] if secrets else None\n",
    "ph.secrets.get(id)"
   ]
  },
  {
   "cell_type": "code",
   "execution_count": null,
   "id": "e97cc2f6",
   "metadata": {},
   "outputs": [],
   "source": []
  }
 ],
 "metadata": {
  "kernelspec": {
   "display_name": "Python 3 (ipykernel)",
   "language": "python",
   "name": "python3"
  },
  "language_info": {
   "codemirror_mode": {
    "name": "ipython",
    "version": 3
   },
   "file_extension": ".py",
   "mimetype": "text/x-python",
   "name": "python",
   "nbconvert_exporter": "python",
   "pygments_lexer": "ipython3",
   "version": "3.7.6"
  }
 },
 "nbformat": 4,
 "nbformat_minor": 5
}
