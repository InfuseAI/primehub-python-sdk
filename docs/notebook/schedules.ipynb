{
 "cells": [
  {
   "cell_type": "markdown",
   "id": "f65cec1f",
   "metadata": {},
   "source": [
    "# Schedules command\n",
    "\n",
    "### Introduction\n",
    "\n",
    "The `schedules` command can manage schedules in the current group.\n",
    "\n",
    "* list: list all schedules\n",
    "* get: get a schedule information by id\n",
    "* create: create a schedule\n",
    "* update: update a schedule\n",
    "* delete: delete a schedule"
   ]
  },
  {
   "cell_type": "markdown",
   "id": "500f0bcf",
   "metadata": {},
   "source": [
    "## Setup PrimeHub Python SDK\n"
   ]
  },
  {
   "cell_type": "code",
   "execution_count": null,
   "id": "1b11685e",
   "metadata": {},
   "outputs": [],
   "source": [
    "from primehub import PrimeHub, PrimeHubConfig\n",
    "ph = PrimeHub(PrimeHubConfig())\n",
    "\n",
    "if ph.is_ready():\n",
    "    print(\"PrimeHub Python SDK setup successfully\")\n",
    "else:\n",
    "    print(\"PrimeHub Python SDK couldn't get the group information, follow the get-started.ipynb to complete it\")"
   ]
  },
  {
   "cell_type": "markdown",
   "id": "85a6c027",
   "metadata": {},
   "source": [
    "## Help documentation"
   ]
  },
  {
   "cell_type": "code",
   "execution_count": null,
   "id": "660d7c60",
   "metadata": {},
   "outputs": [],
   "source": [
    "help(ph.schedules)"
   ]
  },
  {
   "cell_type": "markdown",
   "id": "77cc00ee",
   "metadata": {},
   "source": [
    "## Examples"
   ]
  },
  {
   "cell_type": "markdown",
   "id": "45bfcd08",
   "metadata": {},
   "source": [
    "### Get detail information of schedules"
   ]
  },
  {
   "cell_type": "code",
   "execution_count": null,
   "id": "36ab06e9",
   "metadata": {},
   "outputs": [],
   "source": [
    "# List all jobs or with page number\n",
    "all_schedules = ph.schedules.list()\n",
    "schedule_page_1 = ph.schedules.list(page = 1)\n",
    "\n",
    "print(\"Number of all jobs:\", len(all_schedules))\n",
    "print(\"Number of jobs at page 1:\", len(schedule_page_1))"
   ]
  },
  {
   "cell_type": "code",
   "execution_count": null,
   "id": "8e3e4380",
   "metadata": {},
   "outputs": [],
   "source": [
    "# Get detail information by id\n",
    "ph.schedules.get(id='<schedule_id>')"
   ]
  },
  {
   "cell_type": "markdown",
   "id": "e8ab61f1",
   "metadata": {},
   "source": [
    "### Create, Update, and Delete Schedules"
   ]
  },
  {
   "cell_type": "code",
   "execution_count": null,
   "id": "6e51432e",
   "metadata": {},
   "outputs": [],
   "source": [
    "# Create a schedule that runs every 4 hours\n",
    "config = {\n",
    "    \"instanceType\": \"cpu-1\",\n",
    "    \"image\": \"base-notebook\",\n",
    "    \"displayName\": \"test\",\n",
    "    \"command\": \"echo \\\"test!\\\"\",\n",
    "    \"recurrence\": {\n",
    "        \"type\":\"daily\",\n",
    "        \"cron\":\"0 4 * * *\"\n",
    "    }\n",
    "}\n",
    "\n",
    "schedule = ph.schedules.create(config)\n",
    "print(schedule)"
   ]
  },
  {
   "cell_type": "code",
   "execution_count": null,
   "id": "8fb60dec",
   "metadata": {},
   "outputs": [],
   "source": [
    "# Update the schedule to run every 2 hours\n",
    "config = {\n",
    "    \"recurrence\": {\n",
    "        \"type\":\"daily\",\n",
    "        \"cron\":\"0 2 * * *\"\n",
    "    }\n",
    "}\n",
    "schedule = ph.schedules.update(schedule['id'], config)\n",
    "print(schedule)"
   ]
  },
  {
   "cell_type": "code",
   "execution_count": null,
   "id": "483be712",
   "metadata": {},
   "outputs": [],
   "source": [
    "# Delete a schedule by id\n",
    "ph.schedules.delete(schedule['id'])\n",
    "ph.schedules.get(schedule['id'])"
   ]
  }
 ],
 "metadata": {
  "kernelspec": {
   "display_name": "Python 3",
   "language": "python",
   "name": "python3"
  },
  "language_info": {
   "codemirror_mode": {
    "name": "ipython",
    "version": 3
   },
   "file_extension": ".py",
   "mimetype": "text/x-python",
   "name": "python",
   "nbconvert_exporter": "python",
   "pygments_lexer": "ipython3",
   "version": "3.7.10"
  }
 },
 "nbformat": 4,
 "nbformat_minor": 5
}
