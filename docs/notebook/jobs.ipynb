{
 "cells": [
  {
   "cell_type": "markdown",
   "id": "c21ec6cb",
   "metadata": {},
   "source": [
    "# Jobs command\n",
    "\n",
    "### Introduction\n",
    "\n",
    "The `jobs` command can manage jobs in the current group.\n",
    "\n",
    "* list: list all jobs\n",
    "* get: get a job information by id\n",
    "* submit: submit a job from a file or a recurring job\n",
    "* rerun: rerun a job by id\n",
    "* wait: wait a job until timeout or finish\n",
    "* cancel: cancel a job by id\n",
    "* logs: get job logs by id\n",
    "* list_artifacts: list all artifacts of a job \n",
    "* download_artifacts: download job artifects"
   ]
  },
  {
   "cell_type": "markdown",
   "id": "65d28291",
   "metadata": {},
   "source": [
    "## Setup PrimeHub Python SDK\n"
   ]
  },
  {
   "cell_type": "code",
   "execution_count": null,
   "id": "41ab0564",
   "metadata": {},
   "outputs": [],
   "source": [
    "from primehub import PrimeHub, PrimeHubConfig\n",
    "ph = PrimeHub(PrimeHubConfig())\n",
    "\n",
    "if ph.is_ready():\n",
    "    print(\"PrimeHub Python SDK setup successfully\")\n",
    "else:\n",
    "    print(\"PrimeHub Python SDK couldn't get the group information, follow the 00-getting-started.ipynb to complete it\")"
   ]
  },
  {
   "cell_type": "markdown",
   "id": "4495f6db",
   "metadata": {},
   "source": [
    "## Help documentation"
   ]
  },
  {
   "cell_type": "code",
   "execution_count": null,
   "id": "22303d24",
   "metadata": {},
   "outputs": [],
   "source": [
    "help(ph.jobs)"
   ]
  },
  {
   "cell_type": "markdown",
   "id": "97735451",
   "metadata": {},
   "source": [
    "## Examples"
   ]
  },
  {
   "cell_type": "markdown",
   "id": "b60126b5",
   "metadata": {},
   "source": [
    "### Get detail information of jobs"
   ]
  },
  {
   "cell_type": "code",
   "execution_count": null,
   "id": "027a5b54",
   "metadata": {},
   "outputs": [],
   "source": [
    "# List all jobs or with page number\n",
    "all_jobs = ph.jobs.list()\n",
    "job_page_1 = ph.jobs.list(page = 1)\n",
    "\n",
    "print(\"Number of all jobs:\", len(all_jobs))\n",
    "print(\"Number of jobs at page 1:\", len(job_page_1))"
   ]
  },
  {
   "cell_type": "code",
   "execution_count": null,
   "id": "4b6f6f09",
   "metadata": {},
   "outputs": [],
   "source": [
    "# Get detail information by id\n",
    "ph.jobs.get(id='<job_id>')"
   ]
  },
  {
   "cell_type": "markdown",
   "id": "74d368b5",
   "metadata": {},
   "source": [
    "### Submit jobs and get the logs"
   ]
  },
  {
   "cell_type": "code",
   "execution_count": null,
   "id": "c4627c3a",
   "metadata": {},
   "outputs": [],
   "source": [
    "# Submit a job\n",
    "config = {\n",
    "    \"instanceType\": \"cpu-1\",\n",
    "    \"image\": \"base-notebook\",\n",
    "    \"displayName\": \"short-job\",\n",
    "    \"command\": \"echo \\\"test1\\\"\\necho \\\"test2\\\"\",\n",
    "}\n",
    "\n",
    "short_job = ph.jobs.submit(config)\n",
    "print(short_job)"
   ]
  },
  {
   "cell_type": "code",
   "execution_count": null,
   "id": "f88c3700",
   "metadata": {},
   "outputs": [],
   "source": [
    "# Wait the job to be done\n",
    "print('[ Waiting ]')\n",
    "ph.jobs.wait(short_job['id'])\n",
    "print('[ Job Done ]')\n",
    "\n",
    "# Get logs\n",
    "logs = ph.jobs.logs(short_job['id'])\n",
    "print('[ Job Logs ]')\n",
    "for l in logs:\n",
    "    print(l)"
   ]
  },
  {
   "cell_type": "code",
   "execution_count": null,
   "id": "067bb7fa",
   "metadata": {},
   "outputs": [],
   "source": [
    "# Get the job logs in stream mode\n",
    "config = {\n",
    "    'instanceType': 'cpu-1',\n",
    "    'image': 'base-notebook',\n",
    "    'displayName': 'long-job',\n",
    "    'command': 'for i in {1..10}; do echo $i; sleep 1; done',\n",
    "}\n",
    "long_job  = ph.jobs.submit(config)\n",
    "\n",
    "##\n",
    "## TODO: need a way to wait unitl the job is running before get the logs\n",
    "##\n",
    "ph.jobs.wait(long_job['id'], timeout=10)\n",
    "\n",
    "logs = ph.jobs.logs(long_job['id'], follow=True)\n",
    "print('[ Job Logs ]')\n",
    "for l in logs:\n",
    "    print(l)"
   ]
  },
  {
   "cell_type": "markdown",
   "id": "74009ccf",
   "metadata": {},
   "source": [
    "### Rerun and cancel the job"
   ]
  },
  {
   "cell_type": "code",
   "execution_count": null,
   "id": "31eb4160",
   "metadata": {},
   "outputs": [],
   "source": [
    "# Rerun the job\n",
    "rerun_job = ph.jobs.rerun(long_job['id'])\n",
    "print('Rerun Job:')\n",
    "print(rerun_job)\n",
    "\n",
    "##\n",
    "## TODO: need a way to wait unitl the job is running before get the logs\n",
    "##\n",
    "import time\n",
    "ph.jobs.wait(rerun_job['id'], timeout=10)\n",
    "\n",
    "# Cancel the job\n",
    "cancel_job = ph.jobs.cancel(rerun_job['id'])\n",
    "print('Cancel Job:')\n",
    "print(cancel_job)"
   ]
  },
  {
   "cell_type": "markdown",
   "id": "fb8075ef",
   "metadata": {},
   "source": [
    "### Job Artifacts\n",
    "more information: https://docs.primehub.io/docs/job-artifact-feature"
   ]
  },
  {
   "cell_type": "code",
   "execution_count": null,
   "id": "12c7d57d",
   "metadata": {},
   "outputs": [],
   "source": [
    "# Submit a job that creates job artifacts\n",
    "config = {\n",
    "    'instanceType': 'cpu-1',\n",
    "    'image': 'base-notebook',\n",
    "    'displayName': 'job-with-artifacts',\n",
    "    'command': 'mkdir -p /home/jovyan/artifacts/sub\\n echo \\\"hello\\\" > /home/jovyan/artifacts/test.txt\\n echo \\\"hello\\\" > /home/jovyan/artifacts/sub/test.txt',\n",
    "}\n",
    "job_with_artifacts = ph.jobs.submit(config)\n",
    "\n",
    "# Wait the job to be done\n",
    "ph.jobs.wait(job_with_artifacts['id'])"
   ]
  },
  {
   "cell_type": "code",
   "execution_count": null,
   "id": "4188c445",
   "metadata": {},
   "outputs": [],
   "source": [
    "# List artifacts of a job\n",
    "ph.jobs.list_artifacts(job_with_artifacts['id'])"
   ]
  },
  {
   "cell_type": "code",
   "execution_count": null,
   "id": "4715b7bf",
   "metadata": {},
   "outputs": [],
   "source": [
    "# Download artifacts\n",
    "ph.jobs.download_artifacts(job_with_artifacts['id'], 'test.txt', '/tmp')    \n",
    "!cat /tmp/test.txt"
   ]
  },
  {
   "cell_type": "code",
   "execution_count": null,
   "id": "918d7233",
   "metadata": {},
   "outputs": [],
   "source": [
    "##\n",
    "## TODO: add download recursive\n",
    "##"
   ]
  }
 ],
 "metadata": {
  "kernelspec": {
   "display_name": "Python 3",
   "language": "python",
   "name": "python3"
  },
  "language_info": {
   "codemirror_mode": {
    "name": "ipython",
    "version": 3
   },
   "file_extension": ".py",
   "mimetype": "text/x-python",
   "name": "python",
   "nbconvert_exporter": "python",
   "pygments_lexer": "ipython3",
   "version": "3.7.10"
  }
 },
 "nbformat": 4,
 "nbformat_minor": 5
}
