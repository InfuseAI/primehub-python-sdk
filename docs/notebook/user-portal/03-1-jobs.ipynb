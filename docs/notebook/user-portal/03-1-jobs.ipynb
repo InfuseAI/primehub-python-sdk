{
 "cells": [
  {
   "cell_type": "markdown",
   "id": "3d0bef17",
   "metadata": {},
   "source": [
    "# Jobs command\n",
    "\n",
    "### Introduction\n",
    "\n",
    "The `jobs` command can manage jobs in the current group.\n",
    "\n",
    "* list: list all jobs\n",
    "* get: get a job information by id\n",
    "* submit: submit a job from a file or a recurring job\n",
    "* rerun: rerun a job by id\n",
    "* wait: wait a job until timeout or finish\n",
    "* cancel: cancel a job by id\n",
    "* logs: get job logs by id\n",
    "* list_artifacts: list all artifacts of a job \n",
    "* download_artifacts: download job artifects"
   ]
  },
  {
   "cell_type": "markdown",
   "id": "4feaec2f",
   "metadata": {},
   "source": [
    "## Setup PrimeHub Python SDK\n"
   ]
  },
  {
   "cell_type": "code",
   "execution_count": null,
   "id": "c20ba346",
   "metadata": {},
   "outputs": [],
   "source": [
    "from primehub import PrimeHub, PrimeHubConfig\n",
    "ph = PrimeHub(PrimeHubConfig())\n",
    "\n",
    "if ph.is_ready():\n",
    "    print(\"PrimeHub Python SDK setup successfully\")\n",
    "else:\n",
    "    print(\"PrimeHub Python SDK couldn't get the group information, follow the 00-getting-started.ipynb to complete it\")"
   ]
  },
  {
   "cell_type": "code",
   "execution_count": null,
   "id": "a7f05141",
   "metadata": {},
   "outputs": [],
   "source": [
    "ph.config.set_group('InfuseAI')"
   ]
  },
  {
   "cell_type": "markdown",
   "id": "5119e951",
   "metadata": {},
   "source": [
    "## Help documentation"
   ]
  },
  {
   "cell_type": "code",
   "execution_count": null,
   "id": "40701baa",
   "metadata": {},
   "outputs": [],
   "source": [
    "help(ph.jobs)"
   ]
  },
  {
   "cell_type": "markdown",
   "id": "a54dad1a",
   "metadata": {},
   "source": [
    "## Examples"
   ]
  },
  {
   "cell_type": "markdown",
   "id": "2630ffb0",
   "metadata": {},
   "source": [
    "### submit: submit a job from a file or a recurring job"
   ]
  },
  {
   "cell_type": "code",
   "execution_count": null,
   "id": "6fbdc675",
   "metadata": {},
   "outputs": [],
   "source": [
    "# Submit a job\n",
    "config = {\n",
    "    \"instanceType\": \"cpu-1\",\n",
    "    \"image\": \"base-notebook\",\n",
    "    \"displayName\": \"short-job\",\n",
    "    \"command\": \"\"\"echo 'test1' \"\"\",\n",
    "}\n",
    "\n",
    "short_job = ph.jobs.submit(config)\n",
    "print(short_job)"
   ]
  },
  {
   "cell_type": "markdown",
   "id": "02e6c101",
   "metadata": {},
   "source": [
    "### List: list all jobs"
   ]
  },
  {
   "cell_type": "code",
   "execution_count": null,
   "id": "7668b6c0",
   "metadata": {},
   "outputs": [],
   "source": [
    "# List all jobs\n",
    "\n",
    "all_jobs = ph.jobs.list()\n",
    "for job in all_jobs:\n",
    "    print(job)"
   ]
  },
  {
   "cell_type": "code",
   "execution_count": null,
   "id": "93d8d17c",
   "metadata": {},
   "outputs": [],
   "source": [
    "# List the jobs in page 1\n",
    "job_page_1 = ph.jobs.list(page = 1)\n",
    "for job in job_page_1:\n",
    "    print(job)"
   ]
  },
  {
   "cell_type": "markdown",
   "id": "90a00c07",
   "metadata": {},
   "source": [
    "### Get: Get detail information of jobs"
   ]
  },
  {
   "cell_type": "code",
   "execution_count": null,
   "id": "de6a9e35",
   "metadata": {},
   "outputs": [],
   "source": [
    "# Get detail information by id\n",
    "ph.jobs.get(id='<job_id>')"
   ]
  },
  {
   "cell_type": "markdown",
   "id": "5136552e",
   "metadata": {},
   "source": [
    "### Wait: wait a job until timeout or finish"
   ]
  },
  {
   "cell_type": "code",
   "execution_count": null,
   "id": "de3d49c4",
   "metadata": {},
   "outputs": [],
   "source": [
    "# Submit a job\n",
    "config = {\n",
    "    \"instanceType\": \"cpu-1\",\n",
    "    \"image\": \"base-notebook\",\n",
    "    \"displayName\": \"short-job\",\n",
    "    \"command\": \"\"\"echo 'test1' \"\"\",\n",
    "}\n",
    "\n",
    "short_job = ph.jobs.submit(config)\n",
    "print('[ Done: Submit the new job ]')\n",
    "\n",
    "# Wait the job to be done\n",
    "print('[ Waiting ]')\n",
    "ph.jobs.wait(short_job['id'])\n",
    "print('[ Job Done ]')\n",
    "\n",
    "# Get logs\n",
    "logs = ph.jobs.logs(short_job['id'])\n",
    "print('[ Job Logs ]')\n",
    "for l in logs:\n",
    "    print(l)"
   ]
  },
  {
   "cell_type": "markdown",
   "id": "61e98393",
   "metadata": {},
   "source": [
    "### logs: get job logs by id"
   ]
  },
  {
   "cell_type": "code",
   "execution_count": null,
   "id": "1bdccbe0",
   "metadata": {},
   "outputs": [],
   "source": [
    "# Get logs\n",
    "logs = ph.jobs.logs(short_job['id'])\n",
    "print('[ Job Logs ]')\n",
    "for l in logs:\n",
    "    print(l.decode('utf-8'))"
   ]
  },
  {
   "cell_type": "code",
   "execution_count": null,
   "id": "093e9a62",
   "metadata": {},
   "outputs": [],
   "source": [
    "# Get the job logs in stream mode\n",
    "config = {\n",
    "    'instanceType': 'cpu-1',\n",
    "    'image': 'base-notebook',\n",
    "    'displayName': 'long-job',\n",
    "    'command': 'for i in {1..10}; do echo $i; sleep 1; done',\n",
    "}\n",
    "long_job = ph.jobs.submit(config)\n",
    "\n",
    "print('[ Waiting ]')\n",
    "ph.jobs.wait(long_job['id'], timeout=10)\n",
    "print('[ Job Done ]')\n",
    "\n",
    "\n",
    "logs = ph.jobs.logs(long_job['id'], follow=True)\n",
    "print('[ Job Logs ]')\n",
    "for l in logs:\n",
    "    print(l.decode('utf-8'))"
   ]
  },
  {
   "cell_type": "markdown",
   "id": "bbed769e",
   "metadata": {},
   "source": [
    "### rerun: rerun a job by id"
   ]
  },
  {
   "cell_type": "code",
   "execution_count": null,
   "id": "c918d245",
   "metadata": {},
   "outputs": [],
   "source": [
    "# Rerun the job\n",
    "rerun_job = ph.jobs.rerun(long_job['id'])\n",
    "print('Rerun Job:')\n",
    "print(rerun_job)"
   ]
  },
  {
   "cell_type": "markdown",
   "id": "76537ec3",
   "metadata": {},
   "source": [
    "### cancel: cancel a job by id"
   ]
  },
  {
   "cell_type": "code",
   "execution_count": null,
   "id": "223a9df5",
   "metadata": {},
   "outputs": [],
   "source": [
    "# import time\n",
    "# ph.jobs.wait(rerun_job['id'], timeout=10)\n",
    "\n",
    "# Cancel the job\n",
    "cancel_job = ph.jobs.cancel(rerun_job['id'])\n",
    "print('Cancel Job:')\n",
    "print(cancel_job)"
   ]
  },
  {
   "cell_type": "markdown",
   "id": "08d02dd7",
   "metadata": {},
   "source": [
    "### Job Artifacts: List and download\n",
    "more information: https://docs-v4.primehub.io/user-guide/jobs-recurring-jobs/job-artifacts"
   ]
  },
  {
   "cell_type": "code",
   "execution_count": null,
   "id": "34656d8e",
   "metadata": {},
   "outputs": [],
   "source": [
    "# Submit a job that creates job artifacts\n",
    "config = {\n",
    "    'instanceType': 'cpu-1',\n",
    "    'image': 'base-notebook',\n",
    "    'displayName': 'job-with-artifacts',\n",
    "    'command': 'mkdir -p /home/jovyan/artifacts/sub\\n echo \\\"hello\\\" > /home/jovyan/artifacts/test.txt\\n echo \\\"hello\\\" > /home/jovyan/artifacts/sub/test.txt',\n",
    "}\n",
    "job_with_artifacts = ph.jobs.submit(config)\n",
    "\n",
    "# Wait the job to be done\n",
    "ph.jobs.wait(job_with_artifacts['id'])"
   ]
  },
  {
   "cell_type": "code",
   "execution_count": null,
   "id": "89e72220",
   "metadata": {},
   "outputs": [],
   "source": [
    "# List artifacts of a job\n",
    "ph.jobs.list_artifacts(job_with_artifacts['id'])"
   ]
  },
  {
   "cell_type": "code",
   "execution_count": null,
   "id": "edc1da2c",
   "metadata": {},
   "outputs": [],
   "source": [
    "# Download artifacts\n",
    "ph.jobs.download_artifacts(job_with_artifacts['id'], 'test.txt', '/tmp')    \n",
    "!cat /tmp/test.txt"
   ]
  },
  {
   "cell_type": "code",
   "execution_count": null,
   "id": "97e77a58",
   "metadata": {},
   "outputs": [],
   "source": [
    "##\n",
    "## TODO: add download recursive\n",
    "##"
   ]
  }
 ],
 "metadata": {
  "kernelspec": {
   "display_name": "Python 3 (ipykernel)",
   "language": "python",
   "name": "python3"
  },
  "language_info": {
   "codemirror_mode": {
    "name": "ipython",
    "version": 3
   },
   "file_extension": ".py",
   "mimetype": "text/x-python",
   "name": "python",
   "nbconvert_exporter": "python",
   "pygments_lexer": "ipython3",
   "version": "3.7.12"
  }
 },
 "nbformat": 4,
 "nbformat_minor": 5
}
