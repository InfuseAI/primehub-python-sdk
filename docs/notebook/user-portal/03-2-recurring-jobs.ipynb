{
 "cells": [
  {
   "cell_type": "markdown",
   "id": "77691722",
   "metadata": {},
   "source": [
    "# RecurringJobs command\n",
    "\n",
    "### Introduction\n",
    "\n",
    "The `recurring_jobs` command can manage recurring jobs in the current group.\n",
    "\n",
    "* list: list all recurring jobs\n",
    "* get: get a recurring job information by id\n",
    "* create: create a recurring job\n",
    "* update: update a recurring job\n",
    "* delete: delete a recurring job"
   ]
  },
  {
   "cell_type": "markdown",
   "id": "d8a41b52",
   "metadata": {},
   "source": [
    "## Setup PrimeHub Python SDK\n"
   ]
  },
  {
   "cell_type": "code",
   "execution_count": null,
   "id": "7e9f851e",
   "metadata": {},
   "outputs": [],
   "source": [
    "from primehub import PrimeHub, PrimeHubConfig\n",
    "ph = PrimeHub(PrimeHubConfig())\n",
    "\n",
    "if ph.is_ready():\n",
    "    print(\"PrimeHub Python SDK setup successfully\")\n",
    "else:\n",
    "    print(\"PrimeHub Python SDK couldn't get the group information, follow the 00-getting-started.ipynb to complete it\")"
   ]
  },
  {
   "cell_type": "code",
   "execution_count": null,
   "id": "3f695331",
   "metadata": {},
   "outputs": [],
   "source": [
    "ph.config.set_group('InfuseAI')"
   ]
  },
  {
   "cell_type": "markdown",
   "id": "aa7156e4",
   "metadata": {},
   "source": [
    "## Help documentation"
   ]
  },
  {
   "cell_type": "code",
   "execution_count": null,
   "id": "cd8716c6",
   "metadata": {},
   "outputs": [],
   "source": [
    "help(ph.recurring_jobs)"
   ]
  },
  {
   "cell_type": "markdown",
   "id": "4eba8887",
   "metadata": {},
   "source": [
    "## Examples"
   ]
  },
  {
   "cell_type": "markdown",
   "id": "436a87e0",
   "metadata": {},
   "source": [
    "### create: create a recurring job"
   ]
  },
  {
   "cell_type": "code",
   "execution_count": null,
   "id": "240e930d",
   "metadata": {},
   "outputs": [],
   "source": [
    "# Create a recurring job that runs at every 4 AM\n",
    "config = {\n",
    "    \"instanceType\": \"cpu-1\",\n",
    "    \"image\": \"base-notebook\",\n",
    "    \"displayName\": \"test\",\n",
    "    \"command\": \"echo \\\"test!\\\"\",\n",
    "    \"recurrence\": {\n",
    "        \"type\":\"daily\",\n",
    "        \"cron\":\"\"\n",
    "    }\n",
    "}\n",
    "\n",
    "recurring_job_submit = ph.recurring_jobs.create(config)\n",
    "print(recurring_job)"
   ]
  },
  {
   "cell_type": "markdown",
   "id": "c9af9f94",
   "metadata": {},
   "source": [
    "### update: update a recurring job"
   ]
  },
  {
   "cell_type": "code",
   "execution_count": null,
   "id": "6e714d85",
   "metadata": {},
   "outputs": [],
   "source": [
    "# Update the recurring job to run every 2 AM\n",
    "config = {\n",
    "    \"recurrence\": {\n",
    "        \"type\":\"custom\",\n",
    "        \"cron\":\"0 2 * * *\"\n",
    "    }\n",
    "}\n",
    "recurring_job_submit = ph.recurring_jobs.update(recurring_job_submit['id'], config)\n",
    "print(recurring_job_submit)"
   ]
  },
  {
   "cell_type": "markdown",
   "id": "051ea78f",
   "metadata": {},
   "source": [
    "### list: list all recurring jobs"
   ]
  },
  {
   "cell_type": "code",
   "execution_count": null,
   "id": "69afd847",
   "metadata": {},
   "outputs": [],
   "source": [
    "# List all recurring jobs\n",
    "all_recurring_jobs = ph.recurring_jobs.list()\n",
    "\n",
    "for recurring_job in all_recurring_jobs:\n",
    "    print(recurring_job)"
   ]
  },
  {
   "cell_type": "code",
   "execution_count": null,
   "id": "615d2cd7",
   "metadata": {},
   "outputs": [],
   "source": [
    "# List the recurring jobs in page 1\n",
    "\n",
    "recurring_job_page_1 = ph.recurring_jobs.list(page = 1)\n",
    "\n",
    "for recurring_job in recurring_job_page_1:\n",
    "    print(recurring_job)"
   ]
  },
  {
   "cell_type": "markdown",
   "id": "3c94517e",
   "metadata": {},
   "source": [
    "### get: get a recurring job information by id"
   ]
  },
  {
   "cell_type": "code",
   "execution_count": null,
   "id": "997305e9",
   "metadata": {},
   "outputs": [],
   "source": [
    "# Get detail information by id\n",
    "# ph.recurring_jobs.get(id='<recurring_job_id>')\n",
    "ph.recurring_jobs.get(id=recurring_job_submit['id'])"
   ]
  },
  {
   "cell_type": "markdown",
   "id": "8385a6b9",
   "metadata": {},
   "source": [
    "### delete: delete a recurring job"
   ]
  },
  {
   "cell_type": "code",
   "execution_count": null,
   "id": "b543afbf",
   "metadata": {},
   "outputs": [],
   "source": [
    "# Delete a recurring_job by id\n",
    "ph.recurring_jobs.delete(recurring_job_submit['id'])"
   ]
  }
 ],
 "metadata": {
  "kernelspec": {
   "display_name": "Python 3 (ipykernel)",
   "language": "python",
   "name": "python3"
  },
  "language_info": {
   "codemirror_mode": {
    "name": "ipython",
    "version": 3
   },
   "file_extension": ".py",
   "mimetype": "text/x-python",
   "name": "python",
   "nbconvert_exporter": "python",
   "pygments_lexer": "ipython3",
   "version": "3.7.12"
  }
 },
 "nbformat": 4,
 "nbformat_minor": 5
}
