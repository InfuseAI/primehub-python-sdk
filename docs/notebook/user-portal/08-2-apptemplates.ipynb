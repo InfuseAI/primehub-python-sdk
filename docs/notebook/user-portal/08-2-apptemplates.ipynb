{
 "cells": [
  {
   "cell_type": "markdown",
   "id": "2f2e22c0",
   "metadata": {},
   "source": [
    "# Apptemplates command\n",
    "\n",
    "### Introduction\n",
    "\n",
    "The `apptemplates` command make you get information about PhApplication templates\n",
    "\n",
    "* list: list all PhApp templates\n",
    "* get: get a template by id"
   ]
  },
  {
   "cell_type": "markdown",
   "id": "f777a31b",
   "metadata": {},
   "source": [
    "## Setup PrimeHub Python SDK\n"
   ]
  },
  {
   "cell_type": "code",
   "execution_count": null,
   "id": "b02264cf",
   "metadata": {},
   "outputs": [],
   "source": [
    "from primehub import PrimeHub, PrimeHubConfig\n",
    "ph = PrimeHub(PrimeHubConfig())\n",
    "\n",
    "if ph.is_ready():\n",
    "    print(\"PrimeHub Python SDK setup successfully\")\n",
    "else:\n",
    "    print(\"PrimeHub Python SDK couldn't get the group information, follow the 00-getting-started.ipynb to complete it\")"
   ]
  },
  {
   "cell_type": "markdown",
   "id": "d4a29fa1",
   "metadata": {},
   "source": [
    "## Help documentation"
   ]
  },
  {
   "cell_type": "code",
   "execution_count": null,
   "id": "136c920d",
   "metadata": {},
   "outputs": [],
   "source": [
    "help(ph.apptemplates)"
   ]
  },
  {
   "cell_type": "markdown",
   "id": "cce0f7dd",
   "metadata": {},
   "source": [
    "## Examples"
   ]
  },
  {
   "cell_type": "markdown",
   "id": "d321a828",
   "metadata": {},
   "source": [
    "### List PhApp templates"
   ]
  },
  {
   "cell_type": "code",
   "execution_count": null,
   "id": "915be906",
   "metadata": {},
   "outputs": [],
   "source": [
    "# List all jobs or with page number\n",
    "for template in ph.apptemplates.list():\n",
    "    print(f'id: {template[\"id\"]}\\ndescription: {template[\"description\"]}\\n')\n"
   ]
  },
  {
   "cell_type": "code",
   "execution_count": null,
   "id": "b6b06402",
   "metadata": {},
   "outputs": [],
   "source": [
    "import pandas as pd\n",
    "pd.DataFrame(ph.apptemplates.list())"
   ]
  },
  {
   "cell_type": "markdown",
   "id": "2fb2e7aa",
   "metadata": {},
   "source": [
    "### Get a template by id"
   ]
  },
  {
   "cell_type": "code",
   "execution_count": null,
   "id": "2586930a",
   "metadata": {},
   "outputs": [],
   "source": [
    "ph.apptemplates.get('code-server')"
   ]
  }
 ],
 "metadata": {
  "kernelspec": {
   "display_name": "Python 3 (ipykernel)",
   "language": "python",
   "name": "python3"
  },
  "language_info": {
   "codemirror_mode": {
    "name": "ipython",
    "version": 3
   },
   "file_extension": ".py",
   "mimetype": "text/x-python",
   "name": "python",
   "nbconvert_exporter": "python",
   "pygments_lexer": "ipython3",
   "version": "3.7.12"
  }
 },
 "nbformat": 4,
 "nbformat_minor": 5
}
