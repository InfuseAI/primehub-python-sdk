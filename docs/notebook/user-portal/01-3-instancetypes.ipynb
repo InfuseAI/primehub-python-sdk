{
 "cells": [
  {
   "cell_type": "markdown",
   "id": "4e437853",
   "metadata": {},
   "source": [
    "# Instancetypes command\n",
    "\n",
    "\n",
    "The `instancetypes` command is one of the group resources command, so it needs to use with a current group.\n"
   ]
  },
  {
   "cell_type": "markdown",
   "id": "90b5a29e",
   "metadata": {},
   "source": [
    "## Setup PrimeHub Python SDK\n"
   ]
  },
  {
   "cell_type": "code",
   "execution_count": null,
   "id": "d4c5d0ed",
   "metadata": {},
   "outputs": [],
   "source": [
    "from primehub import PrimeHub, PrimeHubConfig\n",
    "ph = PrimeHub(PrimeHubConfig())\n",
    "\n",
    "if ph.is_ready():\n",
    "    print(\"PrimeHub Python SDK setup successfully\")\n",
    "else:\n",
    "    print(\"PrimeHub Python SDK couldn't get the group information, follow the 00-getting-started.ipynb to complete it\")"
   ]
  },
  {
   "cell_type": "markdown",
   "id": "b8562a84",
   "metadata": {},
   "source": [
    "## Help documentation"
   ]
  },
  {
   "cell_type": "code",
   "execution_count": null,
   "id": "d565a120",
   "metadata": {},
   "outputs": [],
   "source": [
    "help(ph.instancetypes)"
   ]
  },
  {
   "cell_type": "markdown",
   "id": "8423bb5e",
   "metadata": {},
   "source": [
    "## Examples"
   ]
  },
  {
   "cell_type": "code",
   "execution_count": null,
   "id": "5569449b",
   "metadata": {},
   "outputs": [],
   "source": [
    "# List instanceTypes\n",
    "ph.instancetypes.list()"
   ]
  },
  {
   "cell_type": "code",
   "execution_count": null,
   "id": "76617b8b",
   "metadata": {},
   "outputs": [],
   "source": [
    "# Get an instanceType\n",
    "ph.instancetypes.get('cpu-1')"
   ]
  },
  {
   "cell_type": "code",
   "execution_count": null,
   "id": "148f027a",
   "metadata": {},
   "outputs": [],
   "source": []
  }
 ],
 "metadata": {
  "kernelspec": {
   "display_name": "Python 3 (ipykernel)",
   "language": "python",
   "name": "python3"
  },
  "language_info": {
   "codemirror_mode": {
    "name": "ipython",
    "version": 3
   },
   "file_extension": ".py",
   "mimetype": "text/x-python",
   "name": "python",
   "nbconvert_exporter": "python",
   "pygments_lexer": "ipython3",
   "version": "3.7.12"
  }
 },
 "nbformat": 4,
 "nbformat_minor": 5
}
