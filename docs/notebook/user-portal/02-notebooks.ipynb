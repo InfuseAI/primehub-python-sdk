{
 "cells": [
  {
   "cell_type": "markdown",
   "id": "b453f118",
   "metadata": {},
   "source": [
    "# Notebooks command\n",
    "\n",
    "### Introduction\n",
    "\n",
    "The `notebooks` command can manage your notebook."
   ]
  },
  {
   "cell_type": "markdown",
   "id": "988cd4af",
   "metadata": {},
   "source": [
    "## Setup PrimeHub Python SDK\n"
   ]
  },
  {
   "cell_type": "code",
   "execution_count": 1,
   "id": "0d842b64",
   "metadata": {},
   "outputs": [
    {
     "name": "stdout",
     "output_type": "stream",
     "text": [
      "PrimeHub Python SDK setup successfully\n"
     ]
    }
   ],
   "source": [
    "from primehub import PrimeHub, PrimeHubConfig\n",
    "ph = PrimeHub(PrimeHubConfig())\n",
    "\n",
    "if ph.is_ready():\n",
    "    print(\"PrimeHub Python SDK setup successfully\")\n",
    "else:\n",
    "    print(\"PrimeHub Python SDK couldn't get the group information, follow the 00-getting-started.ipynb to complete it\")"
   ]
  },
  {
   "cell_type": "markdown",
   "id": "ce3b8452",
   "metadata": {},
   "source": [
    "## Help documentation"
   ]
  },
  {
   "cell_type": "code",
   "execution_count": null,
   "id": "33fd6a5f",
   "metadata": {},
   "outputs": [],
   "source": [
    "help(ph.notebooks)"
   ]
  },
  {
   "cell_type": "markdown",
   "id": "d6b6e5db",
   "metadata": {},
   "source": [
    "## Examples"
   ]
  },
  {
   "cell_type": "markdown",
   "id": "cff57109",
   "metadata": {},
   "source": [
    "### Get detail information of notebook"
   ]
  },
  {
   "cell_type": "code",
   "execution_count": 2,
   "id": "7e43fb4e",
   "metadata": {},
   "outputs": [
    {
     "name": "stdout",
     "output_type": "stream",
     "text": [
      "    Traceback (most recent call last):\n",
      "      File \"/opt/conda/lib/python3.7/site-packages/jupyterhub/singleuser/mixins.py\", line 518, in notify\n",
      "        await client.fetch(req)\n",
      "      File \"/opt/conda/lib/python3.7/asyncio/tasks.py\", line 318, in __wakeup\n",
      "        future.result()\n",
      "    tornado.httpclient.HTTPClientError: HTTP 403: Forbidden\n",
      "[WARNING 2023-03-30 09:35:00.856 SingleUserLabApp manager:510] Notebook primehub-python-sdk/docs/notebook/me.ipynb is not trusted\n",
      "Websocket closed\n",
      "[WARNING 2023-03-30 09:42:50.189 SingleUserLabApp manager:510] Notebook primehub-python-sdk/docs/notebook/notebooks.ipynb is not trusted\n",
      "[WARNING 2023-03-30 09:48:30.080 SingleUserLabApp handlers:236] delete /primehub-python-sdk/docs/notebook/Untitled.ipynb\n",
      "\n"
     ]
    }
   ],
   "source": [
    "# Show the Current log\n",
    "\n",
    "logs = ph.notebooks.logs()\n",
    "for l in logs:\n",
    "    print(l.decode('utf-8'))"
   ]
  },
  {
   "cell_type": "code",
   "execution_count": null,
   "id": "eb4c0868",
   "metadata": {},
   "outputs": [],
   "source": [
    "# Streaming Mode: Show the log\n",
    "\n",
    "logs = ph.notebooks.logs(follow=True)\n",
    "for l in logs:\n",
    "    print(l.decode('utf-8'))"
   ]
  }
 ],
 "metadata": {
  "kernelspec": {
   "display_name": "Python 3 (ipykernel)",
   "language": "python",
   "name": "python3"
  },
  "language_info": {
   "codemirror_mode": {
    "name": "ipython",
    "version": 3
   },
   "file_extension": ".py",
   "mimetype": "text/x-python",
   "name": "python",
   "nbconvert_exporter": "python",
   "pygments_lexer": "ipython3",
   "version": "3.7.12"
  }
 },
 "nbformat": 4,
 "nbformat_minor": 5
}
