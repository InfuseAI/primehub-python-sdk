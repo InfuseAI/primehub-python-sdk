{
 "cells": [
  {
   "cell_type": "markdown",
   "metadata": {},
   "source": [
    "# Getting Started with PrimeHub Python SDK\n",
    "\n",
    "PrimeHub Python SDK makes you automation with PrimeHub Platform."
   ]
  },
  {
   "cell_type": "markdown",
   "metadata": {},
   "source": [
    "In order to make the SDK working, you have to \n",
    "* install the library with `pip`\n",
    "* create a config file in the `~/.primehub/config.json`"
   ]
  },
  {
   "cell_type": "markdown",
   "metadata": {},
   "source": [
    "## Install with pip\n",
    "\n",
    "* Let's install PrimeHub Python SDK with `pip`. "
   ]
  },
  {
   "cell_type": "code",
   "execution_count": 1,
   "metadata": {},
   "outputs": [
    {
     "name": "stdout",
     "output_type": "stream",
     "text": [
      "Collecting primehub-python-sdk\n",
      "  Using cached primehub_python_sdk-0.4.0-py3-none-any.whl (110 kB)\n",
      "Collecting types-tabulate==0.8.2\n",
      "  Using cached types_tabulate-0.8.2-py3-none-any.whl (2.4 kB)\n",
      "Requirement already satisfied: requests in /opt/conda/lib/python3.7/site-packages (from primehub-python-sdk) (2.27.1)\n",
      "Collecting types-requests\n",
      "  Downloading types_requests-2.28.11.17-py3-none-any.whl (14 kB)\n",
      "Requirement already satisfied: tabulate==0.8.9 in /opt/conda/lib/python3.7/site-packages (from primehub-python-sdk) (0.8.9)\n",
      "Requirement already satisfied: charset-normalizer~=2.0.0 in /opt/conda/lib/python3.7/site-packages (from requests->primehub-python-sdk) (2.0.12)\n",
      "Requirement already satisfied: idna<4,>=2.5 in /opt/conda/lib/python3.7/site-packages (from requests->primehub-python-sdk) (3.3)\n",
      "Requirement already satisfied: certifi>=2017.4.17 in /opt/conda/lib/python3.7/site-packages (from requests->primehub-python-sdk) (2020.6.20)\n",
      "Requirement already satisfied: urllib3<1.27,>=1.21.1 in /opt/conda/lib/python3.7/site-packages (from requests->primehub-python-sdk) (1.26.9)\n",
      "Collecting types-urllib3<1.27\n",
      "  Downloading types_urllib3-1.26.25.10-py3-none-any.whl (15 kB)\n",
      "Installing collected packages: types-urllib3, types-tabulate, types-requests, primehub-python-sdk\n",
      "Successfully installed primehub-python-sdk-0.4.0 types-requests-2.28.11.17 types-tabulate-0.8.2 types-urllib3-1.26.25.10\n"
     ]
    }
   ],
   "source": [
    "!pip install primehub-python-sdk"
   ]
  },
  {
   "cell_type": "markdown",
   "metadata": {},
   "source": [
    "## Request the API Token\n",
    "\n",
    "In order to get the token, you have to have an account in the PrimeHub cluster, the following process will ask you loing with your account.\n",
    "\n",
    "PLEASE UPDATE `PRIMEHUB_CLUSTER` to your cluster"
   ]
  },
  {
   "cell_type": "code",
   "execution_count": 2,
   "metadata": {},
   "outputs": [],
   "source": [
    "# Please modify the variable of PrimeHub Cluster URL\n",
    "PRIMEHUB_CLUSTER = 'http://primehub-python-sdk.primehub.io'\n",
    "\n",
    "# Force change the config.json\n",
    "CHANGE_CONFIG_FILE = False"
   ]
  },
  {
   "cell_type": "code",
   "execution_count": 3,
   "metadata": {},
   "outputs": [],
   "source": [
    "import os\n",
    "from primehub import PrimeHub, PrimeHubConfig\n",
    "\n",
    "ph = PrimeHub(PrimeHubConfig())\n",
    "if not os.path.isfile(os.path.join(os.getenv(\"HOME\"), \".primehub/config.json\")) or CHANGE_CONFIG_FILE:\n",
    "    ph.config.generate(PRIMEHUB_CLUSTER)"
   ]
  },
  {
   "cell_type": "markdown",
   "metadata": {},
   "source": [
    "### Verify configration with PrimeHub Python SDK"
   ]
  },
  {
   "cell_type": "code",
   "execution_count": null,
   "metadata": {},
   "outputs": [],
   "source": [
    "ph = PrimeHub(PrimeHubConfig())\n",
    "if ph.is_ready():\n",
    "    print(\"PrimeHub Python SDK setup successfully\")\n",
    "    print(\"Current Group:\", ph.primehub_config.current_group)\n",
    "else:\n",
    "    print(\"PrimeHub Python SDK couldn't get the group information, please check the configuration.\")"
   ]
  },
  {
   "cell_type": "markdown",
   "metadata": {},
   "source": [
    "## Here is all available commands in the PrimeHub Python SDK\n",
    "\n",
    "We will talk each command in the individual notebook. Commands call convention are:\n",
    "\n",
    "`PrimeHub.<command>.<method>(*args, **kwargs)`\n",
    "\n",
    "You could look up all supported commands with `get_all_commands()` method."
   ]
  },
  {
   "cell_type": "code",
   "execution_count": 5,
   "metadata": {},
   "outputs": [
    {
     "name": "stdout",
     "output_type": "stream",
     "text": [
      "admin\n",
      "apps\n",
      "apptemplates\n",
      "config\n",
      "datasets\n",
      "deployments\n",
      "files\n",
      "groups\n",
      "images\n",
      "instancetypes\n",
      "jobs\n",
      "me\n",
      "models\n",
      "notebooks\n",
      "recurring-jobs\n",
      "secrets\n",
      "version\n",
      "volumes\n"
     ]
    }
   ],
   "source": [
    "for cmd in ph.get_all_commands():\n",
    "    print(cmd)"
   ]
  }
 ],
 "metadata": {
  "interpreter": {
   "hash": "b2ec084f4af1cfdda5df94d11be181b9273da0e6177ccab952b78bb7bed491ac"
  },
  "kernelspec": {
   "display_name": "Python 3 (ipykernel)",
   "language": "python",
   "name": "python3"
  },
  "language_info": {
   "codemirror_mode": {
    "name": "ipython",
    "version": 3
   },
   "file_extension": ".py",
   "mimetype": "text/x-python",
   "name": "python",
   "nbconvert_exporter": "python",
   "pygments_lexer": "ipython3",
   "version": "3.7.12"
  }
 },
 "nbformat": 4,
 "nbformat_minor": 4
}
