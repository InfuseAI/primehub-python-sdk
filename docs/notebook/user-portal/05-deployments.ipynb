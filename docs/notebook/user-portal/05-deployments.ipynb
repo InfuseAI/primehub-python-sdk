{
 "cells": [
  {
   "cell_type": "markdown",
   "id": "a4a76d9e",
   "metadata": {},
   "source": [
    "# Deployments command\n",
    "\n",
    "### Introduction\n",
    "\n",
    "The `deployments` command can manage deployments in the current group.\n",
    "\n",
    "* list: List deployments\n",
    "* get: Get a deployment by id\n",
    "* get-history: Get history of a deployment by id\n",
    "* create: Create a deployment\n",
    "* update: Update a deployment by id\n",
    "* delete: Delete a deployment by id\n",
    "* start: Start a deployment by id\n",
    "* stop: Stop a deployment by id\n",
    "* wait: Wait a deployment to complete\n",
    "* logs: Get deployment logs by id"
   ]
  },
  {
   "cell_type": "markdown",
   "id": "5fce5c26",
   "metadata": {},
   "source": [
    "## Setup PrimeHub Python SDK\n"
   ]
  },
  {
   "cell_type": "code",
   "execution_count": null,
   "id": "377307ae",
   "metadata": {},
   "outputs": [],
   "source": [
    "from primehub import PrimeHub, PrimeHubConfig\n",
    "ph = PrimeHub(PrimeHubConfig())\n",
    "\n",
    "if ph.is_ready():\n",
    "    print(\"PrimeHub Python SDK setup successfully\")\n",
    "else:\n",
    "    print(\"PrimeHub Python SDK couldn't get the group information, follow the 00-getting-started.ipynb to complete it\")"
   ]
  },
  {
   "cell_type": "markdown",
   "id": "217bd200",
   "metadata": {},
   "source": [
    "## Help documentation"
   ]
  },
  {
   "cell_type": "code",
   "execution_count": null,
   "id": "91d2d326",
   "metadata": {},
   "outputs": [],
   "source": [
    "help(ph.deployments)"
   ]
  },
  {
   "cell_type": "markdown",
   "id": "6ee4ba07",
   "metadata": {},
   "source": [
    "## Examples\n",
    "\n",
    "### Fields for creating or updating\n",
    "\n",
    "| field | required | type | description |\n",
    "| --- | --- | --- | --- |\n",
    "| name | required | string | the name of the deployment |\n",
    "| id | required* | string | either self-defined or system generated automatically if not specified |\n",
    "| modelImage | required | string | the image file; see [also](https://docs.primehub.io/docs/model-deployment-feature#deployment-details) |\n",
    "| modelURI | optional | string | the location which the trained model is stored in; see [also](https://docs.primehub.io/docs/model-deployment-model-uri)|\n",
    "| env | optional | array | key-value pairs of environmental variables |\n",
    "| metadata | optional | object | key-value pairs of metadata |\n",
    "| instanceType | required | string | instance type which allocates resources for the job |\n",
    "| replicas | required* | int | how many replicas for the service |\n",
    "| updateMessage | optional | string | message here for each update |\n",
    "| endpointAccessType | optional | string | one of ['public', 'private'] |\n",
    "| imagePullSecret | optional | string | the id of an image pull secret |\n",
    "\n",
    "Available image pull secrets could be found by `secrets list` command:\n",
    "\n",
    "```\n",
    "$ primehub secrets list\n",
    "\n",
    "id              name      type\n",
    "--------------  --------  ----------\n",
    "image-example1  example1  kubernetes\n",
    "```\n",
    "\n",
    "#### Auto-filling Fields\n",
    "\n",
    "Auto-filling will happen when the config omitted below fields\n",
    "\n",
    "| field | value | description |\n",
    "| --- | --- | --- |\n",
    "| id | [normalize name]-[random string] | random string is in the length of 5 |\n",
    "| replicas | 1 | |"
   ]
  },
  {
   "cell_type": "markdown",
   "id": "82be5c0e",
   "metadata": {},
   "source": [
    "### Get detail information of deployments"
   ]
  },
  {
   "cell_type": "code",
   "execution_count": null,
   "id": "b506bcfd",
   "metadata": {},
   "outputs": [],
   "source": [
    "import pandas as pd"
   ]
  },
  {
   "cell_type": "code",
   "execution_count": null,
   "id": "c360bc73",
   "metadata": {},
   "outputs": [],
   "source": [
    "# List all deployments\n",
    "pd.DataFrame(ph.deployments.list())"
   ]
  },
  {
   "cell_type": "code",
   "execution_count": null,
   "id": "d79fbfe2",
   "metadata": {},
   "outputs": [],
   "source": [
    "# Get detail information by id\n",
    "ph.deployments.get('<deployment_id>')"
   ]
  },
  {
   "cell_type": "code",
   "execution_count": null,
   "id": "3bf20745",
   "metadata": {},
   "outputs": [],
   "source": [
    "# Get detail information by id\n",
    "ph.deployments.get_history('<deployment_id>')"
   ]
  },
  {
   "cell_type": "markdown",
   "id": "f945a6d0",
   "metadata": {},
   "source": [
    "### Create, update, and delete deployments"
   ]
  },
  {
   "cell_type": "code",
   "execution_count": null,
   "id": "dd181cd1",
   "metadata": {},
   "outputs": [],
   "source": [
    "# Create a deployment\n",
    "config = {\n",
    "    \"id\": \"deploymeny-from-sdk-zxy\",\n",
    "    \"name\": \"deploymeny-from-sdk\",\n",
    "    \"modelImage\": \"base-notebook\",\n",
    "    \"modelURI\": \"test/module/uri\",\n",
    "    \"instanceType\": \"cpu-1\",\n",
    "    \"replicas\": 1\n",
    "}\n",
    "\n",
    "deployment = ph.deployments.create(config)\n",
    "print(deployment)"
   ]
  },
  {
   "cell_type": "code",
   "execution_count": null,
   "id": "56393318",
   "metadata": {},
   "outputs": [],
   "source": [
    "# Update the deployment\n",
    "update_config = {\n",
    "    \"replicas\": 2\n",
    "}\n",
    "\n",
    "ph.deployments.update(deployment['id'], update_config)"
   ]
  },
  {
   "cell_type": "code",
   "execution_count": null,
   "id": "eb9a0491",
   "metadata": {},
   "outputs": [],
   "source": [
    "# Delete a deployment\n",
    "ph.deployments.delete(deployment['id'])"
   ]
  },
  {
   "cell_type": "markdown",
   "id": "e1661ab4",
   "metadata": {},
   "source": [
    "### Start, stop, and wait deployments"
   ]
  },
  {
   "cell_type": "code",
   "execution_count": null,
   "id": "f133b3c4",
   "metadata": {},
   "outputs": [],
   "source": [
    "# Start a deployment\n",
    "ph.deployments.start('<deployment_id>')"
   ]
  },
  {
   "cell_type": "code",
   "execution_count": null,
   "id": "a0133e57",
   "metadata": {},
   "outputs": [],
   "source": [
    "# Stop a deployment\n",
    "ph.deployments.stop('<deployment_id>')"
   ]
  },
  {
   "cell_type": "code",
   "execution_count": null,
   "id": "843cde39",
   "metadata": {},
   "outputs": [],
   "source": [
    "# Wait a deployment\n",
    "# If it's deploying, wait until deployed.\n",
    "# If it's stopping, wait until stopped.\n",
    "ph.deployments.wait('<deployment_id>')"
   ]
  },
  {
   "cell_type": "code",
   "execution_count": null,
   "id": "b116d3f2",
   "metadata": {},
   "outputs": [],
   "source": [
    "# Wait with timeout\n",
    "ph.deployments.wait('<deployment_id>', timeout=1)"
   ]
  },
  {
   "cell_type": "markdown",
   "id": "a294ac50",
   "metadata": {},
   "source": [
    "### Get deployment logs"
   ]
  },
  {
   "cell_type": "code",
   "execution_count": null,
   "id": "2be80bcb",
   "metadata": {},
   "outputs": [],
   "source": [
    "# Get the deployment logs\n",
    "logs = ph.deployments.logs('<deployment_id>')\n",
    "print('[ Deployment Logs ]')\n",
    "for l in logs:\n",
    "    print(l)"
   ]
  },
  {
   "cell_type": "code",
   "execution_count": null,
   "id": "6cd5b889",
   "metadata": {},
   "outputs": [],
   "source": [
    "# Get the deployment logs with tail length (default is 10)\n",
    "logs = ph.deployments.logs('<deployment_id>', tail=20)\n",
    "print('[ Deployment Logs ]')\n",
    "for l in logs:\n",
    "    print(l)"
   ]
  },
  {
   "cell_type": "code",
   "execution_count": null,
   "id": "90ac98a5",
   "metadata": {},
   "outputs": [],
   "source": [
    "# Get the deployment logs in stream mode\n",
    "logs = ph.deployments.logs('<deployment_id>', follow=True)\n",
    "print('[ Deployment Logs ]')\n",
    "for l in logs:\n",
    "    print(l)"
   ]
  }
 ],
 "metadata": {
  "kernelspec": {
   "display_name": "Python 3 (ipykernel)",
   "language": "python",
   "name": "python3"
  },
  "language_info": {
   "codemirror_mode": {
    "name": "ipython",
    "version": 3
   },
   "file_extension": ".py",
   "mimetype": "text/x-python",
   "name": "python",
   "nbconvert_exporter": "python",
   "pygments_lexer": "ipython3",
   "version": "3.7.12"
  }
 },
 "nbformat": 4,
 "nbformat_minor": 5
}
