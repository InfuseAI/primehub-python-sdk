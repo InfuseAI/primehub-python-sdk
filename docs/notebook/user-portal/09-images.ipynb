{
 "cells": [
  {
   "cell_type": "markdown",
   "id": "4e5ec511",
   "metadata": {},
   "source": [
    "# Images command\n",
    "\n",
    "\n",
    "The `images` command is one of the group resources command, so it needs to use with a current group.\n"
   ]
  },
  {
   "cell_type": "markdown",
   "id": "c4d616d4",
   "metadata": {},
   "source": [
    "## Setup PrimeHub Python SDK\n"
   ]
  },
  {
   "cell_type": "code",
   "execution_count": null,
   "id": "ab45708f",
   "metadata": {},
   "outputs": [],
   "source": [
    "from primehub import PrimeHub, PrimeHubConfig\n",
    "ph = PrimeHub(PrimeHubConfig())\n",
    "\n",
    "if ph.is_ready():\n",
    "    print(\"PrimeHub Python SDK setup successfully\")\n",
    "else:\n",
    "    print(\"PrimeHub Python SDK couldn't get the group information, follow the 00-getting-started.ipynb to complete it\")"
   ]
  },
  {
   "cell_type": "markdown",
   "id": "140cbcbb",
   "metadata": {},
   "source": [
    "## Help documentation"
   ]
  },
  {
   "cell_type": "code",
   "execution_count": null,
   "id": "79ff8f59",
   "metadata": {},
   "outputs": [],
   "source": [
    "help(ph.images)"
   ]
  },
  {
   "cell_type": "markdown",
   "id": "89eda888",
   "metadata": {},
   "source": [
    "## Examples"
   ]
  },
  {
   "cell_type": "code",
   "execution_count": null,
   "id": "55346ee8",
   "metadata": {},
   "outputs": [],
   "source": [
    "# List images\n",
    "ph.images.list()"
   ]
  },
  {
   "cell_type": "code",
   "execution_count": null,
   "id": "6e661f85",
   "metadata": {},
   "outputs": [],
   "source": [
    "import pandas as pd\n",
    "pd.DataFrame(ph.images.list())"
   ]
  },
  {
   "cell_type": "code",
   "execution_count": null,
   "id": "1e85a889",
   "metadata": {},
   "outputs": [],
   "source": [
    "# Get an image\n",
    "ph.images.get('tf-2')"
   ]
  }
 ],
 "metadata": {
  "kernelspec": {
   "display_name": "Python 3 (ipykernel)",
   "language": "python",
   "name": "python3"
  },
  "language_info": {
   "codemirror_mode": {
    "name": "ipython",
    "version": 3
   },
   "file_extension": ".py",
   "mimetype": "text/x-python",
   "name": "python",
   "nbconvert_exporter": "python",
   "pygments_lexer": "ipython3",
   "version": "3.7.12"
  }
 },
 "nbformat": 4,
 "nbformat_minor": 5
}
