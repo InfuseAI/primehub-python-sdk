{
 "cells": [
  {
   "cell_type": "markdown",
   "id": "642b70c5",
   "metadata": {},
   "source": [
    "# Groups command\n",
    "\n",
    "### Introduction\n",
    "\n",
    "Groups command can show the available groups for your account.\n"
   ]
  },
  {
   "cell_type": "markdown",
   "id": "1b2805e2",
   "metadata": {},
   "source": [
    "## Setup PrimeHub Python SDK\n"
   ]
  },
  {
   "cell_type": "code",
   "execution_count": null,
   "id": "3d0faae9",
   "metadata": {},
   "outputs": [],
   "source": [
    "from primehub import PrimeHub, PrimeHubConfig\n",
    "ph = PrimeHub(PrimeHubConfig())\n",
    "\n",
    "if ph.is_ready():\n",
    "    print(\"PrimeHub Python SDK setup successfully\")\n",
    "else:\n",
    "    print(\"PrimeHub Python SDK couldn't get the group information, follow the 00-getting-started.ipynb to complete it\")"
   ]
  },
  {
   "cell_type": "markdown",
   "id": "66831901",
   "metadata": {},
   "source": [
    "## Help documentation"
   ]
  },
  {
   "cell_type": "code",
   "execution_count": null,
   "id": "cca09429",
   "metadata": {},
   "outputs": [],
   "source": [
    "help(ph.groups)"
   ]
  },
  {
   "cell_type": "markdown",
   "id": "53b4e32f",
   "metadata": {},
   "source": [
    "## Examples"
   ]
  },
  {
   "cell_type": "markdown",
   "id": "a86d1bcf",
   "metadata": {},
   "source": [
    "### Group Information"
   ]
  },
  {
   "cell_type": "markdown",
   "id": "81ba2c23",
   "metadata": {},
   "source": [
    "#### Get Group Information"
   ]
  },
  {
   "cell_type": "code",
   "execution_count": null,
   "id": "6e1721bf",
   "metadata": {},
   "outputs": [],
   "source": [
    "# Get a group\n",
    "group_info = ph.groups.get(ph.me.group_name)\n",
    "group_info"
   ]
  },
  {
   "cell_type": "markdown",
   "id": "7b427a51",
   "metadata": {},
   "source": [
    "#### List Group Information"
   ]
  },
  {
   "cell_type": "code",
   "execution_count": null,
   "id": "7de8f8fe",
   "metadata": {},
   "outputs": [],
   "source": [
    "import pandas as pd\n",
    "user_df = pd.DataFrame(ph.admin.users.list())\n",
    "user_df.head()"
   ]
  },
  {
   "cell_type": "markdown",
   "id": "b61ce606",
   "metadata": {},
   "source": [
    "### Group Member Setting"
   ]
  },
  {
   "cell_type": "markdown",
   "id": "8be8a90b",
   "metadata": {},
   "source": [
    "#### Filter the specific user"
   ]
  },
  {
   "cell_type": "code",
   "execution_count": null,
   "id": "d220d0dc",
   "metadata": {},
   "outputs": [],
   "source": [
    "# Need to change the specific username.\n",
    "USERNAME = \"<username>\""
   ]
  },
  {
   "cell_type": "code",
   "execution_count": null,
   "id": "78af6ca4",
   "metadata": {},
   "outputs": [],
   "source": [
    "import pandas as pd\n",
    "user_df = pd.DataFrame(ph.admin.users.list())\n",
    "user_df[user_df['username'] == USERNAME]"
   ]
  },
  {
   "cell_type": "markdown",
   "id": "741fcd83",
   "metadata": {},
   "source": [
    "#### Get User id"
   ]
  },
  {
   "cell_type": "code",
   "execution_count": null,
   "id": "4686f979",
   "metadata": {},
   "outputs": [],
   "source": [
    "user_id = list(user_df[user_df['username']==USERNAME][\"id\"])[0]\n",
    "user_id"
   ]
  },
  {
   "cell_type": "markdown",
   "id": "ffc782e3",
   "metadata": {},
   "source": [
    "#### Add user into group"
   ]
  },
  {
   "cell_type": "code",
   "execution_count": null,
   "id": "8a1eb4a5",
   "metadata": {},
   "outputs": [],
   "source": [
    "ph.groups.add_user(group_info['id'], user_id)"
   ]
  },
  {
   "cell_type": "markdown",
   "id": "cb3d8527",
   "metadata": {},
   "source": [
    "#### List the group member"
   ]
  },
  {
   "cell_type": "code",
   "execution_count": null,
   "id": "4bba57e6",
   "metadata": {},
   "outputs": [],
   "source": [
    "pd.DataFrame(ph.groups.list_users(group_info['id']))"
   ]
  },
  {
   "cell_type": "markdown",
   "id": "f0880791",
   "metadata": {},
   "source": [
    "#### Remove the user from the group"
   ]
  },
  {
   "cell_type": "code",
   "execution_count": null,
   "id": "228c667f",
   "metadata": {},
   "outputs": [],
   "source": [
    "ph.groups.remove_user(group_info['id'], user_id)"
   ]
  },
  {
   "cell_type": "code",
   "execution_count": null,
   "id": "62ac6c04",
   "metadata": {},
   "outputs": [],
   "source": [
    "pd.DataFrame(ph.groups.list_users(group_info['id']))"
   ]
  },
  {
   "cell_type": "markdown",
   "id": "df80d5d7",
   "metadata": {},
   "source": [
    "### MLFlow Setting"
   ]
  },
  {
   "cell_type": "code",
   "execution_count": null,
   "id": "140218a8",
   "metadata": {},
   "outputs": [],
   "source": [
    "mlflow_config = {\n",
    "  \"tracking_uri\": <mlflow_tracking_uri>,\n",
    "  \"ui_uri\": <mlflow_ui_uri>\n",
    "}"
   ]
  },
  {
   "cell_type": "markdown",
   "id": "1a5285a3",
   "metadata": {},
   "source": [
    "#### Set the mlflow configuration"
   ]
  },
  {
   "cell_type": "code",
   "execution_count": null,
   "id": "47040891",
   "metadata": {},
   "outputs": [],
   "source": [
    "ph.groups.set_mlflow(group_info['id'], mlflow_config)"
   ]
  },
  {
   "cell_type": "markdown",
   "id": "66c5d876",
   "metadata": {},
   "source": [
    "#### Get the mlflow configuration"
   ]
  },
  {
   "cell_type": "code",
   "execution_count": null,
   "id": "f49118e2",
   "metadata": {},
   "outputs": [],
   "source": [
    "ph.groups.get_mlflow(group_info['id'])"
   ]
  },
  {
   "cell_type": "markdown",
   "id": "65315150",
   "metadata": {},
   "source": [
    "#### Unset the mlflow configuration"
   ]
  },
  {
   "cell_type": "code",
   "execution_count": null,
   "id": "e1065639",
   "metadata": {},
   "outputs": [],
   "source": [
    "ph.groups.unset_mlflow(group_info['id'])"
   ]
  }
 ],
 "metadata": {
  "kernelspec": {
   "display_name": "Python 3 (ipykernel)",
   "language": "python",
   "name": "python3"
  },
  "language_info": {
   "codemirror_mode": {
    "name": "ipython",
    "version": 3
   },
   "file_extension": ".py",
   "mimetype": "text/x-python",
   "name": "python",
   "nbconvert_exporter": "python",
   "pygments_lexer": "ipython3",
   "version": "3.7.12"
  }
 },
 "nbformat": 4,
 "nbformat_minor": 5
}
