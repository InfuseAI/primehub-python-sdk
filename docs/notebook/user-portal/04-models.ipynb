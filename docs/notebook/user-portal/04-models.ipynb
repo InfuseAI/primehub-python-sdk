{
 "cells": [
  {
   "cell_type": "markdown",
   "id": "9c8e2ef1",
   "metadata": {},
   "source": [
    "# Models command\n",
    "\n",
    "### Introduction\n",
    "\n",
    "The `models` command can manage models in the current group.\n",
    "\n",
    "\n",
    "* deploy: Deploy the model version to the speific deployment\n",
    "* get: Get the model\n",
    "* get-version: Get a version of the model\n",
    "* list: List models\n",
    "* list-versions: List versions of the model"
   ]
  },
  {
   "cell_type": "markdown",
   "id": "06bfb770",
   "metadata": {},
   "source": [
    "## Setup PrimeHub Python SDK\n"
   ]
  },
  {
   "cell_type": "code",
   "execution_count": null,
   "id": "141a5d41",
   "metadata": {},
   "outputs": [],
   "source": [
    "from primehub import PrimeHub, PrimeHubConfig\n",
    "ph = PrimeHub(PrimeHubConfig())\n",
    "\n",
    "if ph.is_ready():\n",
    "    print(\"PrimeHub Python SDK setup successfully\")\n",
    "else:\n",
    "    print(\"PrimeHub Python SDK couldn't get the group information, follow the 00-getting-started.ipynb to complete it\")"
   ]
  },
  {
   "cell_type": "markdown",
   "id": "8f921b8d",
   "metadata": {},
   "source": [
    "## Help documentation"
   ]
  },
  {
   "cell_type": "code",
   "execution_count": null,
   "id": "13e7149a",
   "metadata": {},
   "outputs": [],
   "source": [
    "help(ph.models)"
   ]
  },
  {
   "cell_type": "markdown",
   "id": "8329e793",
   "metadata": {},
   "source": [
    "## Examples"
   ]
  },
  {
   "cell_type": "code",
   "execution_count": null,
   "id": "ee8fb3f4",
   "metadata": {},
   "outputs": [],
   "source": [
    "import pandas as pd"
   ]
  },
  {
   "cell_type": "code",
   "execution_count": null,
   "id": "bc0fa5e3",
   "metadata": {},
   "outputs": [],
   "source": [
    "# Please change the mlflow experence name\n",
    "MLFLOW_EXPERIENCE_NAME = '<mlflow-experience-name>'"
   ]
  },
  {
   "cell_type": "code",
   "execution_count": null,
   "id": "b63eb412",
   "metadata": {},
   "outputs": [],
   "source": [
    "# Please change the register model name\n",
    "REGISTER_MODEL_NAME = '<register-model-name>'"
   ]
  },
  {
   "cell_type": "code",
   "execution_count": null,
   "id": "895c0fed",
   "metadata": {},
   "outputs": [],
   "source": [
    "# Please change the register model folder name\n",
    "REGISTER_MODEL_FOLDER = '<register-model-folder>'"
   ]
  },
  {
   "cell_type": "code",
   "execution_count": null,
   "id": "2b2f098a",
   "metadata": {},
   "outputs": [],
   "source": [
    "# Please change the register version tag\n",
    "VERSION_TAG = '1'"
   ]
  },
  {
   "cell_type": "code",
   "execution_count": null,
   "id": "24ebfdb6",
   "metadata": {},
   "outputs": [],
   "source": [
    "# Please change the Primehub deployment id for model deploy\n",
    "DEPLOYMENT_ID = '<deployment-id>'"
   ]
  },
  {
   "cell_type": "markdown",
   "id": "289cea8b",
   "metadata": {},
   "source": [
    "### List MLFlow Experiments runs"
   ]
  },
  {
   "cell_type": "code",
   "execution_count": null,
   "id": "0afc7694",
   "metadata": {},
   "outputs": [],
   "source": [
    "list_runs = ph.models.list_runs(MLFLOW_EXPERIENCE_NAME)\n",
    "\n",
    "df = pd.DataFrame(list_runs)\n",
    "df.head()"
   ]
  },
  {
   "cell_type": "markdown",
   "id": "8c8a9c24",
   "metadata": {},
   "source": [
    "### List artifacts by run id"
   ]
  },
  {
   "cell_type": "code",
   "execution_count": null,
   "id": "7d7bfa33",
   "metadata": {},
   "outputs": [],
   "source": [
    "# Note: df['runId'][0] means the latest run id.\n",
    "latest_run_id = df['runId'][0]"
   ]
  },
  {
   "cell_type": "code",
   "execution_count": null,
   "id": "31b3b5e3",
   "metadata": {},
   "outputs": [],
   "source": [
    "df_artifacts = pd.DataFrame(ph.models.list_artifacts(latest_run_id))\n",
    "df_artifacts"
   ]
  },
  {
   "cell_type": "code",
   "execution_count": null,
   "id": "56914969",
   "metadata": {},
   "outputs": [],
   "source": [
    "df_artifacts = pd.DataFrame(ph.models.list_artifacts(latest_run_id, path=REGISTER_MODEL_FOLDER))\n",
    "df_artifacts"
   ]
  },
  {
   "cell_type": "markdown",
   "id": "d627e4a7",
   "metadata": {},
   "source": [
    "### Register model\n",
    "\n"
   ]
  },
  {
   "cell_type": "code",
   "execution_count": null,
   "id": "10bbfa14",
   "metadata": {},
   "outputs": [],
   "source": [
    "ph.models.register(REGISTER_MODEL_NAME, latest_run_id, REGISTER_MODEL_FOLDER)"
   ]
  },
  {
   "cell_type": "markdown",
   "id": "a5847dbd",
   "metadata": {},
   "source": [
    "### List the created model"
   ]
  },
  {
   "cell_type": "code",
   "execution_count": null,
   "id": "bc53ca01",
   "metadata": {},
   "outputs": [],
   "source": [
    "# List all models\n",
    "models = ph.models.list()\n",
    "pd.DataFrame(models)"
   ]
  },
  {
   "cell_type": "code",
   "execution_count": 18,
   "id": "3d46ac6b",
   "metadata": {},
   "outputs": [
    {
     "data": {
      "text/html": [
       "<div>\n",
       "<style scoped>\n",
       "    .dataframe tbody tr th:only-of-type {\n",
       "        vertical-align: middle;\n",
       "    }\n",
       "\n",
       "    .dataframe tbody tr th {\n",
       "        vertical-align: top;\n",
       "    }\n",
       "\n",
       "    .dataframe thead th {\n",
       "        text-align: right;\n",
       "    }\n",
       "</style>\n",
       "<table border=\"1\" class=\"dataframe\">\n",
       "  <thead>\n",
       "    <tr style=\"text-align: right;\">\n",
       "      <th></th>\n",
       "      <th>name</th>\n",
       "      <th>version</th>\n",
       "      <th>creationTimestamp</th>\n",
       "      <th>lastUpdatedTimestamp</th>\n",
       "      <th>source</th>\n",
       "      <th>deployedBy</th>\n",
       "    </tr>\n",
       "  </thead>\n",
       "  <tbody>\n",
       "    <tr>\n",
       "      <th>0</th>\n",
       "      <td>screw-detection-model</td>\n",
       "      <td>1</td>\n",
       "      <td>2023-03-30 10:41:55</td>\n",
       "      <td>2023-03-30 10:41:55</td>\n",
       "      <td>/project/infuseai/phapplications/mlflow-4jjdy/...</td>\n",
       "      <td>[]</td>\n",
       "    </tr>\n",
       "  </tbody>\n",
       "</table>\n",
       "</div>"
      ],
      "text/plain": [
       "                    name version   creationTimestamp lastUpdatedTimestamp  \\\n",
       "0  screw-detection-model       1 2023-03-30 10:41:55  2023-03-30 10:41:55   \n",
       "\n",
       "                                              source deployedBy  \n",
       "0  /project/infuseai/phapplications/mlflow-4jjdy/...         []  "
      ]
     },
     "execution_count": 18,
     "metadata": {},
     "output_type": "execute_result"
    }
   ],
   "source": [
    "# List model version content\n",
    "pd.DataFrame(ph.models.list_versions(REGISTER_MODEL_NAME))"
   ]
  },
  {
   "cell_type": "code",
   "execution_count": null,
   "id": "ce9951a8",
   "metadata": {},
   "outputs": [],
   "source": [
    "ph.models.get_version(REGISTER_MODEL_NAME, VERSION_TAG)"
   ]
  },
  {
   "cell_type": "markdown",
   "id": "45f22a98",
   "metadata": {},
   "source": [
    "### Get detail information of models"
   ]
  },
  {
   "cell_type": "code",
   "execution_count": null,
   "id": "6388445e",
   "metadata": {},
   "outputs": [],
   "source": [
    "# Get detail information by model name\n",
    "ph.models.get(REGISTER_MODEL_NAME)"
   ]
  },
  {
   "cell_type": "markdown",
   "id": "4a809989",
   "metadata": {},
   "source": [
    "### Deploy a model to existing deployments"
   ]
  },
  {
   "cell_type": "code",
   "execution_count": null,
   "id": "1609d47d",
   "metadata": {},
   "outputs": [],
   "source": [
    "# Deploy the model with specific version \n",
    "ph.models.deploy(REGISTER_MODEL_NAME, VERSION_TAG, DEPLOYMENT_ID)"
   ]
  }
 ],
 "metadata": {
  "kernelspec": {
   "display_name": "Python 3 (ipykernel)",
   "language": "python",
   "name": "python3"
  },
  "language_info": {
   "codemirror_mode": {
    "name": "ipython",
    "version": 3
   },
   "file_extension": ".py",
   "mimetype": "text/x-python",
   "name": "python",
   "nbconvert_exporter": "python",
   "pygments_lexer": "ipython3",
   "version": "3.7.12"
  }
 },
 "nbformat": 4,
 "nbformat_minor": 5
}
