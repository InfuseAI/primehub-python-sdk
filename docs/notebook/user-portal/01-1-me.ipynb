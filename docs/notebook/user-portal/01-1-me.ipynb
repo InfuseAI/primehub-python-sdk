{
 "cells": [
  {
   "cell_type": "markdown",
   "id": "45440ca7",
   "metadata": {},
   "source": [
    "# Me command\n",
    "\n",
    "### Introduction\n",
    "\n",
    "Using `me` command to show the account information.\n"
   ]
  },
  {
   "cell_type": "markdown",
   "id": "64b99d2a",
   "metadata": {},
   "source": [
    "## Setup PrimeHub Python SDK\n"
   ]
  },
  {
   "cell_type": "code",
   "execution_count": null,
   "id": "a29399d6",
   "metadata": {},
   "outputs": [],
   "source": [
    "from primehub import PrimeHub, PrimeHubConfig\n",
    "ph = PrimeHub(PrimeHubConfig())\n",
    "\n",
    "if ph.is_ready():\n",
    "    print(\"PrimeHub Python SDK setup successfully\")\n",
    "else:\n",
    "    print(\"PrimeHub Python SDK couldn't get the group information, follow the 00-getting-started.ipynb to complete it\")"
   ]
  },
  {
   "cell_type": "markdown",
   "id": "b6b74c23",
   "metadata": {},
   "source": [
    "## Help documentation"
   ]
  },
  {
   "cell_type": "code",
   "execution_count": null,
   "id": "1bd0de79",
   "metadata": {},
   "outputs": [],
   "source": [
    "help(ph.me)"
   ]
  },
  {
   "cell_type": "markdown",
   "id": "24ba4c10",
   "metadata": {},
   "source": [
    "## Examples"
   ]
  },
  {
   "cell_type": "code",
   "execution_count": null,
   "id": "540919ce",
   "metadata": {},
   "outputs": [],
   "source": [
    "# Show PrimeHub account information\n",
    "ph.me.me()"
   ]
  },
  {
   "cell_type": "code",
   "execution_count": null,
   "id": "5d3ae0f4",
   "metadata": {},
   "outputs": [],
   "source": [
    "# Show PrimeHub current group\n",
    "ph.me.current_group"
   ]
  },
  {
   "cell_type": "code",
   "execution_count": null,
   "id": "159361c1",
   "metadata": {},
   "outputs": [],
   "source": [
    "# Show PrimeHub endpoint\n",
    "ph.me.endpoint"
   ]
  },
  {
   "cell_type": "code",
   "execution_count": null,
   "id": "c85d4531",
   "metadata": {},
   "outputs": [],
   "source": [
    "# Show PrimeHub group id\n",
    "ph.me.group_id"
   ]
  },
  {
   "cell_type": "code",
   "execution_count": null,
   "id": "b97cb152",
   "metadata": {},
   "outputs": [],
   "source": [
    "# Show Primehub\n",
    "ph.me.group_name"
   ]
  }
 ],
 "metadata": {
  "kernelspec": {
   "display_name": "Python 3 (ipykernel)",
   "language": "python",
   "name": "python3"
  },
  "language_info": {
   "codemirror_mode": {
    "name": "ipython",
    "version": 3
   },
   "file_extension": ".py",
   "mimetype": "text/x-python",
   "name": "python",
   "nbconvert_exporter": "python",
   "pygments_lexer": "ipython3",
   "version": "3.7.12"
  }
 },
 "nbformat": 4,
 "nbformat_minor": 5
}
