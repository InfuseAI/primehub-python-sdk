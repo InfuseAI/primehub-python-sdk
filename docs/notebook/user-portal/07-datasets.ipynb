{
 "cells": [
  {
   "cell_type": "markdown",
   "id": "c7f78123",
   "metadata": {},
   "source": [
    "# PrimeHub Datasets\n",
    "\n",
    "On PrimeHub, we could manipulate datasets and corresponding files.\n",
    "\n",
    "The `datasets` command could help you deal with these."
   ]
  },
  {
   "cell_type": "markdown",
   "id": "e50096c8",
   "metadata": {},
   "source": [
    "## Setup PrimeHub Python SDK\n"
   ]
  },
  {
   "cell_type": "code",
   "execution_count": null,
   "id": "cdf4e091",
   "metadata": {},
   "outputs": [],
   "source": [
    "from primehub import PrimeHub, PrimeHubConfig\n",
    "ph = PrimeHub(PrimeHubConfig())\n",
    "\n",
    "if ph.is_ready():\n",
    "    print(\"PrimeHub Python SDK setup successfully\")\n",
    "else:\n",
    "    print(\"PrimeHub Python SDK couldn't get the group information, follow the 00-getting-started.ipynb to complete it\")"
   ]
  },
  {
   "cell_type": "markdown",
   "id": "9131bc63",
   "metadata": {},
   "source": [
    "## Help documentation"
   ]
  },
  {
   "cell_type": "code",
   "execution_count": null,
   "id": "e8a4beb6",
   "metadata": {},
   "outputs": [],
   "source": [
    "help(ph.datasets)"
   ]
  },
  {
   "cell_type": "markdown",
   "id": "39ad3dcb",
   "metadata": {},
   "source": [
    "## Datasets management\n",
    "\n",
    "---\n",
    "\n",
    "```\n",
    "Usage:\n",
    "  primehub datasets <command>\n",
    "\n",
    "Manage datasets\n",
    "\n",
    "Available Commands:\n",
    "  create               Create a datasets\n",
    "  delete               Delete the dataset\n",
    "  files-delete         delete files from the dataset\n",
    "  files-download       download files from the dataset\n",
    "  files-list           lists files of the dataset\n",
    "  files-upload         upload files to the dataset\n",
    "  get                  Get the dataset\n",
    "  list                 List datasets\n",
    "  update               Update a dataset\n",
    "\n",
    "Options:\n",
    "  -h, --help           Show the help\n",
    "\n",
    "Global Options:\n",
    "  --config CONFIG      Change the path of the config file (Default: ~/.primehub/config.json)\n",
    "  --endpoint ENDPOINT  Override the GraphQL API endpoint\n",
    "  --token TOKEN        Override the API Token\n",
    "  --group GROUP        Override the current group\n",
    "  --json               Output the json format (output human-friendly format by default)\n",
    "```\n",
    "\n",
    "---\n",
    "\n",
    "### Fields for creating or updating\n",
    "\n",
    "| field | required | type | description |\n",
    "| --- | --- | --- | --- |\n",
    "| id | required | string | the name of the dataset |\n",
    "| tags | optional | object | dataset's tags |\n",
    "\n",
    "*`tags` is a JSON array, e.g., `[\"dataset-tag-1\", \"dataset-tag-2\"]`*"
   ]
  },
  {
   "cell_type": "markdown",
   "id": "baf09118",
   "metadata": {},
   "source": [
    "## Examples"
   ]
  },
  {
   "cell_type": "markdown",
   "id": "10682bb1",
   "metadata": {},
   "source": [
    "### Create a datasets\n",
    "\n",
    "We could create a `test-dataset` dataset with tags `test-dataset-tag` and `training`:"
   ]
  },
  {
   "cell_type": "code",
   "execution_count": null,
   "id": "dbf67072",
   "metadata": {},
   "outputs": [],
   "source": [
    "config = {\n",
    "  \"id\": \"test-dataset\",\n",
    "  \"tags\": [\"test-dataset-tag\", \"training\"]\n",
    "}\n",
    "\n",
    "ph.datasets.create(config)"
   ]
  },
  {
   "cell_type": "markdown",
   "id": "885cd057",
   "metadata": {},
   "source": [
    "### List datasets or get the dataset\n",
    "After created a dataset, you could find it with `list` or `get` command"
   ]
  },
  {
   "cell_type": "code",
   "execution_count": null,
   "id": "b69b625a",
   "metadata": {},
   "outputs": [],
   "source": [
    "# list all datasets\n",
    "datasets = list(ph.datasets.list())\n",
    "n_datasets = len(datasets)\n",
    "print(f'number of dataset: {n_datasets}')\n",
    "\n",
    "# get the dataset by name\n",
    "dataset = ph.datasets.get('test-dataset')\n",
    "print(dataset)"
   ]
  },
  {
   "cell_type": "markdown",
   "id": "24207bae",
   "metadata": {},
   "source": [
    "### Update a dataset\n",
    "\n",
    "We could update a dataset with new tags:"
   ]
  },
  {
   "cell_type": "code",
   "execution_count": null,
   "id": "16d02076",
   "metadata": {},
   "outputs": [],
   "source": [
    "config = {\n",
    "    \"tags\": [\"deprecated\"]\n",
    "}\n",
    "dataset = ph.datasets.update(dataset['name'], config)\n",
    "print(dataset)"
   ]
  },
  {
   "cell_type": "markdown",
   "id": "2dc043a3",
   "metadata": {},
   "source": [
    "### Upload files to the dataset with given path\n",
    "\n",
    "To upload a file or a directory to the dataset, `files-upload` command can help with it.\n",
    "\n",
    "*Note: indicate `recursive` options when upload directory*"
   ]
  },
  {
   "cell_type": "code",
   "execution_count": null,
   "id": "58491dd4",
   "metadata": {},
   "outputs": [],
   "source": [
    "# upload a folder to the dataset\n",
    "!mkdir -p test-dir\n",
    "!touch test-dir/a.out\n",
    "ph.datasets.files_upload('test-dataset', 'test-dir', '/', recursive=True)\n",
    "\n",
    "# upload a file to the dataset\n",
    "!touch test.txt\n",
    "!echo \"Test for Python SDK\" > test.txt\n",
    "ph.datasets.files_upload('test-dataset', 'test.txt', '/test-dir')"
   ]
  },
  {
   "cell_type": "markdown",
   "id": "5c69be13",
   "metadata": {},
   "source": [
    "### List files of the dataset with given path\n",
    "We could use `files-list` to watch files of the dataset.\n",
    "\n",
    "`files-list` requires a `path` parameter, and it always starts with the name of the dataset:"
   ]
  },
  {
   "cell_type": "code",
   "execution_count": null,
   "id": "5b8a5218",
   "metadata": {},
   "outputs": [],
   "source": [
    "files = ph.datasets.files_list('test-dataset', '')\n",
    "print(files)\n",
    "\n",
    "# sub-directory\n",
    "files = ph.datasets.files_list('test-dataset', '/test-dir')\n",
    "print(files)"
   ]
  },
  {
   "cell_type": "markdown",
   "id": "d45b277e",
   "metadata": {},
   "source": [
    "### Download files from the dataset with given path\n",
    "`files-download` can help with downloading a file or a directory from the dataset."
   ]
  },
  {
   "cell_type": "code",
   "execution_count": null,
   "id": "1f15041b",
   "metadata": {},
   "outputs": [],
   "source": [
    "ph.datasets.files_download('test-dataset', '/', './local-dir', recursive=True)\n",
    "!tree local-dir"
   ]
  },
  {
   "cell_type": "markdown",
   "id": "65d6e4ad",
   "metadata": {},
   "source": [
    "### Delete a single file or a specific directory from the dataset with given path\n",
    "We could delete a single file of the dataset or delete a specific directory of the dataset by `files-delete`.\n"
   ]
  },
  {
   "cell_type": "code",
   "execution_count": null,
   "id": "d2708df0",
   "metadata": {},
   "outputs": [],
   "source": [
    "# delete a file\n",
    "ph.datasets.files_delete('test-dataset', '/test-dir/test.txt')\n",
    "files = ph.datasets.files_list('test-dataset', '/test-dir')\n",
    "print(files)\n",
    "\n",
    "# delete a directory\n",
    "ph.datasets.files_delete('test-dataset', '/test-dir', recursive=True)\n",
    "\n",
    "files = ph.datasets.files_list('test-dataset', '/')\n",
    "print(files)    # empty"
   ]
  },
  {
   "cell_type": "markdown",
   "id": "46d97c8a",
   "metadata": {},
   "source": [
    "### Delete a dataset\n",
    "\n",
    "With `delete`, we could delete the whole dataset with its files."
   ]
  },
  {
   "cell_type": "code",
   "execution_count": null,
   "id": "7bf6ec07",
   "metadata": {},
   "outputs": [],
   "source": [
    "result = ph.datasets.delete(dataset['name'])\n",
    "print(result)"
   ]
  }
 ],
 "metadata": {
  "kernelspec": {
   "display_name": "Python 3 (ipykernel)",
   "language": "python",
   "name": "python3"
  },
  "language_info": {
   "codemirror_mode": {
    "name": "ipython",
    "version": 3
   },
   "file_extension": ".py",
   "mimetype": "text/x-python",
   "name": "python",
   "nbconvert_exporter": "python",
   "pygments_lexer": "ipython3",
   "version": "3.7.12"
  }
 },
 "nbformat": 4,
 "nbformat_minor": 5
}
