{
 "cells": [
  {
   "cell_type": "markdown",
   "id": "01d701c2",
   "metadata": {},
   "source": [
    "# Apps command\n",
    "\n",
    "### Introduction\n",
    "\n",
    "The `apps` command can manage PrimeHub applications in the current group.\n",
    "\n",
    "* create: Install an application\n",
    "* delete: Stop the PrimeHub Application\n",
    "* get: Get the PrimeHub Application\n",
    "* list: List PrimeHub Applications\n",
    "* logs: Get logs of the PrimeHub Application by id\n",
    "* start: Start the PrimeHub Application\n",
    "* stop: Stop the PrimeHub Application"
   ]
  },
  {
   "cell_type": "markdown",
   "id": "4e53afd5",
   "metadata": {},
   "source": [
    "## Setup PrimeHub Python SDK\n"
   ]
  },
  {
   "cell_type": "code",
   "execution_count": null,
   "id": "3c26a109",
   "metadata": {},
   "outputs": [],
   "source": [
    "from primehub import PrimeHub, PrimeHubConfig\n",
    "ph = PrimeHub(PrimeHubConfig())\n",
    "\n",
    "if ph.is_ready():\n",
    "    print(\"PrimeHub Python SDK setup successfully\")\n",
    "else:\n",
    "    print(\"PrimeHub Python SDK couldn't get the group information, follow the 00-getting-started.ipynb to complete it\")"
   ]
  },
  {
   "cell_type": "markdown",
   "id": "2df0b154",
   "metadata": {},
   "source": [
    "## Help documentation"
   ]
  },
  {
   "cell_type": "code",
   "execution_count": null,
   "id": "387cd023",
   "metadata": {},
   "outputs": [],
   "source": [
    "help(ph.apps)"
   ]
  },
  {
   "cell_type": "markdown",
   "id": "d1f12e60",
   "metadata": {},
   "source": [
    "## Examples\n",
    "\n",
    "\n",
    "### Fields for creating or updating\n",
    "\n",
    "| field | required | type | description |\n",
    "| --- | --- | --- | --- |\n",
    "| templateId | required | string | The id of a PhAppTemplate *only used with creating*|\n",
    "| id | required* | string | The id of a PhApp *only used with creating* |\n",
    "| displayName | required | string |  |\n",
    "| instanceType | required | string |  |\n",
    "| scope | required | string | one of `[public, primehub, group]` |\n",
    "| env | optional | EnvVar[] | a list of EnvVar |\n",
    "\n",
    "#### EnvVar\n",
    "\n",
    "EnvVar is a dict with `name` and `value` with string values:\n",
    "\n",
    "```json\n",
    "{\n",
    "  \"name\": \"my_var\",\n",
    "  \"value\": \"1\"\n",
    "}\n",
    "```\n",
    "\n",
    "### Auto-filling Fields\n",
    "\n",
    "Auto-filling will happen when the inputs omitted fields\n",
    "\n",
    "| field | value | comment |\n",
    "| --- | --- | --- |\n",
    "| id | {templateId}-{random-hex} | Generate a valid PhApp id from the templateId |"
   ]
  },
  {
   "cell_type": "markdown",
   "id": "3c58ab8e",
   "metadata": {},
   "source": [
    "### create: Install an application"
   ]
  },
  {
   "cell_type": "code",
   "execution_count": null,
   "id": "c4464734",
   "metadata": {},
   "outputs": [],
   "source": [
    "# create an application\n",
    "import uuid\n",
    "random_id = uuid.uuid4().hex[:5]\n",
    "\n",
    "config = {\n",
    "  \"templateId\": \"code-server\",\n",
    "  \"id\": f\"code-server-{random_id}\",\n",
    "  \"displayName\": f\"my-code-server-{random_id}\",\n",
    "  \"env\": [\n",
    "    {\n",
    "      \"name\": \"key1\",\n",
    "      \"value\": \"value1\"\n",
    "    }\n",
    "  ],\n",
    "  \"instanceType\": \"cpu-1\",\n",
    "  \"scope\": \"primehub\"\n",
    "}\n",
    "result = ph.apps.create(config)\n",
    "app = result['id']\n",
    "print(result)\n"
   ]
  },
  {
   "cell_type": "markdown",
   "id": "1b2ca98c",
   "metadata": {},
   "source": [
    "### list: List PrimeHub Applications"
   ]
  },
  {
   "cell_type": "code",
   "execution_count": null,
   "id": "4a22b0f9",
   "metadata": {},
   "outputs": [],
   "source": [
    "apps = ph.apps.list()\n",
    "print(f'Number of apps: {len(list(apps))}')"
   ]
  },
  {
   "cell_type": "code",
   "execution_count": null,
   "id": "61a97518",
   "metadata": {},
   "outputs": [],
   "source": [
    "import pandas as pd\n",
    "apps = ph.apps.list()\n",
    "pd.DataFrame(apps)"
   ]
  },
  {
   "cell_type": "markdown",
   "id": "7d9f994c",
   "metadata": {},
   "source": [
    "#### Note: Remove appIcon because the appIcon value is too long.\n"
   ]
  },
  {
   "cell_type": "code",
   "execution_count": null,
   "id": "4ac19bf6",
   "metadata": {},
   "outputs": [],
   "source": [
    "def result_without_icon(result):\n",
    "    if 'appIcon' in result:\n",
    "        result.pop('appIcon')\n",
    "    return result"
   ]
  },
  {
   "cell_type": "markdown",
   "id": "4f86f6d8",
   "metadata": {},
   "source": [
    "### get: Get one PrimeHub Application Information"
   ]
  },
  {
   "cell_type": "code",
   "execution_count": null,
   "id": "872ea6d3",
   "metadata": {},
   "outputs": [],
   "source": [
    "result = ph.apps.get(app)\n",
    "result_without_icon(result)"
   ]
  },
  {
   "cell_type": "markdown",
   "id": "1e7463ab",
   "metadata": {},
   "source": [
    "### update: Update an application"
   ]
  },
  {
   "cell_type": "code",
   "execution_count": null,
   "id": "b60fb125",
   "metadata": {},
   "outputs": [],
   "source": [
    "config = {'scope': 'public'}\n",
    "\n",
    "ph.apps.update(app, config)\n",
    "result = ph.apps.get(app)\n",
    "result_without_icon(result)"
   ]
  },
  {
   "cell_type": "markdown",
   "id": "c0adeda6",
   "metadata": {},
   "source": [
    "### logs: Get logs of the PrimeHub Application by id"
   ]
  },
  {
   "cell_type": "code",
   "execution_count": null,
   "id": "e70f4bea",
   "metadata": {},
   "outputs": [],
   "source": [
    "result_without_icon(ph.apps.logs(app))"
   ]
  },
  {
   "cell_type": "markdown",
   "id": "9460e1c1",
   "metadata": {},
   "source": [
    "### stop: Stop the PrimeHub Application"
   ]
  },
  {
   "cell_type": "code",
   "execution_count": null,
   "id": "370fa3be",
   "metadata": {},
   "outputs": [],
   "source": [
    "# stop the application\n",
    "result_without_icon(ph.apps.stop(app))"
   ]
  },
  {
   "cell_type": "markdown",
   "id": "70211c6f",
   "metadata": {},
   "source": [
    "### start: Start the PrimeHub Application"
   ]
  },
  {
   "cell_type": "code",
   "execution_count": null,
   "id": "599a26ed",
   "metadata": {},
   "outputs": [],
   "source": [
    "# stop the application\n",
    "result_without_icon(ph.apps.start(app))"
   ]
  },
  {
   "cell_type": "markdown",
   "id": "2cc996cc",
   "metadata": {},
   "source": [
    "### delete: Stop the PrimeHub Application"
   ]
  },
  {
   "cell_type": "code",
   "execution_count": null,
   "id": "73bf1eef",
   "metadata": {},
   "outputs": [],
   "source": [
    "# delete the application\n",
    "result_without_icon(ph.apps.delete(app))"
   ]
  }
 ],
 "metadata": {
  "kernelspec": {
   "display_name": "Python 3 (ipykernel)",
   "language": "python",
   "name": "python3"
  },
  "language_info": {
   "codemirror_mode": {
    "name": "ipython",
    "version": 3
   },
   "file_extension": ".py",
   "mimetype": "text/x-python",
   "name": "python",
   "nbconvert_exporter": "python",
   "pygments_lexer": "ipython3",
   "version": "3.7.12"
  }
 },
 "nbformat": 4,
 "nbformat_minor": 5
}
