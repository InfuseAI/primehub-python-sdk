{
 "cells": [
  {
   "cell_type": "markdown",
   "id": "87382334",
   "metadata": {},
   "source": [
    "# Notebooks command\n",
    "\n",
    "### Introduction\n",
    "\n",
    "The `notebooks` command can manage your notebook."
   ]
  },
  {
   "cell_type": "markdown",
   "id": "d7e67662",
   "metadata": {},
   "source": [
    "## Setup PrimeHub Python SDK\n"
   ]
  },
  {
   "cell_type": "code",
   "execution_count": null,
   "id": "fef8aff5",
   "metadata": {},
   "outputs": [],
   "source": [
    "from primehub import PrimeHub, PrimeHubConfig\n",
    "ph = PrimeHub(PrimeHubConfig())\n",
    "\n",
    "if ph.is_ready():\n",
    "    print(\"PrimeHub Python SDK setup successfully\")\n",
    "else:\n",
    "    print(\"PrimeHub Python SDK couldn't get the group information, follow the 00-getting-started.ipynb to complete it\")"
   ]
  },
  {
   "cell_type": "markdown",
   "id": "ae63b2af",
   "metadata": {},
   "source": [
    "## Help documentation"
   ]
  },
  {
   "cell_type": "code",
   "execution_count": null,
   "id": "7c8e9e31",
   "metadata": {},
   "outputs": [],
   "source": [
    "help(ph.notebooks)"
   ]
  },
  {
   "cell_type": "markdown",
   "id": "45f1a0e5",
   "metadata": {},
   "source": [
    "## Examples"
   ]
  },
  {
   "cell_type": "markdown",
   "id": "96a0c2fb",
   "metadata": {},
   "source": [
    "### Get detail information of schedules"
   ]
  },
  {
   "cell_type": "code",
   "execution_count": null,
   "id": "fd9f0a64",
   "metadata": {},
   "outputs": [],
   "source": [
    "# Get logs\n",
    "logs = ph.notebooks.logs()\n",
    "for l in logs:\n",
    "    print(l)"
   ]
  },
  {
   "cell_type": "code",
   "execution_count": null,
   "id": "8fef781f",
   "metadata": {},
   "outputs": [],
   "source": [
    "# Get logs in stream mode\n",
    "logs = ph.notebooks.logs(follow=True)\n",
    "for l in logs:\n",
    "    print(l)"
   ]
  }
 ],
 "metadata": {
  "kernelspec": {
   "display_name": "Python 3",
   "language": "python",
   "name": "python3"
  },
  "language_info": {
   "codemirror_mode": {
    "name": "ipython",
    "version": 3
   },
   "file_extension": ".py",
   "mimetype": "text/x-python",
   "name": "python",
   "nbconvert_exporter": "python",
   "pygments_lexer": "ipython3",
   "version": "3.7.10"
  }
 },
 "nbformat": 4,
 "nbformat_minor": 5
}
