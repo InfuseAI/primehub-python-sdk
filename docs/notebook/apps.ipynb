{
 "cells": [
  {
   "cell_type": "markdown",
   "id": "c21ec6cb",
   "metadata": {},
   "source": [
    "# Apps command\n",
    "\n",
    "### Introduction\n",
    "\n",
    "The `apps` command can manage PrimeHub applications in the current group.\n",
    "\n",
    "* create: Install an application\n",
    "* delete: Stop the PrimeHub Application\n",
    "* get: Get the PrimeHub Application\n",
    "* list: List PrimeHub Applications\n",
    "* logs: Get logs of the PrimeHub Application by id\n",
    "* start: Start the PrimeHub Application\n",
    "* stop: Stop the PrimeHub Application"
   ]
  },
  {
   "cell_type": "markdown",
   "id": "65d28291",
   "metadata": {},
   "source": [
    "## Setup PrimeHub Python SDK\n"
   ]
  },
  {
   "cell_type": "code",
   "execution_count": null,
   "id": "41ab0564",
   "metadata": {},
   "outputs": [],
   "source": [
    "from primehub import PrimeHub, PrimeHubConfig\n",
    "ph = PrimeHub(PrimeHubConfig())\n",
    "\n",
    "if ph.is_ready():\n",
    "    print(\"PrimeHub Python SDK setup successfully\")\n",
    "else:\n",
    "    print(\"PrimeHub Python SDK couldn't get the group information, follow the 00-getting-started.ipynb to complete it\")"
   ]
  },
  {
   "cell_type": "markdown",
   "id": "4495f6db",
   "metadata": {},
   "source": [
    "## Help documentation"
   ]
  },
  {
   "cell_type": "code",
   "execution_count": null,
   "id": "22303d24",
   "metadata": {},
   "outputs": [],
   "source": [
    "help(ph.apps)"
   ]
  },
  {
   "cell_type": "markdown",
   "id": "97735451",
   "metadata": {},
   "source": [
    "## Examples\n",
    "\n",
    "\n",
    "### Fields for creating or updating\n",
    "\n",
    "| field | required | type | description |\n",
    "| --- | --- | --- | --- |\n",
    "| templateId | required | string | The id of a PhAppTemplate *only used with creating*|\n",
    "| id | required* | string | The id of a PhApp *only used with creating* |\n",
    "| displayName | required | string |  |\n",
    "| instanceType | required | string |  |\n",
    "| scope | required | string | one of `[public, primehub, group]` |\n",
    "| env | optional | EnvVar[] | a list of EnvVar |\n",
    "\n",
    "#### EnvVar\n",
    "\n",
    "EnvVar is a dict with `name` and `value` with string values:\n",
    "\n",
    "```json\n",
    "{\n",
    "  \"name\": \"my_var\",\n",
    "  \"value\": \"1\"\n",
    "}\n",
    "```\n",
    "\n",
    "### Auto-filling Fields\n",
    "\n",
    "Auto-filling will happen when the inputs omitted fields\n",
    "\n",
    "| field | value | comment |\n",
    "| --- | --- | --- |\n",
    "| id | {templateId}-{random-hex} | Generate a valid PhApp id from the templateId |"
   ]
  },
  {
   "cell_type": "markdown",
   "id": "4d26b524",
   "metadata": {},
   "source": [
    "### List apps"
   ]
  },
  {
   "cell_type": "code",
   "execution_count": null,
   "id": "22e1502d",
   "metadata": {},
   "outputs": [],
   "source": [
    "apps = ph.apps.list()\n",
    "print(f'Number of apps: {len(list(apps))}')"
   ]
  },
  {
   "cell_type": "markdown",
   "id": "e4dee3c3",
   "metadata": {},
   "source": [
    "### operate an app"
   ]
  },
  {
   "cell_type": "code",
   "execution_count": null,
   "id": "995ab764",
   "metadata": {},
   "outputs": [],
   "source": [
    "# see the configuration example with `create`\n",
    "!primehub apps create"
   ]
  },
  {
   "cell_type": "code",
   "execution_count": null,
   "id": "8930a390",
   "metadata": {},
   "outputs": [],
   "source": [
    "# create an application\n",
    "import uuid\n",
    "random_id = uuid.uuid4().hex[:5]\n",
    "\n",
    "config = {\n",
    "  \"templateId\": \"code-server\",\n",
    "  \"id\": f\"code-server-{random_id}\",\n",
    "  \"displayName\": f\"my-code-server-{random_id}\",\n",
    "  \"env\": [\n",
    "    {\n",
    "      \"name\": \"key1\",\n",
    "      \"value\": \"value1\"\n",
    "    }\n",
    "  ],\n",
    "  \"instanceType\": \"cpu-1\",\n",
    "  \"scope\": \"primehub\"\n",
    "}\n",
    "result = ph.apps.create(config)\n",
    "app = result['id']\n",
    "print(result)\n"
   ]
  },
  {
   "cell_type": "code",
   "execution_count": null,
   "id": "e82e45fa",
   "metadata": {},
   "outputs": [],
   "source": [
    "def result_without_icon(result):\n",
    "    if 'appIcon' in result:\n",
    "        result.pop('appIcon')\n",
    "    return result"
   ]
  },
  {
   "cell_type": "code",
   "execution_count": null,
   "id": "f3b94a7a",
   "metadata": {},
   "outputs": [],
   "source": [
    "# show app icon\n",
    "result = ph.apps.get(app)\n",
    "\n",
    "from IPython import display\n",
    "from base64 import b64decode\n",
    "\n",
    "icon_data = result['appIcon']\n",
    "icon_data = icon_data[len('data:image/png;base64,'):]\n",
    "display.Image(b64decode(icon_data))"
   ]
  },
  {
   "cell_type": "code",
   "execution_count": null,
   "id": "aa0472c2",
   "metadata": {},
   "outputs": [],
   "source": [
    "# get the application\n",
    "result_without_icon(ph.apps.get(app))"
   ]
  },
  {
   "cell_type": "code",
   "execution_count": null,
   "id": "74724d03",
   "metadata": {},
   "outputs": [],
   "source": [
    "# stop the application\n",
    "result_without_icon(ph.apps.stop(app))"
   ]
  },
  {
   "cell_type": "code",
   "execution_count": null,
   "id": "ed53abb0",
   "metadata": {},
   "outputs": [],
   "source": [
    "# start the application\n",
    "result_without_icon(ph.apps.start(app))"
   ]
  },
  {
   "cell_type": "code",
   "execution_count": null,
   "id": "0bc9f4e5",
   "metadata": {},
   "outputs": [],
   "source": [
    "# delete the application\n",
    "result_without_icon(ph.apps.delete(app))"
   ]
  },
  {
   "cell_type": "code",
   "execution_count": null,
   "id": "8ef60389",
   "metadata": {},
   "outputs": [],
   "source": []
  }
 ],
 "metadata": {
  "kernelspec": {
   "display_name": "PrimeHub SDK",
   "language": "python",
   "name": "myenv"
  },
  "language_info": {
   "codemirror_mode": {
    "name": "ipython",
    "version": 3
   },
   "file_extension": ".py",
   "mimetype": "text/x-python",
   "name": "python",
   "nbconvert_exporter": "python",
   "pygments_lexer": "ipython3",
   "version": "3.7.6"
  }
 },
 "nbformat": 4,
 "nbformat_minor": 5
}
