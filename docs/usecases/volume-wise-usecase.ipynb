{
 "cells": [
  {
   "cell_type": "markdown",
   "id": "635d2ba8",
   "metadata": {},
   "source": [
    "# Volumes-wise operation\n",
    "\n",
    "This notebook demostrates common volumes-wise operations by using SDK.\n",
    "\n",
    "## Prerequisites\n",
    "\n",
    "You need\n",
    "\n",
    "- an SDK environment set up with the administrator priviledge. Check \"*environment setup.ipynb*\" for the detail."
   ]
  },
  {
   "cell_type": "markdown",
   "id": "75d70d54",
   "metadata": {},
   "source": [
    "**Replace the value below with your PrimeHub domain (*http* or *https*).**"
   ]
  },
  {
   "cell_type": "code",
   "execution_count": null,
   "id": "260f61cc",
   "metadata": {},
   "outputs": [],
   "source": [
    "PRIMEHUB_CLUSTER = 'https://c.demo.primehub.io'"
   ]
  },
  {
   "cell_type": "markdown",
   "id": "317264ca",
   "metadata": {},
   "source": [
    "**Check if the configuration exists. If not, you need to login to retrieve the token and input it in the prompt. The configuration will be generated at**`~/.primehub/config.json`."
   ]
  },
  {
   "cell_type": "code",
   "execution_count": null,
   "id": "1d1004d1",
   "metadata": {},
   "outputs": [],
   "source": [
    "import os\n",
    "from primehub import PrimeHub, PrimeHubConfig\n",
    "\n",
    "ph = PrimeHub(PrimeHubConfig())\n",
    "if ph.is_ready():\n",
    "    print(f\"PrimeHub Python SDK {ph.version.version()} environment is ready, you are good to go.\")\n",
    "    print(\"Current Group:\", ph.primehub_config.current_group)\n",
    "else:\n",
    "    print(\"Failed to retrieve the information from PrimeHub cluster, please check the configuration.\")"
   ]
  },
  {
   "cell_type": "markdown",
   "id": "7ad61b5a",
   "metadata": {},
   "source": [
    "## ToC\n",
    "\n",
    "- [Fundamental Operations (CRUD)](#fundamental)\n",
    "- [Common Operations](#common)"
   ]
  },
  {
   "cell_type": "markdown",
   "id": "1d069318",
   "metadata": {},
   "source": [
    "---\n",
    "## Fundamental Operations <a class=\"anchor\" id=\"fundamental\"></a>"
   ]
  },
  {
   "cell_type": "code",
   "execution_count": null,
   "id": "3d18d957",
   "metadata": {},
   "outputs": [],
   "source": [
    "# Get the group id by the given group name\n",
    "group_name = 'Continental'\n",
    "groups = ph.admin.groups.list()\n",
    "for group in groups:\n",
    "    if group['name'] == group_name:\n",
    "        specified_group = group\n",
    "        \n",
    "group_detail = ph.admin.groups.get(specified_group['id'])\n",
    "group_detail"
   ]
  },
  {
   "cell_type": "markdown",
   "id": "b61dd13b",
   "metadata": {},
   "source": [
    "### Create Volume\n",
    "\n",
    "Method: `ph.admin.volumes.create(configuration)`"
   ]
  },
  {
   "cell_type": "markdown",
   "id": "deb723b2",
   "metadata": {},
   "source": [
    "### Create Volume of type PV\n",
    "\n",
    "A volume connecting to a persistent volumne\n",
    "\n",
    "Yuo can opt for adding a *global volume (read-only)* and/or a *volume connecting specified groups with writable privildege*."
   ]
  },
  {
   "cell_type": "code",
   "execution_count": null,
   "id": "c671bcce",
   "metadata": {},
   "outputs": [],
   "source": [
    "persistent_volume_config_global = {\n",
    "  \"name\": \"pv-global-sdk\",\n",
    "  \"displayName\": \"1GB global persistent volume\",\n",
    "  \"description\": \"global persistent volume\",\n",
    "  \"type\": \"pv\",\n",
    "  \"global\": True,\n",
    "  \"pvProvisioning\": \"auto\",\n",
    "  \"volumeSize\": 1,\n",
    "  \"groups\": {\n",
    "    \"connect\": [\n",
    "      {\n",
    "        \"id\": specified_group['id'],\n",
    "        \"writable\": True\n",
    "      }\n",
    "    ]\n",
    "  }\n",
    "}\n",
    "\n",
    "persistent_volume_config_with_specified_groups = {\n",
    "  \"name\": \"pv-groups-sdk\",\n",
    "  \"displayName\": \"1GB persistent volume\",\n",
    "  \"description\": \"persistent volume connecting groups\",\n",
    "  \"type\": \"pv\",\n",
    "  \"global\": False,\n",
    "  \"pvProvisioning\": \"auto\",\n",
    "  \"volumeSize\": 1,\n",
    "  \"groups\": {\n",
    "    \"connect\": [\n",
    "      {\n",
    "        \"id\": specified_group['id'],\n",
    "        \"writable\": True\n",
    "      }\n",
    "    ]\n",
    "  }\n",
    "}"
   ]
  },
  {
   "cell_type": "code",
   "execution_count": null,
   "id": "8d9538ae",
   "metadata": {},
   "outputs": [],
   "source": [
    "persistent_volume = ph.admin.volumes.create(persistent_volume_config_global)\n",
    "\n",
    "ph.admin.volumes.get(persistent_volume[\"id\"])"
   ]
  },
  {
   "cell_type": "markdown",
   "id": "db5c49dc",
   "metadata": {},
   "source": [
    "### Create Volume of type HostPath\n",
    "\n",
    "A voloume connecting to a local path/directory. It is writable only to specified groups, read-only to others."
   ]
  },
  {
   "cell_type": "code",
   "execution_count": null,
   "id": "218ef32b",
   "metadata": {},
   "outputs": [],
   "source": [
    "# Create a host path volume with admin role\n",
    "hostpath_config = {\n",
    "  \"name\": \"local-data-volume\",\n",
    "  \"description\": \"created by sdk\",\n",
    "  \"type\": \"hostPath\",\n",
    "  \"global\": True,\n",
    "  \"hostPath\": \"/opt/data\",\n",
    "  \"groups\": {\n",
    "    \"connect\": [\n",
    "      {\n",
    "        \"id\": specified_group['id'],\n",
    "        \"writable\": True\n",
    "      }\n",
    "    ]\n",
    "  }\n",
    "}"
   ]
  },
  {
   "cell_type": "code",
   "execution_count": null,
   "id": "4f851c0d",
   "metadata": {},
   "outputs": [],
   "source": [
    "hostpath_volume = ph.admin.volumes.create(hostpath_config)\n",
    "\n",
    "ph.admin.volumes.get(hostpath_volume[\"id\"]) "
   ]
  },
  {
   "cell_type": "markdown",
   "id": "e02f8047",
   "metadata": {},
   "source": [
    "### Create Volume of type Git Sync\n",
    "\n",
    "A read-only volume connecting to a git repository"
   ]
  },
  {
   "cell_type": "code",
   "execution_count": null,
   "id": "63d11e39",
   "metadata": {},
   "outputs": [],
   "source": [
    "# Create a git sync volume with admin role\n",
    "gitsync_volume_config = {\n",
    "  \"name\": \"covid-19-dataset\",\n",
    "  \"description\": \"created by sdk\",\n",
    "  \"type\": \"git\",\n",
    "  \"global\": False,\n",
    "  \"url\": \"https://github.com/datasets/covid-19\",\n",
    "  #\"secret\": \"secred_id\" if required,\n",
    "  \"groups\": {\n",
    "    \"connect\": [\n",
    "      {\n",
    "        \"id\": specified_group['id'],\n",
    "        \"writable\": False # must be False\n",
    "      }\n",
    "    ]\n",
    "  }\n",
    "}"
   ]
  },
  {
   "cell_type": "code",
   "execution_count": null,
   "id": "359154e1",
   "metadata": {},
   "outputs": [],
   "source": [
    "gitsync_volume = ph.admin.volumes.create(gitsync_volume_config)\n",
    "\n",
    "ph.admin.volumes.get(gitsync_volume[\"id\"]) "
   ]
  },
  {
   "cell_type": "markdown",
   "id": "63a668b4",
   "metadata": {},
   "source": [
    "### Create Volume of type Env\n",
    "A read-only volume containing *environmental variables*"
   ]
  },
  {
   "cell_type": "code",
   "execution_count": null,
   "id": "5d298043",
   "metadata": {},
   "outputs": [],
   "source": [
    "ev_volume_config = {\n",
    "  \"name\": \"database-env\",\n",
    "  \"description\": \"created by sdk\",\n",
    "  \"type\": \"env\",\n",
    "  \"global\": False,\n",
    "  \"variables\": {\n",
    "    \"PROD_MySQL\": \"The url to the production MySQL database\",\n",
    "    \"STG_MySQL\": \"The url to the staging MySQL database\"\n",
    "  },\n",
    "  \"groups\": {\n",
    "    \"connect\": [\n",
    "      {\n",
    "        \"id\": specified_group['id'],\n",
    "        \"writable\": False # must be False\n",
    "      }\n",
    "    ]\n",
    "  }\n",
    "}"
   ]
  },
  {
   "cell_type": "code",
   "execution_count": null,
   "id": "b68fa5e9",
   "metadata": {},
   "outputs": [],
   "source": [
    "ev_volume = ph.admin.volumes.create(ev_volume_config)\n",
    "\n",
    "ph.admin.volumes.get(ev_volume[\"id\"])"
   ]
  },
  {
   "cell_type": "markdown",
   "id": "79f0a1db",
   "metadata": {},
   "source": [
    "### Get Volume Detail\n",
    "\n",
    "Method: `ph.admin.volumes.get(volume_id)`\n"
   ]
  },
  {
   "cell_type": "code",
   "execution_count": null,
   "id": "93cf90eb",
   "metadata": {},
   "outputs": [],
   "source": [
    "ph.admin.volumes.get(persistent_volume['id'])"
   ]
  },
  {
   "cell_type": "markdown",
   "id": "00781a02",
   "metadata": {},
   "source": [
    "### Update Volume Configuration\n",
    "\n",
    "Method: `ph.admin.volumes.update(configuration)`"
   ]
  },
  {
   "cell_type": "code",
   "execution_count": null,
   "id": "78669ff2",
   "metadata": {},
   "outputs": [],
   "source": [
    "updating_config = {\n",
    "  \"variables\": {\n",
    "    \"PROD_MySQL\": \"The url to the production MySQL database\",\n",
    "    \"STG_MySQL\": \"The url to the staging MySQL database\",\n",
    "    \"UAT_MySQL\": \"The url to the user acceptance testing MySQL database\"\n",
    "  }\n",
    "}"
   ]
  },
  {
   "cell_type": "code",
   "execution_count": null,
   "id": "bf86299a",
   "metadata": {},
   "outputs": [],
   "source": [
    "ph.admin.volumes.update(ev_volume['id'], updading_config)\n",
    "\n",
    "ph.admin.volumes.get(ev_volume['id'])"
   ]
  },
  {
   "cell_type": "markdown",
   "id": "f98625ae",
   "metadata": {},
   "source": [
    "### Get connected Groups of Volume\n",
    "\n",
    "Method: `ph.admin.volumes.list_groups('volume_id')`"
   ]
  },
  {
   "cell_type": "code",
   "execution_count": null,
   "id": "4b90e972",
   "metadata": {},
   "outputs": [],
   "source": [
    "ph.admin.volumes.list_groups(ev_volume['id'])"
   ]
  },
  {
   "cell_type": "markdown",
   "id": "0427a25b",
   "metadata": {},
   "source": [
    "### List All of Volumes\n",
    "\n",
    "Method: `ph.admin.volumes.list()`"
   ]
  },
  {
   "cell_type": "code",
   "execution_count": null,
   "id": "4d565217",
   "metadata": {},
   "outputs": [],
   "source": [
    "all_volumes = ph.admin.volumes.list()\n",
    "for volume in all_volumes:\n",
    "    print(volume)"
   ]
  },
  {
   "cell_type": "markdown",
   "id": "ebff7399",
   "metadata": {},
   "source": [
    "### Delete Volume\n",
    "\n",
    "Method: `ph.admin.volumes.delete(volume_id)`"
   ]
  },
  {
   "cell_type": "code",
   "execution_count": null,
   "id": "97768503",
   "metadata": {},
   "outputs": [],
   "source": [
    "ph.admin.volumes.delete(ev_volume['id'])"
   ]
  },
  {
   "cell_type": "markdown",
   "id": "06f0023a",
   "metadata": {},
   "source": [
    "---\n",
    "\n",
    "## Common Operations <a class=\"anchor\" id=\"common\"></a>"
   ]
  },
  {
   "cell_type": "markdown",
   "id": "ff4aa30a",
   "metadata": {},
   "source": [
    "### Connect/Disconnect Volume to Group\n",
    "\n",
    "Method: \n",
    "- `ph.admin.volumes.add_group('volume_id', 'group_id')`\n",
    "- `ph.admin.volumes.remove_group('volume_id', 'group_id')`"
   ]
  },
  {
   "cell_type": "code",
   "execution_count": null,
   "id": "344121d0",
   "metadata": {},
   "outputs": [],
   "source": [
    "volume_id = 'database-env'\n",
    "\n",
    "ph.admin.volumes.add_group(volume_id, specified_group['id'])\n",
    "\n",
    "#Verify\n",
    "ph.admin.volumes.list_groups(volume_id)"
   ]
  },
  {
   "cell_type": "code",
   "execution_count": null,
   "id": "a23b45b0",
   "metadata": {},
   "outputs": [],
   "source": [
    "ph.admin.volumes.remove_group(volume_id, specified_group['id'])\n",
    "\n",
    "#Verify\n",
    "ph.admin.volumes.list_groups(volume_id)"
   ]
  }
 ],
 "metadata": {
  "kernelspec": {
   "display_name": "Python 3",
   "language": "python",
   "name": "python3"
  },
  "language_info": {
   "codemirror_mode": {
    "name": "ipython",
    "version": 3
   },
   "file_extension": ".py",
   "mimetype": "text/x-python",
   "name": "python",
   "nbconvert_exporter": "python",
   "pygments_lexer": "ipython3",
   "version": "3.7.10"
  }
 },
 "nbformat": 4,
 "nbformat_minor": 5
}
