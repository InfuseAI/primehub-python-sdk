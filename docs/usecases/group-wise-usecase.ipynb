{
 "cells": [
  {
   "cell_type": "markdown",
   "id": "840bcccf",
   "metadata": {},
   "source": [
    "# Group-wise operation\n",
    "\n",
    "This notebook demostrates common group-wise operations by using SDK.\n",
    "\n",
    "## Prerequisites\n",
    "\n",
    "You need\n",
    "\n",
    "- an SDK environment set up with the administrator priviledge. Check *environment setup.ipynb* for the detail."
   ]
  },
  {
   "cell_type": "markdown",
   "id": "e09680ba",
   "metadata": {},
   "source": [
    "**Replace the value below with your PrimeHub domain (*http* or *https*).**"
   ]
  },
  {
   "cell_type": "code",
   "execution_count": null,
   "id": "690b6e7f",
   "metadata": {},
   "outputs": [],
   "source": [
    "PRIMEHUB_CLUSTER = 'https://c.demo.primehub.io'"
   ]
  },
  {
   "cell_type": "markdown",
   "id": "cb1e169b",
   "metadata": {},
   "source": [
    "**Check if the configuration exists. If not, you need to login to retrieve the token and input it in the prompt. The configuration will be generated at**`~/.primehub/config.json`."
   ]
  },
  {
   "cell_type": "code",
   "execution_count": null,
   "id": "8de6f73d",
   "metadata": {},
   "outputs": [],
   "source": [
    "import os\n",
    "from primehub import PrimeHub, PrimeHubConfig\n",
    "\n",
    "ph = PrimeHub(PrimeHubConfig())\n",
    "if ph.is_ready():\n",
    "    print(f\"PrimeHub Python SDK {ph.version.version()} environment is ready, you are good to go.\")\n",
    "    print(\"Current Group:\", ph.primehub_config.current_group)\n",
    "else:\n",
    "    print(\"Failed to retrieve the information from PrimeHub cluster, please check the configuration.\")"
   ]
  },
  {
   "cell_type": "markdown",
   "id": "f177c24e",
   "metadata": {},
   "source": [
    "## ToC\n",
    "\n",
    "- [Fundamental Operations (CRUD)](#fundamental)\n",
    "- [Common Operations](#common)"
   ]
  },
  {
   "cell_type": "markdown",
   "id": "904f3be8",
   "metadata": {},
   "source": [
    "## Fundamental Operations <a class=\"anchor\" id=\"fundamental\"></a>"
   ]
  },
  {
   "cell_type": "markdown",
   "id": "26eb679b",
   "metadata": {},
   "source": [
    "### Create Group\n",
    "\n",
    "Method: `ph.admin.groups.create(config)`\n",
    "\n",
    "By using `create()` with a configuration to :\n",
    "- create a group with preset requirements"
   ]
  },
  {
   "cell_type": "markdown",
   "id": "36e079d6",
   "metadata": {},
   "source": [
    "Before creating a user, let's decide which group the user belongs to. Check your PrimeHub and replace the `group_name` with yours."
   ]
  },
  {
   "cell_type": "code",
   "execution_count": null,
   "id": "305eb28f",
   "metadata": {},
   "outputs": [],
   "source": [
    "group_name = 'Continental'"
   ]
  },
  {
   "cell_type": "markdown",
   "id": "d4ba540d",
   "metadata": {},
   "source": [
    "Let's prepare the configuration of creating a group, *Continental*, with the preset requirements."
   ]
  },
  {
   "cell_type": "code",
   "execution_count": null,
   "id": "96ffac56",
   "metadata": {},
   "outputs": [],
   "source": [
    "# Prepare a group configuration\n",
    "config = {\n",
    "  \"name\": group_name,\n",
    "  \"displayName\": \"a group of hitman\",\n",
    "  \"enabledDeployment\": False,\n",
    "  \"enabledSharedVolume\": False,\n",
    "  \"quotaCpu\": 4,\n",
    "  \"quotaGpu\": 4,\n",
    "  \"admins\": \"\",\n",
    "  \"users\": {\n",
    "      \"connect\": []\n",
    "  }\n",
    "}"
   ]
  },
  {
   "cell_type": "code",
   "execution_count": null,
   "id": "cff6ee6d",
   "metadata": {},
   "outputs": [],
   "source": [
    "specified_group = ph.admin.groups.create(config)\n",
    "specified_group"
   ]
  },
  {
   "cell_type": "markdown",
   "id": "68416589",
   "metadata": {},
   "source": [
    "### Add/Remove Group Member\n",
    "\n",
    "Methods\n",
    "- `ph.admin.groups.connect_user(group_id, user_id`)\n",
    "- `ph.admin.groups.disconnect_user(group_id, user_id)`"
   ]
  },
  {
   "cell_type": "code",
   "execution_count": null,
   "id": "0a77502c",
   "metadata": {},
   "outputs": [],
   "source": [
    "# Get the user id by the given user name\n",
    "user_name = 'john-wick'\n",
    "users = ph.admin.users.list()\n",
    "for user in users:\n",
    "    if user['username'] == user_name:\n",
    "        specified_user = user\n",
    "specified_user"
   ]
  },
  {
   "cell_type": "code",
   "execution_count": null,
   "id": "06706ba0",
   "metadata": {},
   "outputs": [],
   "source": [
    "# Add group member\n",
    "ph.admin.groups.connect_user(specified_group['id'], specified_user['id'])\n",
    "\n",
    "# verify\n",
    "ph.admin.groups.get(specified_group['id'])['users']"
   ]
  },
  {
   "cell_type": "code",
   "execution_count": null,
   "id": "63e539f8",
   "metadata": {},
   "outputs": [],
   "source": [
    "# remove group member\n",
    "ph.admin.groups.disconnect_user(specified_group['id'], specified_user['id'])\n",
    "\n",
    "# verify\n",
    "ph.admin.groups.get(specified_group['id'])['users']"
   ]
  },
  {
   "cell_type": "markdown",
   "id": "94ce929c",
   "metadata": {},
   "source": [
    "### Add/Remove Image\n",
    "\n",
    "Methods:\n",
    "- `ph.admin.groups.connect_image('group_id','image_id')`\n",
    "- `ph.admin.groups.disconnect_image('group_id','image_id')`"
   ]
  },
  {
   "cell_type": "code",
   "execution_count": null,
   "id": "8959ca54",
   "metadata": {},
   "outputs": [],
   "source": [
    "# Replace the image's id below with yours\n",
    "specified_image_id = 'ngc-pytorch-jupyter'\n",
    "\n",
    "# Connect an image to the group\n",
    "ph.admin.groups.connect_image(specified_group['id'], specified_image_id)\n",
    "\n",
    "# verify\n",
    "ph.admin.groups.get(specified_group['id'])['images']"
   ]
  },
  {
   "cell_type": "code",
   "execution_count": null,
   "id": "255c2de5",
   "metadata": {},
   "outputs": [],
   "source": [
    "# Disconnect an image to the group\n",
    "ph.admin.groups.disconnect_image(specified_group['id'], specified_image_id)\n",
    "\n",
    "# verify\n",
    "ph.admin.groups.get(specified_group['id'])['images']"
   ]
  },
  {
   "cell_type": "markdown",
   "id": "1f124d89",
   "metadata": {},
   "source": [
    "### Add/Remove InstaceType\n",
    "\n",
    "Methods:\n",
    "- `ph.admin.groups.connect_instancetype('group_id','instancetype_id')`\n",
    "- `ph.admin.groups.disconnect_instancetype('group_id','instancetype_id')`"
   ]
  },
  {
   "cell_type": "code",
   "execution_count": null,
   "id": "53d38bf2",
   "metadata": {},
   "outputs": [],
   "source": [
    "# Replace the instancetype's id below with yours\n",
    "specified_instancetype_id = 'awesome-gpu'\n",
    "\n",
    "# Connect an image to the group\n",
    "ph.admin.groups.connect_instancetype(specified_group['id'], specified_instancetype_id)\n",
    "\n",
    "# verify\n",
    "ph.admin.groups.get(specified_group['id']['instanceTypes']) #instance\"T\"types, \"T\" uppercase."
   ]
  },
  {
   "cell_type": "code",
   "execution_count": null,
   "id": "1e03e058",
   "metadata": {},
   "outputs": [],
   "source": [
    "# Disconnect an image to the group\n",
    "ph.admin.groups.disconnect_instancetype(specified_group['id'], specified_instancetype_id)\n",
    "\n",
    "# verify\n",
    "ph.admin.groups.get(specified_group['id'])['instanceTypes']"
   ]
  },
  {
   "cell_type": "markdown",
   "id": "49694697",
   "metadata": {},
   "source": [
    "### Add/Remove Volume\n",
    "\n",
    "Methods:\n",
    "- `ph.admin.groups.connect_volume('group_id','volume_id')`\n",
    "- `ph.admin.groups.disconnect_volume('group_id','volume_id')`"
   ]
  },
  {
   "cell_type": "code",
   "execution_count": null,
   "id": "2bcb8e32",
   "metadata": {},
   "outputs": [],
   "source": [
    "# Replace the volume's id below with yours\n",
    "specified_volume_id = 'example-dataset'\n",
    "\n",
    "# Connect a volume to the group\n",
    "ph.admin.groups.connect_volume(specified_group['id'], specified_volume_id)\n",
    "\n",
    "# verify\n",
    "ph.admin.groups.get(specified_group['id'])['volumes']"
   ]
  },
  {
   "cell_type": "code",
   "execution_count": null,
   "id": "4a3df7b8",
   "metadata": {},
   "outputs": [],
   "source": [
    "# Disconnect an image to the group\n",
    "ph.admin.groups.disconnect_volume(specified_group['id'], specified_volume_id)\n",
    "\n",
    "# verify\n",
    "ph.admin.groups.get(specified_group['id'])['volumes']"
   ]
  },
  {
   "cell_type": "markdown",
   "id": "fff5aa9c",
   "metadata": {},
   "source": [
    "### Create an Image record and connect it to Group\n",
    "\n",
    "Method `ph.admin.groups.create_image('group_id', image_configuration)`\n",
    "\n",
    "\n",
    "e.g.\n",
    "\n",
    "```python\n",
    "image_config = {\n",
    "  \"name\": \"base\",\n",
    "  \"displayName\": \"Base image\",\n",
    "  \"description\": \"base-notebook with python 3.7\",\n",
    "  \"type\": \"both\",\n",
    "  \"url\": \"infuseai/docker-stacks:base-notebook-63fdf50a\",\n",
    "  \"urlForGpu\": \"infuseai/docker-stacks:base-notebook-63fdf50a-gpu\",\n",
    "  \"global\": True\n",
    "}\n",
    "```"
   ]
  },
  {
   "cell_type": "code",
   "execution_count": null,
   "id": "db9afc31",
   "metadata": {},
   "outputs": [],
   "source": [
    "image_config = {\n",
    "  \"name\": \"sdk-test-image\",\n",
    "  \"displayName\": \"sdk test image\",\n",
    "  \"description\": \"base-notebook with python 3.7\",\n",
    "  \"type\": \"both\",\n",
    "  \"url\": \"infuseai/docker-stacks:base-notebook-63fdf50a\",\n",
    "  \"urlForGpu\": \"infuseai/docker-stacks:base-notebook-63fdf50a-gpu\",\n",
    "  \"global\": True\n",
    "}\n",
    "\n",
    "ph.admin.groups.create_image(specified_group['id'], image_config)"
   ]
  },
  {
   "cell_type": "markdown",
   "id": "25f294dc",
   "metadata": {},
   "source": [
    "### Create an InstanceType and connect it to Group\n",
    "\n",
    "Method: `ph.admin.groups.create_instanetype('group_id', instancetype_configuration)`\n",
    "\n",
    "e.g.\n",
    "\n",
    "```python\n",
    "instancetype_config = {\n",
    "  \"name\": \"cpu-1\",\n",
    "  \"displayName\": \"CPU 1\",\n",
    "  \"description\": \"1 vCPU / 1G Memory\",\n",
    "  \"cpuLimit\": 1,\n",
    "  \"memoryLimit\": 1,\n",
    "  \"gpuLimit\": 0,\n",
    "  \"global\": True,\n",
    "  \"tolerations\": {\n",
    "    \"set\": [\n",
    "      {\n",
    "        \"operator\": \"Equal\",\n",
    "        \"effect\": \"NoSchedule\",\n",
    "        \"key\": \"nvidia.com/gpu\",\n",
    "        \"value\": \"v100\"\n",
    "      }\n",
    "    ]\n",
    "  }\n",
    "}\n",
    "```"
   ]
  },
  {
   "cell_type": "code",
   "execution_count": null,
   "id": "61f18ee1",
   "metadata": {},
   "outputs": [],
   "source": [
    "instancetype_config = {\n",
    "  \"name\": \"sdk-test-cpu-1\",\n",
    "  \"displayName\": \"Test CPU 1 by SDK\",\n",
    "  \"description\": \"1 vCPU / 1G Memory\",\n",
    "  \"cpuLimit\": 1,\n",
    "  \"memoryLimit\": 1,\n",
    "  \"gpuLimit\": 0,\n",
    "  \"global\": True,\n",
    "  \"tolerations\": {\n",
    "    \"set\": [\n",
    "      {\n",
    "        \"operator\": \"Equal\",\n",
    "        \"effect\": \"NoSchedule\",\n",
    "        \"key\": \"nvidia.com/gpu\",\n",
    "        \"value\": \"v100\"\n",
    "      }\n",
    "    ]\n",
    "  }\n",
    "}\n",
    "ph.admin.groups.create_instancetype(specified_group['id'], instancetype_config)"
   ]
  },
  {
   "cell_type": "markdown",
   "id": "6ee58460",
   "metadata": {},
   "source": [
    "### Create a Volume and connect it to Group\n",
    "\n",
    "Method: `ph.admin.groups.create_volume('group_id', writable_boolean, volume_configuration)`\n",
    "\n",
    "e.g.\n",
    "\n",
    "```python\n",
    "volume_rec = {\n",
    "  \"name\": \"test-volume\",\n",
    "  \"displayName\": \"test volume by SDK\",\n",
    "  \"description\": \"desc\",\n",
    "  \"type\": \"pv\",\n",
    "  \"global\": false,\n",
    "  \"pvProvisioning\": \"auto\",\n",
    "  \"volumeSize\": 1\n",
    "}\n",
    "```"
   ]
  },
  {
   "cell_type": "code",
   "execution_count": null,
   "id": "920cc8e8",
   "metadata": {},
   "outputs": [],
   "source": [
    "volume_config = {\n",
    "  \"name\": \"test-volume\",\n",
    "  \"displayName\": \"test volume by SDK\",\n",
    "  \"description\": \"desc\",\n",
    "  \"type\": \"pv\",\n",
    "  \"global\": False,\n",
    "  \"pvProvisioning\": \"auto\",\n",
    "  \"volumeSize\": 1\n",
    "}\n",
    "\n",
    "ph.admin.groups.create_volume(specified_group['id'], True, volume_config)"
   ]
  },
  {
   "cell_type": "markdown",
   "id": "6e5acaf9",
   "metadata": {},
   "source": [
    "### Update Group\n",
    "\n",
    "Method `ph.admin.groups.update(user_id, config)`\n",
    "\n",
    "By using `update()`, we can have a group sophiscated updates at once\n",
    "\n",
    "Such as these changes as below in one update\n",
    "- increase resources quotas\n",
    "- enable the deployment feauture\n",
    "- assign a user the group admin"
   ]
  },
  {
   "cell_type": "markdown",
   "id": "68f2e759",
   "metadata": {},
   "source": [
    "Let's remove john-wick from *Continental* and revoke his administration priviledge (*Excommunicado*) in one update."
   ]
  },
  {
   "cell_type": "code",
   "execution_count": null,
   "id": "a473b6b0",
   "metadata": {},
   "outputs": [],
   "source": [
    "group_name = 'Continental'\n",
    "# Prepare a group configuration\n",
    "updated_config = {\n",
    "  \"name\": group_name,\n",
    "  \"enabledDeployment\": True,\n",
    "  \"quotaCpu\": 8,\n",
    "  \"quotaGpu\": 8,\n",
    "  \"admins\": [specified_user['id']]\n",
    "#   \"admins\": \"\"  #remove all of admins\n",
    "}"
   ]
  },
  {
   "cell_type": "code",
   "execution_count": null,
   "id": "e6598105",
   "metadata": {},
   "outputs": [],
   "source": [
    "result = ph.admin.groups.update(specified_group['id'], updated_config)\n",
    "result"
   ]
  },
  {
   "cell_type": "markdown",
   "id": "2ca387ba",
   "metadata": {},
   "source": [
    "### Get Group Detail Info\n",
    "\n",
    "Method `ph.admin.groups.get('group_id')`\n",
    "\n",
    "Get the specified group detail by the group's id."
   ]
  },
  {
   "cell_type": "code",
   "execution_count": null,
   "id": "f4d843c6",
   "metadata": {},
   "outputs": [],
   "source": [
    "# Get the group id by the given group name\n",
    "group_name = 'Continental'\n",
    "groups = ph.admin.groups.list()\n",
    "for group in groups:\n",
    "    if group['name'] == group_name:\n",
    "        specified_group = group\n",
    "        \n",
    "ph.admin.groups.get(specified_group['id'])"
   ]
  },
  {
   "cell_type": "markdown",
   "id": "82c88f39",
   "metadata": {},
   "source": [
    "### Delete Group\n",
    "\n",
    "Delete the specified group by the given group's id."
   ]
  },
  {
   "cell_type": "code",
   "execution_count": null,
   "id": "80fb30b1",
   "metadata": {},
   "outputs": [],
   "source": [
    "ph.admin.groups.delete(specified_group['id'])"
   ]
  },
  {
   "cell_type": "markdown",
   "id": "d2e3c9c6",
   "metadata": {},
   "source": [
    "## Common Operations <a class=\"anchor\" id=\"common\"></a>"
   ]
  },
  {
   "cell_type": "code",
   "execution_count": null,
   "id": "06ce25fa",
   "metadata": {},
   "outputs": [],
   "source": [
    "# Get the specified group detail by the given group name\n",
    "group_name = 'Continental'\n",
    "groups = ph.admin.groups.list()\n",
    "for group in groups:\n",
    "    if group['name'] == group_name:\n",
    "        specified_group = group\n",
    "        \n",
    "group_detail = ph.admin.groups.get(specified_group['id'])\n",
    "group_detail"
   ]
  },
  {
   "cell_type": "markdown",
   "id": "a788dbbc",
   "metadata": {},
   "source": [
    "### Get group admin users"
   ]
  },
  {
   "cell_type": "code",
   "execution_count": null,
   "id": "6887a53d",
   "metadata": {},
   "outputs": [],
   "source": [
    "group_detail['admins']"
   ]
  },
  {
   "cell_type": "markdown",
   "id": "8d06a047",
   "metadata": {},
   "source": [
    "### Get groups with Zero User"
   ]
  },
  {
   "cell_type": "code",
   "execution_count": null,
   "id": "74ed9ea4",
   "metadata": {},
   "outputs": [],
   "source": [
    "groups = ph.admin.groups.list()\n",
    "empty_groups = []\n",
    "\n",
    "for group in groups:\n",
    "    group_detail = ph.admin.groups.get(group['id'])\n",
    "    if not group_detail['users']:\n",
    "        empty_groups.append((group_detail['id'], group_detail['name']))\n",
    "empty_groups    "
   ]
  },
  {
   "cell_type": "markdown",
   "id": "507aaf98",
   "metadata": {},
   "source": [
    "### Get groups with running Deployments"
   ]
  },
  {
   "cell_type": "code",
   "execution_count": null,
   "id": "7af2b0fc",
   "metadata": {},
   "outputs": [],
   "source": [
    "groups = ph.admin.groups.list()\n",
    "deploymentsUsages = []\n",
    "\n",
    "for group in groups:\n",
    "    group_detail = ph.admin.groups.get(group['id'])\n",
    "    if group_detail['deploymentsUsage']:\n",
    "        deploymentsUsages.append((group_detail['name'], group_detail['deploymentsUsage']))\n",
    "deploymentsUsages"
   ]
  },
  {
   "cell_type": "markdown",
   "id": "9fae7a20",
   "metadata": {},
   "source": [
    "### List groups with current resources usage"
   ]
  },
  {
   "cell_type": "code",
   "execution_count": null,
   "id": "c45c69eb",
   "metadata": {},
   "outputs": [],
   "source": [
    "groups = ph.admin.groups.list()\n",
    "resourceStatus_by_group = []\n",
    "\n",
    "for group in groups:\n",
    "    group_detail = ph.admin.groups.get(group['id'])\n",
    "    resourceStatus_by_group.append((group_detail['name'], group_detail['resourceStatus']))\n",
    "resourceStatus_by_group"
   ]
  },
  {
   "cell_type": "markdown",
   "id": "6698de69",
   "metadata": {},
   "source": [
    "### List connected Images of a group\n",
    "\n",
    "Method `ph.admin.groups.list_images('group_id')`"
   ]
  },
  {
   "cell_type": "code",
   "execution_count": null,
   "id": "f0e20bad",
   "metadata": {},
   "outputs": [],
   "source": [
    "ph.admin.groups.list_images(group_detail['id'])"
   ]
  },
  {
   "cell_type": "markdown",
   "id": "04f15c54",
   "metadata": {},
   "source": [
    "### List connected InstanceTypes of a group\n",
    "\n",
    "Method `ph.admin.groups.list_instancetypes('group_id')`"
   ]
  },
  {
   "cell_type": "code",
   "execution_count": null,
   "id": "8ffd0426",
   "metadata": {},
   "outputs": [],
   "source": [
    "ph.admin.groups.list_instancetypes(group_detail['id'])"
   ]
  },
  {
   "cell_type": "markdown",
   "id": "f5fedcfa",
   "metadata": {},
   "source": [
    "### List connected Volumes of a group\n",
    "\n",
    "Method `ph.admin.groups.list_volumes('group_id')`"
   ]
  },
  {
   "cell_type": "code",
   "execution_count": null,
   "id": "544dfcf8",
   "metadata": {},
   "outputs": [],
   "source": [
    "ph.admin.groups.list_volumes(group_detail['id'])"
   ]
  },
  {
   "cell_type": "markdown",
   "id": "862d21c6",
   "metadata": {},
   "source": [
    "### Delete a specified group and Delete its members"
   ]
  },
  {
   "cell_type": "code",
   "execution_count": null,
   "id": "673b580e",
   "metadata": {},
   "outputs": [],
   "source": [
    "group_name = 'Continental'\n",
    "groups = ph.admin.groups.list()\n",
    "deleting_group = None\n",
    "\n",
    "for group in groups:\n",
    "    if group['name'] == group_name:\n",
    "        deleting_group = group\n",
    "        print(deleting_group)\n",
    "\n",
    "if deleting_group:\n",
    "    members = ph.admin.groups.list_users(deleting_group['id'])\n",
    "    # Delete members if any\n",
    "    for member in members:\n",
    "        if member:\n",
    "            ph.admin.users.delete(member['id'])\n",
    "            print(f'Deleted {member[\"username\"]}')\n",
    "\n",
    "    # Finally, delete the group\n",
    "    ph.admin.groups.delete(deleting_group['id'])"
   ]
  }
 ],
 "metadata": {
  "kernelspec": {
   "display_name": "Python 3",
   "language": "python",
   "name": "python3"
  },
  "language_info": {
   "codemirror_mode": {
    "name": "ipython",
    "version": 3
   },
   "file_extension": ".py",
   "mimetype": "text/x-python",
   "name": "python",
   "nbconvert_exporter": "python",
   "pygments_lexer": "ipython3",
   "version": "3.7.10"
  }
 },
 "nbformat": 4,
 "nbformat_minor": 5
}
