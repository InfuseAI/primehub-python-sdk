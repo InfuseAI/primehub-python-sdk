{
 "cells": [
  {
   "cell_type": "markdown",
   "id": "e4ca6bfb",
   "metadata": {},
   "source": [
    "# Volumes-wise operation\n",
    "\n",
    "This notebook demostrates common volumes-wise operations by using SDK.\n",
    "\n",
    "## Prerequisites\n",
    "\n",
    "You need\n",
    "\n",
    "- an SDK environment set up with the administrator priviledge. Check \"*environment setup.ipynb*\" for the detail."
   ]
  },
  {
   "cell_type": "code",
   "execution_count": null,
   "id": "7f129ff9",
   "metadata": {},
   "outputs": [],
   "source": [
    "PRIMEHUB_CLUSTER = 'your_PrimeHub_domain'"
   ]
  },
  {
   "cell_type": "markdown",
   "id": "e104ec89",
   "metadata": {},
   "source": [
    "**Check if the configuration exists. If not, you need to login to retrieve the token and input it in the prompt. The configuration will be generated at**`~/.primehub/config.json`."
   ]
  },
  {
   "cell_type": "code",
   "execution_count": null,
   "id": "8ab5962e",
   "metadata": {},
   "outputs": [],
   "source": [
    "import os\n",
    "from primehub import PrimeHub, PrimeHubConfig\n",
    "\n",
    "ph = PrimeHub(PrimeHubConfig())\n",
    "if ph.is_ready():\n",
    "    print(f\"PrimeHub Python SDK {ph.version.version()} environment is ready, you are good to go.\")\n",
    "    print(\"Current Group:\", ph.primehub_config.current_group)\n",
    "else:\n",
    "    print(\"Failed to retrieve the information from PrimeHub cluster, please check the configuration.\")"
   ]
  },
  {
   "cell_type": "markdown",
   "id": "c22a0309",
   "metadata": {},
   "source": [
    "## ToC\n",
    "\n",
    "- [Fundamental Operations (CRUD)](#fundamental)\n",
    "- [Common Operations](#common)"
   ]
  },
  {
   "cell_type": "markdown",
   "id": "0139c568",
   "metadata": {},
   "source": [
    "---\n",
    "## Fundamental Operations <a class=\"anchor\" id=\"fundamental\"></a>"
   ]
  },
  {
   "cell_type": "code",
   "execution_count": null,
   "id": "ec39a2b0",
   "metadata": {},
   "outputs": [],
   "source": [
    "# Get the group id by the given group name\n",
    "group_name = 'Continental'\n",
    "groups = ph.admin.groups.list()\n",
    "for group in groups:\n",
    "    if group['name'] == group_name:\n",
    "        specified_group = group\n",
    "        \n",
    "group_detail = ph.admin.groups.get(specified_group['id'])\n",
    "group_detail"
   ]
  },
  {
   "cell_type": "markdown",
   "id": "a8ae6947",
   "metadata": {},
   "source": [
    "### Create Volume\n",
    "\n",
    "Method: `ph.admin.volumes.create(configuration)`"
   ]
  },
  {
   "cell_type": "markdown",
   "id": "f193717d",
   "metadata": {},
   "source": [
    "### Create Volume of type PV\n",
    "\n",
    "A volume connecting to a persistent volumne\n",
    "\n",
    "Yuo can opt for adding a *global volume (read-only)* and/or a *volume connecting specified groups with writable privildege*."
   ]
  },
  {
   "cell_type": "code",
   "execution_count": null,
   "id": "d4e93255",
   "metadata": {},
   "outputs": [],
   "source": [
    "persistent_volume_config_global = {\n",
    "  \"name\": \"pv-global-sdk\",\n",
    "  \"displayName\": \"1GB global persistent volume\",\n",
    "  \"description\": \"global persistent volume\",\n",
    "  \"type\": \"pv\",\n",
    "  \"global\": True,\n",
    "  \"pvProvisioning\": \"auto\",\n",
    "  \"volumeSize\": 1,\n",
    "  \"groups\": {\n",
    "    \"connect\": [\n",
    "      {\n",
    "        \"id\": specified_group['id'],\n",
    "        \"writable\": True\n",
    "      }\n",
    "    ]\n",
    "  }\n",
    "}\n",
    "\n",
    "persistent_volume_config_with_specified_groups = {\n",
    "  \"name\": \"pv-groups-sdk\",\n",
    "  \"displayName\": \"1GB persistent volume\",\n",
    "  \"description\": \"persistent volume connecting groups\",\n",
    "  \"type\": \"pv\",\n",
    "  \"global\": False,\n",
    "  \"pvProvisioning\": \"auto\",\n",
    "  \"volumeSize\": 1,\n",
    "  \"groups\": {\n",
    "    \"connect\": [\n",
    "      {\n",
    "        \"id\": specified_group['id'],\n",
    "        \"writable\": True\n",
    "      }\n",
    "    ]\n",
    "  }\n",
    "}"
   ]
  },
  {
   "cell_type": "code",
   "execution_count": null,
   "id": "696c9b4d",
   "metadata": {},
   "outputs": [],
   "source": [
    "persistent_volume = ph.admin.volumes.create(persistent_volume_config_global)\n",
    "\n",
    "ph.admin.volumes.get(persistent_volume[\"id\"])"
   ]
  },
  {
   "cell_type": "markdown",
   "id": "61a2ac7e",
   "metadata": {},
   "source": [
    "### Create Volume of type HostPath\n",
    "\n",
    "A voloume connecting to a local path/directory. It is writable only to specified groups, read-only to others."
   ]
  },
  {
   "cell_type": "code",
   "execution_count": null,
   "id": "8eefd215",
   "metadata": {},
   "outputs": [],
   "source": [
    "# Create a host path volume with admin role\n",
    "hostpath_config = {\n",
    "  \"name\": \"local-data-volume\",\n",
    "  \"description\": \"created by sdk\",\n",
    "  \"type\": \"hostPath\",\n",
    "  \"global\": True,\n",
    "  \"hostPath\": \"/opt/data\",\n",
    "  \"groups\": {\n",
    "    \"connect\": [\n",
    "      {\n",
    "        \"id\": specified_group['id'],\n",
    "        \"writable\": True\n",
    "      }\n",
    "    ]\n",
    "  }\n",
    "}"
   ]
  },
  {
   "cell_type": "code",
   "execution_count": null,
   "id": "595e3bd5",
   "metadata": {},
   "outputs": [],
   "source": [
    "hostpath_volume = ph.admin.volumes.create(hostpath_config)\n",
    "\n",
    "ph.admin.volumes.get(hostpath_volume[\"id\"]) "
   ]
  },
  {
   "cell_type": "markdown",
   "id": "5cb83b3c",
   "metadata": {},
   "source": [
    "### Create Volume of type Git Sync\n",
    "\n",
    "A read-only volume connecting to a git repository"
   ]
  },
  {
   "cell_type": "code",
   "execution_count": null,
   "id": "258f1fbb",
   "metadata": {},
   "outputs": [],
   "source": [
    "# Create a git sync volume with admin role\n",
    "gitsync_volume_config = {\n",
    "  \"name\": \"covid-19-dataset\",\n",
    "  \"description\": \"created by sdk\",\n",
    "  \"type\": \"git\",\n",
    "  \"global\": False,\n",
    "  \"url\": \"https://github.com/datasets/covid-19\",\n",
    "  #\"secret\": \"secred_id\" if required,\n",
    "  \"groups\": {\n",
    "    \"connect\": [\n",
    "      {\n",
    "        \"id\": specified_group['id'],\n",
    "        \"writable\": False # must be False\n",
    "      }\n",
    "    ]\n",
    "  }\n",
    "}"
   ]
  },
  {
   "cell_type": "code",
   "execution_count": null,
   "id": "a0a34b65",
   "metadata": {},
   "outputs": [],
   "source": [
    "gitsync_volume = ph.admin.volumes.create(gitsync_volume_config)\n",
    "\n",
    "ph.admin.volumes.get(gitsync_volume[\"id\"]) "
   ]
  },
  {
   "cell_type": "markdown",
   "id": "d54bc2d8",
   "metadata": {},
   "source": [
    "### Create Volume of type Env\n",
    "A read-only volume containing *environmental variables*"
   ]
  },
  {
   "cell_type": "code",
   "execution_count": null,
   "id": "b3f50572",
   "metadata": {},
   "outputs": [],
   "source": [
    "ev_volume_config = {\n",
    "  \"name\": \"database-env\",\n",
    "  \"description\": \"created by sdk\",\n",
    "  \"type\": \"env\",\n",
    "  \"global\": False,\n",
    "  \"variables\": {\n",
    "    \"PROD_MySQL\": \"The url to the production MySQL database\",\n",
    "    \"STG_MySQL\": \"The url to the staging MySQL database\"\n",
    "  },\n",
    "  \"groups\": {\n",
    "    \"connect\": [\n",
    "      {\n",
    "        \"id\": specified_group['id'],\n",
    "        \"writable\": False # must be False\n",
    "      }\n",
    "    ]\n",
    "  }\n",
    "}"
   ]
  },
  {
   "cell_type": "code",
   "execution_count": null,
   "id": "f3225338",
   "metadata": {},
   "outputs": [],
   "source": [
    "ev_volume = ph.admin.volumes.create(ev_volume_config)\n",
    "\n",
    "ph.admin.volumes.get(ev_volume[\"id\"])"
   ]
  },
  {
   "cell_type": "markdown",
   "id": "423f5871",
   "metadata": {},
   "source": [
    "### Get Volume Detail\n",
    "\n",
    "Method: `ph.admin.volumes.get(volume_id)`\n"
   ]
  },
  {
   "cell_type": "code",
   "execution_count": null,
   "id": "d5fbd137",
   "metadata": {},
   "outputs": [],
   "source": [
    "ph.admin.volumes.get(persistent_volume['id'])"
   ]
  },
  {
   "cell_type": "markdown",
   "id": "28410b31",
   "metadata": {},
   "source": [
    "### Update Volume Configuration\n",
    "\n",
    "Method: `ph.admin.volumes.update(configuration)`"
   ]
  },
  {
   "cell_type": "code",
   "execution_count": null,
   "id": "33e8f82d",
   "metadata": {},
   "outputs": [],
   "source": [
    "updating_config = {\n",
    "  \"variables\": {\n",
    "    \"PROD_MySQL\": \"The url to the production MySQL database\",\n",
    "    \"STG_MySQL\": \"The url to the staging MySQL database\",\n",
    "    \"UAT_MySQL\": \"The url to the user acceptance testing MySQL database\"\n",
    "  }\n",
    "}"
   ]
  },
  {
   "cell_type": "code",
   "execution_count": null,
   "id": "afd00852",
   "metadata": {},
   "outputs": [],
   "source": [
    "ph.admin.volumes.update(ev_volume['id'], updading_config)\n",
    "\n",
    "ph.admin.volumes.get(ev_volume['id'])"
   ]
  },
  {
   "cell_type": "markdown",
   "id": "de6b0055",
   "metadata": {},
   "source": [
    "### Get connected Groups of Volume\n",
    "\n",
    "Method: `ph.admin.volumes.list_groups('volume_id')`"
   ]
  },
  {
   "cell_type": "code",
   "execution_count": null,
   "id": "8d74456c",
   "metadata": {},
   "outputs": [],
   "source": [
    "ph.admin.volumes.list_groups(ev_volume['id'])"
   ]
  },
  {
   "cell_type": "markdown",
   "id": "def1c969",
   "metadata": {},
   "source": [
    "### List All of Volumes\n",
    "\n",
    "Method: `ph.admin.volumes.list()`"
   ]
  },
  {
   "cell_type": "code",
   "execution_count": null,
   "id": "57acd89b",
   "metadata": {},
   "outputs": [],
   "source": [
    "all_volumes = ph.admin.volumes.list()\n",
    "for volume in all_volumes:\n",
    "    print(volume)"
   ]
  },
  {
   "cell_type": "markdown",
   "id": "7bf449b5",
   "metadata": {},
   "source": [
    "### Delete Volume\n",
    "\n",
    "Method: `ph.admin.volumes.delete(volume_id)`"
   ]
  },
  {
   "cell_type": "code",
   "execution_count": null,
   "id": "fea6bcff",
   "metadata": {},
   "outputs": [],
   "source": [
    "ph.admin.volumes.delete(ev_volume['id'])"
   ]
  },
  {
   "cell_type": "markdown",
   "id": "be7f5828",
   "metadata": {},
   "source": [
    "---\n",
    "\n",
    "## Common Operations <a class=\"anchor\" id=\"common\"></a>"
   ]
  },
  {
   "cell_type": "markdown",
   "id": "7c3e51bd",
   "metadata": {},
   "source": [
    "### Connect/Disconnect Volume to Group\n",
    "\n",
    "Method: \n",
    "- `ph.admin.volumes.add_group('volume_id', 'group_id')`\n",
    "- `ph.admin.volumes.remove_group('volume_id', 'group_id')`"
   ]
  },
  {
   "cell_type": "code",
   "execution_count": null,
   "id": "8b45d871",
   "metadata": {},
   "outputs": [],
   "source": [
    "volume_id = 'database-env'\n",
    "\n",
    "ph.admin.volumes.add_group(volume_id, specified_group['id'])\n",
    "\n",
    "#Verify\n",
    "ph.admin.volumes.list_groups(volume_id)"
   ]
  },
  {
   "cell_type": "code",
   "execution_count": null,
   "id": "240e94b4",
   "metadata": {},
   "outputs": [],
   "source": [
    "ph.admin.volumes.remove_group(volume_id, specified_group['id'])\n",
    "\n",
    "#Verify\n",
    "ph.admin.volumes.list_groups(volume_id)"
   ]
  }
 ],
 "metadata": {
  "kernelspec": {
   "display_name": "Python 3",
   "language": "python",
   "name": "python3"
  },
  "language_info": {
   "codemirror_mode": {
    "name": "ipython",
    "version": 3
   },
   "file_extension": ".py",
   "mimetype": "text/x-python",
   "name": "python",
   "nbconvert_exporter": "python",
   "pygments_lexer": "ipython3",
   "version": "3.7.10"
  }
 },
 "nbformat": 4,
 "nbformat_minor": 5
}
