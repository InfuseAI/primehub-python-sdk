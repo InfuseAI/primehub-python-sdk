{
 "cells": [
  {
   "cell_type": "markdown",
   "id": "9813dcab",
   "metadata": {},
   "source": [
    "# Secrets-wise operation\n",
    "\n",
    "This notebook demostrates common volumes-wise operations by using SDK.\n",
    "\n",
    "## Prerequisites\n",
    "\n",
    "You need\n",
    "\n",
    "- an SDK environment set up with the administrator priviledge. Check \"*environment setup.ipynb*\" for the detail."
   ]
  },
  {
   "cell_type": "markdown",
   "id": "6ed7b110",
   "metadata": {},
   "source": [
    "**Replace the value below with your PrimeHub domain (*http* or *https*).**"
   ]
  },
  {
   "cell_type": "code",
   "execution_count": null,
   "id": "409bea3a",
   "metadata": {},
   "outputs": [],
   "source": [
    "PRIMEHUB_CLUSTER = 'https://c.demo.primehub.io'"
   ]
  },
  {
   "cell_type": "markdown",
   "id": "ad78b217",
   "metadata": {},
   "source": [
    "**Check if the configuration exists. If not, you need to login to retrieve the token and input it in the prompt. The configuration will be generated at**`~/.primehub/config.json`."
   ]
  },
  {
   "cell_type": "code",
   "execution_count": null,
   "id": "cfc2bfbd",
   "metadata": {},
   "outputs": [],
   "source": [
    "import os\n",
    "from primehub import PrimeHub, PrimeHubConfig\n",
    "\n",
    "ph = PrimeHub(PrimeHubConfig())\n",
    "if ph.is_ready():\n",
    "    print(f\"PrimeHub Python SDK {ph.version.version()} environment is ready, you are good to go.\")\n",
    "    print(\"Current Group:\", ph.primehub_config.current_group)\n",
    "else:\n",
    "    print(\"Failed to retrieve the information from PrimeHub cluster, please check the configuration.\")"
   ]
  },
  {
   "cell_type": "markdown",
   "id": "b0084886",
   "metadata": {},
   "source": [
    "## ToC\n",
    "\n",
    "- [Fundamental Operations (CRUD)](#fundamental)\n",
    "- [Common Operations](#common)"
   ]
  },
  {
   "cell_type": "markdown",
   "id": "63f5672c",
   "metadata": {},
   "source": [
    "---\n",
    "## Fundamental Operations <a class=\"anchor\" id=\"fundamental\"></a>"
   ]
  },
  {
   "cell_type": "code",
   "execution_count": null,
   "id": "9f9948aa",
   "metadata": {},
   "outputs": [],
   "source": [
    "# Get the group id by the given group name\n",
    "group_name = 'Continental'\n",
    "groups = ph.admin.groups.list()\n",
    "for group in groups:\n",
    "    if group['name'] == group_name:\n",
    "        specified_group = group\n",
    "        \n",
    "group_detail = ph.admin.groups.get(specified_group['id'])\n",
    "group_detail"
   ]
  },
  {
   "cell_type": "markdown",
   "id": "b5c6fa9a",
   "metadata": {},
   "source": [
    "### Create secret\n",
    "\n",
    "Method: `ph.admin.secrets.create(configuration)`\n",
    "\n",
    "You can create two types of secret, *opaque* or *kubernetes*."
   ]
  },
  {
   "cell_type": "code",
   "execution_count": null,
   "id": "19022d68",
   "metadata": {},
   "outputs": [],
   "source": [
    "gitsync_secret_config = {\n",
    "  \"name\": \"git-secret\",\n",
    "  \"displayName\": \"git secret by sdk\",\n",
    "  \"type\": 'opaque', # Git Sync\n",
    "  \"secret\": \"a secret for git repository access\"\n",
    "}"
   ]
  },
  {
   "cell_type": "code",
   "execution_count": null,
   "id": "33a875a2",
   "metadata": {},
   "outputs": [],
   "source": [
    "gitsync_secret = ph.admin.secrets.create(gitsync_secret_config)\n",
    "\n",
    "ph.admin.secrets.get(gitsync_secret[\"id\"])"
   ]
  },
  {
   "cell_type": "code",
   "execution_count": null,
   "id": "674fbc76",
   "metadata": {},
   "outputs": [],
   "source": [
    "image_pull_secret_config = {\n",
    "  \"name\": \"image-pull-secret\",\n",
    "  \"displayName\": \"image pull secret by sdk\",\n",
    "  \"type\": 'kubernetes', # Image Pull\n",
    "  \"secret\": 'a secret for image-pull',\n",
    "  \"registryHost\": \"https://gcr.io\" ,\n",
    "  \"username\": \"username for gcr\",\n",
    "  \"password\": \"passwrod for gcr\"\n",
    "}"
   ]
  },
  {
   "cell_type": "code",
   "execution_count": null,
   "id": "43383aae",
   "metadata": {},
   "outputs": [],
   "source": [
    "image_pull_secret = ph.admin.secrets.create(image_pull_secret_config)\n",
    "ph.admin.secrets.get(image_pull_secret[\"id\"])"
   ]
  },
  {
   "cell_type": "markdown",
   "id": "1c60fb92",
   "metadata": {},
   "source": [
    "### Get secret Detail\n",
    "\n",
    "Method: `ph.admin.secrets.get(secret_id)`\n"
   ]
  },
  {
   "cell_type": "code",
   "execution_count": null,
   "id": "184b002a",
   "metadata": {},
   "outputs": [],
   "source": [
    "ph.admin.secrets.get(image_pull_secret['id'])"
   ]
  },
  {
   "cell_type": "markdown",
   "id": "5b44ad00",
   "metadata": {},
   "source": [
    "### Update secret Configuration\n",
    "\n",
    "Method: `ph.admin.secrets.update(configuration)`"
   ]
  },
  {
   "cell_type": "code",
   "execution_count": null,
   "id": "eb7287c3",
   "metadata": {},
   "outputs": [],
   "source": [
    "updating_config = {\n",
    "  \"displayName\": \"git secret updated by sdk\",\n",
    "  \"secret\": \"the secret has been updated\"\n",
    "}"
   ]
  },
  {
   "cell_type": "code",
   "execution_count": null,
   "id": "d08d8140",
   "metadata": {},
   "outputs": [],
   "source": [
    "ph.admin.secrets.update(gitsync_secret['id'], updating_config)\n",
    "\n",
    "ph.admin.secrets.get(gitsync_secret['id'])"
   ]
  },
  {
   "cell_type": "markdown",
   "id": "b9fa2a5c",
   "metadata": {},
   "source": [
    "### List All of secrets\n",
    "\n",
    "Method: `ph.admin.secrets.list()`"
   ]
  },
  {
   "cell_type": "code",
   "execution_count": null,
   "id": "decc4aae",
   "metadata": {},
   "outputs": [],
   "source": [
    "all_secrets = ph.admin.secrets.list()\n",
    "for secret in all_secrets:\n",
    "    print(secret)"
   ]
  },
  {
   "cell_type": "markdown",
   "id": "d1b11371",
   "metadata": {},
   "source": [
    "### Delete secret\n",
    "\n",
    "Method: `ph.admin.secrets.delete(secret_id)`"
   ]
  },
  {
   "cell_type": "code",
   "execution_count": null,
   "id": "1053c878",
   "metadata": {},
   "outputs": [],
   "source": [
    "ph.admin.secrets.delete(gitsync_secret['id'])"
   ]
  },
  {
   "cell_type": "markdown",
   "id": "7505a9d2",
   "metadata": {},
   "source": [
    "---\n",
    "\n",
    "## Common Operations <a class=\"anchor\" id=\"common\"></a>"
   ]
  },
  {
   "cell_type": "markdown",
   "id": "971655d7",
   "metadata": {},
   "source": [
    "### List Secrets by Type"
   ]
  },
  {
   "cell_type": "code",
   "execution_count": null,
   "id": "ffdff894",
   "metadata": {},
   "outputs": [],
   "source": [
    "selected_type = \"kubernetes\"\n",
    "all_secrets = ph.admin.secrets.list()\n",
    "gitsync_secrets = []\n",
    "for secret in all_secrets:\n",
    "    if secret[\"type\"] == selected_type:\n",
    "        gitsync_secrets.append(secret)\n",
    "\n",
    "gitsync_secrets"
   ]
  }
 ],
 "metadata": {
  "kernelspec": {
   "display_name": "Python 3",
   "language": "python",
   "name": "python3"
  },
  "language_info": {
   "codemirror_mode": {
    "name": "ipython",
    "version": 3
   },
   "file_extension": ".py",
   "mimetype": "text/x-python",
   "name": "python",
   "nbconvert_exporter": "python",
   "pygments_lexer": "ipython3",
   "version": "3.7.10"
  }
 },
 "nbformat": 4,
 "nbformat_minor": 5
}
