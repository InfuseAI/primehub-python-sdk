{
 "cells": [
  {
   "cell_type": "markdown",
   "id": "4cd0fc56",
   "metadata": {},
   "source": [
    "# User-wise operation\n",
    "\n",
    "This notebook demostrates common user-wise operations by using SDK.\n",
    "\n",
    "## Prerequisites\n",
    "\n",
    "You need\n",
    "\n",
    "- an SDK environment set up with the administrator priviledge. Check *environment setup.ipynb* for the detail."
   ]
  },
  {
   "cell_type": "markdown",
   "id": "0239be15",
   "metadata": {},
   "source": [
    "**Replace the value below with your PrimeHub domain (*http* or *https*).**"
   ]
  },
  {
   "cell_type": "code",
   "execution_count": null,
   "id": "d8d74181",
   "metadata": {},
   "outputs": [],
   "source": [
    "PRIMEHUB_CLUSTER = 'https://c.demo.primehub.io'"
   ]
  },
  {
   "cell_type": "markdown",
   "id": "d4e66361",
   "metadata": {},
   "source": [
    "**Check if the configuration exists. If not, you need to login to retrieve the token and input it in the prompt. The configuration will be generated at**`~/.primehub/config.json`."
   ]
  },
  {
   "cell_type": "code",
   "execution_count": null,
   "id": "aecc5e6d",
   "metadata": {},
   "outputs": [],
   "source": [
    "import os\n",
    "from primehub import PrimeHub, PrimeHubConfig\n",
    "\n",
    "ph = PrimeHub(PrimeHubConfig())\n",
    "if ph.is_ready():\n",
    "    print(f\"PrimeHub Python SDK {ph.version.version()} environment is ready, you are good to go.\")\n",
    "    print(\"Current Group:\", ph.primehub_config.current_group)\n",
    "else:\n",
    "    print(\"Failed to retrieve the information from PrimeHub cluster, please check the configuration.\")"
   ]
  },
  {
   "cell_type": "markdown",
   "id": "adb34dc5",
   "metadata": {},
   "source": [
    "## ToC\n",
    "\n",
    "- [Fundamental Operations (CRUD)](#fundamental)\n",
    "- [Common Operations](#common)"
   ]
  },
  {
   "cell_type": "markdown",
   "id": "b322fc83",
   "metadata": {},
   "source": [
    "## Fundamental Operations <a class=\"anchor\" id=\"fundamental\"></a>"
   ]
  },
  {
   "cell_type": "markdown",
   "id": "2086675b",
   "metadata": {},
   "source": [
    "### Create user with/without admin role\n",
    "\n",
    "Method `ph.admin.users.create(config)`\n",
    "\n",
    "By using `create()` with a configuration to :\n",
    "- create the user with the administration priviledge\n",
    "- enable user personal volume with the specified 2Gb capacity\n",
    "- Assign the user to the specified group"
   ]
  },
  {
   "cell_type": "markdown",
   "id": "573dc491",
   "metadata": {},
   "source": [
    "Before creating a user, let's decide which group the user belongs to. Check your PrimeHub and replace the `group_name` with yours."
   ]
  },
  {
   "cell_type": "code",
   "execution_count": null,
   "id": "55643992",
   "metadata": {},
   "outputs": [],
   "source": [
    "# Get the group id by the given group name\n",
    "group_name = 'Continental'\n",
    "groups = ph.admin.groups.list()\n",
    "for group in groups:\n",
    "    if group['name'] == group_name:\n",
    "        assigned_group = group\n",
    "print(assigned_group)"
   ]
  },
  {
   "cell_type": "markdown",
   "id": "5d211203",
   "metadata": {},
   "source": [
    "Let's prepare the configuration of creating a user, jonh-wick, and assign him to the group, continental."
   ]
  },
  {
   "cell_type": "code",
   "execution_count": null,
   "id": "87ea9469",
   "metadata": {},
   "outputs": [],
   "source": [
    "# Prepare a user configuration with admin role\n",
    "config = {\n",
    "  \"username\": \"john-wick\",\n",
    "  \"groups\": {\n",
    "    \"connect\": [ # assigned groups\n",
    "      {\n",
    "        \"id\": assigned_group['id'] # it takes group id only\n",
    "      }\n",
    "    ]\n",
    "  },\n",
    "  \"isAdmin\": True, # grant the user administration priviledge\n",
    "  \"volumeCapacity\": 2 # user personal volume \n",
    "}"
   ]
  },
  {
   "cell_type": "code",
   "execution_count": null,
   "id": "b12d3db0",
   "metadata": {},
   "outputs": [],
   "source": [
    "data = ph.admin.users.create(config)\n",
    "data"
   ]
  },
  {
   "cell_type": "markdown",
   "id": "3a6e1e85",
   "metadata": {},
   "source": [
    "### Get User Info\n",
    "\n",
    "Get the specified user information by the user's id."
   ]
  },
  {
   "cell_type": "code",
   "execution_count": null,
   "id": "afea82c7",
   "metadata": {},
   "outputs": [],
   "source": [
    "# Get the user id by the given user name\n",
    "user_name = 'john-wick'\n",
    "users = ph.admin.users.list()\n",
    "for user in users:\n",
    "    if user['username'] == user_name:\n",
    "        specified_user = user"
   ]
  },
  {
   "cell_type": "code",
   "execution_count": null,
   "id": "c15d9017",
   "metadata": {},
   "outputs": [],
   "source": [
    "# get the user info\n",
    "ph.admin.users.get(specified_user['id'])"
   ]
  },
  {
   "cell_type": "markdown",
   "id": "922c3b72",
   "metadata": {},
   "source": [
    "### Assign User One Group\n",
    "\n",
    "Method `ph.admin.users.add_group(user_id, group_id`)"
   ]
  },
  {
   "cell_type": "code",
   "execution_count": null,
   "id": "643aba64",
   "metadata": {},
   "outputs": [],
   "source": [
    "# Get the user id by the given user name\n",
    "user_name = 'john-wick'\n",
    "users = ph.admin.users.list()\n",
    "for user in users:\n",
    "    if user['username'] == user_name:\n",
    "        specified_user = user\n",
    "specified_user"
   ]
  },
  {
   "cell_type": "code",
   "execution_count": null,
   "id": "73e3720c",
   "metadata": {},
   "outputs": [],
   "source": [
    "# add_group(user_id, group_id)\n",
    "ph.admin.users.add_group(specified_user['id'], assigned_group['id'])\n",
    "\n",
    "# verify\n",
    "ph.admin.users.list_groups(specified_user['id'])"
   ]
  },
  {
   "cell_type": "markdown",
   "id": "a489bde0",
   "metadata": {},
   "source": [
    "### Remove User From One Group\n",
    "\n",
    "Method `ph.admin.users.remove_group(user_id, group_id)`"
   ]
  },
  {
   "cell_type": "code",
   "execution_count": null,
   "id": "ed39d164",
   "metadata": {},
   "outputs": [],
   "source": [
    "# remove John Wick from Continental\n",
    "ph.admin.users.remove_group(specified_user['id'], assigned_group['id'])\n",
    "\n",
    "# verify\n",
    "ph.admin.users.list_groups(specified_user['id'])"
   ]
  },
  {
   "cell_type": "markdown",
   "id": "b56c150d",
   "metadata": {},
   "source": [
    "### Update User\n",
    "\n",
    "Method `ph.admin.users.update(user_id, config)`\n",
    "\n",
    "By using `update()`, we can have a user sophiscated updates at once\n",
    "\n",
    "Such as two changes as below in one update\n",
    "- remove the user from the group\n",
    "- revoke user's administration prviledge"
   ]
  },
  {
   "cell_type": "code",
   "execution_count": null,
   "id": "e35c3e4c",
   "metadata": {},
   "outputs": [],
   "source": [
    "# Get the user id by the given user name\n",
    "user_name = 'john-wick'\n",
    "users = ph.admin.users.list()\n",
    "for user in users:\n",
    "    if user['username'] == user_name:\n",
    "        specified_user = user\n",
    "specified_user"
   ]
  },
  {
   "cell_type": "markdown",
   "id": "e9f8ddce",
   "metadata": {},
   "source": [
    "Let's remove john-wick from *Continental* and revoke his administration priviledge (*Excommunicado*) in one update."
   ]
  },
  {
   "cell_type": "code",
   "execution_count": null,
   "id": "2d89cb35",
   "metadata": {},
   "outputs": [],
   "source": [
    "config = {\n",
    "  \"groups\": {\n",
    "    \"disconnect\": [ # assigned groups\n",
    "      {\n",
    "        \"id\": assigned_group['id']\n",
    "      }\n",
    "    ]\n",
    "  },\n",
    "  \"isAdmin\": False, # grant the user administration priviledge\n",
    "}"
   ]
  },
  {
   "cell_type": "code",
   "execution_count": null,
   "id": "349a1b83",
   "metadata": {},
   "outputs": [],
   "source": [
    "result = ph.admin.users.update(specified_user['id'], config) # it takes the specified user id only.\n",
    "result"
   ]
  },
  {
   "cell_type": "markdown",
   "id": "b978b8ee",
   "metadata": {},
   "source": [
    "### Delete User\n",
    "\n",
    "Delete the specified user by the user's id."
   ]
  },
  {
   "cell_type": "code",
   "execution_count": null,
   "id": "be2e456f",
   "metadata": {},
   "outputs": [],
   "source": [
    "# Get the user id by the given user name\n",
    "user_name = 'john-wick'\n",
    "users = ph.admin.users.list()\n",
    "for user in users:\n",
    "    if user['username'] == user_name:\n",
    "        specified_user = user\n",
    "specified_user"
   ]
  },
  {
   "cell_type": "code",
   "execution_count": null,
   "id": "f807f8a9",
   "metadata": {},
   "outputs": [],
   "source": [
    "ph.admin.users.delete(specified_user['id'])"
   ]
  },
  {
   "cell_type": "markdown",
   "id": "0962247c",
   "metadata": {},
   "source": [
    "## Common Operations <a class=\"anchor\" id=\"common\"></a>"
   ]
  },
  {
   "cell_type": "markdown",
   "id": "5a12e3d2",
   "metadata": {},
   "source": [
    "### Get group list of a specified user"
   ]
  },
  {
   "cell_type": "code",
   "execution_count": null,
   "id": "bb9f6cb9",
   "metadata": {},
   "outputs": [],
   "source": [
    "# Get the user id by the given user name\n",
    "user_name = 'john-wick'\n",
    "users = ph.admin.users.list()\n",
    "for user in users:\n",
    "    if user['username'] == user_name:\n",
    "        specified_user = user\n",
    "specified_user"
   ]
  },
  {
   "cell_type": "code",
   "execution_count": null,
   "id": "39a3102b",
   "metadata": {},
   "outputs": [],
   "source": [
    "ph.admin.users.get(specified_user['id'])['groups']"
   ]
  },
  {
   "cell_type": "markdown",
   "id": "c65d97c0",
   "metadata": {},
   "source": [
    "### Get admin user list"
   ]
  },
  {
   "cell_type": "code",
   "execution_count": null,
   "id": "89fb6547",
   "metadata": {},
   "outputs": [],
   "source": [
    "users = ph.admin.users.list()\n",
    "admin_users = []\n",
    "for user in users:\n",
    "    if user['isAdmin']:\n",
    "        admin_users.append(user)\n",
    "admin_users"
   ]
  },
  {
   "cell_type": "markdown",
   "id": "d3ec18ed",
   "metadata": {},
   "source": [
    "### Get disabled user list"
   ]
  },
  {
   "cell_type": "code",
   "execution_count": null,
   "id": "59756b53",
   "metadata": {},
   "outputs": [],
   "source": [
    "users = ph.admin.users.list()\n",
    "disabled_users = []\n",
    "for user in users:\n",
    "    if not user['enabled']:\n",
    "        disabled_users.append(user)\n",
    "disabled_users"
   ]
  }
 ],
 "metadata": {
  "kernelspec": {
   "display_name": "Python 3",
   "language": "python",
   "name": "python3"
  },
  "language_info": {
   "codemirror_mode": {
    "name": "ipython",
    "version": 3
   },
   "file_extension": ".py",
   "mimetype": "text/x-python",
   "name": "python",
   "nbconvert_exporter": "python",
   "pygments_lexer": "ipython3",
   "version": "3.7.10"
  }
 },
 "nbformat": 4,
 "nbformat_minor": 5
}
