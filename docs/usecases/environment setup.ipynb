{
 "cells": [
  {
   "cell_type": "markdown",
   "id": "bc587508",
   "metadata": {},
   "source": [
    "# PrimeHub Python SDK Setup\n",
    "\n",
    "PrimeHub Python SDK allows you to access PrimeHub platform programmically that you can automate workflows and have the integration with the existing infrastructure.\n",
    "\n",
    "## Prerequisites\n",
    "\n",
    "Before using this SDK, you need\n",
    "\n",
    "- PrimeHub user account as the *administrator*\n",
    "- installled *primehub-python-sdk*\n",
    "- stored `~/.primehub/config.json` file"
   ]
  },
  {
   "cell_type": "markdown",
   "id": "e65022ec",
   "metadata": {},
   "source": [
    "## Set up the environment"
   ]
  },
  {
   "cell_type": "markdown",
   "id": "db61af40",
   "metadata": {},
   "source": [
    "### Install the Python SDK package"
   ]
  },
  {
   "cell_type": "code",
   "execution_count": null,
   "id": "49f8729a",
   "metadata": {},
   "outputs": [],
   "source": [
    "!pip install -U primehub-python-sdk"
   ]
  },
  {
   "cell_type": "markdown",
   "id": "007c8d7e",
   "metadata": {},
   "source": [
    "### Initialize the configuration\n",
    "\n",
    "You will be prompted to login the user account to retrieve the dedicated token which will be stored in the configuration."
   ]
  },
  {
   "cell_type": "markdown",
   "id": "f65a7cd8",
   "metadata": {},
   "source": [
    "**Replace the value below with your PrimeHub domain (*http* or *https*).**"
   ]
  },
  {
   "cell_type": "code",
   "execution_count": null,
   "id": "632296f5",
   "metadata": {},
   "outputs": [],
   "source": [
    "PRIMEHUB_CLUSTER = 'https://c.demo.primehub.io/'"
   ]
  },
  {
   "cell_type": "markdown",
   "id": "a68deafb",
   "metadata": {},
   "source": [
    "**Check if the configuration exists. If not, you need to login to retrieve the token and input it in the prompt. The configuration will be generated at**`~/.primehub/config.json`."
   ]
  },
  {
   "cell_type": "code",
   "execution_count": null,
   "id": "b5d398e2",
   "metadata": {},
   "outputs": [],
   "source": [
    "import os\n",
    "from primehub import PrimeHub, PrimeHubConfig\n",
    "\n",
    "ph = PrimeHub(PrimeHubConfig())\n",
    "if not os.path.isfile(os.path.join(os.getenv(\"HOME\"), \".primehub/config.json\")):\n",
    "    ph.config.generate(PRIMEHUB_CLUSTER)"
   ]
  },
  {
   "cell_type": "markdown",
   "id": "3709ddbd",
   "metadata": {},
   "source": [
    "### Verify the environment"
   ]
  },
  {
   "cell_type": "code",
   "execution_count": null,
   "id": "31e0cf90",
   "metadata": {},
   "outputs": [],
   "source": [
    "ph = PrimeHub(PrimeHubConfig())\n",
    "if ph.is_ready():\n",
    "    print(f\"PrimeHub Python SDK {ph.version.version()} environment is ready, you are good to go.\")\n",
    "    print(\"Current Group:\", ph.primehub_config.current_group)\n",
    "else:\n",
    "    print(\"Failed to retrieve the information from PrimeHub cluster, please check the configuration.\")"
   ]
  },
  {
   "cell_type": "markdown",
   "id": "22f43b52",
   "metadata": {},
   "source": [
    "**Is the user account an administrator**\n",
    "\n",
    "By the return of`ph.me.me()`, you can tell if the account is an administrator by the `isAdmin` property."
   ]
  },
  {
   "cell_type": "code",
   "execution_count": null,
   "id": "d6bea7c2",
   "metadata": {},
   "outputs": [],
   "source": [
    "account_information = ph.me.me()\n",
    "print(account_information)\n",
    "account_information['isAdmin']"
   ]
  }
 ],
 "metadata": {
  "kernelspec": {
   "display_name": "Python 3",
   "language": "python",
   "name": "python3"
  },
  "language_info": {
   "codemirror_mode": {
    "name": "ipython",
    "version": 3
   },
   "file_extension": ".py",
   "mimetype": "text/x-python",
   "name": "python",
   "nbconvert_exporter": "python",
   "pygments_lexer": "ipython3",
   "version": "3.7.10"
  }
 },
 "nbformat": 4,
 "nbformat_minor": 5
}
