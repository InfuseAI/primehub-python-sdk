{
 "cells": [
  {
   "cell_type": "markdown",
   "id": "66fcea6e",
   "metadata": {},
   "source": [
    "# InstanceTypes-wise operation\n",
    "\n",
    "This notebook demostrates common instancetypes-wise operations by using SDK.\n",
    "\n",
    "## Prerequisites\n",
    "\n",
    "You need\n",
    "\n",
    "- an SDK environment set up with the administrator priviledge. Check \"*environment setup.ipynb*\" for the detail."
   ]
  },
  {
   "cell_type": "markdown",
   "id": "1cb8ac76",
   "metadata": {},
   "source": [
    "**Replace the value below with your PrimeHub domain (*http* or *https*).**"
   ]
  },
  {
   "cell_type": "code",
   "execution_count": null,
   "id": "71e83b36",
   "metadata": {},
   "outputs": [],
   "source": [
    "PRIMEHUB_CLUSTER = 'https://c.demo.primehub.io'"
   ]
  },
  {
   "cell_type": "markdown",
   "id": "ceed2d1f",
   "metadata": {},
   "source": [
    "**Check if the configuration exists. If not, you need to login to retrieve the token and input it in the prompt. The configuration will be generated at**`~/.primehub/config.json`."
   ]
  },
  {
   "cell_type": "code",
   "execution_count": null,
   "id": "3c3881e6",
   "metadata": {},
   "outputs": [],
   "source": [
    "import os\n",
    "from primehub import PrimeHub, PrimeHubConfig\n",
    "\n",
    "ph = PrimeHub(PrimeHubConfig())\n",
    "if ph.is_ready():\n",
    "    print(f\"PrimeHub Python SDK {ph.version.version()} environment is ready, you are good to go.\")\n",
    "    print(\"Current Group:\", ph.primehub_config.current_group)\n",
    "else:\n",
    "    print(\"Failed to retrieve the information from PrimeHub cluster, please check the configuration.\")"
   ]
  },
  {
   "cell_type": "markdown",
   "id": "5784fb94",
   "metadata": {},
   "source": [
    "## ToC\n",
    "\n",
    "- [Fundamental Operations (CRUD)](#fundamental)\n",
    "- [Common Operations](#common)"
   ]
  },
  {
   "cell_type": "markdown",
   "id": "0e0a3309",
   "metadata": {},
   "source": [
    "---\n",
    "## Fundamental Operations <a class=\"anchor\" id=\"fundamental\"></a>"
   ]
  },
  {
   "cell_type": "code",
   "execution_count": null,
   "id": "7a041006",
   "metadata": {},
   "outputs": [],
   "source": [
    "# Get the group id by the given group name\n",
    "group_name = 'Continental'\n",
    "groups = ph.admin.groups.list()\n",
    "for group in groups:\n",
    "    if group['name'] == group_name:\n",
    "        specified_group = group\n",
    "        \n",
    "group_detail = ph.admin.groups.get(specified_group['id'])\n",
    "group_detail"
   ]
  },
  {
   "cell_type": "markdown",
   "id": "b30bc9aa",
   "metadata": {},
   "source": [
    "### Create InstanceType\n",
    "\n",
    "Method: `ph.admin.instancetypes.create(instancetype_configuration)`\n",
    "\n",
    "You can opt for adding a *global instancetype* or an *instancetype connecting specified groups*."
   ]
  },
  {
   "cell_type": "code",
   "execution_count": null,
   "id": "78a73ff8",
   "metadata": {},
   "outputs": [],
   "source": [
    "instancetype_config_global = {\n",
    "  \"name\": \"basic-global\",\n",
    "  \"displayName\": \"Basic-Global by SDK\",\n",
    "  \"description\": \"1 CPU / 1GB Mem\",\n",
    "  \"cpuLimit\": 1,\n",
    "  \"memoryLimit\": 1,\n",
    "  \"global\": True\n",
    "}\n",
    "\n",
    "instancetype_config_with_specified_groups = {\n",
    "  \"name\": \"basic-group\",\n",
    "  \"displayName\": \"Basic-Groups by SDK\",\n",
    "  \"description\": \"1 CPU / 1GB Mem\",\n",
    "  \"cpuLimit\": 1,\n",
    "  \"memoryLimit\": 1,\n",
    "  \"groups\": {\n",
    "    \"connect\": [\n",
    "      {\n",
    "        \"id\": specified_group['id'],\n",
    "      }\n",
    "    ]\n",
    "  }\n",
    "}"
   ]
  },
  {
   "cell_type": "code",
   "execution_count": null,
   "id": "6aba3193",
   "metadata": {},
   "outputs": [],
   "source": [
    "instancetype = ph.admin.instancetypes.create(instancetype_config_with_specified_groups)\n",
    "instancetype"
   ]
  },
  {
   "cell_type": "markdown",
   "id": "585743b2",
   "metadata": {},
   "source": [
    "### Get InstanceType Detail\n",
    "\n",
    "Method: `ph.admin.instancetypes.get(instancetype_id)`"
   ]
  },
  {
   "cell_type": "code",
   "execution_count": null,
   "id": "2d46df26",
   "metadata": {},
   "outputs": [],
   "source": [
    "ph.admin.instancetypes.get(instancetype['id'])"
   ]
  },
  {
   "cell_type": "markdown",
   "id": "091b43e9",
   "metadata": {},
   "source": [
    "### Update InstanceType Configuration\n",
    "\n",
    "Method: `ph.admin.instancetypes.update(instancetype_id, config)`"
   ]
  },
  {
   "cell_type": "code",
   "execution_count": null,
   "id": "8415ed66",
   "metadata": {},
   "outputs": [],
   "source": [
    "updating_config = {\n",
    "  \"description\": \"4 CPU / 4GB Mem\",\n",
    "  \"gpuLimit\": 2,\n",
    "}"
   ]
  },
  {
   "cell_type": "code",
   "execution_count": null,
   "id": "6044d3ff",
   "metadata": {},
   "outputs": [],
   "source": [
    "ph.admin.instancetypes.update(instancetype['id'], updating_config)\n",
    "\n",
    "#Verify\n",
    "ph.admin.instancetypes.get(instancetype['id'])"
   ]
  },
  {
   "cell_type": "markdown",
   "id": "5619da15",
   "metadata": {},
   "source": [
    "### Get connected Groups of InstanceTypes\n",
    "\n",
    "Method: `ph.admin.instancetypes.list_groups('instancetype_id')`"
   ]
  },
  {
   "cell_type": "code",
   "execution_count": null,
   "id": "4897c996",
   "metadata": {},
   "outputs": [],
   "source": [
    "ph.admin.instancetypes.list_groups(instancetype['id'])"
   ]
  },
  {
   "cell_type": "markdown",
   "id": "8bb8cffe",
   "metadata": {},
   "source": [
    "### List All of InstaceTypes\n",
    "\n",
    "Method: `ph.admin.instancetypes.list()`"
   ]
  },
  {
   "cell_type": "code",
   "execution_count": null,
   "id": "23dffe85",
   "metadata": {},
   "outputs": [],
   "source": [
    "all_images = ph.admin.instancetypes.list()\n",
    "for image in all_images:\n",
    "    print(image)"
   ]
  },
  {
   "cell_type": "markdown",
   "id": "edcb1771",
   "metadata": {},
   "source": [
    "### Delete InstanceType\n",
    "\n",
    "Method: `ph.admin.instancetype.delete(instancetype_id)`"
   ]
  },
  {
   "cell_type": "code",
   "execution_count": null,
   "id": "4d8597b3",
   "metadata": {},
   "outputs": [],
   "source": [
    "ph.admin.instancetypes.delete(instancetype['id'])"
   ]
  },
  {
   "cell_type": "markdown",
   "id": "84df3fea",
   "metadata": {},
   "source": [
    "---\n",
    "\n",
    "## Common Operations <a class=\"anchor\" id=\"common\"></a>"
   ]
  },
  {
   "cell_type": "markdown",
   "id": "12f9eb47",
   "metadata": {},
   "source": [
    "### Connect/Disconnect InstanceType to Group\n",
    "\n",
    "Method: \n",
    "- `ph.admin.instancetypes.add_group('instancetype_id', 'group_id')`\n",
    "- `ph.admin.instancetypes.remove_group('instancetype_id', 'group_id')`"
   ]
  },
  {
   "cell_type": "code",
   "execution_count": null,
   "id": "8c243e87",
   "metadata": {},
   "outputs": [],
   "source": [
    "instancetype_id = 'basic-group'\n",
    "\n",
    "ph.admin.instancetypes.add_group(instancetype_id, specified_group['id'])\n",
    "\n",
    "#Verify\n",
    "ph.admin.instancetypes.list_groups(instancetype_id)"
   ]
  },
  {
   "cell_type": "code",
   "execution_count": null,
   "id": "bab9b645",
   "metadata": {},
   "outputs": [],
   "source": [
    "ph.admin.instancetypes.remove_group(instancetype_id, specified_group['id'])\n",
    "\n",
    "#Verify\n",
    "ph.admin.instancetypes.list_groups(instancetype_id)"
   ]
  },
  {
   "cell_type": "markdown",
   "id": "ef7ebcc6",
   "metadata": {},
   "source": [
    "### Add/Remove Toleration on InstanceType"
   ]
  },
  {
   "cell_type": "markdown",
   "id": "336ab13a",
   "metadata": {},
   "source": [
    "By `ph.admin.instancetypes.update()` you can add a tolerations on the instancetype."
   ]
  },
  {
   "cell_type": "code",
   "execution_count": null,
   "id": "9f164bde",
   "metadata": {},
   "outputs": [],
   "source": [
    "# Add\n",
    "toleration_config = {\n",
    "  \"tolerations\": {\n",
    "    \"set\": [\n",
    "      {\n",
    "        \"operator\": \"Equal\",\n",
    "        \"effect\": \"NoSchedule\",\n",
    "        \"key\": \"nvidia.com/gpu\",\n",
    "        \"value\": \"v100\"\n",
    "      }\n",
    "    ]\n",
    "  }\n",
    "}\n",
    "ph.admin.instancetypes.update(instancetype['id'], toleration_config)\n",
    "\n",
    "ph.admin.instancetypes.get(instancetype['id'])"
   ]
  },
  {
   "cell_type": "code",
   "execution_count": null,
   "id": "70ae4737",
   "metadata": {},
   "outputs": [],
   "source": [
    "# Remove, update the config with an empty spec []\n",
    "toleration_config = {\n",
    "  \"tolerations\": {\n",
    "    \"set\": []\n",
    "  }\n",
    "}\n",
    "ph.admin.instancetypes.update(instancetype['id'], toleration_config)\n",
    "\n",
    "ph.admin.instancetypes.get(instancetype['id'])"
   ]
  },
  {
   "cell_type": "markdown",
   "id": "4e3f86e8",
   "metadata": {},
   "source": [
    "### Add/Remove Node Selector on InstanceType\n",
    "\n",
    "By `ph.admin.instancetypes.update()` you can add a NodeSelector on instancetype."
   ]
  },
  {
   "cell_type": "code",
   "execution_count": null,
   "id": "fd5567bc",
   "metadata": {},
   "outputs": [],
   "source": [
    "# Add\n",
    "nodeselector_config = {\n",
    "  \"nodeSelector\": {\"zone\": \"staging\"}\n",
    "}\n",
    "\n",
    "ph.admin.instancetypes.update(instancetype['id'], nodeselector_config)\n",
    "ph.admin.instancetypes.get(instancetype['id'])"
   ]
  },
  {
   "cell_type": "code",
   "execution_count": null,
   "id": "ae4d73a4",
   "metadata": {},
   "outputs": [],
   "source": [
    "# Remove, update the config with None\n",
    "nodeselector_config = {\n",
    "  \"nodeSelector\": None\n",
    "}\n",
    "\n",
    "ph.admin.instancetypes.update(instancetype['id'], nodeselector_config)\n",
    "ph.admin.instancetypes.get(instancetype['id'])"
   ]
  }
 ],
 "metadata": {
  "kernelspec": {
   "display_name": "Python 3",
   "language": "python",
   "name": "python3"
  },
  "language_info": {
   "codemirror_mode": {
    "name": "ipython",
    "version": 3
   },
   "file_extension": ".py",
   "mimetype": "text/x-python",
   "name": "python",
   "nbconvert_exporter": "python",
   "pygments_lexer": "ipython3",
   "version": "3.7.10"
  }
 },
 "nbformat": 4,
 "nbformat_minor": 5
}
