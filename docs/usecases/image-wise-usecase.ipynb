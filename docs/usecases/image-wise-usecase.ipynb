{
 "cells": [
  {
   "cell_type": "markdown",
   "id": "9ec29b42",
   "metadata": {},
   "source": [
    "# Image-wise operation\n",
    "\n",
    "This notebook demostrates common image-wise operations by using SDK.\n",
    "\n",
    "## Prerequisites\n",
    "\n",
    "You need\n",
    "\n",
    "- an SDK environment set up with the administrator priviledge. Check \"*environment setup.ipynb*\" for the detail."
   ]
  },
  {
   "cell_type": "markdown",
   "id": "2420ffdf",
   "metadata": {},
   "source": [
    "**Replace the value below with your PrimeHub domain (*http* or *https*).**"
   ]
  },
  {
   "cell_type": "code",
   "execution_count": null,
   "id": "d338df8b",
   "metadata": {},
   "outputs": [],
   "source": [
    "PRIMEHUB_CLUSTER = 'https://c.demo.primehub.io'"
   ]
  },
  {
   "cell_type": "markdown",
   "id": "8e63f6a4",
   "metadata": {},
   "source": [
    "**Check if the configuration exists. If not, you need to login to retrieve the token and input it in the prompt. The configuration will be generated at**`~/.primehub/config.json`."
   ]
  },
  {
   "cell_type": "code",
   "execution_count": null,
   "id": "70649bdd",
   "metadata": {},
   "outputs": [],
   "source": [
    "import os\n",
    "from primehub import PrimeHub, PrimeHubConfig\n",
    "\n",
    "ph = PrimeHub(PrimeHubConfig())\n",
    "if ph.is_ready():\n",
    "    print(f\"PrimeHub Python SDK {ph.version.version()} environment is ready, you are good to go.\")\n",
    "    print(\"Current Group:\", ph.primehub_config.current_group)\n",
    "else:\n",
    "    print(\"Failed to retrieve the information from PrimeHub cluster, please check the configuration.\")"
   ]
  },
  {
   "cell_type": "markdown",
   "id": "f1644981",
   "metadata": {},
   "source": [
    "## ToC\n",
    "\n",
    "- [Fundamental Operations (CRUD)](#fundamental)\n",
    "- [Common Operations](#common)"
   ]
  },
  {
   "cell_type": "markdown",
   "id": "cb657f40",
   "metadata": {},
   "source": [
    "---\n",
    "## Fundamental Operations <a class=\"anchor\" id=\"fundamental\"></a>"
   ]
  },
  {
   "cell_type": "code",
   "execution_count": null,
   "id": "b33e91e9",
   "metadata": {},
   "outputs": [],
   "source": [
    "# Get the group id by the given group name\n",
    "group_name = 'Continental'\n",
    "groups = ph.admin.groups.list()\n",
    "for group in groups:\n",
    "    if group['name'] == group_name:\n",
    "        specified_group = group\n",
    "        \n",
    "group_detail = ph.admin.groups.get(specified_group['id'])\n",
    "group_detail"
   ]
  },
  {
   "cell_type": "markdown",
   "id": "0b2bad7a",
   "metadata": {},
   "source": [
    "### Add existing Image from Image Registry\n",
    "\n",
    "Method: `ph.admin.images.create(image_configuration)`\n",
    "\n",
    "You can opt for adding a *global image* or adding *an image connecting specified groups*."
   ]
  },
  {
   "cell_type": "code",
   "execution_count": null,
   "id": "d57e5b59",
   "metadata": {},
   "outputs": [],
   "source": [
    "image_config_global = {\n",
    "  \"name\": \"sdk-test-base-global\",\n",
    "  \"displayName\": \"Base image by SDK\",\n",
    "  \"description\": \"base-notebook with python 3.7\",\n",
    "  \"type\": \"both\",\n",
    "  \"url\": \"infuseai/docker-stacks:base-notebook-63fdf50a\",\n",
    "  \"urlForGpu\": \"infuseai/docker-stacks:base-notebook-63fdf50a-gpu\",\n",
    "  \"global\": True\n",
    "  #\"useImagePullSecret\": 'secret_id'\n",
    "}\n",
    "\n",
    "\n",
    "image_config_with_specified_groups = {\n",
    "  \"name\": \"sdk-test-base\",\n",
    "  \"displayName\": \"Base image by SDK with specified groups\",\n",
    "  \"description\": \"base-notebook with python 3.7\",\n",
    "  \"type\": \"both\",\n",
    "  \"url\": \"infuseai/docker-stacks:base-notebook-63fdf50a\",\n",
    "  \"urlForGpu\": \"infuseai/docker-stacks:base-notebook-63fdf50a-gpu\",\n",
    "  \"global\": False,\n",
    "  \"groups\": {\n",
    "    \"connect\": [\n",
    "      {\n",
    "        \"id\": specified_group['id'],\n",
    "      }\n",
    "    ]\n",
    "  },\n",
    "  #\"useImagePullSecret\": 'secret_id'\n",
    "}\n"
   ]
  },
  {
   "cell_type": "code",
   "execution_count": null,
   "id": "9fd8b282",
   "metadata": {},
   "outputs": [],
   "source": [
    "created_image = ph.admin.images.create(image_config_with_specified_groups)\n",
    "created_image"
   ]
  },
  {
   "cell_type": "markdown",
   "id": "24e16147",
   "metadata": {},
   "source": [
    "### Update Image Configuration\n",
    "\n",
    "Method: `ph.admin.images.update('image_id', configuration)`"
   ]
  },
  {
   "cell_type": "code",
   "execution_count": null,
   "id": "2e496c8e",
   "metadata": {},
   "outputs": [],
   "source": [
    "updating_config = {\n",
    "    \"description\": \"Base image updated by SDK example\"\n",
    "}\n",
    "\n",
    "ph.admin.images.update(created_image['id'], updating_config)"
   ]
  },
  {
   "cell_type": "markdown",
   "id": "648171d1",
   "metadata": {},
   "source": [
    "### Get Image Detail Info\n",
    "\n",
    "Method: `ph.admin.images.get('image_'id)`"
   ]
  },
  {
   "cell_type": "code",
   "execution_count": null,
   "id": "9eb4565e",
   "metadata": {},
   "outputs": [],
   "source": [
    "ph.admin.images.get(created_image['id'])"
   ]
  },
  {
   "cell_type": "markdown",
   "id": "5e72c4c9",
   "metadata": {},
   "source": [
    "### Get connected Groups of Image\n",
    "\n",
    "Method: `ph.admin.images.list_groups('image_id')`"
   ]
  },
  {
   "cell_type": "code",
   "execution_count": null,
   "id": "0b038a85",
   "metadata": {},
   "outputs": [],
   "source": [
    "ph.admin.images.list_groups(created_image['id'])"
   ]
  },
  {
   "cell_type": "markdown",
   "id": "b29c50d5",
   "metadata": {},
   "source": [
    "### List All of Images\n",
    "\n",
    "Method: `ph.admin.images.list()`"
   ]
  },
  {
   "cell_type": "code",
   "execution_count": null,
   "id": "9a1fad3b",
   "metadata": {},
   "outputs": [],
   "source": [
    "all_images = ph.admin.images.list()\n",
    "for image in all_images:\n",
    "    print(image)"
   ]
  },
  {
   "cell_type": "markdown",
   "id": "061ab63a",
   "metadata": {},
   "source": [
    "### Delete Image\n",
    "\n",
    "Method: `ph.admin.images.delete('image_id')`"
   ]
  },
  {
   "cell_type": "code",
   "execution_count": null,
   "id": "79367521",
   "metadata": {},
   "outputs": [],
   "source": [
    "ph.admin.images.delete(created_image['id'])"
   ]
  },
  {
   "cell_type": "markdown",
   "id": "c8f700ac",
   "metadata": {},
   "source": [
    "---\n",
    "\n",
    "## Common Operations <a class=\"anchor\" id=\"common\"></a>"
   ]
  },
  {
   "cell_type": "markdown",
   "id": "cb48c979",
   "metadata": {},
   "source": [
    "### Connect/Disconnect Image to Group\n",
    "\n",
    "Method: \n",
    "- `ph.admin.images.add_group('image_id', 'group_id')`\n",
    "- `ph.admin.images.remove_group('image_id', 'group_id')`"
   ]
  },
  {
   "cell_type": "code",
   "execution_count": null,
   "id": "1510e584",
   "metadata": {},
   "outputs": [],
   "source": [
    "image_id = 'bitfusion-tf-cuda11'\n",
    "ph.admin.images.add_group(image_id, specified_group['id'])\n",
    "\n",
    "# Verify\n",
    "ph.admin.images.list_groups(image_id)"
   ]
  },
  {
   "cell_type": "code",
   "execution_count": null,
   "id": "7759b0b1",
   "metadata": {},
   "outputs": [],
   "source": [
    "ph.admin.images.remove_group(image_id, specified_group['id'])\n",
    "\n",
    "# Verify\n",
    "ph.admin.images.list_groups(image_id)"
   ]
  },
  {
   "cell_type": "markdown",
   "id": "8dd92f71",
   "metadata": {},
   "source": [
    "### Create ImagePull secret\n",
    "\n",
    "By using `ph.admin.secrets.create()` to create the pull secret."
   ]
  },
  {
   "cell_type": "code",
   "execution_count": null,
   "id": "d11fc3d6",
   "metadata": {},
   "outputs": [],
   "source": [
    "secret_config = {\n",
    "    \"name\": \"secret-created-by-sdk\",\n",
    "    \"type\": \"opaque\",\n",
    "    \"secret\": \"keep it secret\"\n",
    "}\n",
    "secret = ph.admin.secrets.create(secret_config)\n",
    "secret"
   ]
  },
  {
   "cell_type": "markdown",
   "id": "1448a6bf",
   "metadata": {},
   "source": [
    "### Add Image by Building a custom image\n",
    "\n",
    "By using `ph.admin.images.create()` with the image configruation containing `imageSpec` of the custom image."
   ]
  },
  {
   "cell_type": "code",
   "execution_count": null,
   "id": "3bcfeb05",
   "metadata": {},
   "outputs": [],
   "source": [
    "# Create an custom image\n",
    "config = {\n",
    "  \"name\": \"custom-image-built-by-sdk\",\n",
    "  \"type\": \"both\",\n",
    "  \"global\": True,\n",
    "  \"imageSpec\": {\n",
    "    \"baseImage\": \"jupyter/base-notebook\",\n",
    "    \"packages\": {\n",
    "      \"pip\": [\n",
    "        \"primehub-python-sdk\"\n",
    "      ]\n",
    "    }\n",
    "  }\n",
    "}"
   ]
  },
  {
   "cell_type": "code",
   "execution_count": null,
   "id": "514882d4",
   "metadata": {},
   "outputs": [],
   "source": [
    "image_custom = ph.admin.images.create(config)"
   ]
  },
  {
   "cell_type": "markdown",
   "id": "50a11315",
   "metadata": {},
   "source": [
    "We can tell the building status from `jobStatus` by getting the custom image info."
   ]
  },
  {
   "cell_type": "code",
   "execution_count": null,
   "id": "1146e0eb",
   "metadata": {},
   "outputs": [],
   "source": [
    "output = ph.admin.images.get(image_custom['id'])\n",
    "\n",
    "# \"logEndpoint\" will output massive logs of the building job; usually we delete it to avoid a lengthy output \n",
    "# unless you need to check.\n",
    "del output['logEndpoint']\n",
    "\n",
    "output"
   ]
  }
 ],
 "metadata": {
  "kernelspec": {
   "display_name": "Python 3",
   "language": "python",
   "name": "python3"
  },
  "language_info": {
   "codemirror_mode": {
    "name": "ipython",
    "version": 3
   },
   "file_extension": ".py",
   "mimetype": "text/x-python",
   "name": "python",
   "nbconvert_exporter": "python",
   "pygments_lexer": "ipython3",
   "version": "3.7.10"
  }
 },
 "nbformat": 4,
 "nbformat_minor": 5
}
